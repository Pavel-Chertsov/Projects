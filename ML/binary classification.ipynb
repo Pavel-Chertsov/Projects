{
  "nbformat": 4,
  "nbformat_minor": 0,
  "metadata": {
    "kernelspec": {
      "display_name": "Python 3",
      "language": "python",
      "name": "python3"
    },
    "language_info": {
      "codemirror_mode": {
        "name": "ipython",
        "version": 3
      },
      "file_extension": ".py",
      "mimetype": "text/x-python",
      "name": "python",
      "nbconvert_exporter": "python",
      "pygments_lexer": "ipython3",
      "version": "3.7.6"
    },
    "colab": {
      "name": "hometask_4.ipynb",
      "provenance": [],
      "toc_visible": true
    },
    "widgets": {
      "application/vnd.jupyter.widget-state+json": {
        "460cd7d1241e4e2ca679f9f5f25ff05c": {
          "model_module": "@jupyter-widgets/controls",
          "model_name": "HBoxModel",
          "model_module_version": "1.5.0",
          "state": {
            "_view_name": "HBoxView",
            "_dom_classes": [],
            "_model_name": "HBoxModel",
            "_view_module": "@jupyter-widgets/controls",
            "_model_module_version": "1.5.0",
            "_view_count": null,
            "_view_module_version": "1.5.0",
            "box_style": "",
            "layout": "IPY_MODEL_a20e2f8a90cc4816bac482e6cc4dc276",
            "_model_module": "@jupyter-widgets/controls",
            "children": [
              "IPY_MODEL_f3ebf165771a4f2eb033cc0ba5e2fdd2",
              "IPY_MODEL_b60399cd439a4e67921c894fb116b461",
              "IPY_MODEL_d776fb1697fb4c468b199bff5af412f1"
            ]
          }
        },
        "a20e2f8a90cc4816bac482e6cc4dc276": {
          "model_module": "@jupyter-widgets/base",
          "model_name": "LayoutModel",
          "model_module_version": "1.2.0",
          "state": {
            "_view_name": "LayoutView",
            "grid_template_rows": null,
            "right": null,
            "justify_content": null,
            "_view_module": "@jupyter-widgets/base",
            "overflow": null,
            "_model_module_version": "1.2.0",
            "_view_count": null,
            "flex_flow": null,
            "width": null,
            "min_width": null,
            "border": null,
            "align_items": null,
            "bottom": null,
            "_model_module": "@jupyter-widgets/base",
            "top": null,
            "grid_column": null,
            "overflow_y": null,
            "overflow_x": null,
            "grid_auto_flow": null,
            "grid_area": null,
            "grid_template_columns": null,
            "flex": null,
            "_model_name": "LayoutModel",
            "justify_items": null,
            "grid_row": null,
            "max_height": null,
            "align_content": null,
            "visibility": null,
            "align_self": null,
            "height": null,
            "min_height": null,
            "padding": null,
            "grid_auto_rows": null,
            "grid_gap": null,
            "max_width": null,
            "order": null,
            "_view_module_version": "1.2.0",
            "grid_template_areas": null,
            "object_position": null,
            "object_fit": null,
            "grid_auto_columns": null,
            "margin": null,
            "display": null,
            "left": null
          }
        },
        "f3ebf165771a4f2eb033cc0ba5e2fdd2": {
          "model_module": "@jupyter-widgets/controls",
          "model_name": "HTMLModel",
          "model_module_version": "1.5.0",
          "state": {
            "_view_name": "HTMLView",
            "style": "IPY_MODEL_94e4bebc59524ee38ee4254dbb1f5bd1",
            "_dom_classes": [],
            "description": "",
            "_model_name": "HTMLModel",
            "placeholder": "​",
            "_view_module": "@jupyter-widgets/controls",
            "_model_module_version": "1.5.0",
            "value": "100%",
            "_view_count": null,
            "_view_module_version": "1.5.0",
            "description_tooltip": null,
            "_model_module": "@jupyter-widgets/controls",
            "layout": "IPY_MODEL_cd353a01b77b4542b940c6444478550f"
          }
        },
        "b60399cd439a4e67921c894fb116b461": {
          "model_module": "@jupyter-widgets/controls",
          "model_name": "FloatProgressModel",
          "model_module_version": "1.5.0",
          "state": {
            "_view_name": "ProgressView",
            "style": "IPY_MODEL_03e89ee1638646f7bcc7783302b8ab1a",
            "_dom_classes": [],
            "description": "",
            "_model_name": "FloatProgressModel",
            "bar_style": "success",
            "max": 35,
            "_view_module": "@jupyter-widgets/controls",
            "_model_module_version": "1.5.0",
            "value": 35,
            "_view_count": null,
            "_view_module_version": "1.5.0",
            "orientation": "horizontal",
            "min": 0,
            "description_tooltip": null,
            "_model_module": "@jupyter-widgets/controls",
            "layout": "IPY_MODEL_2353d6e30e384e269600b277b20eaee0"
          }
        },
        "d776fb1697fb4c468b199bff5af412f1": {
          "model_module": "@jupyter-widgets/controls",
          "model_name": "HTMLModel",
          "model_module_version": "1.5.0",
          "state": {
            "_view_name": "HTMLView",
            "style": "IPY_MODEL_b6387840f61e499c9ff92a6ce8ebe224",
            "_dom_classes": [],
            "description": "",
            "_model_name": "HTMLModel",
            "placeholder": "​",
            "_view_module": "@jupyter-widgets/controls",
            "_model_module_version": "1.5.0",
            "value": " 35/35 [00:27&lt;00:00,  1.42s/it]",
            "_view_count": null,
            "_view_module_version": "1.5.0",
            "description_tooltip": null,
            "_model_module": "@jupyter-widgets/controls",
            "layout": "IPY_MODEL_bf093a8184cf4383b1225ca02a5b854a"
          }
        },
        "94e4bebc59524ee38ee4254dbb1f5bd1": {
          "model_module": "@jupyter-widgets/controls",
          "model_name": "DescriptionStyleModel",
          "model_module_version": "1.5.0",
          "state": {
            "_view_name": "StyleView",
            "_model_name": "DescriptionStyleModel",
            "description_width": "",
            "_view_module": "@jupyter-widgets/base",
            "_model_module_version": "1.5.0",
            "_view_count": null,
            "_view_module_version": "1.2.0",
            "_model_module": "@jupyter-widgets/controls"
          }
        },
        "cd353a01b77b4542b940c6444478550f": {
          "model_module": "@jupyter-widgets/base",
          "model_name": "LayoutModel",
          "model_module_version": "1.2.0",
          "state": {
            "_view_name": "LayoutView",
            "grid_template_rows": null,
            "right": null,
            "justify_content": null,
            "_view_module": "@jupyter-widgets/base",
            "overflow": null,
            "_model_module_version": "1.2.0",
            "_view_count": null,
            "flex_flow": null,
            "width": null,
            "min_width": null,
            "border": null,
            "align_items": null,
            "bottom": null,
            "_model_module": "@jupyter-widgets/base",
            "top": null,
            "grid_column": null,
            "overflow_y": null,
            "overflow_x": null,
            "grid_auto_flow": null,
            "grid_area": null,
            "grid_template_columns": null,
            "flex": null,
            "_model_name": "LayoutModel",
            "justify_items": null,
            "grid_row": null,
            "max_height": null,
            "align_content": null,
            "visibility": null,
            "align_self": null,
            "height": null,
            "min_height": null,
            "padding": null,
            "grid_auto_rows": null,
            "grid_gap": null,
            "max_width": null,
            "order": null,
            "_view_module_version": "1.2.0",
            "grid_template_areas": null,
            "object_position": null,
            "object_fit": null,
            "grid_auto_columns": null,
            "margin": null,
            "display": null,
            "left": null
          }
        },
        "03e89ee1638646f7bcc7783302b8ab1a": {
          "model_module": "@jupyter-widgets/controls",
          "model_name": "ProgressStyleModel",
          "model_module_version": "1.5.0",
          "state": {
            "_view_name": "StyleView",
            "_model_name": "ProgressStyleModel",
            "description_width": "",
            "_view_module": "@jupyter-widgets/base",
            "_model_module_version": "1.5.0",
            "_view_count": null,
            "_view_module_version": "1.2.0",
            "bar_color": null,
            "_model_module": "@jupyter-widgets/controls"
          }
        },
        "2353d6e30e384e269600b277b20eaee0": {
          "model_module": "@jupyter-widgets/base",
          "model_name": "LayoutModel",
          "model_module_version": "1.2.0",
          "state": {
            "_view_name": "LayoutView",
            "grid_template_rows": null,
            "right": null,
            "justify_content": null,
            "_view_module": "@jupyter-widgets/base",
            "overflow": null,
            "_model_module_version": "1.2.0",
            "_view_count": null,
            "flex_flow": null,
            "width": null,
            "min_width": null,
            "border": null,
            "align_items": null,
            "bottom": null,
            "_model_module": "@jupyter-widgets/base",
            "top": null,
            "grid_column": null,
            "overflow_y": null,
            "overflow_x": null,
            "grid_auto_flow": null,
            "grid_area": null,
            "grid_template_columns": null,
            "flex": null,
            "_model_name": "LayoutModel",
            "justify_items": null,
            "grid_row": null,
            "max_height": null,
            "align_content": null,
            "visibility": null,
            "align_self": null,
            "height": null,
            "min_height": null,
            "padding": null,
            "grid_auto_rows": null,
            "grid_gap": null,
            "max_width": null,
            "order": null,
            "_view_module_version": "1.2.0",
            "grid_template_areas": null,
            "object_position": null,
            "object_fit": null,
            "grid_auto_columns": null,
            "margin": null,
            "display": null,
            "left": null
          }
        },
        "b6387840f61e499c9ff92a6ce8ebe224": {
          "model_module": "@jupyter-widgets/controls",
          "model_name": "DescriptionStyleModel",
          "model_module_version": "1.5.0",
          "state": {
            "_view_name": "StyleView",
            "_model_name": "DescriptionStyleModel",
            "description_width": "",
            "_view_module": "@jupyter-widgets/base",
            "_model_module_version": "1.5.0",
            "_view_count": null,
            "_view_module_version": "1.2.0",
            "_model_module": "@jupyter-widgets/controls"
          }
        },
        "bf093a8184cf4383b1225ca02a5b854a": {
          "model_module": "@jupyter-widgets/base",
          "model_name": "LayoutModel",
          "model_module_version": "1.2.0",
          "state": {
            "_view_name": "LayoutView",
            "grid_template_rows": null,
            "right": null,
            "justify_content": null,
            "_view_module": "@jupyter-widgets/base",
            "overflow": null,
            "_model_module_version": "1.2.0",
            "_view_count": null,
            "flex_flow": null,
            "width": null,
            "min_width": null,
            "border": null,
            "align_items": null,
            "bottom": null,
            "_model_module": "@jupyter-widgets/base",
            "top": null,
            "grid_column": null,
            "overflow_y": null,
            "overflow_x": null,
            "grid_auto_flow": null,
            "grid_area": null,
            "grid_template_columns": null,
            "flex": null,
            "_model_name": "LayoutModel",
            "justify_items": null,
            "grid_row": null,
            "max_height": null,
            "align_content": null,
            "visibility": null,
            "align_self": null,
            "height": null,
            "min_height": null,
            "padding": null,
            "grid_auto_rows": null,
            "grid_gap": null,
            "max_width": null,
            "order": null,
            "_view_module_version": "1.2.0",
            "grid_template_areas": null,
            "object_position": null,
            "object_fit": null,
            "grid_auto_columns": null,
            "margin": null,
            "display": null,
            "left": null
          }
        },
        "76a32145b8a04db0ac47c276740d118a": {
          "model_module": "@jupyter-widgets/controls",
          "model_name": "HBoxModel",
          "model_module_version": "1.5.0",
          "state": {
            "_view_name": "HBoxView",
            "_dom_classes": [],
            "_model_name": "HBoxModel",
            "_view_module": "@jupyter-widgets/controls",
            "_model_module_version": "1.5.0",
            "_view_count": null,
            "_view_module_version": "1.5.0",
            "box_style": "",
            "layout": "IPY_MODEL_335cb96e49c94db09a55a31d05319305",
            "_model_module": "@jupyter-widgets/controls",
            "children": [
              "IPY_MODEL_898fcf9409184311878e66da3ec5159f",
              "IPY_MODEL_9d777c04c7a341e793272abe12dde366",
              "IPY_MODEL_80b6c6acd8544a948cb1c47404561ea9"
            ]
          }
        },
        "335cb96e49c94db09a55a31d05319305": {
          "model_module": "@jupyter-widgets/base",
          "model_name": "LayoutModel",
          "model_module_version": "1.2.0",
          "state": {
            "_view_name": "LayoutView",
            "grid_template_rows": null,
            "right": null,
            "justify_content": null,
            "_view_module": "@jupyter-widgets/base",
            "overflow": null,
            "_model_module_version": "1.2.0",
            "_view_count": null,
            "flex_flow": null,
            "width": null,
            "min_width": null,
            "border": null,
            "align_items": null,
            "bottom": null,
            "_model_module": "@jupyter-widgets/base",
            "top": null,
            "grid_column": null,
            "overflow_y": null,
            "overflow_x": null,
            "grid_auto_flow": null,
            "grid_area": null,
            "grid_template_columns": null,
            "flex": null,
            "_model_name": "LayoutModel",
            "justify_items": null,
            "grid_row": null,
            "max_height": null,
            "align_content": null,
            "visibility": null,
            "align_self": null,
            "height": null,
            "min_height": null,
            "padding": null,
            "grid_auto_rows": null,
            "grid_gap": null,
            "max_width": null,
            "order": null,
            "_view_module_version": "1.2.0",
            "grid_template_areas": null,
            "object_position": null,
            "object_fit": null,
            "grid_auto_columns": null,
            "margin": null,
            "display": null,
            "left": null
          }
        },
        "898fcf9409184311878e66da3ec5159f": {
          "model_module": "@jupyter-widgets/controls",
          "model_name": "HTMLModel",
          "model_module_version": "1.5.0",
          "state": {
            "_view_name": "HTMLView",
            "style": "IPY_MODEL_e23d1a1fcb304064b7074bc8954906e8",
            "_dom_classes": [],
            "description": "",
            "_model_name": "HTMLModel",
            "placeholder": "​",
            "_view_module": "@jupyter-widgets/controls",
            "_model_module_version": "1.5.0",
            "value": "100%",
            "_view_count": null,
            "_view_module_version": "1.5.0",
            "description_tooltip": null,
            "_model_module": "@jupyter-widgets/controls",
            "layout": "IPY_MODEL_bc94d7f81244419987787a2b218fd595"
          }
        },
        "9d777c04c7a341e793272abe12dde366": {
          "model_module": "@jupyter-widgets/controls",
          "model_name": "FloatProgressModel",
          "model_module_version": "1.5.0",
          "state": {
            "_view_name": "ProgressView",
            "style": "IPY_MODEL_f6260fbbba0248d7b8e55f3329525275",
            "_dom_classes": [],
            "description": "",
            "_model_name": "FloatProgressModel",
            "bar_style": "success",
            "max": 35,
            "_view_module": "@jupyter-widgets/controls",
            "_model_module_version": "1.5.0",
            "value": 35,
            "_view_count": null,
            "_view_module_version": "1.5.0",
            "orientation": "horizontal",
            "min": 0,
            "description_tooltip": null,
            "_model_module": "@jupyter-widgets/controls",
            "layout": "IPY_MODEL_9dd650aac9784187bed1345df0a83b87"
          }
        },
        "80b6c6acd8544a948cb1c47404561ea9": {
          "model_module": "@jupyter-widgets/controls",
          "model_name": "HTMLModel",
          "model_module_version": "1.5.0",
          "state": {
            "_view_name": "HTMLView",
            "style": "IPY_MODEL_0263a6a37c5f45bd9fc213b4bcb32396",
            "_dom_classes": [],
            "description": "",
            "_model_name": "HTMLModel",
            "placeholder": "​",
            "_view_module": "@jupyter-widgets/controls",
            "_model_module_version": "1.5.0",
            "value": " 35/35 [00:28&lt;00:00,  1.45s/it]",
            "_view_count": null,
            "_view_module_version": "1.5.0",
            "description_tooltip": null,
            "_model_module": "@jupyter-widgets/controls",
            "layout": "IPY_MODEL_0f3f468c99934a29a94cb242f7fe587c"
          }
        },
        "e23d1a1fcb304064b7074bc8954906e8": {
          "model_module": "@jupyter-widgets/controls",
          "model_name": "DescriptionStyleModel",
          "model_module_version": "1.5.0",
          "state": {
            "_view_name": "StyleView",
            "_model_name": "DescriptionStyleModel",
            "description_width": "",
            "_view_module": "@jupyter-widgets/base",
            "_model_module_version": "1.5.0",
            "_view_count": null,
            "_view_module_version": "1.2.0",
            "_model_module": "@jupyter-widgets/controls"
          }
        },
        "bc94d7f81244419987787a2b218fd595": {
          "model_module": "@jupyter-widgets/base",
          "model_name": "LayoutModel",
          "model_module_version": "1.2.0",
          "state": {
            "_view_name": "LayoutView",
            "grid_template_rows": null,
            "right": null,
            "justify_content": null,
            "_view_module": "@jupyter-widgets/base",
            "overflow": null,
            "_model_module_version": "1.2.0",
            "_view_count": null,
            "flex_flow": null,
            "width": null,
            "min_width": null,
            "border": null,
            "align_items": null,
            "bottom": null,
            "_model_module": "@jupyter-widgets/base",
            "top": null,
            "grid_column": null,
            "overflow_y": null,
            "overflow_x": null,
            "grid_auto_flow": null,
            "grid_area": null,
            "grid_template_columns": null,
            "flex": null,
            "_model_name": "LayoutModel",
            "justify_items": null,
            "grid_row": null,
            "max_height": null,
            "align_content": null,
            "visibility": null,
            "align_self": null,
            "height": null,
            "min_height": null,
            "padding": null,
            "grid_auto_rows": null,
            "grid_gap": null,
            "max_width": null,
            "order": null,
            "_view_module_version": "1.2.0",
            "grid_template_areas": null,
            "object_position": null,
            "object_fit": null,
            "grid_auto_columns": null,
            "margin": null,
            "display": null,
            "left": null
          }
        },
        "f6260fbbba0248d7b8e55f3329525275": {
          "model_module": "@jupyter-widgets/controls",
          "model_name": "ProgressStyleModel",
          "model_module_version": "1.5.0",
          "state": {
            "_view_name": "StyleView",
            "_model_name": "ProgressStyleModel",
            "description_width": "",
            "_view_module": "@jupyter-widgets/base",
            "_model_module_version": "1.5.0",
            "_view_count": null,
            "_view_module_version": "1.2.0",
            "bar_color": null,
            "_model_module": "@jupyter-widgets/controls"
          }
        },
        "9dd650aac9784187bed1345df0a83b87": {
          "model_module": "@jupyter-widgets/base",
          "model_name": "LayoutModel",
          "model_module_version": "1.2.0",
          "state": {
            "_view_name": "LayoutView",
            "grid_template_rows": null,
            "right": null,
            "justify_content": null,
            "_view_module": "@jupyter-widgets/base",
            "overflow": null,
            "_model_module_version": "1.2.0",
            "_view_count": null,
            "flex_flow": null,
            "width": null,
            "min_width": null,
            "border": null,
            "align_items": null,
            "bottom": null,
            "_model_module": "@jupyter-widgets/base",
            "top": null,
            "grid_column": null,
            "overflow_y": null,
            "overflow_x": null,
            "grid_auto_flow": null,
            "grid_area": null,
            "grid_template_columns": null,
            "flex": null,
            "_model_name": "LayoutModel",
            "justify_items": null,
            "grid_row": null,
            "max_height": null,
            "align_content": null,
            "visibility": null,
            "align_self": null,
            "height": null,
            "min_height": null,
            "padding": null,
            "grid_auto_rows": null,
            "grid_gap": null,
            "max_width": null,
            "order": null,
            "_view_module_version": "1.2.0",
            "grid_template_areas": null,
            "object_position": null,
            "object_fit": null,
            "grid_auto_columns": null,
            "margin": null,
            "display": null,
            "left": null
          }
        },
        "0263a6a37c5f45bd9fc213b4bcb32396": {
          "model_module": "@jupyter-widgets/controls",
          "model_name": "DescriptionStyleModel",
          "model_module_version": "1.5.0",
          "state": {
            "_view_name": "StyleView",
            "_model_name": "DescriptionStyleModel",
            "description_width": "",
            "_view_module": "@jupyter-widgets/base",
            "_model_module_version": "1.5.0",
            "_view_count": null,
            "_view_module_version": "1.2.0",
            "_model_module": "@jupyter-widgets/controls"
          }
        },
        "0f3f468c99934a29a94cb242f7fe587c": {
          "model_module": "@jupyter-widgets/base",
          "model_name": "LayoutModel",
          "model_module_version": "1.2.0",
          "state": {
            "_view_name": "LayoutView",
            "grid_template_rows": null,
            "right": null,
            "justify_content": null,
            "_view_module": "@jupyter-widgets/base",
            "overflow": null,
            "_model_module_version": "1.2.0",
            "_view_count": null,
            "flex_flow": null,
            "width": null,
            "min_width": null,
            "border": null,
            "align_items": null,
            "bottom": null,
            "_model_module": "@jupyter-widgets/base",
            "top": null,
            "grid_column": null,
            "overflow_y": null,
            "overflow_x": null,
            "grid_auto_flow": null,
            "grid_area": null,
            "grid_template_columns": null,
            "flex": null,
            "_model_name": "LayoutModel",
            "justify_items": null,
            "grid_row": null,
            "max_height": null,
            "align_content": null,
            "visibility": null,
            "align_self": null,
            "height": null,
            "min_height": null,
            "padding": null,
            "grid_auto_rows": null,
            "grid_gap": null,
            "max_width": null,
            "order": null,
            "_view_module_version": "1.2.0",
            "grid_template_areas": null,
            "object_position": null,
            "object_fit": null,
            "grid_auto_columns": null,
            "margin": null,
            "display": null,
            "left": null
          }
        }
      }
    }
  },
  "cells": [
    {
      "cell_type": "markdown",
      "metadata": {
        "id": "-nhdK0uVcH7b"
      },
      "source": [
        "## Данные\n",
        "\n",
        "\n",
        "В этой домашней работе мы будем обучать модели машинного обучения, ставить эксперименты, подбирать гиперпараметры, сравнивать и смешивать модели. Вам предлагается решить задачу бинарной классификации, а именно построить алгоритм, определяющий превысит ли средний заработок человека порог $50k. Каждый объект выборки — человек, для которого известны следующие признаки:\n",
        " - age\n",
        " - workclass\n",
        " - fnlwgt\n",
        " - education\n",
        " - education-num\n",
        " - marital-status\n",
        " - occupation\n",
        " - relationship\n",
        " - race\n",
        " - sex\n",
        " - capital-gain\n",
        " - capital-loss\n",
        " - hours-per-week\n",
        " \n",
        "Более подробно про признаки можно почитать [здесь](http://archive.ics.uci.edu/ml/machine-learning-databases/adult/adult.names). Целевой признак записан в переменной *>50K,<=50K*."
      ]
    },
    {
      "cell_type": "markdown",
      "metadata": {
        "id": "70bqmPP3cH7c"
      },
      "source": [
        "## Метрика качества\n",
        "\n",
        "В задании мы будем оценивать качество моделей с помощью метрики AUC-ROC."
      ]
    },
    {
      "cell_type": "markdown",
      "metadata": {
        "id": "alAMuZKUcH7d"
      },
      "source": [
        "## Подбор гиперпараметров модели\n",
        "\n",
        "В задачах машинного обучения следует различать параметры модели и гиперпараметры (структурные параметры). Обычно параметры модели настраиваются в ходе обучения (например, веса в линейной модели или структура решающего дерева), в то время как гиперпараметры задаются заранее (например, регуляризация в линейной модели или максимальная глубина решающего дерева). Каждая модель обычно имеет множество гиперпараметров, и нет универсальных наборов гиперпараметров, оптимально работающих во всех задачах, для каждой задачи нужно подбирать свой набор.\n",
        "\n",
        "Для оптимизации гиперпараметров модели часто используют _перебор по сетке (grid search)_: для каждого гиперпараметра выбирается несколько значений, перебираются все комбинации значений и выбирается комбинация, на которой модель показывает лучшее качество (с точки зрения метрики, которая оптимизируется). Однако в этом случае нужно грамотно оценивать построенную модель, а именно делать разбиение на обучающую и тестовую выборку. Есть несколько схем, как это можно реализовать: \n",
        "\n",
        " - Разбить имеющуюся выборку на обучающую и тестовую. В этом случае сравнение большого числа моделей при переборе параметров приводит к ситуации, когда лучшая на тестовой подвыборке модель не сохраняет свои качества на новых данных. Можно сказать, что происходит _переобучение_ на тестовую выборку.\n",
        " - Для устранения описанной выше проблемы, можно разбить данные на 3 непересекающихся подвыборки: обучение (`train`), валидация (`validation`) и контроль (`test`). Валидационную подвыборку используют для сравнения моделей, а `test` — для окончательной оценки качества и сравнения семейств моделей с подобранными параметрами.\n",
        " - Другой способ сравнения моделей — [кросс-валидация](http://en.wikipedia.org/wiki/Cross-validation_(statistics). Существуют различные схемы кросс-валидации:\n",
        "  - Leave-One-Out\n",
        "  - K-Fold\n",
        "  - Многократное случайное разбиение выборки\n",
        "  \n",
        "Кросс-валидация вычислительно затратна, особенно если вы делаете перебор по сетке с очень большим числом комбинации. С учетом конечности времени на выполнение задания, возникает ряд компромиссов: \n",
        "  - сетку можно делать более разреженной, перебирая меньше значений каждого параметра; однако, надо не забывать, что в таком случае можно пропустить хорошую комбинацию параметров;\n",
        "  - кросс-валидацию можно делать с меньшим числом разбиений или фолдов, но в таком случае оценка качества кросс-валидации становится более шумной и увеличивается риск выбрать неоптимальный набор параметров из-за случайности разбиения;\n",
        "  - параметры можно оптимизировать последовательно (жадно) — один за другим, а не перебирать все комбинации; такая стратегия не всегда приводит к оптимальному набору;\n",
        "  - перебирать не все комбинации параметров, а небольшое число случайно выбранных."
      ]
    },
    {
      "cell_type": "markdown",
      "metadata": {
        "id": "YfDRbhF_cH7d"
      },
      "source": [
        "## Задание "
      ]
    },
    {
      "cell_type": "markdown",
      "metadata": {
        "id": "-d3ptM22cH7e"
      },
      "source": [
        "Загрузите набор данных *data.adult.csv*. Чтобы лучше понимать, с чем вы работаете/корректно ли вы загрузили данные можно вывести несколько первых строк на экран."
      ]
    },
    {
      "cell_type": "code",
      "metadata": {
        "collapsed": true,
        "colab": {
          "base_uri": "https://localhost:8080/",
          "height": 423
        },
        "id": "QeucGmyEcH7e",
        "outputId": "d178f87c-bbbd-4689-fce1-06ecd3d5270c"
      },
      "source": [
        "import pandas as pd\n",
        "import numpy as np\n",
        "\n",
        "df = pd.read_csv('data.adult.csv')\n",
        "df"
      ],
      "execution_count": null,
      "outputs": [
        {
          "output_type": "execute_result",
          "data": {
            "text/html": [
              "<div>\n",
              "<style scoped>\n",
              "    .dataframe tbody tr th:only-of-type {\n",
              "        vertical-align: middle;\n",
              "    }\n",
              "\n",
              "    .dataframe tbody tr th {\n",
              "        vertical-align: top;\n",
              "    }\n",
              "\n",
              "    .dataframe thead th {\n",
              "        text-align: right;\n",
              "    }\n",
              "</style>\n",
              "<table border=\"1\" class=\"dataframe\">\n",
              "  <thead>\n",
              "    <tr style=\"text-align: right;\">\n",
              "      <th></th>\n",
              "      <th>age</th>\n",
              "      <th>workclass</th>\n",
              "      <th>fnlwgt</th>\n",
              "      <th>education</th>\n",
              "      <th>education-num</th>\n",
              "      <th>marital-status</th>\n",
              "      <th>occupation</th>\n",
              "      <th>relationship</th>\n",
              "      <th>race</th>\n",
              "      <th>sex</th>\n",
              "      <th>capital-gain</th>\n",
              "      <th>capital-loss</th>\n",
              "      <th>hours-per-week</th>\n",
              "      <th>&gt;50K,&lt;=50K</th>\n",
              "    </tr>\n",
              "  </thead>\n",
              "  <tbody>\n",
              "    <tr>\n",
              "      <th>0</th>\n",
              "      <td>34</td>\n",
              "      <td>Local-gov</td>\n",
              "      <td>284843</td>\n",
              "      <td>HS-grad</td>\n",
              "      <td>9</td>\n",
              "      <td>Never-married</td>\n",
              "      <td>Farming-fishing</td>\n",
              "      <td>Not-in-family</td>\n",
              "      <td>Black</td>\n",
              "      <td>Male</td>\n",
              "      <td>594</td>\n",
              "      <td>0</td>\n",
              "      <td>60</td>\n",
              "      <td>&lt;=50K</td>\n",
              "    </tr>\n",
              "    <tr>\n",
              "      <th>1</th>\n",
              "      <td>40</td>\n",
              "      <td>Private</td>\n",
              "      <td>190290</td>\n",
              "      <td>Some-college</td>\n",
              "      <td>10</td>\n",
              "      <td>Divorced</td>\n",
              "      <td>Sales</td>\n",
              "      <td>Not-in-family</td>\n",
              "      <td>White</td>\n",
              "      <td>Male</td>\n",
              "      <td>0</td>\n",
              "      <td>0</td>\n",
              "      <td>40</td>\n",
              "      <td>&lt;=50K</td>\n",
              "    </tr>\n",
              "    <tr>\n",
              "      <th>2</th>\n",
              "      <td>36</td>\n",
              "      <td>Local-gov</td>\n",
              "      <td>177858</td>\n",
              "      <td>Bachelors</td>\n",
              "      <td>13</td>\n",
              "      <td>Married-civ-spouse</td>\n",
              "      <td>Prof-specialty</td>\n",
              "      <td>Own-child</td>\n",
              "      <td>White</td>\n",
              "      <td>Male</td>\n",
              "      <td>0</td>\n",
              "      <td>0</td>\n",
              "      <td>40</td>\n",
              "      <td>&lt;=50K</td>\n",
              "    </tr>\n",
              "    <tr>\n",
              "      <th>3</th>\n",
              "      <td>22</td>\n",
              "      <td>Private</td>\n",
              "      <td>184756</td>\n",
              "      <td>Some-college</td>\n",
              "      <td>10</td>\n",
              "      <td>Never-married</td>\n",
              "      <td>Sales</td>\n",
              "      <td>Own-child</td>\n",
              "      <td>White</td>\n",
              "      <td>Female</td>\n",
              "      <td>0</td>\n",
              "      <td>0</td>\n",
              "      <td>30</td>\n",
              "      <td>&lt;=50K</td>\n",
              "    </tr>\n",
              "    <tr>\n",
              "      <th>4</th>\n",
              "      <td>47</td>\n",
              "      <td>Private</td>\n",
              "      <td>149700</td>\n",
              "      <td>Bachelors</td>\n",
              "      <td>13</td>\n",
              "      <td>Married-civ-spouse</td>\n",
              "      <td>Tech-support</td>\n",
              "      <td>Husband</td>\n",
              "      <td>White</td>\n",
              "      <td>Male</td>\n",
              "      <td>15024</td>\n",
              "      <td>0</td>\n",
              "      <td>40</td>\n",
              "      <td>&gt;50K</td>\n",
              "    </tr>\n",
              "    <tr>\n",
              "      <th>...</th>\n",
              "      <td>...</td>\n",
              "      <td>...</td>\n",
              "      <td>...</td>\n",
              "      <td>...</td>\n",
              "      <td>...</td>\n",
              "      <td>...</td>\n",
              "      <td>...</td>\n",
              "      <td>...</td>\n",
              "      <td>...</td>\n",
              "      <td>...</td>\n",
              "      <td>...</td>\n",
              "      <td>...</td>\n",
              "      <td>...</td>\n",
              "      <td>...</td>\n",
              "    </tr>\n",
              "    <tr>\n",
              "      <th>16275</th>\n",
              "      <td>25</td>\n",
              "      <td>Local-gov</td>\n",
              "      <td>514716</td>\n",
              "      <td>Bachelors</td>\n",
              "      <td>13</td>\n",
              "      <td>Never-married</td>\n",
              "      <td>Adm-clerical</td>\n",
              "      <td>Own-child</td>\n",
              "      <td>Black</td>\n",
              "      <td>Female</td>\n",
              "      <td>0</td>\n",
              "      <td>0</td>\n",
              "      <td>40</td>\n",
              "      <td>&lt;=50K</td>\n",
              "    </tr>\n",
              "    <tr>\n",
              "      <th>16276</th>\n",
              "      <td>32</td>\n",
              "      <td>Private</td>\n",
              "      <td>207668</td>\n",
              "      <td>Bachelors</td>\n",
              "      <td>13</td>\n",
              "      <td>Married-civ-spouse</td>\n",
              "      <td>Exec-managerial</td>\n",
              "      <td>Husband</td>\n",
              "      <td>White</td>\n",
              "      <td>Male</td>\n",
              "      <td>15024</td>\n",
              "      <td>0</td>\n",
              "      <td>45</td>\n",
              "      <td>&gt;50K</td>\n",
              "    </tr>\n",
              "    <tr>\n",
              "      <th>16277</th>\n",
              "      <td>27</td>\n",
              "      <td>Private</td>\n",
              "      <td>104457</td>\n",
              "      <td>Bachelors</td>\n",
              "      <td>13</td>\n",
              "      <td>Never-married</td>\n",
              "      <td>Machine-op-inspct</td>\n",
              "      <td>Not-in-family</td>\n",
              "      <td>Asian-Pac-Islander</td>\n",
              "      <td>Male</td>\n",
              "      <td>0</td>\n",
              "      <td>0</td>\n",
              "      <td>40</td>\n",
              "      <td>&lt;=50K</td>\n",
              "    </tr>\n",
              "    <tr>\n",
              "      <th>16278</th>\n",
              "      <td>59</td>\n",
              "      <td>State-gov</td>\n",
              "      <td>268700</td>\n",
              "      <td>HS-grad</td>\n",
              "      <td>9</td>\n",
              "      <td>Married-civ-spouse</td>\n",
              "      <td>Other-service</td>\n",
              "      <td>Husband</td>\n",
              "      <td>White</td>\n",
              "      <td>Male</td>\n",
              "      <td>0</td>\n",
              "      <td>0</td>\n",
              "      <td>40</td>\n",
              "      <td>&lt;=50K</td>\n",
              "    </tr>\n",
              "    <tr>\n",
              "      <th>16279</th>\n",
              "      <td>33</td>\n",
              "      <td>Private</td>\n",
              "      <td>59083</td>\n",
              "      <td>Bachelors</td>\n",
              "      <td>13</td>\n",
              "      <td>Married-civ-spouse</td>\n",
              "      <td>Adm-clerical</td>\n",
              "      <td>Husband</td>\n",
              "      <td>White</td>\n",
              "      <td>Male</td>\n",
              "      <td>0</td>\n",
              "      <td>1902</td>\n",
              "      <td>45</td>\n",
              "      <td>&gt;50K</td>\n",
              "    </tr>\n",
              "  </tbody>\n",
              "</table>\n",
              "<p>16280 rows × 14 columns</p>\n",
              "</div>"
            ],
            "text/plain": [
              "       age  workclass  fnlwgt  ... capital-loss  hours-per-week >50K,<=50K\n",
              "0       34  Local-gov  284843  ...            0              60      <=50K\n",
              "1       40    Private  190290  ...            0              40      <=50K\n",
              "2       36  Local-gov  177858  ...            0              40      <=50K\n",
              "3       22    Private  184756  ...            0              30      <=50K\n",
              "4       47    Private  149700  ...            0              40       >50K\n",
              "...    ...        ...     ...  ...          ...             ...        ...\n",
              "16275   25  Local-gov  514716  ...            0              40      <=50K\n",
              "16276   32    Private  207668  ...            0              45       >50K\n",
              "16277   27    Private  104457  ...            0              40      <=50K\n",
              "16278   59  State-gov  268700  ...            0              40      <=50K\n",
              "16279   33    Private   59083  ...         1902              45       >50K\n",
              "\n",
              "[16280 rows x 14 columns]"
            ]
          },
          "metadata": {},
          "execution_count": 154
        }
      ]
    },
    {
      "cell_type": "markdown",
      "metadata": {
        "id": "D95g8qBHcH7e"
      },
      "source": [
        "Иногда в данных встречаются пропуски. Как задаются пропуски обычно либо прописывается в описании к данным, либо просто на месте пропуска после чтения данных оказывается значение numpy.nan. Более подробно о работе с пропусками в Pandas можно прочитать например [здесь](http://pandas.pydata.org/pandas-docs/stable/missing_data.html). \n",
        "\n",
        "В данном датасете пропущенные значения обозначены как \"?\". \n",
        "\n",
        "**Задание 1 (0.5 балла)** Найдите все признаки, имеющие пропущенные значения. Удалите из выборки все объекты с пропусками."
      ]
    },
    {
      "cell_type": "code",
      "metadata": {
        "collapsed": true,
        "colab": {
          "base_uri": "https://localhost:8080/",
          "height": 423
        },
        "id": "iAeD_71_cH7f",
        "outputId": "57f162ae-7161-4c36-8b33-a5aacd6cfd31"
      },
      "source": [
        "clear_df = df[df != '?'].dropna().reset_index()\n",
        "clear_df"
      ],
      "execution_count": null,
      "outputs": [
        {
          "output_type": "execute_result",
          "data": {
            "text/html": [
              "<div>\n",
              "<style scoped>\n",
              "    .dataframe tbody tr th:only-of-type {\n",
              "        vertical-align: middle;\n",
              "    }\n",
              "\n",
              "    .dataframe tbody tr th {\n",
              "        vertical-align: top;\n",
              "    }\n",
              "\n",
              "    .dataframe thead th {\n",
              "        text-align: right;\n",
              "    }\n",
              "</style>\n",
              "<table border=\"1\" class=\"dataframe\">\n",
              "  <thead>\n",
              "    <tr style=\"text-align: right;\">\n",
              "      <th></th>\n",
              "      <th>index</th>\n",
              "      <th>age</th>\n",
              "      <th>workclass</th>\n",
              "      <th>fnlwgt</th>\n",
              "      <th>education</th>\n",
              "      <th>education-num</th>\n",
              "      <th>marital-status</th>\n",
              "      <th>occupation</th>\n",
              "      <th>relationship</th>\n",
              "      <th>race</th>\n",
              "      <th>sex</th>\n",
              "      <th>capital-gain</th>\n",
              "      <th>capital-loss</th>\n",
              "      <th>hours-per-week</th>\n",
              "      <th>&gt;50K,&lt;=50K</th>\n",
              "    </tr>\n",
              "  </thead>\n",
              "  <tbody>\n",
              "    <tr>\n",
              "      <th>0</th>\n",
              "      <td>0</td>\n",
              "      <td>34</td>\n",
              "      <td>Local-gov</td>\n",
              "      <td>284843</td>\n",
              "      <td>HS-grad</td>\n",
              "      <td>9</td>\n",
              "      <td>Never-married</td>\n",
              "      <td>Farming-fishing</td>\n",
              "      <td>Not-in-family</td>\n",
              "      <td>Black</td>\n",
              "      <td>Male</td>\n",
              "      <td>594</td>\n",
              "      <td>0</td>\n",
              "      <td>60</td>\n",
              "      <td>&lt;=50K</td>\n",
              "    </tr>\n",
              "    <tr>\n",
              "      <th>1</th>\n",
              "      <td>1</td>\n",
              "      <td>40</td>\n",
              "      <td>Private</td>\n",
              "      <td>190290</td>\n",
              "      <td>Some-college</td>\n",
              "      <td>10</td>\n",
              "      <td>Divorced</td>\n",
              "      <td>Sales</td>\n",
              "      <td>Not-in-family</td>\n",
              "      <td>White</td>\n",
              "      <td>Male</td>\n",
              "      <td>0</td>\n",
              "      <td>0</td>\n",
              "      <td>40</td>\n",
              "      <td>&lt;=50K</td>\n",
              "    </tr>\n",
              "    <tr>\n",
              "      <th>2</th>\n",
              "      <td>2</td>\n",
              "      <td>36</td>\n",
              "      <td>Local-gov</td>\n",
              "      <td>177858</td>\n",
              "      <td>Bachelors</td>\n",
              "      <td>13</td>\n",
              "      <td>Married-civ-spouse</td>\n",
              "      <td>Prof-specialty</td>\n",
              "      <td>Own-child</td>\n",
              "      <td>White</td>\n",
              "      <td>Male</td>\n",
              "      <td>0</td>\n",
              "      <td>0</td>\n",
              "      <td>40</td>\n",
              "      <td>&lt;=50K</td>\n",
              "    </tr>\n",
              "    <tr>\n",
              "      <th>3</th>\n",
              "      <td>3</td>\n",
              "      <td>22</td>\n",
              "      <td>Private</td>\n",
              "      <td>184756</td>\n",
              "      <td>Some-college</td>\n",
              "      <td>10</td>\n",
              "      <td>Never-married</td>\n",
              "      <td>Sales</td>\n",
              "      <td>Own-child</td>\n",
              "      <td>White</td>\n",
              "      <td>Female</td>\n",
              "      <td>0</td>\n",
              "      <td>0</td>\n",
              "      <td>30</td>\n",
              "      <td>&lt;=50K</td>\n",
              "    </tr>\n",
              "    <tr>\n",
              "      <th>4</th>\n",
              "      <td>4</td>\n",
              "      <td>47</td>\n",
              "      <td>Private</td>\n",
              "      <td>149700</td>\n",
              "      <td>Bachelors</td>\n",
              "      <td>13</td>\n",
              "      <td>Married-civ-spouse</td>\n",
              "      <td>Tech-support</td>\n",
              "      <td>Husband</td>\n",
              "      <td>White</td>\n",
              "      <td>Male</td>\n",
              "      <td>15024</td>\n",
              "      <td>0</td>\n",
              "      <td>40</td>\n",
              "      <td>&gt;50K</td>\n",
              "    </tr>\n",
              "    <tr>\n",
              "      <th>...</th>\n",
              "      <td>...</td>\n",
              "      <td>...</td>\n",
              "      <td>...</td>\n",
              "      <td>...</td>\n",
              "      <td>...</td>\n",
              "      <td>...</td>\n",
              "      <td>...</td>\n",
              "      <td>...</td>\n",
              "      <td>...</td>\n",
              "      <td>...</td>\n",
              "      <td>...</td>\n",
              "      <td>...</td>\n",
              "      <td>...</td>\n",
              "      <td>...</td>\n",
              "      <td>...</td>\n",
              "    </tr>\n",
              "    <tr>\n",
              "      <th>15342</th>\n",
              "      <td>16275</td>\n",
              "      <td>25</td>\n",
              "      <td>Local-gov</td>\n",
              "      <td>514716</td>\n",
              "      <td>Bachelors</td>\n",
              "      <td>13</td>\n",
              "      <td>Never-married</td>\n",
              "      <td>Adm-clerical</td>\n",
              "      <td>Own-child</td>\n",
              "      <td>Black</td>\n",
              "      <td>Female</td>\n",
              "      <td>0</td>\n",
              "      <td>0</td>\n",
              "      <td>40</td>\n",
              "      <td>&lt;=50K</td>\n",
              "    </tr>\n",
              "    <tr>\n",
              "      <th>15343</th>\n",
              "      <td>16276</td>\n",
              "      <td>32</td>\n",
              "      <td>Private</td>\n",
              "      <td>207668</td>\n",
              "      <td>Bachelors</td>\n",
              "      <td>13</td>\n",
              "      <td>Married-civ-spouse</td>\n",
              "      <td>Exec-managerial</td>\n",
              "      <td>Husband</td>\n",
              "      <td>White</td>\n",
              "      <td>Male</td>\n",
              "      <td>15024</td>\n",
              "      <td>0</td>\n",
              "      <td>45</td>\n",
              "      <td>&gt;50K</td>\n",
              "    </tr>\n",
              "    <tr>\n",
              "      <th>15344</th>\n",
              "      <td>16277</td>\n",
              "      <td>27</td>\n",
              "      <td>Private</td>\n",
              "      <td>104457</td>\n",
              "      <td>Bachelors</td>\n",
              "      <td>13</td>\n",
              "      <td>Never-married</td>\n",
              "      <td>Machine-op-inspct</td>\n",
              "      <td>Not-in-family</td>\n",
              "      <td>Asian-Pac-Islander</td>\n",
              "      <td>Male</td>\n",
              "      <td>0</td>\n",
              "      <td>0</td>\n",
              "      <td>40</td>\n",
              "      <td>&lt;=50K</td>\n",
              "    </tr>\n",
              "    <tr>\n",
              "      <th>15345</th>\n",
              "      <td>16278</td>\n",
              "      <td>59</td>\n",
              "      <td>State-gov</td>\n",
              "      <td>268700</td>\n",
              "      <td>HS-grad</td>\n",
              "      <td>9</td>\n",
              "      <td>Married-civ-spouse</td>\n",
              "      <td>Other-service</td>\n",
              "      <td>Husband</td>\n",
              "      <td>White</td>\n",
              "      <td>Male</td>\n",
              "      <td>0</td>\n",
              "      <td>0</td>\n",
              "      <td>40</td>\n",
              "      <td>&lt;=50K</td>\n",
              "    </tr>\n",
              "    <tr>\n",
              "      <th>15346</th>\n",
              "      <td>16279</td>\n",
              "      <td>33</td>\n",
              "      <td>Private</td>\n",
              "      <td>59083</td>\n",
              "      <td>Bachelors</td>\n",
              "      <td>13</td>\n",
              "      <td>Married-civ-spouse</td>\n",
              "      <td>Adm-clerical</td>\n",
              "      <td>Husband</td>\n",
              "      <td>White</td>\n",
              "      <td>Male</td>\n",
              "      <td>0</td>\n",
              "      <td>1902</td>\n",
              "      <td>45</td>\n",
              "      <td>&gt;50K</td>\n",
              "    </tr>\n",
              "  </tbody>\n",
              "</table>\n",
              "<p>15347 rows × 15 columns</p>\n",
              "</div>"
            ],
            "text/plain": [
              "       index  age  workclass  ...  capital-loss hours-per-week  >50K,<=50K\n",
              "0          0   34  Local-gov  ...             0             60       <=50K\n",
              "1          1   40    Private  ...             0             40       <=50K\n",
              "2          2   36  Local-gov  ...             0             40       <=50K\n",
              "3          3   22    Private  ...             0             30       <=50K\n",
              "4          4   47    Private  ...             0             40        >50K\n",
              "...      ...  ...        ...  ...           ...            ...         ...\n",
              "15342  16275   25  Local-gov  ...             0             40       <=50K\n",
              "15343  16276   32    Private  ...             0             45        >50K\n",
              "15344  16277   27    Private  ...             0             40       <=50K\n",
              "15345  16278   59  State-gov  ...             0             40       <=50K\n",
              "15346  16279   33    Private  ...          1902             45        >50K\n",
              "\n",
              "[15347 rows x 15 columns]"
            ]
          },
          "metadata": {},
          "execution_count": 155
        }
      ]
    },
    {
      "cell_type": "markdown",
      "metadata": {
        "id": "0gPSiVTBcH7f"
      },
      "source": [
        "Обычно после загрузки датасета всегда необходима его некоторая предобработка. В данном случае она будет заключаться в следующем: \n",
        "\n",
        " - Выделите целевую переменную в отдельную переменную, удалите ее из датасета и преобразуйте к бинарному формату.\n",
        " - Обратите внимание, что не все признаки являются вещественными. В начале мы будем работать только с вещественными признаками. Выделите их отдельно."
      ]
    },
    {
      "cell_type": "code",
      "metadata": {
        "collapsed": true,
        "id": "0E_ewypwcH7f"
      },
      "source": [
        "y = pd.Series(clear_df['>50K,<=50K'].factorize()[0])"
      ],
      "execution_count": null,
      "outputs": []
    },
    {
      "cell_type": "code",
      "metadata": {
        "id": "CuT5aKcYkAfk"
      },
      "source": [
        "X_cat = clear_df.select_dtypes(include='object').drop(columns = ['>50K,<=50K'])\n",
        "X_num = clear_df.select_dtypes(exclude='object')"
      ],
      "execution_count": null,
      "outputs": []
    },
    {
      "cell_type": "code",
      "metadata": {
        "id": "QsuHQ_aImnkP"
      },
      "source": [
        "from sklearn.model_selection import train_test_split\n",
        "X_train, X_test, y_train, y_test = train_test_split(X_num, y, random_state=42, test_size=0.2)"
      ],
      "execution_count": null,
      "outputs": []
    },
    {
      "cell_type": "markdown",
      "metadata": {
        "id": "_5W-EB4rcH7f"
      },
      "source": [
        "## Обучение классификаторов на вещественных признаках\n",
        "\n",
        "В данном разделе необходимо будет работать только с вещественными признаками и целевой переменной.\n",
        "\n",
        "В начале посмотрим как работает подбор параметров по сетке и как влияет на качество разбиение выборки. Сейчас и далее будем рассматривать 5 алгоритмов:\n",
        " - [kNN](http://scikit-learn.org/stable/modules/generated/sklearn.neighbors.KNeighborsClassifier.html)\n",
        " - [DecisonTree](http://scikit-learn.org/stable/modules/generated/sklearn.tree.DecisionTreeClassifier.html#sklearn.tree.DecisionTreeClassifier)\n",
        " - [SGD Linear Classifier](http://scikit-learn.org/stable/modules/generated/sklearn.linear_model.SGDClassifier.html)\n",
        " - [RandomForest](http://scikit-learn.org/stable/modules/generated/sklearn.ensemble.RandomForestClassifier.html)\n",
        " - [GradientBoosting](https://scikit-learn.org/stable/modules/generated/sklearn.ensemble.GradientBoostingClassifier.html)\n",
        "\n",
        "Для начала у первых трёх алгоритмов выберем один гиперпараметр, который будем оптимизировать:\n",
        " - kNN — число соседей (*n_neighbors*)\n",
        " - DecisonTree — глубина дерева (*max_depth*)\n",
        " - SGD Linear Classifier — оптимизируемая функция (*loss*)\n",
        " \n",
        "Остальные параметры оставляйте в значениях по умолчанию. Для подбора гиперпараметров воспользуйтесь перебором по сетке, который реализован в классе [GridSearchCV](https://scikit-learn.org/stable/modules/generated/sklearn.model_selection.GridSearchCV.html). В качестве схемы кросс-валидации используйте 5-fold cv, которую можно задать с помощью класса [KFold](https://scikit-learn.org/stable/modules/generated/sklearn.model_selection.KFold.html).\n",
        "\n",
        "**Задание 2 (1 балл)** Для каждого из первых трех алгоритмов подберите оптимальные значения указанных гиперпараметров. Для каждого из этих алгоритмов постройте график среднего качества по кросс-валидации при заданном значении гиперпараметра, на котором также отобразите доверительный интервал [m-std, m+std], где m - среднее, std - стандартное отклонение."
      ]
    },
    {
      "cell_type": "code",
      "metadata": {
        "collapsed": true,
        "colab": {
          "base_uri": "https://localhost:8080/",
          "height": 334
        },
        "id": "iBojIyTIcH7g",
        "outputId": "06a45526-01a0-4817-cef9-1cb5b547c94b"
      },
      "source": [
        "from sklearn.neighbors import KNeighborsClassifier\n",
        "from sklearn.tree import DecisionTreeClassifier\n",
        "from sklearn.linear_model import SGDClassifier\n",
        "from sklearn.model_selection import GridSearchCV, KFold\n",
        "import warnings\n",
        "warnings.filterwarnings(\"ignore\")\n",
        "kf = KFold(5, random_state=42, shuffle=True)\n",
        "\n",
        "clf0 = KNeighborsClassifier()\n",
        "params0 = {'n_neighbors': np.arange(1, 20, 1)}\n",
        "grid = GridSearchCV(clf0, params0, cv=kf, scoring='roc_auc', )\n",
        "grid.fit(X_num, y)\n",
        "print(f'best n_neighbors: {grid.best_params_}')\n",
        "print(f'best score: {grid.best_score_} \\n')\n",
        "\n",
        "import matplotlib.pyplot as plt\n",
        "scores = grid.cv_results_['mean_test_score']\n",
        "stds = []\n",
        "for i in range(4, -1, -1):\n",
        "  stds.append(grid.cv_results_[f'split{i}_test_score'])\n",
        "stds = np.array(stds).std(0)\n",
        "upper = scores + stds\n",
        "lower = scores - stds\n",
        "plt.plot(np.arange(1, 20, 1), scores)\n",
        "plt.plot(np.arange(1, 20, 1), upper, color='orange')\n",
        "plt.plot(np.arange(1, 20, 1), lower, color='orange')"
      ],
      "execution_count": null,
      "outputs": [
        {
          "output_type": "stream",
          "name": "stdout",
          "text": [
            "best n_neighbors: {'n_neighbors': 7}\n",
            "best score: 0.6054501071593951 \n",
            "\n"
          ]
        },
        {
          "output_type": "execute_result",
          "data": {
            "text/plain": [
              "[<matplotlib.lines.Line2D at 0x7fecec1c1250>]"
            ]
          },
          "metadata": {},
          "execution_count": 159
        },
        {
          "output_type": "display_data",
          "data": {
            "image/png": "[encoded data removed]",
            "text/plain": [
              "<Figure size 432x288 with 1 Axes>"
            ]
          },
          "metadata": {
            "needs_background": "light"
          }
        }
      ]
    },
    {
      "cell_type": "code",
      "metadata": {
        "colab": {
          "base_uri": "https://localhost:8080/",
          "height": 334
        },
        "id": "8WICqhPUrw7Q",
        "outputId": "71a67681-a669-415b-8950-0dcc20545566"
      },
      "source": [
        "clf1 = DecisionTreeClassifier(random_state=42)\n",
        "params1 = {'max_depth': np.arange(1, 20, 1)}\n",
        "grid = GridSearchCV(clf1, params1, cv=kf, scoring='roc_auc')\n",
        "grid.fit(X_num, y)\n",
        "print(f'best max_depth: {grid.best_params_}')\n",
        "print(f'best score: {grid.best_score_} \\n')\n",
        "\n",
        "scores = grid.cv_results_['mean_test_score']\n",
        "stds = []\n",
        "for i in range(4, -1, -1):\n",
        "  stds.append(grid.cv_results_[f'split{i}_test_score'])\n",
        "stds = np.array(stds).std(0)\n",
        "upper = scores + stds\n",
        "lower = scores - stds\n",
        "plt.plot(np.arange(1, 20, 1), scores)\n",
        "plt.plot(np.arange(1, 20, 1), upper, color='orange')\n",
        "plt.plot(np.arange(1, 20, 1), lower, color='orange')"
      ],
      "execution_count": null,
      "outputs": [
        {
          "output_type": "stream",
          "name": "stdout",
          "text": [
            "best max_depth: {'max_depth': 8}\n",
            "best score: 0.8375651081470383 \n",
            "\n"
          ]
        },
        {
          "output_type": "execute_result",
          "data": {
            "text/plain": [
              "[<matplotlib.lines.Line2D at 0x7fecf5300c10>]"
            ]
          },
          "metadata": {},
          "execution_count": 160
        },
        {
          "output_type": "display_data",
          "data": {
            "image/png": "[encoded data removed]",
            "text/plain": [
              "<Figure size 432x288 with 1 Axes>"
            ]
          },
          "metadata": {
            "needs_background": "light"
          }
        }
      ]
    },
    {
      "cell_type": "code",
      "metadata": {
        "colab": {
          "base_uri": "https://localhost:8080/",
          "height": 316
        },
        "id": "b7IIqbiCspu4",
        "outputId": "676ab7d3-de3f-43da-d2cb-294be52b484f"
      },
      "source": [
        "clf2 = SGDClassifier(random_state=42)\n",
        "params2 = {'loss': ('hinge', 'log', 'modified_huber', 'squared_hinge',\n",
        "                    'perceptron', 'squared_error', 'huber', \n",
        "                    'epsilon_insensitive', 'squared_epsilon_insensitive')}\n",
        "grid = GridSearchCV(clf2, params2, cv=kf, scoring='roc_auc')\n",
        "grid.fit(X_num, y)\n",
        "print(f'best loss: {grid.best_params_}')\n",
        "print(f'best score: {grid.best_score_}')\n",
        "\n",
        "scores = grid.cv_results_['mean_test_score']\n",
        "stds = []\n",
        "for i in range(4, -1, -1):\n",
        "  stds.append(grid.cv_results_[f'split{i}_test_score'])\n",
        "stds = np.array(stds).std(0)\n",
        "upper = scores + stds\n",
        "lower = scores - stds\n",
        "plt.plot(np.arange(1, 10, 1), scores)\n",
        "plt.plot(np.arange(1, 10, 1), upper, color='orange')\n",
        "plt.plot(np.arange(1, 10, 1), lower, color='orange')"
      ],
      "execution_count": null,
      "outputs": [
        {
          "output_type": "stream",
          "name": "stdout",
          "text": [
            "best loss: {'loss': 'log'}\n",
            "best score: 0.6245556741342515\n"
          ]
        },
        {
          "output_type": "execute_result",
          "data": {
            "text/plain": [
              "[<matplotlib.lines.Line2D at 0x7fecf4bde590>]"
            ]
          },
          "metadata": {},
          "execution_count": 161
        },
        {
          "output_type": "display_data",
          "data": {
            "image/png": "[encoded data removed]",
            "text/plain": [
              "<Figure size 432x288 with 1 Axes>"
            ]
          },
          "metadata": {
            "needs_background": "light"
          }
        }
      ]
    },
    {
      "cell_type": "markdown",
      "metadata": {
        "id": "MvfSnpnej5nR"
      },
      "source": [
        "При увеличении числа соседей до опр. уровня качество растет, затем модель начинает переобучаться. \n",
        "\n",
        "С глубиной деревьев аналогично\n",
        "\n",
        "'hinge', 'log', 'modified_huber', 'squared_hinge', 'perceptron' -- по этим лоссам достаточно неплохое качество\n",
        "\n",
        "'squared_error', 'huber', 'epsilon_insensitive', 'squared_epsilon_insensitive' -- существенно проигрывают в качестве"
      ]
    },
    {
      "cell_type": "markdown",
      "metadata": {
        "id": "lPaP4LAWcH7g"
      },
      "source": [
        "Что вы можете сказать о получившихся графиках?\n",
        "\n",
        "**Задание 3 (0.5 балла)** Также подберём число деревьев (*n_estimators*) в алгоритме RandomForest. Как известно, в общем случае Random Forest не переобучается с увеличением количества деревьев, так что при увеличении этого гиперпараметра его качество не будет становиться хуже. Поэтому подберите такое количество деревьев, при котором качество на кросс-валидации стабилизируется. Обратите внимание, что для проведения этого эксперимента не нужно с нуля обучать много случайных лесов с различными количествами деревьев. Обучите один случайный лес с максимальным интересным количеством деревьев, а затем рассмотрите подмножества разных размеров, состоящие из деревьев построенного леса (поле [*estimators_*](http://scikit-learn.org/stable/modules/generated/sklearn.ensemble.RandomForestClassifier.html)). В дальнейших экспериментах используйте это количество деревьев."
      ]
    },
    {
      "cell_type": "code",
      "metadata": {
        "collapsed": true,
        "colab": {
          "base_uri": "https://localhost:8080/",
          "height": 264
        },
        "id": "ve-aKwzg8CTP",
        "outputId": "33936da6-7faf-44ed-ac5b-d6ce3ba46076"
      },
      "source": [
        "from sklearn.model_selection import cross_val_score\n",
        "from sklearn.ensemble import RandomForestClassifier\n",
        "from tqdm import tqdm_notebook\n",
        "np.random.seed(42)\n",
        "\n",
        "n_trees = 150\n",
        "best_est = 0\n",
        "i = 0\n",
        "cv_scores = np.empty((5, n_trees - 1))\n",
        "\n",
        "for train_index, test_index in kf.split(X_num):\n",
        "    X_train, X_test = X_num.iloc[train_index], X_num.iloc[test_index]\n",
        "    y_train, y_test = y.iloc[train_index], y.iloc[test_index]\n",
        "    clf3 = RandomForestClassifier(n_estimators=n_trees, random_state=42)\n",
        "    clf3.fit(X_num, y)\n",
        "    estimators = clf3.estimators_\n",
        "    test_roc_auc = np.array([])\n",
        "    mean_scores = np.array([])\n",
        "    for n in range(1, n_trees):\n",
        "      clf3.estimators_ = np.random.choice(estimators, n)\n",
        "      test_roc_auc = np.append(test_roc_auc, roc_auc_score(y_test, clf3.predict(X_test)))\n",
        "      mean_scores = np.append(mean_scores, test_roc_auc.mean())\n",
        "    cv_scores[i] = mean_scores\n",
        "    i += 1\n",
        "\n",
        "\n",
        "plt.plot(np.arange(1, n_trees, 1), cv_scores.mean(axis=0))\n",
        "plt.show()"
      ],
      "execution_count": null,
      "outputs": [
        {
          "output_type": "display_data",
          "data": {
            "image/png": "[encoded data removed]",
            "text/plain": [
              "<Figure size 432x288 with 1 Axes>"
            ]
          },
          "metadata": {
            "needs_background": "light"
          }
        }
      ]
    },
    {
      "cell_type": "code",
      "metadata": {
        "colab": {
          "base_uri": "https://localhost:8080/"
        },
        "id": "_U0Gisz8KvsH",
        "outputId": "77a72704-9789-4335-8f1d-4441a83d4d6e"
      },
      "source": [
        "best_est = np.argmax(abs(np.diff(cv_scores.mean(axis=0))) < 0.001)\n",
        "clf3 = RandomForestClassifier(n_estimators=best_est, random_state=42)\n",
        "best_score = cross_val_score(clf3, X_num, y, cv=kf).mean()\n",
        "best_est, best_score"
      ],
      "execution_count": null,
      "outputs": [
        {
          "output_type": "execute_result",
          "data": {
            "text/plain": [
              "(26, 0.8117551049000035)"
            ]
          },
          "metadata": {},
          "execution_count": 199
        }
      ]
    },
    {
      "cell_type": "code",
      "metadata": {
        "collapsed": true,
        "id": "cavTWKiMcH7g"
      },
      "source": [
        "# from sklearn.metrics import roc_auc_score\n",
        "\n",
        "# clf3 = RandomForestClassifier(n_estimators=100, random_state=42)\n",
        "# clf3.fit(X_train, y_train)\n",
        "\n",
        "# train_roc_auc, test_roc_auc = [], []\n",
        "# estimators = clf3.estimators_\n",
        "# n_trees = 100\n",
        "# best_est = 0\n",
        "\n",
        "# for i in tqdm_notebook(range(1, n_trees + 1)):\n",
        "#   clf3.estimators_ = estimators[:i]\n",
        "#   train_roc_auc.append(roc_auc_score(y_train, clf3.predict(X_train)))\n",
        "#   test_roc_auc.append(roc_auc_score(y_test, clf3.predict(X_test)))\n",
        "#   if i > 1 and best_est == 0 and abs(test_roc_auc[-1] - test_roc_auc[-2]) < 0.001:\n",
        "#     best_est = i\n",
        "\n",
        "# plt.plot(np.arange(1, 101, 1), train_roc_auc)\n",
        "# plt.show()\n",
        "# plt.plot(np.arange(1, 101, 1), test_roc_auc, color='orange')\n",
        "# plt.show()"
      ],
      "execution_count": null,
      "outputs": []
    },
    {
      "cell_type": "markdown",
      "metadata": {
        "id": "DPRad4wrcH7g"
      },
      "source": [
        "**Задание 4 (0.5 балла)** Подберём число деревьев (*n_estimators*) в алгоритме GradientBoosting. Мы знаем, что ошибка бустинга на тестовых данных, как правило, имеет U-образную форму, то есть сначала уменьшается, а при достижении некоторого числа деревьев начинает расти. Нарисуйте график ошибки в зависимости от числа деревьев. Подберите n_estimators, соответствующий минимуму ошибки."
      ]
    },
    {
      "cell_type": "code",
      "metadata": {
        "id": "U1jMX7MhcH7g"
      },
      "source": [
        "# from sklearn.ensemble import GradientBoostingClassifier\n",
        "\n",
        "# clf4 = GradientBoostingClassifier(random_state=42)\n",
        "# params4 = {'n_estimators': np.arange(10, 500, 50)}\n",
        "# grid = GridSearchCV(clf4, params4, cv=kf, scoring='neg_mean_squared_error')\n",
        "# grid.fit(X_num, y)\n",
        "# print(f'best n_estimators: {grid.best_params_}')\n",
        "# print(f'best score: {grid.best_score_} \\n')\n",
        "# best_grid_est = grid.best_params_['n_estimators']\n",
        "\n",
        "# scores = grid.cv_results_['mean_test_score']\n",
        "# plt.plot(np.arange(10, 500, 50), scores)"
      ],
      "execution_count": null,
      "outputs": []
    },
    {
      "cell_type": "code",
      "metadata": {
        "id": "6ARqQs3XckR6"
      },
      "source": [
        "# best_grid_est = grid.best_params_['n_estimators']\n",
        "# best_grid_score = grid.best_score_\n",
        "\n",
        "# best_grid_est, best_grid_score"
      ],
      "execution_count": null,
      "outputs": []
    },
    {
      "cell_type": "code",
      "metadata": {
        "colab": {
          "base_uri": "https://localhost:8080/",
          "height": 367,
          "referenced_widgets": [
            "460cd7d1241e4e2ca679f9f5f25ff05c",
            "a20e2f8a90cc4816bac482e6cc4dc276",
            "f3ebf165771a4f2eb033cc0ba5e2fdd2",
            "b60399cd439a4e67921c894fb116b461",
            "d776fb1697fb4c468b199bff5af412f1",
            "94e4bebc59524ee38ee4254dbb1f5bd1",
            "cd353a01b77b4542b940c6444478550f",
            "03e89ee1638646f7bcc7783302b8ab1a",
            "2353d6e30e384e269600b277b20eaee0",
            "b6387840f61e499c9ff92a6ce8ebe224",
            "bf093a8184cf4383b1225ca02a5b854a"
          ]
        },
        "id": "HxE_OgfuVh6x",
        "outputId": "460516c7-2bb0-4994-834b-61aad6f157ae"
      },
      "source": [
        "from time import time\n",
        "from sklearn.metrics import mean_squared_error\n",
        "\n",
        "def get_model_scores(selected_model, n_list=np.arange(10, 360, 10), learning_rate=0.1):\n",
        "  acc_train = []\n",
        "  acc_test = []\n",
        "  time_list = []\n",
        "\n",
        "  n_list = n_list\n",
        "\n",
        "  X_train, X_test, y_train, y_test = train_test_split(X_num, y, test_size=0.8, random_state=42)\n",
        "\n",
        "  for n in tqdm_notebook(n_list):\n",
        "      model = selected_model(n_estimators=n, random_state=42)\n",
        "      # у RF нет параметра learning_rate\n",
        "      if type(model) == type(GradientBoostingClassifier()):\n",
        "          model.learning_rate = learning_rate \n",
        "      t_start = time()\n",
        "      model.fit(X_train, y_train)\n",
        "      t_end = time()\n",
        "      time_list.append(t_end - t_start)\n",
        "\n",
        "      preds_train = model.predict(X_train)\n",
        "      preds_test = model.predict(X_test)\n",
        "      acc_train.append(mean_squared_error(y_train, preds_train))\n",
        "      acc_test.append(mean_squared_error(y_test, preds_test))\n",
        "      \n",
        "  return acc_train, acc_test, time_list, n_list[np.argmin(acc_test)]\n",
        "\n",
        "def plot_graphs(params):\n",
        "  plt.figure(figsize=(15, 5))\n",
        "  color = 'b'\n",
        "  n_list = np.arange(10, 360, 10)\n",
        "  for num in range(1, 4):\n",
        "      plt.subplot(1, 3, num)\n",
        "      if num == 3:\n",
        "          color = 'r'\n",
        "      plt.plot(n_list, params[num][0], label=params[num][1], c=color)\n",
        "      plt.legend()\n",
        "      plt.title(params[num][2])\n",
        "\n",
        "\n",
        "acc_train, acc_test, time_list, best_grid_est = get_model_scores(GradientBoostingClassifier)\n",
        "params = {1: [acc_train, 'Gradient boosting', 'Train'], \n",
        "          2: [acc_test, 'Gradient boosting', 'Test'], \n",
        "          3: [time_list, \"GB training time\", 'Time']}\n",
        "\n",
        "plot_graphs(params)"
      ],
      "execution_count": null,
      "outputs": [
        {
          "output_type": "display_data",
          "data": {
            "application/vnd.jupyter.widget-view+json": {
              "model_id": "460cd7d1241e4e2ca679f9f5f25ff05c",
              "version_minor": 0,
              "version_major": 2
            },
            "text/plain": [
              "  0%|          | 0/35 [00:00<?, ?it/s]"
            ]
          },
          "metadata": {}
        },
        {
          "output_type": "display_data",
          "data": {
            "image/png": "[encoded data removed]",
            "text/plain": [
              "<Figure size 1080x360 with 3 Axes>"
            ]
          },
          "metadata": {
            "needs_background": "light"
          }
        }
      ]
    },
    {
      "cell_type": "code",
      "metadata": {
        "colab": {
          "base_uri": "https://localhost:8080/"
        },
        "id": "Ecr1vcPEnjcH",
        "outputId": "ed7d7a2a-eb09-415c-82f0-3bedeeea9e3a"
      },
      "source": [
        "clf4 = GradientBoostingClassifier(n_estimators=best_grid_est, random_state=42)\n",
        "best_grid_score = cross_val_score(clf4, X_num, y, cv=kf).mean()\n",
        "best_grid_est, best_grid_score"
      ],
      "execution_count": null,
      "outputs": [
        {
          "output_type": "execute_result",
          "data": {
            "text/plain": [
              "(120, 0.8320847011673953)"
            ]
          },
          "metadata": {},
          "execution_count": 200
        }
      ]
    },
    {
      "cell_type": "markdown",
      "metadata": {
        "id": "AMeIO7nVcH7g"
      },
      "source": [
        "При обучении алгоритмов стоит обращать внимание не только на качество, но и каким образом они работают с данными. В этой задаче получилось так, что некоторые из используемых алгоритмов чувствительны к масштабу признаков. Чтобы убедиться, что это как-то могло повлиять на качество давайте посмотрим на сами признаки.\n",
        "\n",
        "**Задание 5 (0.5 балла)** Постройте гистограммы для признаков *age*, *fnlwgt*, *capital-gain*. Глядя на получившиеся графики в чем заключается особенность данных? На какие алгоритмы это может повлиять? Может ли масшитабирование повлиять на работу этих алгоритмов?"
      ]
    },
    {
      "cell_type": "markdown",
      "metadata": {
        "id": "gFHMGAHdrP1E"
      },
      "source": [
        "Данные скошены в левую часть и имеют большое число выбросов. \n",
        "\n",
        "На качество деревьев и лесов это не должно оказать никакого влияния\n",
        "\n",
        "При этом качество sgd и knn должно вырасти при стандартизации, т.к. они чувствительны к выбросам"
      ]
    },
    {
      "cell_type": "code",
      "metadata": {
        "colab": {
          "base_uri": "https://localhost:8080/",
          "height": 1000
        },
        "id": "p0F1ZFWKcH7g",
        "outputId": "3e77fcca-4d9a-4b8d-96aa-e0552f8bb610"
      },
      "source": [
        "import plotly.express as px\n",
        "\n",
        "for i in ['age', 'fnlwgt', 'capital-gain']:\n",
        "  fig = px.histogram(X_num, i, opacity = 0.8)\n",
        "  fig.update_traces(marker=dict(color='#9A99D6'))\n",
        "  fig.update_layout(title=f'{i} distribution', title_x = 0.5)\n",
        "  fig.show()"
      ],
      "execution_count": null,
      "outputs": [
        {
          "output_type": "display_data",
          "data": {
            "text/html": [
              "<html>\n",
              "<head><meta charset=\"utf-8\" /></head>\n",
              "<body>\n",
              "    <div>\n",
              "            <script src=\"https://cdnjs.cloudflare.com/ajax/libs/mathjax/2.7.5/MathJax.js?config=TeX-AMS-MML_SVG\"></script><script type=\"text/javascript\">if (window.MathJax) {MathJax.Hub.Config({SVG: {font: \"STIX-Web\"}});}</script>\n",
              "                <script type=\"text/javascript\">window.PlotlyConfig = {MathJaxConfig: 'local'};</script>\n",
              "        <script src=\"https://cdn.plot.ly/plotly-latest.min.js\"></script>    \n",
              "            <div id=\"68f2265e-6417-486a-a446-c8be9cb00544\" class=\"plotly-graph-div\" style=\"height:525px; width:100%;\"></div>\n",
              "            <script type=\"text/javascript\">\n",
              "                \n",
              "                    window.PLOTLYENV=window.PLOTLYENV || {};\n",
              "                    \n",
              "                if (document.getElementById(\"68f2265e-6417-486a-a446-c8be9cb00544\")) {\n",
              "                    Plotly.newPlot(\n",
              "                        '68f2265e-6417-486a-a446-c8be9cb00544',\n",
              "                        [{\"alignmentgroup\": \"True\", \"bingroup\": \"x\", \"hoverlabel\": {\"namelength\": 0}, \"hovertemplate\": \"age=%{x}<br>count=%{y}\", \"legendgroup\": \"\", \"marker\": {\"color\": \"#9A99D6\", \"opacity\": 0.8}, \"name\": \"\", \"offsetgroup\": \"\", \"orientation\": \"v\", \"showlegend\": false, \"type\": \"histogram\", \"x\": [34, 40, 36, 22, 47, 18, 31, 25, 53, 19, 44, 31, 20, 36, 28, 35, 44, 38, 30, 37, 53, 64, 37, 37, 18, 35, 34, 41, 42, 34, 33, 48, 25, 35, 60, 41, 43, 38, 26, 32, 43, 19, 34, 22, 42, 44, 39, 60, 50, 43, 43, 43, 43, 59, 25, 36, 25, 59, 36, 50, 37, 18, 52, 29, 51, 28, 46, 43, 54, 18, 24, 46, 35, 30, 51, 27, 41, 34, 40, 28, 27, 42, 47, 43, 45, 35, 34, 81, 34, 18, 19, 59, 43, 51, 49, 19, 33, 25, 61, 19, 45, 29, 90, 37, 43, 39, 34, 29, 31, 38, 21, 44, 45, 34, 54, 25, 46, 32, 47, 49, 24, 38, 55, 35, 48, 32, 28, 18, 23, 34, 46, 35, 30, 22, 25, 46, 36, 44, 28, 61, 37, 28, 39, 33, 29, 47, 33, 63, 25, 42, 41, 23, 65, 41, 25, 23, 21, 37, 19, 29, 42, 51, 22, 50, 39, 39, 36, 46, 33, 39, 37, 44, 38, 31, 31, 32, 27, 21, 59, 48, 27, 21, 23, 42, 28, 46, 50, 52, 31, 44, 36, 34, 28, 37, 42, 55, 31, 31, 21, 60, 17, 22, 22, 40, 67, 21, 57, 32, 33, 23, 38, 55, 45, 72, 27, 43, 33, 26, 35, 41, 40, 32, 17, 40, 19, 37, 33, 26, 32, 32, 39, 40, 46, 55, 29, 37, 34, 26, 57, 21, 28, 33, 28, 46, 39, 58, 56, 52, 90, 35, 32, 54, 31, 18, 23, 59, 34, 43, 62, 46, 32, 63, 30, 60, 32, 28, 46, 53, 17, 24, 28, 24, 24, 20, 31, 31, 32, 33, 51, 62, 39, 26, 43, 56, 48, 57, 35, 53, 34, 22, 45, 41, 44, 63, 33, 33, 25, 61, 33, 33, 48, 19, 51, 23, 36, 39, 34, 25, 29, 30, 22, 19, 23, 58, 23, 37, 47, 63, 30, 39, 36, 57, 22, 28, 42, 43, 58, 38, 55, 45, 52, 45, 33, 18, 36, 34, 39, 46, 31, 30, 21, 34, 46, 18, 36, 19, 44, 34, 35, 53, 27, 39, 22, 28, 28, 18, 20, 17, 36, 57, 23, 61, 37, 40, 43, 57, 63, 40, 52, 36, 51, 49, 36, 40, 25, 41, 51, 54, 20, 27, 43, 47, 64, 27, 30, 35, 48, 28, 40, 59, 26, 46, 36, 35, 42, 35, 36, 36, 39, 31, 25, 28, 46, 47, 27, 39, 33, 33, 31, 64, 36, 29, 36, 55, 26, 41, 49, 18, 25, 45, 51, 23, 34, 34, 45, 35, 56, 29, 18, 36, 42, 53, 49, 36, 57, 49, 54, 50, 53, 55, 46, 42, 53, 52, 36, 50, 34, 58, 35, 46, 29, 54, 80, 43, 23, 76, 41, 25, 27, 44, 34, 28, 62, 51, 33, 26, 35, 41, 45, 43, 37, 53, 29, 20, 33, 45, 54, 35, 62, 32, 36, 21, 35, 43, 43, 20, 49, 51, 38, 21, 27, 58, 27, 25, 22, 45, 57, 25, 39, 38, 33, 40, 40, 25, 58, 57, 36, 63, 28, 35, 37, 34, 42, 40, 50, 47, 30, 30, 18, 20, 24, 39, 30, 37, 55, 20, 36, 27, 25, 45, 26, 34, 65, 41, 32, 41, 30, 33, 56, 29, 40, 49, 24, 20, 54, 28, 19, 37, 21, 40, 49, 55, 26, 42, 67, 39, 30, 50, 61, 42, 38, 61, 21, 68, 32, 49, 48, 71, 41, 18, 29, 34, 23, 55, 30, 29, 21, 24, 17, 54, 42, 26, 35, 26, 64, 34, 50, 65, 39, 35, 30, 35, 50, 31, 34, 47, 65, 49, 49, 30, 46, 47, 36, 27, 32, 34, 33, 17, 21, 34, 55, 20, 60, 35, 28, 59, 33, 50, 34, 25, 39, 39, 25, 39, 40, 23, 36, 28, 27, 37, 45, 75, 29, 43, 26, 74, 37, 40, 42, 38, 36, 57, 29, 33, 23, 72, 43, 39, 44, 26, 63, 52, 33, 54, 37, 51, 40, 51, 33, 22, 31, 31, 41, 34, 23, 36, 19, 22, 36, 63, 56, 36, 29, 35, 19, 47, 19, 35, 41, 58, 34, 23, 25, 47, 42, 21, 28, 38, 41, 51, 19, 28, 43, 28, 30, 34, 22, 33, 38, 24, 31, 46, 27, 50, 36, 34, 40, 59, 21, 34, 38, 28, 33, 20, 90, 35, 49, 41, 34, 27, 51, 32, 34, 61, 31, 39, 39, 30, 46, 25, 26, 49, 24, 40, 49, 35, 36, 21, 21, 26, 27, 34, 46, 21, 22, 40, 52, 45, 43, 23, 19, 41, 31, 39, 47, 37, 55, 32, 46, 38, 41, 50, 53, 31, 21, 44, 57, 28, 37, 43, 25, 33, 20, 42, 41, 29, 52, 55, 44, 30, 54, 52, 35, 41, 32, 37, 28, 19, 24, 30, 60, 40, 41, 18, 48, 21, 51, 32, 46, 35, 26, 59, 57, 46, 42, 49, 21, 18, 51, 41, 27, 35, 28, 27, 37, 54, 58, 40, 30, 66, 26, 43, 48, 57, 38, 40, 59, 24, 39, 45, 27, 55, 60, 30, 29, 37, 34, 34, 31, 47, 61, 28, 22, 24, 23, 31, 47, 19, 61, 22, 52, 25, 48, 25, 54, 26, 32, 62, 48, 24, 54, 23, 55, 35, 26, 46, 46, 49, 32, 59, 65, 19, 58, 30, 36, 44, 39, 21, 28, 18, 40, 58, 29, 37, 61, 33, 42, 42, 40, 30, 20, 23, 25, 41, 30, 52, 70, 42, 74, 25, 29, 25, 35, 45, 29, 57, 42, 31, 47, 34, 48, 52, 30, 19, 38, 35, 27, 35, 61, 70, 30, 61, 65, 26, 35, 35, 25, 23, 17, 27, 47, 53, 50, 57, 38, 25, 24, 51, 47, 59, 21, 25, 41, 56, 19, 44, 28, 34, 20, 23, 49, 35, 41, 55, 52, 33, 45, 44, 36, 69, 46, 36, 40, 46, 52, 18, 64, 54, 56, 62, 45, 38, 32, 53, 48, 52, 47, 23, 60, 24, 21, 34, 23, 27, 35, 26, 45, 31, 61, 23, 51, 33, 61, 31, 22, 24, 34, 43, 42, 71, 25, 25, 41, 74, 46, 17, 40, 21, 34, 56, 39, 26, 33, 19, 45, 39, 35, 44, 20, 32, 40, 27, 40, 49, 38, 44, 53, 25, 29, 55, 36, 62, 40, 37, 57, 51, 20, 38, 27, 28, 17, 25, 29, 17, 29, 38, 19, 40, 35, 34, 20, 22, 35, 23, 58, 28, 37, 28, 72, 20, 17, 26, 32, 27, 21, 61, 69, 30, 41, 52, 21, 49, 37, 40, 37, 63, 27, 19, 37, 44, 32, 43, 24, 24, 42, 20, 50, 46, 40, 49, 34, 40, 26, 27, 18, 60, 68, 29, 35, 26, 53, 38, 51, 27, 19, 52, 30, 21, 21, 30, 57, 25, 23, 25, 29, 30, 38, 24, 43, 50, 49, 39, 53, 31, 36, 45, 52, 59, 50, 25, 30, 41, 39, 70, 42, 63, 59, 43, 28, 24, 19, 32, 55, 25, 17, 44, 69, 46, 55, 20, 41, 39, 37, 38, 40, 42, 23, 59, 25, 25, 17, 44, 39, 33, 21, 22, 35, 35, 24, 54, 45, 43, 23, 44, 19, 31, 40, 58, 29, 45, 39, 22, 41, 35, 24, 30, 32, 30, 41, 44, 59, 37, 31, 47, 22, 34, 39, 19, 42, 43, 43, 37, 42, 42, 61, 31, 37, 29, 36, 35, 23, 53, 28, 42, 44, 23, 57, 45, 43, 45, 40, 41, 45, 35, 32, 41, 26, 25, 47, 24, 39, 45, 27, 21, 50, 36, 38, 71, 33, 38, 35, 50, 38, 30, 23, 61, 19, 52, 51, 47, 45, 30, 23, 36, 40, 37, 25, 52, 29, 60, 67, 60, 39, 41, 47, 49, 43, 33, 41, 28, 38, 20, 49, 43, 39, 64, 59, 37, 49, 60, 41, 36, 58, 25, 19, 41, 48, 40, 64, 26, 35, 46, 17, 39, 23, 45, 37, 18, 33, 42, 45, 55, 38, 35, 20, 28, 37, 23, 43, 49, 71, 37, 27, 40, 27, 55, 41, 35, 33, 37, 48, 47, 27, 50, 32, 31, 43, 24, 38, 36, 59, 41, 22, 21, 31, 57, 42, 53, 35, 22, 24, 35, 44, 30, 55, 58, 36, 28, 31, 37, 52, 23, 31, 23, 48, 37, 18, 32, 47, 54, 47, 35, 40, 26, 51, 44, 19, 53, 41, 39, 25, 50, 53, 28, 56, 34, 42, 26, 38, 42, 43, 57, 38, 55, 64, 24, 26, 32, 46, 22, 36, 58, 22, 17, 30, 60, 90, 31, 18, 19, 59, 38, 44, 19, 24, 71, 31, 59, 37, 48, 46, 42, 49, 23, 31, 60, 61, 50, 54, 51, 19, 71, 31, 39, 29, 22, 36, 36, 41, 38, 32, 25, 33, 34, 56, 30, 33, 57, 57, 50, 34, 43, 48, 31, 50, 40, 67, 49, 37, 18, 41, 45, 66, 17, 72, 37, 37, 29, 37, 25, 61, 20, 38, 29, 28, 45, 51, 42, 37, 55, 26, 25, 48, 53, 48, 44, 68, 38, 18, 42, 38, 53, 19, 36, 64, 43, 32, 41, 46, 22, 59, 24, 24, 28, 28, 47, 59, 54, 22, 17, 30, 51, 25, 46, 30, 20, 25, 66, 49, 22, 40, 51, 68, 56, 43, 22, 53, 52, 31, 32, 35, 24, 23, 25, 25, 45, 32, 37, 27, 53, 18, 52, 32, 20, 24, 59, 26, 78, 42, 43, 48, 29, 34, 25, 25, 20, 25, 44, 52, 37, 41, 39, 30, 43, 30, 26, 32, 43, 57, 35, 34, 33, 46, 42, 33, 19, 61, 49, 48, 52, 41, 26, 17, 46, 27, 21, 19, 40, 58, 38, 36, 26, 30, 45, 56, 23, 42, 31, 53, 33, 49, 32, 45, 35, 52, 52, 34, 47, 53, 58, 30, 24, 17, 40, 58, 56, 39, 29, 30, 22, 18, 23, 46, 49, 53, 31, 39, 26, 79, 40, 19, 49, 47, 30, 38, 31, 33, 27, 22, 30, 58, 29, 35, 38, 60, 25, 51, 48, 38, 52, 36, 20, 23, 24, 30, 62, 23, 53, 29, 33, 39, 47, 51, 61, 17, 49, 54, 65, 17, 57, 20, 40, 35, 67, 49, 63, 25, 43, 20, 61, 45, 54, 37, 40, 45, 24, 39, 45, 49, 41, 73, 51, 52, 50, 73, 47, 36, 51, 36, 32, 37, 64, 36, 56, 46, 39, 33, 60, 45, 55, 36, 32, 37, 31, 60, 19, 69, 29, 40, 49, 45, 23, 22, 41, 40, 36, 62, 41, 19, 19, 41, 39, 53, 51, 26, 31, 48, 51, 25, 19, 19, 24, 22, 74, 28, 29, 35, 50, 30, 43, 30, 33, 56, 27, 24, 21, 48, 37, 29, 56, 22, 57, 28, 53, 39, 57, 40, 19, 23, 28, 60, 53, 26, 30, 38, 22, 31, 57, 50, 26, 18, 36, 52, 41, 30, 48, 24, 37, 51, 54, 40, 49, 56, 26, 36, 56, 39, 47, 44, 43, 32, 33, 30, 46, 65, 35, 33, 46, 22, 69, 29, 58, 27, 47, 30, 26, 72, 21, 18, 20, 25, 56, 29, 39, 23, 51, 32, 45, 61, 70, 38, 30, 60, 33, 34, 32, 35, 41, 17, 36, 41, 21, 39, 26, 35, 35, 56, 51, 35, 37, 59, 18, 27, 36, 24, 42, 55, 63, 54, 33, 35, 21, 29, 67, 49, 42, 27, 57, 18, 28, 46, 37, 37, 21, 53, 43, 60, 20, 19, 50, 24, 36, 47, 27, 32, 39, 35, 34, 35, 53, 53, 37, 53, 33, 63, 18, 30, 33, 19, 32, 37, 56, 30, 38, 59, 39, 20, 24, 21, 30, 31, 50, 54, 52, 29, 26, 18, 29, 30, 21, 40, 30, 33, 24, 48, 35, 42, 39, 61, 28, 52, 63, 36, 23, 47, 26, 36, 42, 30, 20, 21, 35, 31, 20, 22, 23, 26, 29, 43, 34, 51, 51, 28, 41, 52, 41, 73, 18, 45, 51, 23, 54, 52, 60, 29, 40, 18, 18, 63, 56, 23, 39, 31, 24, 60, 31, 30, 33, 45, 21, 25, 29, 40, 50, 55, 25, 38, 30, 17, 43, 59, 32, 21, 28, 39, 18, 20, 25, 23, 32, 34, 23, 39, 29, 35, 44, 57, 59, 48, 27, 43, 32, 53, 26, 56, 38, 34, 21, 36, 35, 41, 25, 18, 33, 30, 45, 34, 20, 28, 36, 53, 27, 45, 49, 56, 32, 20, 36, 23, 54, 54, 30, 30, 45, 18, 55, 46, 65, 24, 33, 60, 19, 50, 50, 20, 27, 40, 25, 63, 34, 23, 46, 43, 32, 35, 66, 25, 33, 27, 26, 30, 38, 19, 20, 32, 42, 30, 36, 22, 18, 73, 25, 25, 34, 37, 38, 40, 39, 37, 42, 62, 25, 25, 28, 31, 34, 28, 59, 36, 56, 52, 47, 62, 44, 29, 50, 65, 25, 41, 51, 36, 59, 48, 45, 47, 48, 62, 38, 29, 30, 51, 33, 21, 45, 24, 32, 36, 24, 66, 49, 58, 34, 62, 34, 42, 40, 79, 57, 69, 24, 50, 24, 28, 41, 59, 27, 31, 39, 75, 51, 44, 29, 39, 22, 36, 31, 35, 42, 42, 30, 43, 23, 25, 50, 42, 62, 27, 44, 58, 45, 25, 37, 39, 55, 28, 19, 51, 22, 52, 33, 39, 63, 59, 20, 29, 49, 66, 43, 62, 21, 41, 30, 45, 39, 21, 34, 29, 43, 24, 31, 34, 17, 38, 22, 31, 25, 46, 33, 44, 37, 63, 57, 42, 37, 22, 62, 28, 28, 49, 17, 45, 31, 52, 32, 56, 44, 35, 55, 42, 19, 26, 42, 29, 49, 50, 37, 17, 50, 26, 48, 21, 28, 42, 23, 26, 17, 38, 46, 29, 28, 45, 34, 24, 61, 28, 23, 43, 26, 36, 71, 53, 65, 45, 31, 54, 39, 35, 37, 57, 18, 72, 27, 31, 39, 30, 20, 24, 59, 48, 31, 19, 34, 18, 59, 19, 39, 52, 35, 28, 43, 27, 31, 52, 43, 21, 57, 39, 45, 25, 20, 28, 51, 47, 59, 59, 36, 39, 24, 29, 45, 31, 37, 33, 40, 41, 41, 22, 67, 25, 32, 19, 21, 63, 22, 31, 42, 32, 27, 52, 61, 37, 70, 34, 27, 37, 24, 45, 52, 28, 31, 28, 22, 42, 42, 51, 21, 47, 45, 37, 51, 43, 53, 36, 31, 56, 61, 31, 32, 38, 25, 81, 53, 52, 24, 54, 37, 51, 57, 48, 29, 44, 57, 47, 26, 28, 44, 37, 23, 22, 44, 44, 25, 18, 31, 40, 27, 33, 48, 19, 28, 30, 21, 25, 36, 44, 18, 41, 20, 56, 44, 47, 39, 22, 48, 33, 28, 34, 36, 32, 24, 54, 45, 61, 41, 35, 31, 39, 28, 42, 38, 33, 23, 27, 63, 30, 25, 58, 59, 33, 39, 23, 29, 17, 25, 48, 51, 19, 29, 20, 57, 31, 74, 35, 34, 20, 75, 22, 71, 25, 22, 40, 30, 43, 38, 39, 18, 31, 24, 39, 25, 56, 40, 27, 17, 69, 44, 46, 28, 21, 51, 41, 39, 49, 25, 43, 34, 42, 31, 31, 33, 39, 30, 56, 30, 35, 42, 49, 40, 35, 38, 60, 32, 39, 54, 45, 41, 19, 35, 20, 39, 22, 53, 45, 45, 43, 32, 47, 62, 17, 27, 54, 67, 49, 32, 32, 22, 25, 38, 47, 37, 45, 56, 59, 25, 39, 30, 35, 54, 35, 33, 30, 23, 58, 38, 45, 19, 32, 37, 23, 35, 44, 33, 31, 35, 20, 41, 39, 32, 59, 46, 65, 40, 51, 26, 48, 33, 36, 33, 49, 53, 34, 30, 39, 32, 26, 47, 59, 54, 40, 43, 20, 27, 52, 49, 35, 42, 58, 38, 25, 26, 47, 33, 58, 19, 25, 28, 51, 27, 27, 42, 45, 38, 22, 37, 49, 41, 38, 52, 34, 47, 53, 40, 53, 41, 25, 54, 61, 40, 31, 27, 68, 70, 19, 59, 55, 40, 42, 54, 59, 25, 27, 63, 63, 34, 28, 53, 54, 21, 24, 18, 41, 40, 29, 48, 50, 43, 25, 36, 19, 28, 34, 44, 55, 65, 39, 19, 27, 31, 34, 47, 28, 23, 47, 37, 40, 32, 50, 32, 52, 66, 41, 38, 42, 49, 46, 44, 17, 40, 37, 53, 40, 39, 59, 59, 35, 19, 47, 29, 25, 19, 28, 34, 46, 47, 34, 45, 36, 64, 67, 34, 50, 18, 22, 18, 60, 28, 65, 38, 47, 69, 42, 65, 23, 50, 53, 42, 34, 35, 57, 41, 39, 54, 26, 49, 42, 46, 50, 23, 61, 55, 37, 20, 41, 34, 54, 46, 32, 46, 45, 56, 60, 45, 18, 85, 34, 57, 48, 28, 33, 34, 37, 35, 51, 30, 37, 48, 49, 37, 48, 36, 24, 54, 51, 20, 34, 18, 28, 58, 40, 32, 69, 46, 48, 59, 34, 58, 29, 54, 52, 43, 50, 42, 35, 47, 51, 27, 55, 81, 54, 19, 33, 35, 20, 46, 33, 36, 60, 38, 53, 24, 43, 37, 29, 31, 46, 69, 19, 33, 30, 27, 27, 40, 50, 34, 48, 51, 36, 60, 35, 40, 55, 50, 42, 40, 33, 62, 33, 25, 41, 24, 28, 28, 33, 39, 22, 31, 32, 41, 38, 31, 55, 19, 39, 32, 48, 76, 38, 36, 25, 39, 29, 60, 23, 40, 20, 52, 19, 25, 44, 27, 43, 32, 23, 50, 39, 32, 52, 29, 46, 34, 57, 23, 53, 28, 29, 39, 65, 34, 43, 43, 38, 32, 52, 36, 55, 33, 54, 37, 46, 25, 39, 39, 36, 42, 42, 19, 32, 25, 57, 47, 32, 46, 32, 20, 46, 36, 32, 26, 46, 28, 70, 33, 47, 30, 24, 28, 49, 43, 25, 40, 35, 36, 44, 61, 34, 60, 40, 17, 38, 51, 58, 43, 52, 43, 36, 34, 58, 25, 28, 43, 33, 70, 29, 46, 38, 19, 52, 41, 17, 39, 43, 45, 40, 29, 28, 53, 33, 26, 21, 33, 30, 31, 33, 17, 20, 51, 40, 35, 26, 25, 29, 31, 40, 35, 59, 51, 60, 36, 52, 38, 26, 31, 34, 51, 35, 29, 27, 47, 54, 23, 39, 49, 26, 51, 39, 50, 57, 36, 29, 35, 24, 45, 62, 28, 38, 25, 61, 67, 44, 36, 62, 30, 42, 43, 47, 63, 64, 44, 18, 43, 37, 45, 59, 46, 51, 39, 47, 67, 22, 63, 55, 39, 44, 26, 33, 21, 38, 45, 45, 23, 34, 23, 37, 38, 35, 37, 39, 37, 39, 39, 21, 18, 40, 56, 28, 35, 64, 31, 41, 41, 57, 35, 33, 51, 45, 58, 41, 54, 47, 33, 26, 53, 30, 35, 44, 55, 26, 36, 27, 26, 60, 17, 29, 43, 31, 44, 28, 45, 17, 58, 40, 42, 31, 31, 43, 49, 40, 25, 35, 23, 54, 59, 49, 23, 80, 31, 25, 43, 36, 30, 49, 43, 28, 24, 26, 51, 32, 32, 28, 34, 48, 20, 23, 40, 45, 60, 46, 27, 72, 61, 44, 31, 36, 28, 56, 26, 24, 38, 45, 36, 27, 47, 31, 35, 29, 31, 23, 24, 22, 39, 42, 38, 37, 49, 45, 37, 51, 68, 32, 41, 27, 43, 22, 46, 51, 18, 34, 30, 29, 49, 47, 46, 22, 41, 21, 32, 21, 33, 38, 23, 31, 21, 32, 56, 20, 26, 41, 51, 25, 30, 27, 30, 43, 57, 33, 34, 41, 34, 30, 47, 39, 46, 43, 39, 34, 31, 44, 47, 22, 25, 23, 53, 35, 35, 47, 28, 46, 28, 57, 43, 33, 50, 29, 43, 31, 18, 18, 73, 35, 43, 47, 34, 31, 43, 28, 22, 40, 46, 19, 25, 33, 41, 47, 45, 21, 64, 47, 48, 39, 30, 61, 41, 24, 37, 30, 24, 46, 29, 40, 32, 57, 47, 36, 36, 55, 56, 23, 35, 58, 39, 36, 54, 41, 20, 35, 23, 54, 17, 20, 34, 33, 58, 28, 42, 54, 27, 41, 35, 46, 28, 33, 46, 43, 24, 28, 71, 27, 25, 35, 31, 39, 59, 50, 44, 50, 34, 24, 40, 38, 29, 23, 25, 50, 33, 34, 29, 22, 28, 61, 39, 35, 53, 50, 24, 32, 53, 24, 48, 26, 45, 71, 24, 60, 26, 38, 29, 21, 60, 22, 39, 22, 34, 74, 55, 53, 50, 42, 71, 33, 29, 39, 24, 63, 26, 18, 55, 48, 22, 73, 35, 53, 29, 27, 46, 26, 31, 27, 28, 49, 24, 31, 57, 33, 19, 54, 18, 45, 38, 22, 34, 39, 27, 19, 37, 34, 53, 19, 32, 19, 36, 20, 25, 27, 23, 42, 41, 26, 19, 22, 41, 31, 57, 31, 45, 45, 37, 41, 57, 75, 29, 34, 38, 43, 32, 58, 34, 36, 35, 17, 32, 65, 27, 36, 44, 58, 25, 34, 34, 54, 49, 32, 30, 45, 33, 39, 31, 31, 33, 45, 23, 19, 58, 17, 49, 20, 49, 25, 46, 37, 23, 34, 61, 27, 33, 40, 36, 37, 41, 51, 22, 17, 30, 54, 36, 41, 17, 51, 41, 44, 55, 40, 31, 57, 56, 42, 34, 32, 44, 29, 21, 50, 40, 58, 25, 19, 45, 45, 44, 31, 46, 24, 20, 18, 54, 45, 40, 33, 28, 27, 44, 50, 34, 51, 62, 26, 62, 31, 25, 55, 46, 29, 17, 57, 24, 45, 44, 50, 54, 24, 47, 20, 37, 60, 44, 18, 44, 62, 62, 20, 59, 52, 28, 49, 34, 42, 50, 33, 47, 28, 26, 33, 45, 40, 34, 45, 42, 40, 39, 30, 50, 46, 28, 21, 19, 45, 44, 53, 48, 40, 40, 52, 45, 33, 52, 34, 26, 27, 54, 23, 48, 65, 60, 21, 30, 54, 44, 36, 37, 31, 47, 59, 59, 25, 47, 23, 33, 32, 39, 28, 17, 43, 49, 42, 24, 43, 41, 25, 30, 54, 49, 22, 34, 33, 25, 32, 57, 46, 26, 20, 45, 51, 51, 22, 36, 39, 51, 41, 50, 41, 37, 30, 46, 52, 56, 25, 41, 39, 33, 32, 24, 59, 34, 20, 41, 35, 34, 62, 38, 37, 31, 65, 52, 24, 21, 31, 51, 24, 32, 43, 28, 31, 25, 51, 26, 38, 31, 27, 37, 41, 76, 20, 44, 38, 49, 33, 25, 45, 36, 35, 30, 46, 46, 50, 59, 21, 52, 23, 50, 67, 46, 48, 46, 37, 18, 58, 19, 48, 17, 28, 24, 56, 58, 21, 42, 48, 47, 56, 41, 25, 49, 23, 33, 41, 43, 39, 50, 30, 61, 29, 46, 17, 33, 25, 49, 21, 58, 29, 26, 47, 40, 36, 45, 32, 18, 65, 31, 57, 40, 38, 19, 48, 44, 33, 61, 43, 47, 38, 38, 44, 31, 49, 47, 40, 29, 27, 40, 25, 41, 43, 41, 44, 62, 29, 45, 20, 47, 24, 43, 43, 50, 41, 61, 28, 29, 44, 44, 24, 45, 38, 24, 23, 67, 76, 22, 33, 42, 48, 31, 34, 44, 42, 32, 34, 60, 32, 41, 47, 62, 58, 24, 37, 30, 22, 30, 21, 23, 44, 31, 21, 23, 25, 31, 46, 29, 52, 47, 32, 72, 63, 56, 21, 60, 26, 53, 43, 34, 23, 56, 34, 48, 28, 26, 24, 31, 25, 37, 50, 32, 51, 26, 30, 50, 37, 28, 29, 55, 30, 63, 27, 36, 39, 38, 38, 42, 32, 31, 39, 23, 48, 46, 27, 35, 46, 25, 35, 39, 26, 21, 29, 42, 29, 32, 27, 47, 34, 67, 55, 34, 61, 22, 45, 35, 46, 27, 35, 36, 17, 43, 46, 23, 39, 27, 37, 29, 79, 47, 31, 41, 74, 29, 22, 22, 38, 38, 46, 44, 55, 42, 43, 49, 42, 59, 62, 38, 47, 43, 20, 58, 33, 52, 61, 51, 23, 40, 34, 51, 39, 30, 46, 58, 48, 47, 33, 33, 22, 45, 50, 64, 22, 19, 43, 22, 55, 39, 34, 34, 20, 32, 54, 25, 32, 26, 33, 60, 30, 37, 44, 49, 31, 38, 60, 32, 36, 27, 57, 22, 37, 46, 33, 75, 58, 25, 31, 28, 28, 22, 67, 34, 31, 35, 26, 53, 32, 18, 78, 37, 38, 49, 46, 33, 29, 37, 50, 29, 20, 47, 48, 47, 52, 23, 50, 51, 25, 31, 22, 23, 48, 39, 43, 31, 31, 31, 33, 25, 42, 24, 32, 66, 57, 52, 24, 49, 47, 63, 61, 25, 36, 64, 23, 29, 30, 39, 51, 36, 61, 40, 18, 34, 22, 28, 63, 44, 22, 32, 38, 46, 63, 43, 53, 53, 42, 58, 59, 35, 32, 56, 24, 22, 33, 47, 38, 41, 31, 22, 60, 44, 26, 53, 18, 28, 25, 29, 36, 31, 60, 55, 46, 31, 45, 45, 53, 32, 41, 45, 51, 32, 54, 35, 37, 19, 19, 24, 31, 37, 26, 30, 40, 30, 37, 27, 44, 17, 43, 23, 41, 39, 40, 28, 32, 28, 31, 19, 40, 21, 23, 27, 47, 20, 63, 34, 55, 48, 30, 37, 31, 25, 18, 48, 27, 28, 27, 37, 23, 52, 52, 39, 75, 28, 30, 44, 37, 42, 38, 22, 58, 20, 23, 31, 28, 34, 33, 18, 31, 35, 37, 51, 50, 39, 19, 38, 18, 54, 56, 20, 41, 47, 27, 32, 17, 44, 17, 23, 29, 42, 41, 27, 19, 19, 59, 36, 51, 47, 48, 30, 46, 48, 25, 45, 57, 36, 41, 40, 21, 45, 20, 47, 22, 35, 42, 25, 51, 33, 51, 27, 40, 63, 20, 27, 45, 27, 21, 31, 19, 27, 39, 32, 59, 52, 35, 31, 47, 49, 45, 49, 36, 25, 73, 33, 48, 41, 46, 49, 38, 29, 22, 40, 61, 41, 44, 45, 73, 45, 45, 23, 37, 32, 28, 32, 37, 37, 19, 22, 39, 20, 36, 52, 50, 50, 47, 24, 17, 41, 26, 63, 54, 22, 37, 51, 30, 25, 37, 35, 42, 57, 48, 36, 17, 42, 55, 37, 34, 34, 32, 56, 46, 44, 45, 64, 41, 27, 50, 36, 39, 60, 26, 66, 41, 27, 34, 18, 37, 50, 35, 63, 58, 49, 38, 36, 60, 67, 46, 41, 45, 34, 50, 46, 90, 20, 65, 61, 29, 48, 47, 34, 27, 37, 60, 75, 48, 64, 47, 35, 60, 44, 34, 25, 25, 27, 36, 42, 25, 34, 47, 41, 52, 22, 37, 20, 42, 35, 65, 19, 24, 52, 23, 42, 28, 29, 36, 29, 48, 47, 47, 40, 24, 31, 51, 31, 32, 39, 23, 55, 31, 58, 60, 32, 45, 36, 27, 31, 51, 53, 48, 52, 41, 19, 22, 53, 34, 35, 36, 40, 40, 19, 32, 37, 52, 42, 18, 52, 43, 21, 38, 47, 32, 34, 53, 40, 22, 60, 35, 54, 27, 40, 19, 49, 45, 30, 34, 58, 18, 37, 45, 54, 63, 48, 59, 40, 19, 22, 31, 20, 27, 40, 60, 25, 36, 31, 29, 23, 41, 51, 44, 52, 22, 51, 50, 43, 50, 32, 21, 43, 39, 51, 44, 54, 40, 37, 50, 25, 56, 47, 21, 27, 36, 51, 38, 50, 28, 60, 50, 46, 46, 40, 50, 55, 40, 55, 29, 19, 27, 31, 46, 25, 28, 29, 24, 38, 23, 33, 26, 41, 26, 40, 36, 40, 22, 19, 45, 23, 33, 36, 39, 18, 56, 37, 32, 37, 43, 34, 36, 30, 49, 23, 23, 26, 43, 53, 56, 29, 38, 36, 50, 19, 33, 43, 25, 24, 51, 61, 24, 24, 23, 43, 53, 23, 27, 43, 37, 52, 25, 47, 17, 51, 73, 45, 48, 62, 64, 29, 34, 56, 37, 22, 25, 60, 44, 17, 26, 28, 50, 52, 24, 50, 21, 27, 33, 39, 65, 20, 27, 26, 59, 32, 27, 35, 56, 27, 68, 42, 27, 43, 20, 21, 28, 44, 47, 44, 58, 48, 27, 35, 34, 29, 47, 32, 23, 40, 20, 42, 59, 56, 19, 51, 29, 31, 41, 20, 34, 27, 24, 33, 29, 30, 17, 57, 26, 18, 47, 52, 45, 30, 52, 57, 18, 31, 37, 44, 43, 41, 18, 23, 36, 54, 35, 59, 48, 44, 71, 21, 53, 44, 17, 28, 54, 29, 50, 31, 64, 52, 67, 49, 18, 66, 40, 61, 74, 41, 25, 39, 51, 44, 17, 19, 44, 59, 31, 26, 33, 20, 31, 47, 52, 30, 62, 33, 22, 53, 37, 23, 24, 49, 53, 38, 46, 51, 33, 28, 34, 34, 27, 46, 33, 74, 17, 25, 29, 39, 23, 20, 38, 88, 23, 40, 26, 47, 51, 51, 61, 39, 33, 27, 21, 30, 66, 36, 64, 27, 27, 73, 38, 29, 20, 29, 31, 32, 31, 52, 38, 44, 51, 44, 36, 31, 40, 45, 43, 52, 32, 55, 58, 33, 34, 36, 48, 35, 36, 62, 29, 57, 26, 26, 60, 49, 29, 46, 45, 63, 17, 58, 21, 35, 24, 27, 42, 36, 19, 43, 22, 57, 90, 34, 36, 47, 42, 19, 23, 20, 46, 57, 42, 32, 21, 23, 28, 31, 19, 25, 27, 42, 38, 32, 35, 29, 25, 34, 41, 23, 35, 24, 33, 55, 49, 30, 22, 67, 54, 64, 27, 62, 23, 36, 28, 24, 42, 39, 42, 54, 36, 22, 51, 51, 42, 46, 62, 42, 47, 25, 40, 43, 32, 33, 43, 26, 33, 26, 51, 23, 27, 29, 75, 48, 35, 38, 54, 76, 41, 42, 24, 25, 28, 43, 41, 42, 39, 23, 43, 48, 46, 32, 20, 41, 45, 40, 32, 49, 34, 59, 47, 25, 60, 45, 38, 48, 35, 27, 36, 41, 37, 27, 33, 71, 64, 50, 58, 22, 48, 26, 48, 36, 23, 41, 42, 33, 30, 30, 17, 36, 38, 19, 37, 27, 56, 22, 29, 37, 31, 42, 54, 46, 62, 66, 35, 24, 33, 24, 31, 29, 63, 58, 28, 33, 37, 49, 40, 21, 17, 26, 30, 25, 27, 24, 24, 21, 54, 41, 24, 23, 47, 51, 32, 28, 48, 18, 44, 25, 31, 40, 28, 24, 44, 22, 62, 19, 52, 24, 22, 25, 20, 20, 29, 25, 36, 48, 31, 24, 26, 32, 54, 44, 30, 39, 43, 48, 41, 26, 23, 46, 21, 44, 21, 41, 55, 64, 45, 31, 46, 24, 26, 53, 65, 25, 59, 24, 19, 44, 49, 22, 21, 33, 25, 47, 29, 30, 41, 45, 34, 41, 36, 51, 29, 48, 21, 29, 59, 54, 61, 54, 36, 62, 39, 55, 35, 20, 26, 29, 48, 33, 44, 23, 23, 50, 29, 20, 39, 39, 25, 36, 39, 54, 46, 34, 27, 71, 31, 49, 35, 43, 26, 34, 57, 18, 47, 20, 55, 42, 49, 27, 27, 20, 39, 49, 39, 44, 20, 31, 57, 49, 25, 45, 45, 64, 25, 40, 40, 53, 45, 32, 28, 41, 51, 19, 40, 52, 41, 43, 48, 47, 46, 61, 34, 50, 48, 26, 32, 28, 33, 29, 25, 60, 39, 25, 17, 42, 23, 27, 30, 19, 32, 41, 29, 42, 21, 27, 20, 35, 38, 36, 64, 32, 40, 53, 37, 31, 21, 53, 73, 33, 61, 68, 39, 24, 56, 68, 31, 23, 58, 27, 42, 38, 34, 42, 37, 49, 30, 28, 56, 39, 20, 26, 55, 30, 40, 38, 18, 51, 23, 34, 29, 26, 42, 41, 49, 43, 41, 32, 38, 20, 36, 77, 43, 39, 59, 31, 30, 41, 39, 21, 29, 38, 19, 39, 46, 44, 40, 50, 62, 78, 28, 21, 29, 23, 20, 31, 38, 54, 31, 29, 43, 45, 64, 23, 58, 41, 25, 31, 19, 58, 31, 36, 43, 31, 20, 60, 20, 66, 40, 23, 33, 57, 30, 38, 50, 46, 46, 59, 47, 67, 61, 44, 24, 41, 24, 32, 18, 23, 34, 50, 40, 32, 29, 21, 36, 18, 27, 40, 19, 26, 39, 34, 64, 43, 56, 29, 54, 76, 27, 59, 29, 36, 48, 59, 20, 40, 40, 27, 47, 28, 39, 43, 37, 42, 42, 62, 21, 28, 35, 34, 23, 33, 39, 35, 62, 48, 38, 44, 47, 34, 54, 38, 26, 19, 37, 26, 33, 22, 31, 50, 28, 20, 33, 19, 25, 22, 29, 54, 27, 52, 23, 42, 20, 52, 36, 54, 44, 19, 43, 55, 39, 41, 44, 22, 54, 29, 58, 40, 40, 25, 22, 21, 47, 44, 39, 30, 63, 40, 51, 47, 22, 25, 59, 20, 45, 38, 38, 34, 30, 49, 34, 31, 48, 28, 31, 40, 57, 52, 45, 41, 17, 46, 21, 61, 40, 46, 44, 50, 30, 35, 23, 54, 38, 53, 24, 19, 40, 27, 57, 28, 27, 61, 20, 19, 33, 20, 38, 27, 39, 25, 48, 44, 28, 32, 29, 32, 38, 25, 28, 45, 32, 22, 32, 36, 38, 42, 73, 33, 34, 44, 38, 41, 22, 46, 42, 33, 39, 23, 21, 21, 27, 38, 31, 20, 25, 45, 51, 36, 29, 38, 47, 51, 30, 33, 54, 19, 47, 23, 40, 23, 61, 38, 48, 48, 24, 20, 34, 40, 57, 62, 49, 49, 23, 48, 33, 27, 37, 27, 47, 34, 34, 24, 36, 24, 25, 19, 83, 59, 70, 27, 53, 31, 45, 54, 27, 18, 58, 26, 29, 37, 48, 42, 27, 17, 35, 31, 23, 49, 20, 46, 34, 38, 42, 26, 69, 39, 45, 53, 45, 25, 45, 42, 20, 58, 24, 40, 19, 37, 33, 63, 40, 48, 21, 18, 43, 23, 20, 50, 22, 49, 28, 35, 30, 40, 52, 26, 24, 37, 23, 22, 18, 23, 27, 32, 22, 56, 33, 52, 23, 31, 55, 61, 36, 26, 30, 49, 44, 23, 21, 39, 23, 41, 18, 44, 48, 38, 44, 50, 50, 51, 51, 25, 21, 26, 28, 34, 48, 35, 68, 39, 23, 33, 45, 21, 31, 28, 30, 31, 45, 54, 25, 32, 52, 39, 27, 48, 40, 35, 40, 38, 32, 52, 39, 17, 51, 47, 35, 18, 36, 23, 30, 38, 43, 72, 51, 41, 51, 23, 19, 36, 38, 20, 34, 64, 28, 20, 48, 32, 51, 27, 24, 32, 56, 29, 28, 35, 32, 22, 31, 24, 37, 39, 42, 60, 46, 51, 27, 36, 27, 41, 69, 44, 41, 32, 18, 40, 55, 50, 26, 47, 36, 68, 31, 18, 34, 24, 57, 20, 22, 19, 33, 21, 33, 41, 38, 51, 38, 36, 28, 20, 23, 40, 53, 42, 29, 60, 52, 17, 59, 28, 55, 50, 66, 66, 28, 53, 45, 25, 52, 64, 43, 40, 36, 26, 58, 46, 46, 51, 23, 28, 21, 19, 45, 38, 25, 25, 76, 50, 44, 48, 19, 44, 38, 35, 44, 22, 48, 27, 48, 31, 53, 19, 20, 54, 59, 32, 47, 28, 22, 50, 41, 51, 32, 25, 19, 23, 71, 43, 44, 61, 57, 35, 42, 65, 17, 39, 56, 40, 49, 26, 54, 54, 47, 57, 34, 30, 20, 66, 58, 19, 38, 38, 49, 47, 45, 42, 44, 42, 30, 41, 45, 32, 23, 24, 44, 29, 26, 47, 78, 21, 19, 31, 27, 51, 37, 57, 52, 37, 42, 36, 20, 41, 60, 34, 45, 48, 34, 19, 28, 42, 64, 28, 47, 46, 34, 24, 24, 25, 33, 51, 34, 63, 35, 38, 51, 27, 24, 42, 41, 51, 27, 53, 23, 54, 42, 38, 50, 27, 49, 32, 42, 31, 43, 26, 40, 25, 21, 36, 32, 24, 32, 63, 46, 22, 77, 30, 22, 20, 50, 40, 31, 39, 48, 35, 37, 31, 52, 35, 30, 25, 28, 43, 55, 25, 31, 37, 17, 54, 36, 22, 45, 58, 33, 24, 32, 19, 46, 31, 37, 36, 48, 45, 52, 41, 59, 35, 47, 57, 28, 40, 55, 45, 44, 35, 41, 48, 25, 61, 28, 56, 36, 22, 27, 46, 24, 60, 38, 30, 53, 29, 50, 29, 67, 38, 50, 27, 45, 23, 41, 45, 26, 40, 88, 30, 40, 66, 25, 65, 31, 23, 52, 49, 31, 39, 33, 33, 35, 43, 37, 23, 31, 54, 28, 20, 24, 18, 40, 39, 50, 20, 40, 44, 30, 55, 19, 52, 64, 51, 28, 59, 67, 27, 36, 32, 26, 55, 25, 28, 48, 38, 39, 27, 23, 26, 55, 44, 28, 36, 30, 27, 26, 59, 63, 45, 30, 18, 45, 27, 19, 51, 23, 36, 30, 43, 47, 55, 44, 25, 42, 47, 47, 23, 41, 32, 34, 53, 39, 46, 50, 54, 30, 51, 64, 46, 32, 34, 24, 66, 41, 50, 42, 37, 28, 31, 51, 20, 36, 24, 41, 34, 25, 47, 19, 26, 32, 26, 55, 53, 42, 36, 41, 40, 46, 21, 41, 68, 37, 25, 20, 64, 50, 53, 32, 43, 39, 38, 42, 24, 33, 22, 36, 26, 32, 34, 33, 37, 19, 36, 41, 25, 34, 67, 38, 41, 29, 31, 21, 28, 43, 66, 55, 38, 25, 32, 25, 40, 73, 50, 69, 44, 20, 78, 55, 24, 24, 41, 45, 55, 41, 34, 41, 29, 51, 44, 49, 40, 39, 26, 46, 47, 19, 20, 36, 35, 45, 35, 50, 36, 36, 67, 41, 45, 56, 27, 25, 36, 54, 33, 69, 37, 29, 23, 72, 44, 55, 29, 40, 37, 58, 33, 55, 51, 27, 28, 56, 22, 34, 35, 50, 49, 65, 29, 57, 22, 31, 35, 54, 21, 31, 40, 52, 50, 64, 33, 17, 47, 48, 20, 47, 53, 18, 27, 22, 39, 43, 39, 23, 25, 43, 41, 23, 43, 34, 26, 36, 45, 28, 43, 24, 31, 56, 32, 45, 26, 21, 32, 42, 18, 23, 44, 38, 43, 69, 58, 36, 50, 48, 38, 35, 26, 56, 48, 28, 17, 55, 40, 22, 20, 52, 45, 43, 40, 31, 38, 56, 17, 42, 48, 29, 43, 41, 43, 37, 37, 27, 30, 60, 43, 32, 40, 41, 34, 18, 47, 44, 28, 57, 31, 34, 17, 25, 32, 39, 46, 40, 37, 28, 32, 23, 24, 61, 20, 65, 62, 34, 54, 21, 34, 37, 37, 26, 55, 24, 20, 61, 31, 25, 40, 62, 45, 42, 67, 25, 32, 61, 21, 34, 61, 37, 52, 21, 39, 20, 27, 37, 31, 22, 23, 50, 53, 60, 17, 59, 46, 23, 59, 51, 34, 33, 62, 79, 38, 40, 34, 76, 39, 27, 23, 21, 55, 67, 67, 35, 57, 38, 45, 26, 52, 21, 17, 31, 52, 19, 41, 23, 33, 27, 77, 30, 50, 47, 41, 61, 42, 35, 37, 27, 50, 59, 39, 45, 22, 75, 31, 34, 28, 28, 68, 35, 26, 46, 41, 32, 38, 23, 42, 31, 57, 25, 84, 67, 40, 47, 49, 29, 35, 39, 21, 49, 32, 33, 46, 18, 72, 61, 21, 59, 45, 29, 48, 33, 25, 31, 31, 44, 25, 30, 37, 37, 50, 19, 65, 33, 20, 47, 23, 17, 18, 24, 28, 54, 41, 37, 48, 51, 26, 20, 51, 49, 23, 49, 51, 45, 29, 30, 27, 24, 26, 24, 44, 34, 30, 57, 42, 52, 43, 40, 34, 57, 64, 25, 40, 21, 30, 40, 26, 61, 69, 55, 38, 36, 45, 36, 35, 51, 47, 40, 43, 34, 32, 33, 22, 22, 37, 37, 45, 36, 46, 39, 47, 45, 36, 19, 46, 40, 31, 44, 51, 58, 53, 34, 48, 34, 29, 30, 45, 46, 42, 38, 24, 36, 28, 30, 47, 41, 36, 48, 47, 44, 31, 30, 44, 38, 34, 35, 37, 27, 29, 65, 23, 61, 37, 39, 33, 46, 21, 60, 32, 46, 39, 60, 34, 37, 43, 60, 39, 38, 40, 26, 69, 33, 43, 35, 24, 54, 26, 39, 42, 43, 43, 24, 19, 24, 25, 19, 24, 30, 65, 38, 46, 55, 26, 34, 35, 39, 22, 56, 33, 44, 81, 55, 22, 23, 42, 60, 57, 29, 50, 27, 44, 46, 39, 19, 26, 28, 42, 25, 28, 29, 36, 39, 50, 20, 39, 53, 19, 32, 41, 56, 41, 17, 55, 39, 26, 39, 44, 36, 39, 37, 18, 51, 36, 46, 43, 29, 39, 51, 43, 57, 52, 37, 17, 55, 38, 49, 40, 38, 34, 37, 38, 28, 49, 32, 21, 28, 50, 50, 20, 19, 27, 31, 63, 48, 36, 42, 59, 21, 29, 61, 36, 48, 29, 29, 69, 52, 20, 50, 37, 26, 25, 17, 37, 39, 35, 39, 28, 49, 30, 36, 39, 18, 31, 18, 46, 37, 38, 41, 51, 54, 32, 26, 34, 24, 38, 32, 17, 47, 47, 38, 55, 32, 34, 31, 57, 34, 60, 23, 28, 41, 62, 50, 23, 41, 52, 39, 56, 32, 44, 79, 29, 34, 30, 35, 32, 41, 31, 43, 37, 19, 37, 50, 40, 17, 26, 23, 29, 45, 39, 31, 44, 37, 47, 38, 41, 43, 31, 42, 55, 18, 29, 40, 20, 65, 40, 20, 38, 57, 71, 39, 38, 21, 59, 42, 19, 27, 31, 41, 27, 30, 45, 37, 27, 65, 37, 57, 19, 41, 47, 40, 54, 28, 46, 36, 30, 28, 21, 68, 30, 52, 18, 29, 17, 40, 55, 61, 28, 32, 36, 27, 54, 70, 52, 44, 41, 33, 32, 46, 33, 66, 31, 20, 32, 54, 46, 32, 51, 26, 36, 43, 24, 37, 55, 38, 24, 18, 28, 57, 50, 51, 44, 49, 21, 56, 29, 23, 45, 53, 60, 17, 35, 70, 43, 52, 35, 27, 37, 39, 49, 24, 54, 48, 77, 50, 23, 43, 23, 42, 42, 58, 65, 19, 40, 46, 17, 23, 31, 34, 48, 39, 25, 26, 28, 18, 50, 47, 62, 25, 18, 34, 31, 23, 45, 46, 25, 25, 20, 40, 23, 42, 24, 32, 28, 33, 21, 34, 26, 35, 44, 28, 63, 31, 20, 68, 45, 31, 41, 27, 29, 41, 45, 33, 52, 55, 51, 57, 33, 35, 33, 37, 28, 31, 38, 28, 57, 42, 45, 27, 23, 38, 44, 25, 37, 30, 21, 35, 43, 44, 21, 29, 29, 63, 36, 26, 26, 68, 55, 29, 47, 29, 46, 29, 72, 22, 47, 36, 44, 48, 23, 21, 19, 29, 64, 35, 35, 47, 56, 37, 57, 29, 71, 54, 30, 53, 34, 20, 32, 38, 34, 19, 19, 31, 36, 29, 50, 21, 24, 59, 63, 51, 70, 49, 44, 67, 44, 31, 22, 49, 65, 39, 55, 56, 27, 19, 57, 21, 36, 51, 30, 34, 55, 46, 36, 30, 40, 30, 18, 49, 34, 74, 58, 37, 52, 26, 22, 18, 28, 62, 30, 38, 23, 51, 38, 57, 43, 38, 65, 31, 24, 18, 34, 29, 66, 50, 40, 60, 40, 37, 50, 32, 47, 45, 46, 29, 32, 35, 20, 32, 39, 31, 46, 47, 44, 36, 34, 47, 31, 58, 39, 45, 46, 40, 70, 24, 42, 25, 40, 56, 50, 37, 32, 29, 70, 20, 46, 34, 23, 21, 41, 59, 45, 29, 31, 46, 47, 36, 21, 47, 30, 19, 34, 35, 49, 43, 38, 39, 25, 65, 46, 56, 32, 39, 43, 49, 50, 49, 50, 18, 41, 23, 34, 54, 27, 48, 26, 63, 44, 21, 25, 58, 40, 42, 32, 31, 21, 42, 30, 21, 26, 35, 52, 25, 41, 26, 24, 47, 57, 68, 31, 35, 41, 50, 35, 40, 45, 27, 25, 32, 49, 25, 29, 38, 36, 41, 58, 29, 31, 29, 40, 61, 35, 39, 23, 41, 26, 50, 22, 30, 43, 20, 62, 27, 41, 63, 32, 23, 54, 46, 44, 27, 31, 56, 26, 52, 34, 25, 48, 75, 39, 47, 26, 20, 38, 54, 46, 25, 18, 58, 25, 33, 46, 44, 29, 49, 40, 18, 54, 29, 68, 24, 23, 44, 23, 26, 35, 51, 36, 52, 46, 32, 52, 36, 37, 70, 45, 37, 19, 28, 21, 37, 36, 35, 26, 40, 33, 38, 47, 36, 20, 43, 29, 44, 44, 42, 40, 35, 43, 26, 68, 27, 40, 32, 51, 40, 29, 50, 51, 65, 32, 42, 59, 48, 27, 21, 45, 62, 47, 39, 20, 44, 24, 24, 22, 50, 53, 26, 33, 50, 28, 45, 44, 40, 59, 41, 25, 61, 41, 36, 39, 27, 42, 64, 26, 38, 56, 34, 28, 22, 28, 33, 30, 39, 45, 25, 68, 34, 31, 67, 62, 40, 35, 44, 51, 17, 21, 32, 19, 26, 23, 40, 57, 31, 38, 34, 44, 24, 60, 42, 39, 24, 26, 23, 42, 37, 22, 19, 40, 59, 30, 32, 42, 23, 30, 33, 76, 41, 45, 44, 31, 39, 54, 24, 65, 30, 56, 40, 45, 44, 41, 42, 34, 43, 36, 63, 40, 36, 38, 39, 25, 46, 56, 18, 18, 64, 46, 18, 42, 37, 45, 32, 37, 37, 39, 35, 38, 37, 18, 36, 28, 23, 43, 34, 26, 38, 28, 52, 33, 67, 38, 18, 58, 45, 76, 22, 33, 42, 36, 77, 45, 32, 21, 19, 34, 57, 19, 27, 27, 22, 30, 33, 28, 21, 22, 40, 42, 50, 90, 67, 42, 36, 49, 60, 39, 29, 29, 46, 51, 51, 18, 25, 32, 70, 20, 44, 33, 25, 26, 25, 21, 38, 61, 35, 32, 20, 52, 35, 49, 21, 49, 25, 63, 63, 25, 40, 50, 48, 63, 25, 38, 61, 31, 28, 42, 44, 44, 18, 45, 36, 42, 41, 34, 69, 30, 65, 60, 45, 59, 42, 24, 35, 50, 34, 52, 26, 33, 22, 46, 43, 40, 26, 53, 43, 38, 51, 32, 88, 45, 39, 25, 43, 47, 44, 45, 21, 37, 49, 50, 21, 22, 64, 41, 45, 21, 33, 38, 20, 67, 35, 24, 44, 60, 40, 54, 40, 57, 33, 42, 33, 53, 36, 54, 21, 35, 46, 39, 30, 45, 35, 28, 30, 26, 24, 70, 48, 32, 42, 27, 31, 48, 49, 23, 20, 54, 42, 35, 38, 24, 23, 24, 42, 60, 31, 45, 43, 19, 27, 48, 21, 33, 23, 35, 19, 42, 41, 22, 41, 24, 35, 28, 51, 47, 35, 22, 32, 70, 25, 40, 43, 20, 42, 33, 24, 38, 33, 51, 38, 41, 50, 42, 66, 47, 63, 51, 55, 19, 17, 29, 20, 48, 59, 41, 26, 36, 63, 63, 23, 44, 26, 42, 44, 27, 48, 41, 50, 54, 41, 50, 60, 43, 27, 39, 53, 25, 37, 29, 24, 53, 29, 33, 20, 48, 51, 45, 52, 33, 54, 29, 29, 56, 70, 49, 42, 23, 21, 43, 36, 42, 48, 43, 23, 31, 32, 49, 42, 39, 30, 25, 27, 57, 41, 51, 30, 34, 48, 22, 35, 64, 21, 21, 37, 57, 30, 32, 37, 47, 25, 36, 40, 17, 50, 47, 78, 26, 62, 40, 44, 60, 27, 26, 66, 31, 38, 29, 21, 46, 29, 39, 27, 40, 35, 24, 39, 56, 40, 63, 42, 59, 17, 35, 41, 19, 37, 40, 36, 48, 37, 50, 17, 53, 18, 53, 36, 46, 84, 20, 28, 18, 23, 40, 44, 24, 32, 55, 37, 41, 31, 42, 43, 45, 46, 41, 40, 60, 36, 59, 38, 39, 47, 34, 32, 45, 28, 19, 64, 19, 40, 28, 47, 37, 29, 20, 21, 26, 36, 32, 30, 37, 46, 27, 52, 49, 18, 23, 66, 51, 40, 37, 68, 20, 36, 17, 24, 33, 47, 24, 52, 39, 35, 55, 37, 42, 18, 21, 50, 33, 50, 30, 30, 25, 34, 31, 39, 59, 34, 41, 47, 30, 34, 22, 40, 39, 53, 23, 53, 28, 26, 68, 34, 46, 49, 44, 64, 28, 21, 40, 37, 41, 34, 45, 31, 47, 46, 19, 26, 38, 34, 47, 36, 52, 21, 37, 63, 37, 47, 20, 35, 27, 46, 23, 21, 44, 63, 18, 37, 25, 27, 42, 31, 53, 39, 37, 36, 31, 23, 22, 23, 37, 48, 29, 42, 34, 35, 39, 50, 26, 39, 28, 84, 20, 46, 41, 21, 29, 32, 36, 40, 29, 60, 44, 31, 32, 25, 55, 37, 33, 34, 23, 31, 55, 63, 27, 52, 25, 43, 49, 33, 23, 52, 41, 27, 35, 40, 33, 28, 41, 45, 43, 27, 40, 26, 36, 32, 43, 33, 43, 37, 39, 32, 44, 32, 43, 36, 35, 30, 18, 44, 54, 44, 47, 17, 36, 55, 23, 31, 51, 28, 23, 33, 30, 37, 43, 36, 41, 62, 36, 22, 22, 50, 36, 33, 21, 37, 23, 45, 50, 20, 44, 43, 43, 52, 43, 51, 72, 21, 22, 44, 62, 31, 62, 51, 77, 56, 54, 54, 52, 56, 43, 33, 43, 42, 46, 50, 23, 41, 38, 36, 65, 38, 43, 29, 20, 62, 39, 22, 34, 23, 32, 41, 58, 21, 35, 52, 35, 36, 25, 29, 37, 53, 38, 56, 47, 18, 43, 18, 25, 42, 22, 41, 46, 40, 29, 20, 19, 61, 33, 19, 30, 22, 21, 23, 38, 52, 24, 28, 29, 25, 38, 39, 31, 42, 66, 32, 42, 48, 48, 21, 38, 63, 44, 32, 38, 46, 40, 37, 23, 51, 48, 69, 30, 39, 25, 31, 45, 26, 52, 53, 46, 44, 30, 33, 57, 40, 43, 47, 35, 68, 41, 36, 46, 43, 39, 49, 23, 24, 29, 34, 28, 18, 22, 44, 21, 57, 41, 28, 26, 32, 54, 29, 60, 50, 17, 37, 42, 77, 36, 63, 34, 31, 31, 76, 59, 18, 42, 40, 45, 42, 41, 24, 44, 37, 23, 31, 38, 49, 34, 19, 21, 29, 41, 21, 32, 30, 39, 31, 36, 20, 30, 24, 56, 36, 31, 33, 31, 27, 68, 26, 55, 49, 24, 55, 43, 47, 48, 40, 30, 35, 46, 33, 26, 64, 29, 38, 44, 34, 21, 50, 35, 30, 50, 22, 33, 25, 26, 38, 19, 19, 36, 46, 40, 44, 67, 19, 31, 37, 36, 35, 28, 51, 18, 58, 29, 50, 58, 19, 29, 28, 37, 27, 56, 56, 25, 40, 34, 24, 38, 50, 27, 49, 56, 24, 24, 49, 36, 69, 25, 60, 25, 33, 36, 29, 24, 39, 45, 46, 29, 47, 23, 26, 46, 57, 34, 62, 20, 40, 36, 51, 24, 47, 60, 23, 38, 59, 19, 36, 24, 39, 33, 27, 61, 25, 50, 25, 39, 38, 32, 54, 20, 58, 40, 40, 44, 20, 30, 24, 46, 44, 39, 54, 18, 38, 30, 42, 68, 54, 23, 42, 68, 45, 39, 57, 38, 49, 23, 53, 67, 39, 69, 37, 58, 46, 40, 58, 43, 64, 31, 45, 44, 49, 36, 51, 26, 41, 36, 39, 22, 18, 47, 33, 17, 28, 42, 65, 31, 68, 48, 68, 30, 20, 29, 44, 77, 42, 56, 53, 23, 29, 20, 37, 28, 18, 41, 34, 47, 32, 34, 53, 24, 20, 33, 46, 63, 44, 22, 55, 72, 35, 28, 30, 20, 57, 31, 34, 38, 45, 24, 45, 39, 39, 46, 37, 38, 45, 40, 19, 33, 58, 21, 25, 26, 30, 36, 23, 47, 28, 36, 18, 60, 24, 39, 42, 21, 39, 63, 32, 21, 58, 25, 33, 50, 35, 39, 25, 20, 23, 37, 46, 32, 56, 28, 39, 26, 49, 23, 42, 34, 31, 37, 50, 31, 44, 30, 59, 34, 39, 48, 40, 19, 24, 28, 34, 36, 32, 25, 21, 40, 41, 27, 21, 46, 19, 61, 41, 50, 24, 21, 31, 56, 43, 38, 18, 52, 43, 19, 53, 47, 61, 23, 47, 42, 24, 46, 51, 25, 36, 46, 45, 34, 31, 38, 19, 26, 68, 49, 52, 26, 61, 45, 36, 42, 34, 56, 20, 29, 29, 48, 50, 25, 38, 40, 37, 67, 46, 39, 31, 26, 39, 28, 43, 23, 42, 69, 42, 21, 58, 61, 25, 37, 29, 55, 23, 33, 56, 46, 22, 63, 37, 40, 38, 21, 57, 50, 52, 30, 49, 45, 45, 32, 34, 26, 63, 51, 23, 20, 47, 37, 41, 57, 48, 49, 23, 35, 53, 42, 21, 34, 33, 48, 64, 50, 51, 20, 33, 19, 29, 25, 41, 30, 47, 42, 20, 34, 43, 34, 25, 58, 59, 18, 24, 29, 37, 18, 59, 36, 42, 24, 36, 24, 31, 41, 39, 35, 73, 64, 46, 52, 22, 54, 27, 32, 31, 47, 32, 43, 29, 37, 44, 56, 61, 54, 20, 41, 17, 24, 38, 20, 41, 38, 18, 57, 45, 18, 34, 38, 63, 52, 38, 35, 23, 28, 50, 32, 35, 34, 63, 40, 28, 22, 33, 24, 35, 30, 57, 44, 25, 28, 52, 36, 40, 19, 43, 36, 40, 20, 41, 32, 30, 44, 34, 64, 44, 24, 26, 24, 35, 26, 55, 36, 69, 41, 27, 19, 42, 23, 41, 67, 27, 50, 55, 35, 20, 48, 33, 41, 36, 30, 38, 59, 31, 19, 20, 18, 29, 54, 36, 61, 46, 19, 30, 56, 74, 25, 45, 41, 41, 69, 38, 23, 35, 39, 20, 32, 56, 36, 27, 44, 58, 47, 42, 51, 49, 38, 42, 32, 35, 52, 23, 31, 22, 41, 34, 17, 56, 62, 37, 34, 34, 25, 19, 66, 41, 18, 21, 41, 27, 58, 36, 37, 30, 45, 44, 34, 44, 49, 38, 23, 46, 24, 38, 38, 25, 30, 44, 42, 36, 42, 24, 22, 46, 42, 42, 47, 37, 24, 23, 17, 30, 26, 48, 42, 58, 42, 29, 26, 42, 73, 36, 35, 28, 45, 39, 21, 23, 51, 41, 30, 25, 73, 50, 36, 58, 48, 43, 56, 41, 33, 41, 41, 24, 37, 46, 55, 25, 39, 49, 37, 37, 24, 22, 64, 51, 33, 44, 43, 50, 46, 55, 32, 23, 34, 43, 80, 33, 36, 31, 32, 20, 36, 31, 35, 17, 38, 34, 35, 24, 23, 22, 33, 47, 34, 62, 27, 44, 29, 53, 48, 42, 44, 50, 20, 33, 38, 54, 26, 42, 54, 36, 41, 29, 63, 30, 44, 34, 35, 38, 48, 67, 33, 17, 26, 42, 36, 33, 39, 66, 29, 43, 66, 35, 48, 62, 50, 38, 56, 38, 39, 21, 28, 20, 60, 21, 26, 39, 32, 57, 27, 44, 20, 24, 44, 56, 44, 26, 37, 17, 58, 30, 43, 47, 43, 19, 36, 31, 45, 20, 43, 48, 17, 62, 28, 40, 28, 58, 18, 19, 28, 53, 26, 37, 33, 36, 33, 26, 47, 67, 43, 30, 52, 35, 37, 54, 31, 64, 22, 26, 46, 37, 38, 33, 24, 34, 50, 34, 31, 19, 34, 37, 38, 21, 31, 29, 37, 25, 40, 49, 60, 56, 42, 23, 33, 69, 34, 40, 37, 25, 37, 41, 48, 38, 56, 22, 48, 45, 40, 23, 35, 44, 32, 40, 27, 34, 71, 31, 34, 77, 34, 43, 35, 33, 20, 52, 26, 48, 51, 38, 42, 39, 47, 44, 40, 21, 46, 17, 44, 18, 30, 47, 39, 25, 56, 50, 51, 25, 29, 35, 26, 61, 38, 25, 39, 23, 48, 47, 28, 55, 37, 24, 20, 60, 49, 43, 45, 26, 57, 19, 26, 49, 59, 43, 39, 44, 42, 34, 27, 47, 18, 22, 24, 44, 25, 36, 50, 66, 52, 46, 45, 27, 23, 18, 44, 30, 32, 56, 35, 49, 44, 26, 19, 43, 31, 34, 46, 27, 29, 36, 24, 44, 63, 69, 48, 80, 43, 36, 63, 31, 34, 36, 44, 54, 34, 60, 42, 52, 18, 46, 35, 43, 45, 61, 32, 19, 45, 20, 52, 42, 32, 24, 21, 23, 24, 26, 33, 30, 49, 24, 30, 24, 27, 60, 18, 22, 49, 41, 58, 20, 29, 34, 47, 37, 33, 55, 28, 39, 33, 45, 37, 62, 39, 40, 45, 42, 54, 48, 24, 57, 25, 42, 42, 37, 22, 29, 54, 53, 51, 27, 52, 20, 34, 55, 31, 49, 57, 31, 61, 45, 52, 35, 28, 40, 30, 41, 50, 21, 39, 26, 21, 62, 45, 22, 37, 55, 32, 53, 20, 32, 64, 39, 48, 34, 30, 52, 17, 35, 43, 37, 45, 27, 30, 35, 34, 44, 21, 25, 29, 33, 40, 41, 50, 41, 42, 44, 42, 27, 28, 31, 47, 25, 28, 43, 21, 51, 56, 39, 33, 33, 44, 29, 59, 45, 27, 33, 55, 34, 30, 39, 26, 24, 53, 45, 64, 40, 39, 47, 55, 58, 31, 44, 27, 43, 35, 28, 49, 30, 31, 35, 27, 42, 28, 42, 58, 34, 38, 56, 56, 36, 17, 57, 28, 29, 29, 53, 47, 36, 49, 23, 21, 35, 42, 45, 69, 40, 45, 41, 37, 42, 55, 34, 51, 22, 59, 36, 40, 30, 25, 31, 29, 60, 43, 51, 37, 20, 56, 44, 42, 41, 34, 38, 31, 21, 32, 37, 43, 36, 55, 39, 44, 33, 19, 25, 41, 21, 53, 23, 23, 65, 43, 22, 41, 42, 40, 32, 29, 40, 37, 23, 61, 42, 24, 47, 21, 48, 42, 59, 39, 29, 25, 50, 35, 46, 34, 31, 18, 20, 70, 32, 36, 34, 57, 43, 31, 46, 27, 48, 32, 34, 56, 40, 21, 22, 24, 29, 30, 31, 24, 29, 31, 19, 58, 18, 32, 44, 27, 22, 42, 60, 50, 37, 31, 46, 35, 47, 67, 18, 35, 44, 37, 20, 49, 54, 33, 55, 38, 30, 31, 42, 34, 22, 26, 75, 47, 50, 53, 35, 24, 28, 52, 20, 57, 47, 50, 65, 38, 58, 34, 31, 41, 44, 20, 24, 30, 34, 28, 59, 29, 25, 23, 23, 22, 35, 37, 31, 22, 52, 22, 18, 26, 33, 23, 33, 53, 52, 38, 45, 37, 29, 61, 36, 19, 26, 36, 28, 18, 52, 18, 53, 41, 20, 19, 18, 47, 33, 74, 46, 20, 55, 42, 24, 39, 27, 21, 42, 28, 38, 56, 21, 47, 32, 36, 29, 34, 48, 18, 35, 19, 51, 55, 50, 47, 39, 26, 46, 45, 61, 31, 47, 41, 36, 38, 34, 20, 32, 48, 46, 33, 66, 26, 36, 43, 63, 53, 59, 26, 67, 46, 35, 26, 62, 47, 38, 52, 22, 34, 32, 29, 32, 28, 41, 70, 58, 28, 23, 17, 55, 28, 19, 58, 20, 26, 22, 38, 36, 47, 38, 42, 37, 32, 42, 29, 33, 60, 44, 46, 39, 48, 38, 33, 35, 38, 49, 47, 50, 26, 46, 45, 55, 69, 18, 37, 43, 42, 44, 54, 18, 30, 20, 53, 31, 59, 38, 29, 37, 32, 31, 18, 69, 40, 27, 44, 58, 25, 38, 28, 40, 62, 37, 57, 50, 27, 26, 21, 49, 71, 35, 17, 40, 42, 36, 41, 28, 36, 50, 38, 22, 20, 66, 42, 36, 33, 25, 49, 19, 26, 42, 28, 56, 52, 23, 49, 34, 49, 35, 39, 39, 23, 36, 46, 46, 41, 26, 53, 61, 47, 24, 18, 23, 41, 37, 53, 24, 24, 42, 45, 45, 52, 76, 20, 50, 30, 23, 29, 19, 33, 49, 31, 31, 47, 19, 34, 51, 49, 51, 37, 64, 32, 33, 35, 31, 19, 41, 38, 49, 32, 31, 36, 56, 41, 34, 63, 31, 35, 38, 46, 57, 41, 65, 64, 24, 27, 58, 38, 53, 19, 62, 61, 27, 28, 37, 52, 27, 51, 42, 33, 24, 30, 27, 60, 63, 24, 48, 38, 54, 41, 38, 47, 24, 51, 20, 54, 59, 27, 33, 23, 28, 20, 56, 20, 37, 46, 33, 34, 34, 24, 52, 50, 59, 34, 80, 42, 64, 27, 32, 21, 39, 57, 35, 49, 62, 36, 19, 43, 67, 36, 48, 23, 37, 42, 27, 38, 22, 36, 24, 41, 37, 24, 49, 31, 24, 44, 31, 28, 32, 51, 22, 24, 55, 50, 22, 20, 43, 40, 39, 29, 31, 33, 42, 22, 45, 37, 27, 37, 52, 29, 37, 53, 32, 25, 29, 19, 57, 44, 40, 30, 32, 44, 25, 46, 59, 48, 17, 30, 28, 47, 56, 47, 57, 27, 28, 28, 28, 30, 42, 31, 58, 39, 22, 37, 39, 27, 31, 22, 49, 23, 52, 22, 25, 44, 67, 65, 30, 37, 37, 20, 32, 19, 28, 41, 45, 44, 28, 26, 22, 33, 66, 30, 29, 40, 27, 22, 43, 57, 52, 22, 47, 57, 33, 42, 64, 21, 46, 25, 45, 30, 59, 53, 26, 19, 41, 32, 44, 38, 31, 32, 21, 65, 32, 27, 44, 49, 52, 24, 20, 24, 26, 17, 29, 54, 38, 61, 44, 54, 65, 42, 48, 35, 31, 35, 26, 26, 42, 59, 56, 31, 44, 58, 52, 37, 44, 25, 39, 30, 37, 49, 42, 67, 30, 47, 41, 44, 18, 68, 25, 60, 20, 40, 33, 34, 26, 68, 39, 43, 27, 18, 24, 33, 47, 38, 23, 35, 62, 31, 30, 54, 52, 26, 77, 30, 19, 31, 54, 26, 64, 23, 51, 17, 30, 39, 46, 32, 60, 37, 35, 38, 28, 34, 24, 51, 20, 20, 43, 23, 57, 32, 37, 49, 28, 30, 34, 29, 21, 21, 26, 44, 53, 58, 17, 42, 26, 59, 20, 54, 37, 37, 19, 42, 39, 40, 23, 22, 42, 44, 44, 60, 45, 26, 23, 58, 44, 18, 24, 41, 37, 43, 22, 53, 37, 33, 30, 50, 30, 25, 19, 67, 48, 43, 52, 37, 40, 20, 40, 26, 19, 48, 55, 31, 41, 83, 34, 56, 38, 31, 33, 40, 29, 46, 31, 49, 27, 24, 46, 32, 23, 37, 30, 46, 33, 63, 18, 23, 47, 32, 37, 45, 63, 46, 64, 18, 26, 21, 62, 31, 48, 36, 53, 52, 34, 26, 35, 42, 32, 36, 48, 24, 90, 35, 50, 32, 21, 50, 52, 28, 36, 22, 42, 36, 29, 67, 28, 59, 54, 36, 48, 37, 61, 35, 30, 30, 30, 55, 46, 33, 44, 33, 27, 21, 51, 54, 19, 18, 43, 36, 29, 25, 18, 33, 64, 45, 20, 45, 37, 24, 25, 55, 38, 28, 57, 24, 56, 37, 22, 47, 26, 32, 37, 43, 32, 28, 32, 58, 20, 20, 35, 30, 43, 19, 34, 39, 21, 33, 29, 70, 50, 50, 42, 40, 56, 90, 42, 31, 43, 29, 52, 24, 36, 37, 30, 43, 63, 43, 57, 73, 25, 21, 46, 29, 43, 76, 48, 21, 27, 19, 33, 46, 28, 27, 36, 50, 46, 32, 23, 24, 31, 46, 34, 35, 18, 61, 61, 30, 27, 43, 47, 19, 27, 24, 20, 42, 61, 43, 40, 46, 21, 30, 39, 32, 23, 35, 20, 44, 23, 42, 36, 25, 23, 18, 28, 32, 23, 30, 54, 54, 50, 33, 37, 33, 21, 49, 35, 52, 67, 42, 22, 18, 51, 24, 50, 35, 26, 56, 29, 51, 34, 39, 39, 40, 66, 39, 32, 54, 27, 25, 17, 54, 42, 28, 22, 21, 50, 35, 46, 53, 44, 30, 34, 26, 30, 40, 46, 44, 37, 41, 55, 31, 50, 61, 21, 54, 19, 46, 38, 35, 35, 26, 27, 47, 32, 19, 36, 35, 50, 55, 29, 41, 41, 46, 31, 47, 42, 63, 62, 70, 22, 45, 37, 52, 27, 52, 44, 49, 46, 21, 17, 56, 46, 53, 21, 45, 38, 55, 48, 44, 37, 21, 51, 26, 58, 53, 49, 29, 25, 40, 40, 41, 39, 38, 44, 39, 46, 54, 44, 46, 31, 30, 46, 19, 33, 45, 63, 42, 39, 37, 18, 26, 33, 35, 36, 42, 60, 52, 30, 51, 45, 17, 31, 41, 24, 40, 39, 37, 58, 28, 51, 21, 39, 58, 19, 51, 47, 40, 43, 50, 50, 24, 41, 36, 37, 20, 44, 63, 23, 52, 25, 39, 46, 57, 29, 77, 42, 32, 30, 55, 29, 26, 66, 35, 50, 46, 49, 46, 36, 30, 45, 25, 20, 35, 30, 40, 49, 30, 23, 52, 30, 21, 45, 63, 36, 46, 32, 58, 28, 46, 28, 21, 36, 33, 60, 39, 56, 29, 21, 18, 27, 43, 40, 65, 25, 31, 22, 36, 40, 51, 18, 32, 61, 65, 25, 39, 27, 46, 40, 33, 47, 28, 57, 27, 30, 51, 60, 18, 77, 35, 26, 39, 31, 43, 22, 58, 26, 46, 19, 56, 20, 42, 36, 53, 59, 38, 46, 41, 44, 22, 45, 53, 21, 29, 43, 53, 39, 35, 37, 25, 61, 36, 52, 39, 36, 40, 47, 26, 37, 51, 53, 23, 23, 38, 34, 38, 23, 36, 26, 44, 27, 36, 35, 29, 35, 31, 19, 38, 22, 31, 23, 43, 20, 42, 46, 25, 48, 50, 29, 42, 30, 21, 20, 36, 40, 50, 23, 44, 39, 52, 36, 17, 53, 52, 33, 36, 28, 19, 23, 39, 51, 34, 40, 49, 49, 29, 35, 33, 50, 30, 39, 32, 48, 65, 47, 21, 53, 41, 25, 43, 51, 23, 47, 71, 27, 52, 29, 32, 46, 53, 39, 43, 18, 61, 58, 27, 35, 28, 43, 39, 33, 52, 37, 41, 36, 34, 50, 51, 32, 24, 56, 47, 48, 49, 30, 23, 49, 53, 53, 74, 36, 37, 37, 21, 40, 19, 23, 44, 28, 50, 24, 47, 29, 51, 56, 33, 29, 34, 42, 27, 67, 22, 31, 28, 77, 52, 28, 49, 23, 46, 49, 20, 33, 20, 28, 29, 21, 30, 30, 28, 50, 37, 29, 37, 20, 35, 38, 44, 38, 43, 28, 64, 25, 40, 49, 37, 39, 21, 48, 47, 19, 29, 36, 19, 25, 27, 60, 43, 39, 35, 47, 50, 47, 44, 27, 36, 40, 31, 21, 27, 38, 29, 28, 45, 42, 30, 49, 35, 45, 44, 28, 53, 26, 42, 42, 37, 17, 63, 47, 44, 29, 40, 50, 21, 39, 28, 21, 46, 31, 68, 34, 34, 32, 26, 38, 68, 34, 25, 62, 37, 33, 55, 33, 31, 58, 35, 62, 20, 30, 44, 38, 38, 32, 36, 30, 22, 25, 51, 56, 33, 36, 53, 31, 35, 41, 35, 18, 34, 30, 38, 23, 20, 29, 52, 24, 21, 35, 40, 41, 41, 51, 39, 25, 60, 24, 25, 24, 27, 39, 50, 60, 38, 61, 32, 47, 50, 50, 38, 40, 52, 59, 33, 29, 38, 46, 26, 58, 54, 66, 19, 49, 46, 41, 23, 23, 49, 48, 36, 44, 19, 61, 36, 53, 24, 23, 46, 37, 27, 20, 46, 34, 64, 37, 46, 25, 44, 18, 29, 41, 23, 20, 40, 28, 35, 19, 24, 20, 43, 26, 21, 58, 22, 41, 38, 33, 35, 38, 22, 20, 37, 41, 28, 47, 62, 28, 38, 48, 38, 39, 26, 47, 19, 42, 25, 32, 33, 55, 55, 21, 37, 49, 43, 27, 18, 27, 26, 69, 32, 39, 57, 51, 47, 51, 63, 27, 36, 27, 29, 45, 41, 50, 34, 29, 24, 19, 45, 20, 28, 41, 58, 44, 44, 35, 25, 25, 59, 50, 52, 33, 47, 41, 41, 24, 30, 36, 24, 21, 30, 39, 44, 55, 51, 24, 42, 45, 36, 41, 31, 33, 52, 22, 38, 36, 18, 61, 51, 26, 40, 42, 28, 58, 40, 71, 49, 39, 49, 19, 20, 34, 50, 29, 50, 24, 67, 22, 43, 27, 34, 30, 32, 55, 40, 32, 37, 36, 69, 36, 22, 38, 34, 32, 57, 50, 29, 19, 59, 46, 33, 61, 20, 20, 27, 25, 32, 51, 23, 42, 22, 52, 61, 46, 54, 31, 45, 39, 60, 22, 61, 22, 47, 18, 76, 38, 48, 90, 48, 45, 26, 41, 48, 55, 46, 42, 47, 32, 33, 47, 32, 50, 36, 34, 41, 17, 33, 38, 45, 39, 45, 34, 41, 31, 37, 23, 48, 23, 37, 41, 28, 19, 26, 65, 49, 38, 69, 41, 23, 29, 44, 37, 38, 31, 48, 35, 33, 28, 31, 57, 90, 29, 22, 41, 62, 35, 52, 67, 39, 21, 53, 52, 27, 37, 25, 30, 36, 42, 30, 47, 38, 36, 36, 35, 35, 25, 46, 21, 23, 42, 41, 23, 23, 39, 20, 36, 30, 40, 54, 22, 22, 17, 47, 35, 56, 38, 22, 22, 33, 36, 48, 22, 48, 43, 31, 21, 28, 46, 39, 31, 45, 54, 39, 50, 40, 24, 59, 18, 22, 23, 35, 31, 59, 33, 39, 33, 24, 30, 49, 46, 36, 49, 32, 17, 57, 44, 21, 22, 46, 64, 42, 60, 44, 36, 42, 24, 22, 22, 32, 38, 20, 39, 58, 21, 24, 28, 28, 36, 52, 44, 50, 28, 23, 61, 28, 22, 58, 26, 51, 49, 23, 37, 35, 64, 74, 36, 41, 48, 30, 33, 37, 58, 42, 51, 49, 36, 40, 44, 21, 42, 55, 26, 44, 53, 29, 59, 51, 31, 35, 19, 27, 28, 51, 33, 35, 45, 27, 27, 43, 29, 57, 37, 62, 35, 50, 33, 23, 44, 41, 35, 33, 44, 38, 58, 25, 27, 41, 40, 37, 49, 30, 31, 47, 34, 55, 40, 46, 18, 36, 19, 21, 33, 23, 49, 39, 31, 34, 26, 55, 37, 44, 46, 25, 23, 51, 19, 50, 40, 21, 32, 29, 59, 31, 59, 45, 72, 31, 30, 24, 21, 21, 38, 55, 32, 45, 64, 39, 43, 42, 43, 62, 64, 41, 50, 43, 56, 27, 39, 30, 20, 35, 43, 42, 32, 21, 45, 18, 63, 57, 43, 23, 34, 30, 27, 47, 17, 43, 30, 48, 34, 50, 42, 26, 29, 20, 48, 25, 24, 39, 38, 58, 27, 33, 41, 73, 41, 29, 44, 41, 42, 36, 31, 38, 38, 46, 23, 40, 19, 31, 42, 35, 43, 26, 29, 38, 26, 36, 22, 29, 30, 32, 54, 38, 33, 37, 28, 30, 47, 28, 37, 64, 62, 43, 56, 56, 52, 55, 26, 22, 39, 38, 36, 34, 23, 39, 40, 46, 39, 42, 52, 25, 25, 55, 33, 18, 25, 80, 31, 40, 34, 60, 35, 46, 53, 37, 25, 37, 41, 34, 61, 45, 55, 28, 36, 22, 24, 47, 54, 34, 46, 23, 47, 54, 28, 48, 44, 49, 27, 27, 50, 53, 34, 54, 29, 47, 24, 52, 45, 33, 37, 51, 32, 22, 49, 26, 32, 35, 46, 25, 60, 32, 37, 36, 51, 22, 37, 41, 20, 66, 23, 44, 28, 51, 29, 35, 38, 51, 36, 25, 51, 33, 21, 38, 26, 51, 68, 33, 28, 48, 29, 31, 18, 20, 38, 51, 53, 41, 59, 33, 23, 44, 35, 56, 63, 44, 22, 24, 40, 63, 30, 63, 69, 47, 21, 31, 28, 33, 21, 25, 49, 44, 41, 21, 35, 26, 42, 38, 24, 27, 38, 43, 45, 46, 37, 30, 46, 23, 40, 57, 53, 40, 24, 35, 33, 48, 42, 31, 49, 51, 23, 44, 68, 23, 26, 37, 27, 49, 56, 41, 18, 26, 28, 20, 56, 34, 59, 34, 39, 35, 53, 38, 42, 42, 51, 20, 53, 60, 61, 48, 35, 38, 62, 53, 25, 24, 47, 40, 28, 58, 20, 38, 45, 24, 22, 32, 43, 51, 50, 40, 37, 24, 46, 46, 47, 28, 32, 55, 38, 48, 26, 38, 55, 60, 32, 44, 39, 31, 45, 40, 22, 22, 55, 33, 31, 34, 35, 28, 40, 24, 65, 27, 29, 18, 45, 26, 64, 20, 59, 61, 36, 59, 64, 63, 33, 23, 39, 23, 59, 50, 28, 42, 23, 47, 47, 25, 42, 29, 40, 26, 40, 58, 52, 48, 23, 34, 22, 46, 27, 25, 25, 30, 22, 22, 41, 36, 18, 43, 39, 51, 40, 32, 37, 46, 24, 19, 50, 26, 56, 44, 55, 33, 30, 25, 46, 55, 35, 73, 40, 51, 43, 28, 20, 39, 72, 28, 19, 45, 33, 43, 21, 35, 33, 28, 20, 30, 33, 53, 45, 22, 27, 44, 21, 55, 38, 45, 35, 69, 38, 36, 33, 24, 31, 26, 41, 23, 47, 50, 53, 35, 21, 51, 54, 50, 26, 27, 60, 53, 33, 28, 28, 47, 43, 38, 37, 35, 35, 48, 42, 35, 46, 29, 31, 57, 29, 46, 23, 29, 65, 43, 50, 22, 41, 22, 21, 42, 40, 22, 41, 47, 32, 33, 47, 51, 24, 40, 43, 43, 37, 24, 54, 48, 51, 40, 25, 19, 51, 46, 34, 55, 53, 42, 49, 29, 20, 49, 37, 38, 23, 34, 17, 28, 42, 26, 35, 45, 19, 49, 81, 20, 26, 52, 40, 31, 54, 38, 28, 24, 17, 50, 29, 31, 47, 34, 23, 59, 55, 31, 23, 59, 28, 39, 55, 20, 56, 42, 33, 37, 38, 38, 34, 30, 19, 43, 59, 24, 38, 20, 24, 52, 24, 61, 23, 64, 49, 30, 32, 40, 32, 29, 37, 38, 17, 55, 21, 26, 51, 42, 28, 47, 23, 34, 42, 38, 41, 34, 23, 36, 32, 45, 42, 58, 60, 34, 19, 27, 40, 22, 54, 26, 37, 23, 41, 46, 32, 67, 20, 43, 61, 30, 36, 44, 52, 56, 36, 59, 29, 46, 25, 50, 40, 58, 40, 52, 38, 20, 25, 27, 29, 36, 21, 60, 39, 41, 18, 26, 43, 39, 53, 40, 37, 33, 35, 31, 21, 35, 44, 52, 25, 43, 23, 59, 55, 55, 41, 40, 38, 18, 24, 46, 25, 50, 27, 49, 38, 46, 31, 28, 45, 30, 20, 57, 28, 23, 36, 24, 51, 49, 49, 36, 33, 43, 38, 76, 48, 46, 36, 53, 36, 51, 33, 34, 43, 23, 30, 48, 61, 46, 61, 40, 23, 66, 43, 25, 39, 45, 21, 34, 43, 41, 17, 35, 55, 40, 46, 42, 29, 70, 38, 37, 45, 64, 51, 28, 53, 45, 53, 30, 28, 27, 23, 30, 31, 30, 25, 25, 38, 43, 27, 34, 41, 53, 38, 36, 30, 57, 30, 31, 56, 45, 36, 44, 64, 23, 25, 30, 38, 29, 27, 32, 38, 23, 23, 44, 30, 37, 67, 22, 43, 55, 31, 50, 39, 30, 31, 49, 25, 26, 44, 37, 30, 46, 35, 24, 28, 29, 22, 32, 42, 61, 28, 53, 23, 18, 44, 34, 41, 39, 23, 54, 50, 34, 54, 28, 35, 19, 39, 30, 21, 36, 45, 23, 26, 38, 51, 46, 59, 26, 49, 43, 37, 52, 40, 49, 21, 39, 46, 31, 29, 20, 50, 30, 29, 42, 44, 59, 62, 52, 28, 45, 37, 53, 32, 55, 41, 42, 33, 22, 66, 30, 37, 64, 18, 40, 40, 58, 52, 27, 35, 23, 40, 46, 26, 34, 34, 25, 49, 51, 46, 23, 56, 24, 27, 47, 45, 20, 35, 55, 33, 33, 22, 34, 38, 54, 23, 59, 42, 32, 19, 37, 37, 24, 32, 29, 51, 25, 33, 38, 58, 31, 20, 72, 42, 35, 35, 36, 21, 24, 22, 24, 31, 57, 46, 25, 42, 33, 23, 30, 27, 51, 40, 45, 32, 28, 43, 38, 52, 29, 30, 47, 50, 36, 40, 57, 26, 30, 46, 25, 60, 31, 47, 31, 34, 52, 29, 30, 33, 53, 49, 45, 24, 52, 40, 19, 28, 45, 32, 56, 45, 65, 17, 31, 38, 27, 21, 32, 33, 28, 43, 33, 31, 20, 31, 50, 27, 52, 28, 31, 45, 39, 52, 50, 26, 47, 30, 27, 62, 43, 59, 44, 58, 19, 29, 52, 42, 36, 50, 49, 51, 46, 58, 46, 34, 32, 36, 34, 24, 35, 29, 22, 43, 26, 19, 55, 51, 30, 32, 51, 39, 76, 23, 51, 41, 54, 66, 53, 86, 33, 55, 42, 46, 27, 47, 27, 29, 35, 41, 22, 50, 51, 21, 22, 22, 22, 45, 51, 49, 17, 53, 54, 28, 47, 29, 37, 38, 41, 19, 63, 32, 62, 39, 56, 50, 31, 64, 33, 27, 17, 59, 43, 29, 49, 38, 28, 38, 44, 19, 23, 42, 22, 26, 33, 47, 68, 19, 42, 51, 28, 51, 27, 52, 41, 18, 39, 36, 40, 35, 33, 45, 42, 24, 30, 45, 50, 66, 29, 36, 58, 51, 47, 53, 58, 24, 53, 29, 64, 47, 63, 33, 41, 54, 54, 24, 49, 32, 49, 28, 21, 61, 27, 22, 18, 65, 51, 25, 37, 17, 41, 29, 44, 21, 34, 37, 34, 58, 51, 58, 45, 33, 29, 25, 40, 18, 43, 44, 54, 23, 33, 60, 18, 28, 22, 27, 62, 49, 37, 44, 28, 37, 24, 42, 47, 41, 21, 33, 19, 18, 28, 41, 22, 39, 38, 40, 19, 38, 49, 43, 50, 53, 47, 34, 35, 27, 36, 43, 38, 33, 32, 24, 53, 54, 27, 46, 21, 22, 40, 40, 33, 33, 52, 17, 28, 40, 27, 57, 51, 46, 35, 42, 64, 53, 24, 25, 35, 47, 41, 49, 34, 58, 46, 40, 60, 54, 22, 23, 30, 41, 42, 64, 47, 35, 41, 48, 31, 29, 35, 41, 24, 50, 34, 37, 17, 55, 35, 36, 21, 32, 19, 50, 30, 47, 38, 38, 34, 57, 83, 22, 20, 29, 34, 19, 36, 64, 44, 43, 41, 53, 32, 19, 32, 34, 50, 50, 55, 51, 29, 30, 57, 34, 42, 51, 52, 22, 37, 64, 53, 29, 40, 51, 37, 38, 73, 25, 28, 29, 50, 27, 25, 37, 27, 39, 27, 52, 20, 35, 56, 35, 55, 40, 59, 18, 52, 25, 24, 46, 53, 21, 25, 23, 70, 27, 32, 26, 31, 67, 33, 56, 40, 54, 44, 32, 20, 56, 22, 40, 47, 46, 23, 42, 40, 36, 24, 30, 34, 45, 27, 29, 21, 41, 65, 23, 51, 30, 25, 22, 29, 35, 41, 33, 40, 39, 39, 34, 39, 53, 65, 34, 50, 21, 34, 50, 58, 54, 53, 46, 21, 67, 29, 50, 41, 35, 25, 48, 41, 42, 32, 28, 20, 33, 37, 37, 52, 50, 40, 30, 35, 49, 26, 21, 46, 22, 45, 52, 30, 53, 40, 46, 41, 39, 39, 34, 59, 23, 42, 32, 17, 30, 31, 46, 41, 34, 40, 23, 43, 36, 34, 22, 29, 39, 17, 44, 19, 37, 17, 20, 22, 20, 67, 43, 54, 37, 64, 54, 52, 28, 42, 29, 56, 17, 28, 30, 26, 51, 56, 61, 50, 22, 20, 27, 39, 35, 37, 24, 21, 41, 43, 22, 17, 22, 24, 28, 28, 63, 60, 31, 47, 35, 47, 40, 59, 24, 19, 56, 47, 40, 26, 38, 20, 37, 40, 28, 19, 61, 50, 49, 39, 20, 28, 34, 28, 64, 30, 71, 32, 34, 20, 45, 41, 22, 27, 31, 29, 33, 27, 28, 40, 38, 27, 22, 49, 42, 51, 38, 28, 22, 35, 34, 19, 38, 41, 26, 29, 43, 50, 36, 36, 43, 55, 35, 56, 58, 23, 35, 30, 35, 39, 82, 36, 47, 27, 19, 39, 48, 46, 51, 59, 17, 72, 25, 54, 46, 25, 36, 51, 47, 56, 19, 31, 45, 19, 23, 31, 19, 46, 32, 51, 24, 22, 51, 38, 52, 47, 24, 49, 47, 62, 38, 23, 35, 29, 38, 35, 26, 33, 38, 26, 21, 40, 34, 42, 44, 73, 37, 61, 34, 29, 22, 20, 53, 23, 31, 29, 44, 38, 26, 41, 50, 44, 39, 43, 46, 53, 31, 42, 37, 49, 40, 43, 23, 30, 36, 45, 47, 40, 27, 58, 49, 51, 22, 29, 90, 36, 28, 51, 34, 45, 54, 25, 47, 34, 55, 20, 25, 18, 24, 44, 58, 28, 47, 52, 24, 49, 40, 38, 65, 35, 72, 25, 20, 65, 22, 41, 29, 21, 51, 48, 35, 20, 28, 35, 44, 32, 55, 51, 65, 42, 46, 17, 53, 30, 55, 36, 35, 29, 51, 23, 48, 43, 30, 35, 29, 57, 26, 41, 68, 45, 27, 41, 45, 30, 33, 45, 37, 36, 41, 31, 40, 53, 29, 49, 42, 27, 35, 20, 20, 26, 44, 32, 33, 53, 29, 27, 40, 49, 37, 32, 55, 47, 61, 46, 19, 19, 19, 43, 27, 52, 60, 43, 52, 39, 43, 27, 42, 38, 25, 73, 22, 51, 47, 44, 37, 39, 25, 25, 35, 23, 39, 43, 64, 35, 58, 33, 45, 38, 45, 37, 36, 37, 23, 26, 59, 26, 38, 61, 55, 61, 36, 37, 25, 60, 51, 33, 49, 53, 45, 50, 65, 37, 46, 43, 32, 42, 53, 50, 24, 31, 23, 22, 53, 24, 57, 42, 41, 27, 18, 21, 40, 51, 28, 74, 20, 49, 49, 34, 56, 50, 18, 29, 18, 37, 31, 37, 43, 22, 33, 60, 25, 41, 45, 45, 62, 45, 29, 19, 59, 24, 39, 19, 39, 25, 22, 49, 41, 46, 29, 30, 49, 45, 33, 25, 35, 36, 58, 31, 55, 21, 26, 81, 68, 33, 53, 32, 63, 39, 29, 33, 26, 59, 52, 34, 38, 59, 56, 42, 57, 53, 27, 32, 25, 48, 64, 35, 47, 54, 27, 22, 53, 56, 38, 32, 37, 33, 32, 55, 20, 29, 32, 65, 42, 36, 27, 33, 40, 31, 57, 47, 47, 19, 65, 21, 39, 38, 34, 20, 23, 65, 36, 51, 46, 28, 42, 29, 40, 47, 46, 36, 33, 37, 54, 65, 22, 62, 30, 41, 34, 25, 24, 55, 39, 25, 43, 22, 31, 50, 38, 61, 26, 36, 55, 50, 34, 33, 57, 57, 32, 24, 44, 26, 58, 43, 43, 42, 54, 46, 27, 45, 40, 25, 53, 33, 44, 35, 54, 21, 17, 52, 36, 32, 22, 22, 61, 27, 22, 24, 42, 33, 70, 26, 47, 23, 47, 35, 27, 44, 37, 39, 75, 34, 41, 36, 19, 37, 30, 27, 39, 47, 44, 43, 22, 62, 44, 35, 36, 42, 30, 41, 41, 54, 23, 71, 20, 21, 31, 23, 42, 52, 41, 23, 41, 45, 49, 45, 45, 25, 51, 37, 64, 62, 39, 55, 23, 19, 43, 18, 47, 45, 28, 31, 27, 34, 33, 38, 25, 48, 25, 38, 37, 27, 55, 46, 44, 41, 23, 24, 28, 36, 22, 39, 65, 37, 52, 49, 33, 27, 43, 36, 63, 37, 67, 30, 22, 42, 53, 59, 84, 59, 21, 27, 20, 45, 45, 29, 27, 46, 61, 35, 24, 26, 56, 48, 33, 28, 27, 35, 44, 42, 71, 38, 48, 21, 39, 25, 33, 46, 36, 18, 22, 45, 46, 43, 50, 33, 22, 24, 34, 60, 57, 51, 27, 30, 22, 27, 23, 29, 65, 47, 51, 53, 40, 29, 51, 60, 27, 44, 54, 35, 24, 53, 29, 26, 37, 52, 23, 32, 38, 47, 62, 41, 26, 22, 37, 51, 30, 51, 31, 51, 47, 60, 53, 23, 45, 23, 31, 36, 46, 59, 51, 41, 26, 63, 47, 29, 34, 36, 31, 41, 37, 44, 49, 36, 29, 49, 19, 46, 35, 42, 40, 51, 29, 22, 25, 37, 30, 30, 25, 59, 46, 42, 54, 32, 60, 27, 44, 52, 53, 33, 41, 25, 53, 23, 30, 63, 38, 28, 25, 51, 21, 40, 55, 24, 45, 65, 62, 32, 36, 42, 19, 53, 51, 70, 33, 25, 26, 34, 51, 28, 25, 27, 62, 22, 62, 18, 20, 27, 41, 27, 37, 52, 29, 18, 30, 44, 23, 26, 58, 27, 31, 34, 24, 23, 38, 50, 57, 17, 47, 31, 50, 53, 45, 33, 24, 41, 44, 57, 74, 27, 36, 27, 58, 35, 38, 52, 22, 29, 49, 27, 42, 24, 48, 30, 65, 49, 41, 35, 26, 37, 17, 34, 35, 42, 41, 21, 54, 33, 47, 41, 24, 24, 42, 73, 39, 20, 34, 51, 39, 24, 23, 58, 17, 54, 46, 19, 44, 56, 29, 22, 54, 34, 27, 17, 40, 37, 30, 23, 37, 37, 36, 40, 71, 49, 47, 38, 60, 38, 37, 32, 25, 62, 45, 44, 41, 17, 19, 29, 39, 64, 34, 63, 54, 27, 37, 43, 49, 28, 20, 23, 56, 42, 65, 22, 22, 50, 36, 51, 67, 56, 31, 23, 39, 23, 40, 17, 22, 54, 29, 19, 52, 24, 33, 63, 27, 35, 40, 28, 39, 29, 26, 33, 41, 57, 55, 57, 63, 25, 27, 42, 23, 40, 20, 26, 45, 32, 38, 44, 51, 49, 53, 51, 20, 22, 39, 30, 29, 60, 53, 47, 51, 59, 37, 53, 55, 24, 29, 30, 62, 48, 38, 31, 39, 25, 30, 45, 45, 23, 38, 20, 78, 23, 17, 65, 58, 20, 49, 51, 59, 35, 37, 40, 26, 41, 38, 59, 18, 32, 46, 27, 31, 74, 29, 19, 53, 19, 24, 18, 25, 39, 65, 54, 19, 44, 29, 28, 38, 19, 58, 44, 38, 33, 26, 54, 38, 26, 38, 35, 40, 44, 63, 36, 32, 23, 45, 33, 43, 39, 18, 34, 26, 41, 31, 61, 60, 56, 55, 25, 62, 39, 44, 18, 39, 21, 41, 50, 75, 29, 42, 17, 20, 20, 22, 25, 32, 35, 32, 33, 25, 30, 41, 42, 28, 43, 26, 33, 29, 24, 39, 28, 25, 35, 38, 48, 66, 37, 21, 26, 55, 48, 33, 26, 45, 27, 23, 21, 47, 20, 24, 61, 19, 79, 38, 22, 41, 23, 18, 18, 18, 69, 43, 40, 53, 44, 29, 48, 19, 67, 28, 33, 47, 32, 27, 19, 20, 28, 48, 25, 39, 30, 27, 36, 20, 33, 62, 46, 42, 53, 21, 39, 38, 36, 59, 36, 20, 34, 33, 27, 36, 36, 53, 53, 22, 45, 20, 37, 61, 21, 33, 25, 31, 45, 17, 52, 48, 18, 50, 29, 47, 62, 28, 46, 43, 59, 53, 24, 43, 37, 31, 40, 52, 47, 20, 55, 34, 61, 24, 43, 39, 69, 35, 36, 28, 53, 24, 37, 65, 46, 26, 51, 22, 45, 50, 49, 56, 35, 44, 37, 25, 43, 39, 28, 26, 60, 21, 33, 60, 24, 36, 49, 51, 32, 45, 55, 61, 19, 46, 50, 19, 31, 37, 51, 48, 30, 45, 36, 25, 63, 21, 24, 50, 17, 32, 43, 32, 31, 36, 23, 37, 47, 54, 41, 21, 72, 35, 62, 40, 23, 41, 36, 72, 34, 51, 52, 50, 47, 38, 23, 47, 42, 27, 26, 33, 42, 30, 62, 38, 28, 64, 18, 34, 35, 30, 59, 48, 25, 39, 41, 28, 39, 23, 23, 20, 32, 36, 34, 43, 59, 29, 45, 30, 57, 36, 43, 52, 50, 21, 46, 48, 50, 21, 35, 43, 41, 43, 29, 57, 40, 28, 47, 29, 18, 36, 63, 53, 43, 28, 29, 56, 43, 40, 51, 54, 39, 36, 46, 34, 39, 20, 23, 44, 34, 46, 35, 49, 65, 59, 45, 26, 28, 42, 49, 49, 51, 55, 45, 41, 63, 58, 62, 47, 18, 54, 57, 27, 21, 28, 48, 45, 23, 38, 63, 42, 46, 48, 46, 22, 19, 31, 61, 42, 38, 37, 30, 44, 28, 20, 41, 28, 37, 41, 28, 50, 22, 64, 53, 24, 52, 45, 31, 33, 34, 30, 27, 61, 44, 58, 24, 17, 43, 75, 43, 43, 58, 36, 49, 22, 51, 34, 43, 33, 51, 48, 42, 29, 21, 31, 42, 35, 22, 61, 41, 32, 46, 59, 40, 48, 34, 28, 26, 54, 57, 55, 40, 33, 41, 35, 22, 26, 45, 44, 25, 47, 25, 62, 56, 48, 32, 62, 32, 35, 75, 38, 38, 28, 62, 47, 26, 36, 42, 27, 29, 20, 47, 45, 54, 24, 53, 70, 31, 42, 59, 46, 20, 51, 46, 43, 27, 54, 19, 38, 50, 21, 79, 26, 42, 32, 49, 21, 49, 26, 19, 49, 23, 41, 40, 58, 31, 51, 27, 59, 22, 35, 57, 41, 44, 58, 35, 59, 34, 59, 25, 20, 54, 41, 68, 47, 23, 40, 34, 36, 33, 45, 33, 66, 50, 20, 18, 24, 40, 38, 30, 44, 41, 59, 45, 28, 34, 40, 41, 38, 28, 34, 48, 18, 75, 42, 38, 56, 50, 32, 44, 24, 36, 46, 66, 33, 45, 57, 30, 40, 40, 40, 18, 33, 52, 54, 44, 56, 31, 44, 24, 51, 30, 25, 49, 24, 51, 33, 63, 53, 24, 61, 57, 18, 24, 20, 45, 30, 38, 54, 42, 28, 22, 17, 29, 40, 54, 49, 53, 69, 21, 66, 47, 30, 27, 33, 32, 53, 70, 55, 33, 20, 54, 29, 50, 33, 26, 51, 24, 24, 34, 35, 33, 32, 51, 30, 46, 32, 20, 33, 21, 20, 59, 53, 24, 33, 47, 17, 49, 35, 58, 21, 17, 34, 56, 47, 36, 50, 56, 44, 32, 19, 30, 30, 51, 62, 37, 19, 30, 38, 50, 20, 56, 46, 43, 29, 44, 58, 36, 23, 55, 47, 24, 43, 33, 55, 42, 49, 36, 57, 36, 33, 30, 24, 23, 51, 27, 26, 17, 26, 41, 50, 25, 37, 23, 39, 35, 42, 41, 55, 21, 41, 34, 49, 36, 48, 38, 19, 52, 45, 28, 43, 56, 21, 58, 69, 23, 50, 37, 50, 34, 42, 48, 41, 49, 21, 52, 63, 37, 43, 18, 48, 28, 33, 17, 25, 41, 30, 49, 36, 22, 40, 25, 22, 60, 31, 23, 26, 43, 64, 35, 50, 44, 25, 34, 51, 30, 31, 47, 30, 30, 28, 47, 68, 57, 29, 50, 57, 36, 17, 24, 43, 35, 38, 38, 34, 46, 26, 37, 47, 55, 39, 38, 38, 18, 32, 32, 40, 26, 38, 31, 36, 45, 30, 31, 45, 26, 34, 56, 34, 46, 24, 27, 21, 52, 59, 32, 18, 18, 57, 33, 60, 37, 48, 43, 41, 43, 50, 58, 33, 28, 33, 29, 30, 38, 36, 37, 41, 42, 19, 35, 28, 51, 47, 34, 46, 26, 28, 29, 49, 29, 23, 27, 18, 33, 28, 23, 24, 49, 22, 43, 43, 36, 36, 59, 17, 24, 27, 21, 27, 30, 26, 26, 60, 22, 62, 45, 68, 62, 33, 31, 22, 40, 26, 50, 41, 24, 41, 43, 20, 55, 59, 54, 36, 38, 24, 19, 32, 39, 37, 22, 19, 48, 20, 47, 38, 43, 71, 35, 31, 23, 27, 42, 45, 32, 31, 43, 30, 43, 52, 52, 46, 41, 45, 21, 52, 22, 20, 38, 24, 50, 26, 25, 36, 27, 21, 35, 47, 59, 51, 47, 53, 55, 32, 26, 35, 24, 34, 20, 43, 25, 35, 32, 47, 28, 29, 21, 53, 30, 45, 33, 40, 59, 64, 40, 52, 30, 24, 39, 26, 36, 22, 49, 24, 24, 24, 44, 31, 35, 84, 28, 34, 29, 77, 38, 76, 27, 48, 24, 59, 50, 18, 46, 20, 31, 57, 41, 63, 19, 34, 61, 18, 19, 51, 18, 43, 24, 30, 36, 42, 45, 46, 43, 54, 29, 37, 56, 29, 26, 46, 42, 32, 41, 40, 35, 35, 48, 28, 55, 28, 41, 30, 54, 28, 46, 84, 56, 61, 47, 41, 45, 52, 30, 45, 32, 25, 46, 24, 34, 43, 56, 57, 22, 25, 24, 43, 18, 24, 17, 26, 20, 18, 34, 23, 22, 69, 40, 26, 33, 43, 53, 23, 60, 37, 45, 25, 42, 64, 66, 18, 35, 48, 55, 31, 32, 42, 19, 31, 34, 33, 58, 47, 19, 57, 29, 23, 28, 19, 22, 33, 30, 60, 56, 33, 41, 38, 34, 23, 38, 34, 53, 45, 44, 35, 35, 33, 34, 56, 34, 35, 55, 46, 19, 33, 27, 50, 24, 36, 26, 52, 52, 54, 38, 27, 50, 23, 49, 46, 27, 47, 26, 56, 41, 49, 49, 31, 18, 34, 27, 25, 38, 17, 28, 25, 57, 52, 30, 33, 29, 21, 39, 79, 39, 23, 69, 48, 49, 47, 46, 39, 35, 23, 54, 35, 34, 27, 24, 48, 45, 62, 23, 56, 23, 19, 59, 50, 72, 29, 53, 24, 40, 40, 38, 28, 21, 22, 25, 18, 70, 28, 29, 43, 42, 90, 37, 46, 46, 23, 27, 20, 78, 39, 32, 31, 31, 40, 28, 38, 36, 51, 49, 65, 26, 32, 24, 43, 31, 35, 36, 44, 62, 35, 26, 48, 52, 31, 53, 77, 33, 44, 30, 24, 19, 27, 46, 43, 23, 60, 32, 39, 39, 17, 25, 51, 45, 24, 26, 56, 58, 19, 70, 30, 22, 60, 23, 37, 56, 62, 20, 47, 64, 62, 34, 58, 23, 49, 25, 61, 29, 28, 33, 20, 31, 26, 37, 44, 32, 30, 51, 27, 24, 47, 51, 54, 44, 52, 19, 23, 50, 39, 35, 45, 19, 21, 48, 28, 74, 19, 22, 47, 24, 36, 47, 32, 30, 32, 70, 33, 46, 74, 44, 44, 64, 48, 47, 41, 23, 46, 47, 19, 40, 58, 26, 22, 21, 30, 51, 30, 61, 30, 31, 68, 27, 29, 24, 18, 18, 41, 26, 37, 46, 34, 32, 22, 34, 29, 41, 40, 40, 51, 38, 33, 57, 46, 61, 53, 20, 33, 35, 38, 40, 45, 48, 38, 27, 55, 35, 44, 45, 32, 36, 35, 28, 34, 39, 31, 67, 39, 66, 21, 33, 36, 58, 49, 54, 26, 30, 48, 36, 37, 26, 44, 20, 67, 60, 50, 20, 42, 43, 35, 40, 35, 30, 32, 21, 31, 42, 29, 36, 28, 30, 51, 62, 36, 46, 32, 49, 43, 19, 60, 59, 46, 31, 29, 45, 47, 72, 20, 68, 41, 41, 34, 20, 25, 38, 49, 41, 53, 46, 45, 41, 34, 33, 37, 64, 40, 58, 34, 17, 24, 42, 50, 31, 32, 33, 20, 41, 39, 36, 23, 50, 51, 40, 58, 73, 29, 38, 20, 26, 49, 35, 80, 19, 33, 43, 17, 17, 45, 62, 51, 43, 65, 28, 39, 27, 44, 42, 18, 50, 25, 46, 50, 31, 31, 60, 69, 28, 31, 70, 31, 32, 47, 44, 25, 32, 27, 59, 33], \"xaxis\": \"x\", \"yaxis\": \"y\"}],\n",
              "                        {\"barmode\": \"relative\", \"legend\": {\"tracegroupgap\": 0}, \"margin\": {\"t\": 60}, \"template\": {\"data\": {\"bar\": [{\"error_x\": {\"color\": \"#2a3f5f\"}, \"error_y\": {\"color\": \"#2a3f5f\"}, \"marker\": {\"line\": {\"color\": \"#E5ECF6\", \"width\": 0.5}}, \"type\": \"bar\"}], \"barpolar\": [{\"marker\": {\"line\": {\"color\": \"#E5ECF6\", \"width\": 0.5}}, \"type\": \"barpolar\"}], \"carpet\": [{\"aaxis\": {\"endlinecolor\": \"#2a3f5f\", \"gridcolor\": \"white\", \"linecolor\": \"white\", \"minorgridcolor\": \"white\", \"startlinecolor\": \"#2a3f5f\"}, \"baxis\": {\"endlinecolor\": \"#2a3f5f\", \"gridcolor\": \"white\", \"linecolor\": \"white\", \"minorgridcolor\": \"white\", \"startlinecolor\": \"#2a3f5f\"}, \"type\": \"carpet\"}], \"choropleth\": [{\"colorbar\": {\"outlinewidth\": 0, \"ticks\": \"\"}, \"type\": \"choropleth\"}], \"contour\": [{\"colorbar\": {\"outlinewidth\": 0, \"ticks\": \"\"}, \"colorscale\": [[0.0, \"#0d0887\"], [0.1111111111111111, \"#46039f\"], [0.2222222222222222, \"#7201a8\"], [0.3333333333333333, \"#9c179e\"], [0.4444444444444444, \"#bd3786\"], [0.5555555555555556, \"#d8576b\"], [0.6666666666666666, \"#ed7953\"], [0.7777777777777778, \"#fb9f3a\"], [0.8888888888888888, \"#fdca26\"], [1.0, \"#f0f921\"]], \"type\": \"contour\"}], \"contourcarpet\": [{\"colorbar\": {\"outlinewidth\": 0, \"ticks\": \"\"}, \"type\": \"contourcarpet\"}], \"heatmap\": [{\"colorbar\": {\"outlinewidth\": 0, \"ticks\": \"\"}, \"colorscale\": [[0.0, \"#0d0887\"], [0.1111111111111111, \"#46039f\"], [0.2222222222222222, \"#7201a8\"], [0.3333333333333333, \"#9c179e\"], [0.4444444444444444, \"#bd3786\"], [0.5555555555555556, \"#d8576b\"], [0.6666666666666666, \"#ed7953\"], [0.7777777777777778, \"#fb9f3a\"], [0.8888888888888888, \"#fdca26\"], [1.0, \"#f0f921\"]], \"type\": \"heatmap\"}], \"heatmapgl\": [{\"colorbar\": {\"outlinewidth\": 0, \"ticks\": \"\"}, \"colorscale\": [[0.0, \"#0d0887\"], [0.1111111111111111, \"#46039f\"], [0.2222222222222222, \"#7201a8\"], [0.3333333333333333, \"#9c179e\"], [0.4444444444444444, \"#bd3786\"], [0.5555555555555556, \"#d8576b\"], [0.6666666666666666, \"#ed7953\"], [0.7777777777777778, \"#fb9f3a\"], [0.8888888888888888, \"#fdca26\"], [1.0, \"#f0f921\"]], \"type\": \"heatmapgl\"}], \"histogram\": [{\"marker\": {\"colorbar\": {\"outlinewidth\": 0, \"ticks\": \"\"}}, \"type\": \"histogram\"}], \"histogram2d\": [{\"colorbar\": {\"outlinewidth\": 0, \"ticks\": \"\"}, \"colorscale\": [[0.0, \"#0d0887\"], [0.1111111111111111, \"#46039f\"], [0.2222222222222222, \"#7201a8\"], [0.3333333333333333, \"#9c179e\"], [0.4444444444444444, \"#bd3786\"], [0.5555555555555556, \"#d8576b\"], [0.6666666666666666, \"#ed7953\"], [0.7777777777777778, \"#fb9f3a\"], [0.8888888888888888, \"#fdca26\"], [1.0, \"#f0f921\"]], \"type\": \"histogram2d\"}], \"histogram2dcontour\": [{\"colorbar\": {\"outlinewidth\": 0, \"ticks\": \"\"}, \"colorscale\": [[0.0, \"#0d0887\"], [0.1111111111111111, \"#46039f\"], [0.2222222222222222, \"#7201a8\"], [0.3333333333333333, \"#9c179e\"], [0.4444444444444444, \"#bd3786\"], [0.5555555555555556, \"#d8576b\"], [0.6666666666666666, \"#ed7953\"], [0.7777777777777778, \"#fb9f3a\"], [0.8888888888888888, \"#fdca26\"], [1.0, \"#f0f921\"]], \"type\": \"histogram2dcontour\"}], \"mesh3d\": [{\"colorbar\": {\"outlinewidth\": 0, \"ticks\": \"\"}, \"type\": \"mesh3d\"}], \"parcoords\": [{\"line\": {\"colorbar\": {\"outlinewidth\": 0, \"ticks\": \"\"}}, \"type\": \"parcoords\"}], \"pie\": [{\"automargin\": true, \"type\": \"pie\"}], \"scatter\": [{\"marker\": {\"colorbar\": {\"outlinewidth\": 0, \"ticks\": \"\"}}, \"type\": \"scatter\"}], \"scatter3d\": [{\"line\": {\"colorbar\": {\"outlinewidth\": 0, \"ticks\": \"\"}}, \"marker\": {\"colorbar\": {\"outlinewidth\": 0, \"ticks\": \"\"}}, \"type\": \"scatter3d\"}], \"scattercarpet\": [{\"marker\": {\"colorbar\": {\"outlinewidth\": 0, \"ticks\": \"\"}}, \"type\": \"scattercarpet\"}], \"scattergeo\": [{\"marker\": {\"colorbar\": {\"outlinewidth\": 0, \"ticks\": \"\"}}, \"type\": \"scattergeo\"}], \"scattergl\": [{\"marker\": {\"colorbar\": {\"outlinewidth\": 0, \"ticks\": \"\"}}, \"type\": \"scattergl\"}], \"scattermapbox\": [{\"marker\": {\"colorbar\": {\"outlinewidth\": 0, \"ticks\": \"\"}}, \"type\": \"scattermapbox\"}], \"scatterpolar\": [{\"marker\": {\"colorbar\": {\"outlinewidth\": 0, \"ticks\": \"\"}}, \"type\": \"scatterpolar\"}], \"scatterpolargl\": [{\"marker\": {\"colorbar\": {\"outlinewidth\": 0, \"ticks\": \"\"}}, \"type\": \"scatterpolargl\"}], \"scatterternary\": [{\"marker\": {\"colorbar\": {\"outlinewidth\": 0, \"ticks\": \"\"}}, \"type\": \"scatterternary\"}], \"surface\": [{\"colorbar\": {\"outlinewidth\": 0, \"ticks\": \"\"}, \"colorscale\": [[0.0, \"#0d0887\"], [0.1111111111111111, \"#46039f\"], [0.2222222222222222, \"#7201a8\"], [0.3333333333333333, \"#9c179e\"], [0.4444444444444444, \"#bd3786\"], [0.5555555555555556, \"#d8576b\"], [0.6666666666666666, \"#ed7953\"], [0.7777777777777778, \"#fb9f3a\"], [0.8888888888888888, \"#fdca26\"], [1.0, \"#f0f921\"]], \"type\": \"surface\"}], \"table\": [{\"cells\": {\"fill\": {\"color\": \"#EBF0F8\"}, \"line\": {\"color\": \"white\"}}, \"header\": {\"fill\": {\"color\": \"#C8D4E3\"}, \"line\": {\"color\": \"white\"}}, \"type\": \"table\"}]}, \"layout\": {\"annotationdefaults\": {\"arrowcolor\": \"#2a3f5f\", \"arrowhead\": 0, \"arrowwidth\": 1}, \"coloraxis\": {\"colorbar\": {\"outlinewidth\": 0, \"ticks\": \"\"}}, \"colorscale\": {\"diverging\": [[0, \"#8e0152\"], [0.1, \"#c51b7d\"], [0.2, \"#de77ae\"], [0.3, \"#f1b6da\"], [0.4, \"#fde0ef\"], [0.5, \"#f7f7f7\"], [0.6, \"#e6f5d0\"], [0.7, \"#b8e186\"], [0.8, \"#7fbc41\"], [0.9, \"#4d9221\"], [1, \"#276419\"]], \"sequential\": [[0.0, \"#0d0887\"], [0.1111111111111111, \"#46039f\"], [0.2222222222222222, \"#7201a8\"], [0.3333333333333333, \"#9c179e\"], [0.4444444444444444, \"#bd3786\"], [0.5555555555555556, \"#d8576b\"], [0.6666666666666666, \"#ed7953\"], [0.7777777777777778, \"#fb9f3a\"], [0.8888888888888888, \"#fdca26\"], [1.0, \"#f0f921\"]], \"sequentialminus\": [[0.0, \"#0d0887\"], [0.1111111111111111, \"#46039f\"], [0.2222222222222222, \"#7201a8\"], [0.3333333333333333, \"#9c179e\"], [0.4444444444444444, \"#bd3786\"], [0.5555555555555556, \"#d8576b\"], [0.6666666666666666, \"#ed7953\"], [0.7777777777777778, \"#fb9f3a\"], [0.8888888888888888, \"#fdca26\"], [1.0, \"#f0f921\"]]}, \"colorway\": [\"#636efa\", \"#EF553B\", \"#00cc96\", \"#ab63fa\", \"#FFA15A\", \"#19d3f3\", \"#FF6692\", \"#B6E880\", \"#FF97FF\", \"#FECB52\"], \"font\": {\"color\": \"#2a3f5f\"}, \"geo\": {\"bgcolor\": \"white\", \"lakecolor\": \"white\", \"landcolor\": \"#E5ECF6\", \"showlakes\": true, \"showland\": true, \"subunitcolor\": \"white\"}, \"hoverlabel\": {\"align\": \"left\"}, \"hovermode\": \"closest\", \"mapbox\": {\"style\": \"light\"}, \"paper_bgcolor\": \"white\", \"plot_bgcolor\": \"#E5ECF6\", \"polar\": {\"angularaxis\": {\"gridcolor\": \"white\", \"linecolor\": \"white\", \"ticks\": \"\"}, \"bgcolor\": \"#E5ECF6\", \"radialaxis\": {\"gridcolor\": \"white\", \"linecolor\": \"white\", \"ticks\": \"\"}}, \"scene\": {\"xaxis\": {\"backgroundcolor\": \"#E5ECF6\", \"gridcolor\": \"white\", \"gridwidth\": 2, \"linecolor\": \"white\", \"showbackground\": true, \"ticks\": \"\", \"zerolinecolor\": \"white\"}, \"yaxis\": {\"backgroundcolor\": \"#E5ECF6\", \"gridcolor\": \"white\", \"gridwidth\": 2, \"linecolor\": \"white\", \"showbackground\": true, \"ticks\": \"\", \"zerolinecolor\": \"white\"}, \"zaxis\": {\"backgroundcolor\": \"#E5ECF6\", \"gridcolor\": \"white\", \"gridwidth\": 2, \"linecolor\": \"white\", \"showbackground\": true, \"ticks\": \"\", \"zerolinecolor\": \"white\"}}, \"shapedefaults\": {\"line\": {\"color\": \"#2a3f5f\"}}, \"ternary\": {\"aaxis\": {\"gridcolor\": \"white\", \"linecolor\": \"white\", \"ticks\": \"\"}, \"baxis\": {\"gridcolor\": \"white\", \"linecolor\": \"white\", \"ticks\": \"\"}, \"bgcolor\": \"#E5ECF6\", \"caxis\": {\"gridcolor\": \"white\", \"linecolor\": \"white\", \"ticks\": \"\"}}, \"title\": {\"x\": 0.05}, \"xaxis\": {\"automargin\": true, \"gridcolor\": \"white\", \"linecolor\": \"white\", \"ticks\": \"\", \"title\": {\"standoff\": 15}, \"zerolinecolor\": \"white\", \"zerolinewidth\": 2}, \"yaxis\": {\"automargin\": true, \"gridcolor\": \"white\", \"linecolor\": \"white\", \"ticks\": \"\", \"title\": {\"standoff\": 15}, \"zerolinecolor\": \"white\", \"zerolinewidth\": 2}}}, \"title\": {\"text\": \"age distribution\", \"x\": 0.5}, \"xaxis\": {\"anchor\": \"y\", \"domain\": [0.0, 1.0], \"title\": {\"text\": \"age\"}}, \"yaxis\": {\"anchor\": \"x\", \"domain\": [0.0, 1.0], \"title\": {\"text\": \"count\"}}},\n",
              "                        {\"responsive\": true}\n",
              "                    ).then(function(){\n",
              "                            \n",
              "var gd = document.getElementById('68f2265e-6417-486a-a446-c8be9cb00544');\n",
              "var x = new MutationObserver(function (mutations, observer) {{\n",
              "        var display = window.getComputedStyle(gd).display;\n",
              "        if (!display || display === 'none') {{\n",
              "            console.log([gd, 'removed!']);\n",
              "            Plotly.purge(gd);\n",
              "            observer.disconnect();\n",
              "        }}\n",
              "}});\n",
              "\n",
              "// Listen for the removal of the full notebook cells\n",
              "var notebookContainer = gd.closest('#notebook-container');\n",
              "if (notebookContainer) {{\n",
              "    x.observe(notebookContainer, {childList: true});\n",
              "}}\n",
              "\n",
              "// Listen for the clearing of the current output cell\n",
              "var outputEl = gd.closest('.output');\n",
              "if (outputEl) {{\n",
              "    x.observe(outputEl, {childList: true});\n",
              "}}\n",
              "\n",
              "                        })\n",
              "                };\n",
              "                \n",
              "            </script>\n",
              "        </div>\n",
              "</body>\n",
              "</html>"
            ]
          },
          "metadata": {}
        },
        {
          "output_type": "display_data",
          "data": {
            "text/html": [
              "<html>\n",
              "<head><meta charset=\"utf-8\" /></head>\n",
              "<body>\n",
              "    <div>\n",
              "            <script src=\"https://cdnjs.cloudflare.com/ajax/libs/mathjax/2.7.5/MathJax.js?config=TeX-AMS-MML_SVG\"></script><script type=\"text/javascript\">if (window.MathJax) {MathJax.Hub.Config({SVG: {font: \"STIX-Web\"}});}</script>\n",
              "                <script type=\"text/javascript\">window.PlotlyConfig = {MathJaxConfig: 'local'};</script>\n",
              "        <script src=\"https://cdn.plot.ly/plotly-latest.min.js\"></script>    \n",
              "            <div id=\"d259c627-01b5-44ca-9930-503119a139fe\" class=\"plotly-graph-div\" style=\"height:525px; width:100%;\"></div>\n",
              "            <script type=\"text/javascript\">\n",
              "                \n",
              "                    window.PLOTLYENV=window.PLOTLYENV || {};\n",
              "                    \n",
              "                if (document.getElementById(\"d259c627-01b5-44ca-9930-503119a139fe\")) {\n",
              "                    Plotly.newPlot(\n",
              "                        'd259c627-01b5-44ca-9930-503119a139fe',\n",
              "                        [{\"alignmentgroup\": \"True\", \"bingroup\": \"x\", \"hoverlabel\": {\"namelength\": 0}, \"hovertemplate\": \"fnlwgt=%{x}<br>count=%{y}\", \"legendgroup\": \"\", \"marker\": {\"color\": \"#9A99D6\", \"opacity\": 0.8}, \"name\": \"\", \"offsetgroup\": \"\", \"orientation\": \"v\", \"showlegend\": false, \"type\": \"histogram\", \"x\": [284843, 190290, 177858, 184756, 149700, 446771, 108464, 110138, 167410, 131615, 150171, 331126, 191910, 116133, 139903, 107160, 121874, 22494, 124020, 251396, 20676, 194894, 122493, 67433, 212207, 261382, 349148, 328447, 76280, 248795, 93930, 188432, 198163, 40135, 282660, 66118, 216070, 110426, 60722, 339482, 33331, 195805, 200192, 137591, 176716, 129100, 101146, 194252, 225772, 34218, 301638, 131435, 77370, 374924, 188767, 136343, 104746, 135647, 146311, 219420, 289886, 163787, 167794, 119052, 186416, 125159, 324561, 177905, 96710, 335065, 308205, 504725, 113322, 169589, 244572, 278720, 204046, 58305, 209547, 411950, 292120, 109462, 193012, 174575, 31478, 166606, 202498, 364099, 175856, 301762, 29510, 182460, 187702, 237819, 175622, 293928, 79440, 185952, 140300, 144429, 175958, 278637, 46786, 82540, 247514, 86551, 114185, 138190, 193565, 189404, 211301, 185057, 84790, 293900, 143865, 208999, 251786, 62374, 102771, 48495, 152176, 51100, 277034, 66297, 121124, 134737, 125527, 212936, 53245, 157466, 114160, 174597, 59496, 142566, 133373, 29696, 461337, 467799, 186792, 177189, 147638, 215955, 80680, 142383, 224421, 201127, 91964, 264968, 193820, 188808, 113823, 496382, 171584, 353541, 77071, 176262, 417668, 231180, 231688, 236938, 192397, 184542, 262819, 221336, 111268, 200153, 156667, 160474, 73585, 211440, 254973, 323790, 161066, 129775, 172865, 107218, 360097, 247779, 230039, 118330, 220748, 263641, 353010, 272625, 110145, 141058, 77905, 163678, 209538, 188808, 111387, 119411, 376302, 82622, 196626, 257216, 113364, 188246, 116489, 116707, 209650, 162343, 46645, 53727, 127543, 211391, 298507, 159589, 149184, 162593, 65324, 50164, 172111, 33404, 123116, 128212, 183612, 345405, 103260, 124692, 289403, 207668, 225507, 142444, 318822, 131827, 235271, 179633, 195576, 123291, 358837, 220977, 423222, 298449, 237865, 265737, 258675, 66638, 237691, 318865, 263614, 177945, 221317, 375606, 207853, 220789, 216636, 172493, 137018, 101387, 92531, 145714, 109020, 214617, 1038553, 325732, 127651, 309932, 103344, 256909, 29312, 50349, 31510, 142494, 114733, 30912, 102102, 227392, 151141, 154165, 48894, 69640, 293324, 215495, 213750, 298995, 27051, 131934, 182187, 102631, 163057, 167106, 27242, 200316, 246891, 35884, 289106, 321865, 140011, 437994, 229967, 86399, 174051, 344128, 162572, 361497, 60828, 197311, 194901, 175023, 96854, 175820, 106728, 193090, 68089, 261504, 154874, 212302, 157612, 226535, 187052, 365640, 176486, 163113, 70894, 65291, 148995, 34098, 121308, 55568, 169426, 215175, 184665, 175262, 219591, 240170, 205410, 478346, 143030, 67544, 273514, 183804, 83671, 157131, 108103, 61272, 115289, 268281, 207685, 43953, 238068, 39609, 35961, 280728, 316298, 376240, 34935, 286675, 255702, 137428, 207352, 272166, 153516, 189530, 296450, 51255, 41721, 171080, 204590, 265099, 442359, 122246, 49626, 230478, 76487, 160275, 28334, 506329, 180195, 112264, 73670, 86701, 126569, 93793, 177625, 70037, 302847, 188186, 158206, 176683, 115603, 365516, 114994, 261375, 113364, 127930, 52240, 159001, 374367, 32552, 421561, 186172, 217414, 115214, 152568, 102471, 115834, 183081, 326566, 73796, 330695, 87239, 394860, 162187, 201872, 339442, 281030, 246038, 168387, 21174, 289148, 245790, 184112, 247552, 294493, 288679, 304246, 444822, 157900, 174426, 111283, 189830, 167063, 228873, 199058, 397307, 659558, 199116, 234428, 95462, 185129, 264939, 354529, 171676, 170244, 26502, 226497, 125417, 96827, 176897, 403911, 71458, 70387, 199995, 188834, 89737, 50178, 222311, 377798, 465974, 138332, 174865, 132728, 150533, 254127, 225964, 190885, 212793, 178778, 419134, 220631, 37933, 150693, 110965, 312055, 188626, 28572, 174395, 318280, 208613, 127772, 151580, 236436, 147884, 554206, 43479, 198186, 1226583, 238913, 205152, 405644, 195199, 143152, 339767, 35662, 54152, 255466, 158508, 77820, 83033, 358636, 570562, 247819, 88922, 211678, 183786, 188872, 60358, 57424, 200289, 158688, 233891, 101795, 187540, 142158, 257200, 747719, 38472, 142264, 112160, 415847, 27153, 343609, 222011, 208630, 159389, 167990, 225231, 30687, 146538, 214542, 172700, 48458, 278632, 146326, 173736, 43701, 138705, 521400, 153312, 359327, 175878, 221026, 320744, 288229, 183009, 89735, 249249, 233312, 282944, 237601, 34021, 140001, 164219, 146310, 195573, 96483, 68899, 202214, 169885, 102359, 208451, 212748, 188291, 190661, 42186, 29522, 114117, 163393, 212894, 110607, 130684, 182606, 67791, 211699, 125892, 181758, 162297, 77373, 173255, 107812, 340880, 169188, 175942, 56121, 183009, 165107, 37072, 191910, 174102, 39539, 463194, 175769, 261203, 166715, 103651, 35224, 125768, 375452, 200117, 151868, 111319, 283281, 347166, 198265, 216657, 144822, 169818, 163352, 326199, 227310, 213140, 241998, 208249, 260954, 279015, 157747, 154908, 200973, 93886, 270859, 174063, 166330, 187119, 233275, 128105, 155781, 98350, 85218, 113436, 269455, 344743, 176756, 282153, 135056, 391171, 487085, 410450, 168138, 30529, 182677, 98116, 196912, 187778, 172230, 119129, 126954, 187802, 113770, 108726, 170376, 225334, 135296, 78707, 222835, 285408, 164790, 183620, 52028, 229523, 137843, 245275, 268147, 163557, 232614, 320513, 221172, 77905, 167309, 351381, 217460, 113364, 104196, 169564, 113601, 355053, 98605, 310152, 343052, 213095, 212864, 345712, 162312, 160120, 170720, 44216, 291429, 114605, 146908, 239523, 31740, 287988, 368115, 236111, 37937, 121407, 309566, 238980, 97277, 53833, 170125, 191129, 161226, 56340, 203277, 509364, 89991, 178615, 210610, 289448, 49923, 216666, 137629, 24647, 282092, 143699, 284706, 189721, 176356, 45522, 149347, 76313, 112941, 159297, 195433, 234901, 181717, 47902, 36385, 373499, 146767, 124052, 434463, 392694, 25955, 53569, 203070, 45427, 33794, 90730, 159732, 268022, 230248, 141858, 229376, 226916, 130620, 184568, 190227, 380674, 213921, 101345, 139514, 198431, 96862, 136986, 165681, 248993, 75993, 615367, 206399, 190786, 100863, 195253, 73064, 154210, 368797, 115066, 295334, 359001, 29324, 163671, 117847, 61559, 250051, 206878, 175942, 392487, 190759, 84661, 158662, 37939, 190963, 138662, 89172, 134331, 122109, 294395, 101689, 44419, 129432, 278522, 185621, 144995, 77634, 111128, 227840, 29083, 117767, 187560, 69251, 76625, 318046, 27780, 278039, 206008, 54342, 118551, 133616, 264627, 106812, 147989, 170603, 102628, 235786, 287647, 116788, 60981, 264457, 167725, 408623, 174856, 216965, 177072, 19899, 162439, 243929, 183096, 235639, 271567, 76491, 188436, 267912, 104272, 43712, 144594, 329059, 59146, 93319, 123681, 207611, 271795, 195453, 125762, 439263, 177858, 321709, 203051, 145791, 296066, 97128, 148645, 203715, 147719, 373550, 340917, 148724, 269657, 224784, 268145, 561489, 163101, 212954, 182227, 149650, 27834, 79586, 199193, 49595, 230475, 54377, 252153, 170166, 331831, 485117, 75256, 154940, 255559, 203849, 333270, 90377, 299598, 371064, 190385, 186035, 157249, 257942, 260617, 148429, 41973, 64980, 56331, 137476, 113750, 180418, 178429, 39060, 153160, 264663, 346122, 243878, 41356, 129200, 84610, 443546, 117674, 237065, 261929, 104001, 262978, 358124, 169905, 162358, 166181, 215504, 249977, 228320, 183000, 185399, 305619, 97863, 128272, 19302, 235849, 59660, 135289, 153475, 108946, 128831, 243436, 231413, 227468, 37092, 76996, 190387, 27763, 243560, 320451, 202521, 212232, 169180, 149650, 95949, 220262, 296317, 218667, 199555, 84278, 343579, 97168, 353628, 34402, 155657, 67841, 27382, 214838, 138269, 64830, 218215, 117767, 176341, 80479, 302122, 225365, 142757, 55921, 199590, 159911, 138441, 209236, 182689, 28572, 510072, 207946, 416129, 111256, 133166, 176681, 258883, 254534, 170915, 107125, 44392, 548580, 192791, 99185, 328216, 182117, 187458, 163665, 177526, 37210, 210781, 162343, 92028, 59367, 148900, 193231, 117387, 82777, 193720, 293550, 123991, 77634, 137510, 155775, 36069, 28451, 87284, 130731, 133373, 41526, 355918, 392886, 218329, 220384, 34540, 60639, 77271, 403072, 99156, 139116, 182401, 84747, 241350, 24106, 189878, 210527, 411862, 176998, 337456, 216013, 377018, 184986, 165848, 191256, 217568, 180212, 57423, 141326, 147258, 169204, 83859, 103323, 212448, 199005, 347530, 43770, 202239, 114158, 452406, 194897, 245310, 95446, 78261, 108947, 275889, 87771, 193961, 30433, 105244, 201729, 261293, 163665, 316000, 138332, 120074, 221366, 426562, 26842, 287160, 189590, 199765, 155057, 190227, 477209, 169717, 148959, 55854, 168001, 211013, 35406, 162164, 149102, 191137, 172740, 306747, 198459, 148143, 185798, 144949, 159549, 49218, 221955, 183241, 164775, 195844, 358585, 53506, 56841, 381153, 30682, 190762, 253814, 324011, 73091, 211584, 423158, 93034, 211435, 72257, 132879, 215948, 60288, 124265, 205767, 154935, 100462, 162228, 169583, 141459, 282063, 91658, 213412, 309620, 226943, 167482, 304602, 51506, 97449, 149949, 243409, 167651, 263561, 235371, 111994, 222405, 141326, 293196, 57635, 275232, 193459, 184659, 278139, 127314, 71800, 176011, 211860, 478315, 100321, 83930, 34572, 305850, 178478, 193769, 139338, 174474, 165953, 193130, 306710, 229148, 347434, 217054, 126675, 111483, 190290, 220912, 193895, 149943, 122175, 48610, 26669, 175232, 111567, 111467, 374116, 82051, 296478, 207940, 138847, 189564, 64112, 198992, 144067, 141868, 34374, 143046, 139290, 46442, 160167, 152307, 267174, 217455, 166549, 163480, 73514, 312667, 194901, 277192, 147110, 147989, 348960, 315128, 218435, 229456, 155343, 284166, 310158, 50356, 72887, 186144, 545483, 336513, 24982, 84409, 329874, 186035, 240738, 162164, 413648, 45317, 140359, 30771, 190403, 73199, 173851, 204751, 117605, 168412, 371886, 205987, 254440, 33234, 138441, 169973, 149909, 273792, 137301, 99549, 172146, 343476, 123075, 278617, 146499, 163998, 27408, 137953, 322789, 55717, 69306, 106967, 172175, 89559, 111567, 194096, 357437, 86150, 162238, 114508, 70754, 362883, 280069, 303121, 180805, 154374, 341672, 220284, 135716, 221977, 237317, 181220, 210827, 363418, 188738, 250170, 115784, 144811, 60567, 219155, 47168, 168407, 184678, 233639, 557349, 98941, 236341, 139344, 269300, 323773, 116707, 225892, 112497, 250206, 178505, 25429, 178983, 265295, 34007, 92115, 151551, 168475, 267952, 41979, 214284, 406641, 186256, 308691, 256005, 150570, 356934, 81534, 173093, 107513, 89508, 298227, 148429, 239171, 293091, 191196, 48120, 118876, 99146, 276776, 124520, 177351, 28735, 343079, 184655, 170148, 99935, 101299, 140045, 187746, 188186, 410615, 223046, 191814, 282604, 254439, 75073, 170411, 197344, 81145, 236769, 235237, 52267, 121012, 43952, 462890, 235733, 172612, 189623, 70884, 86808, 238192, 430005, 135289, 33895, 144064, 172232, 204226, 169104, 176969, 174754, 101299, 178100, 205004, 207668, 97176, 28518, 209212, 67728, 137367, 248990, 63424, 196545, 223392, 126368, 66118, 230467, 375170, 113176, 346754, 112403, 117872, 25322, 255847, 117125, 95336, 136419, 220109, 99364, 233571, 393768, 111795, 174138, 68001, 216361, 172822, 250647, 353524, 78634, 54825, 47199, 188569, 52900, 214594, 206046, 184016, 236940, 91384, 342448, 161240, 148644, 188505, 55965, 129804, 66356, 382802, 202467, 116338, 183765, 162856, 204641, 117963, 154474, 40269, 176867, 144586, 97005, 304643, 137499, 243773, 301568, 184806, 138575, 139703, 111377, 425049, 183279, 207937, 137645, 126223, 325658, 193453, 327202, 224258, 205708, 173580, 308764, 195136, 293176, 197683, 258849, 145409, 244522, 44774, 159641, 185744, 266287, 146659, 190115, 113323, 160758, 195184, 240837, 40955, 83003, 108913, 112847, 175999, 109952, 284166, 412435, 259351, 283037, 256963, 220776, 170563, 208311, 322547, 33610, 315423, 153486, 30840, 469454, 223851, 191103, 215110, 119281, 165472, 283320, 68552, 218490, 181408, 69333, 194981, 37997, 394860, 361138, 194290, 196943, 236696, 162343, 416577, 120131, 69884, 310774, 67234, 160118, 200892, 162745, 216010, 563883, 164552, 54152, 177147, 104576, 34998, 72310, 150874, 136913, 140852, 367984, 180599, 58916, 251675, 270728, 54929, 169837, 233327, 118023, 142547, 238964, 207875, 255014, 45796, 144322, 59068, 231196, 219841, 137428, 97723, 161978, 250647, 99131, 113571, 184759, 403187, 220776, 498328, 167716, 167474, 297154, 191921, 124751, 132749, 223308, 109600, 74593, 67065, 286026, 169496, 174325, 242460, 171114, 244147, 94937, 180920, 30565, 28053, 394447, 187370, 29962, 178449, 125591, 379885, 349633, 161187, 279129, 104892, 456618, 114798, 157117, 72887, 56582, 343200, 96509, 206532, 177154, 160035, 273399, 243165, 56841, 285730, 117789, 119679, 145935, 30008, 171876, 93639, 286675, 37306, 194809, 117496, 152795, 182691, 187969, 167380, 141807, 214063, 83374, 122041, 272343, 197642, 298695, 336793, 183523, 130078, 52596, 335665, 124971, 27669, 411273, 137547, 231826, 168894, 58039, 183686, 190621, 60890, 193047, 208872, 177304, 49020, 288825, 163392, 198188, 274103, 154843, 115605, 58744, 340018, 607848, 349898, 195914, 166386, 236858, 412296, 123011, 469056, 62865, 250630, 326334, 327112, 162347, 213811, 205288, 135296, 178506, 341741, 402975, 126010, 201965, 192387, 257764, 100933, 178934, 150106, 73411, 194891, 279679, 209993, 154035, 127111, 99823, 159732, 206139, 41432, 176731, 301802, 175804, 259846, 153238, 188950, 113936, 114366, 270842, 182752, 169023, 199362, 140035, 186272, 94391, 109833, 168283, 218490, 138852, 166697, 206609, 105803, 182866, 247807, 247119, 159869, 98587, 368675, 44915, 154308, 321333, 531055, 119033, 206699, 132601, 53707, 177839, 88566, 103432, 70761, 232664, 326064, 199915, 362589, 184466, 189610, 343721, 183735, 488706, 451951, 170800, 327723, 166497, 281074, 284329, 177482, 446512, 177018, 319054, 191230, 236570, 194260, 216129, 293364, 180455, 398918, 194200, 334291, 198103, 270218, 396758, 355789, 213813, 335605, 136448, 112706, 129350, 176810, 177181, 349116, 165881, 238917, 199847, 149652, 263729, 154410, 299358, 289748, 194260, 334357, 161087, 75726, 246820, 134888, 487330, 27997, 71864, 265706, 103948, 27539, 89648, 193166, 171482, 256916, 170866, 172822, 155659, 493034, 151764, 240988, 147863, 121956, 168211, 84774, 153078, 172129, 196307, 201410, 159869, 153132, 112763, 158002, 172304, 100734, 78022, 196174, 186886, 132601, 321327, 123727, 361561, 140863, 104945, 131679, 137917, 331419, 118523, 56559, 27255, 40293, 117244, 76144, 371064, 119170, 117555, 322674, 231181, 117927, 187226, 231183, 345339, 272950, 130021, 109530, 144949, 173730, 299635, 129305, 113324, 250541, 175255, 180181, 70261, 28572, 288592, 202027, 268661, 151474, 234057, 340110, 31023, 102193, 137646, 109997, 169469, 182276, 268183, 130957, 96299, 83311, 263561, 212465, 228255, 218785, 139960, 323798, 296749, 331046, 257200, 434268, 104617, 79874, 35330, 326400, 203055, 71772, 163215, 63296, 109952, 207173, 256861, 255474, 609935, 103743, 376936, 328199, 140752, 99156, 269723, 281982, 139127, 199720, 73471, 173093, 239018, 200127, 130849, 398662, 281832, 55284, 198068, 265038, 147653, 226665, 414991, 197290, 409189, 112847, 143436, 232719, 171876, 173858, 155574, 189607, 204322, 30069, 98155, 89760, 138537, 193298, 194096, 63745, 112650, 184833, 119704, 199735, 258339, 132125, 99146, 176839, 278736, 222107, 111306, 367020, 449432, 386136, 236008, 215373, 98061, 257796, 219262, 153718, 197719, 139753, 117222, 332657, 211601, 53209, 499197, 143046, 137088, 103407, 160724, 334368, 210259, 84451, 119721, 300404, 157131, 53524, 153870, 103064, 128378, 100506, 105339, 157308, 200479, 217743, 172076, 131519, 183169, 27776, 290321, 145377, 208882, 27886, 377374, 390879, 123424, 178341, 260254, 206600, 45554, 177083, 134766, 170169, 73839, 111499, 224147, 120068, 206927, 181242, 154120, 322931, 176972, 154641, 194897, 304710, 184698, 502316, 257068, 314375, 376416, 379350, 351324, 269300, 213416, 20953, 229939, 148306, 161155, 218542, 217296, 187356, 122999, 230039, 282461, 100950, 63665, 181322, 42044, 112763, 346159, 444607, 207301, 316471, 151584, 338416, 528616, 42881, 132879, 317313, 100669, 202496, 113513, 346635, 209900, 133352, 122493, 230315, 256908, 175262, 302149, 341187, 182541, 78045, 176012, 271828, 264188, 114230, 155151, 25825, 183258, 104501, 146429, 186849, 285897, 151365, 632834, 181561, 581071, 218782, 154083, 339814, 230912, 38905, 116468, 159662, 27959, 279580, 192262, 154587, 203761, 165505, 236592, 82393, 274913, 260782, 248445, 445758, 116528, 153127, 52536, 178478, 128063, 178948, 190023, 349405, 432555, 242713, 102606, 197514, 198986, 333677, 45613, 156464, 210736, 185127, 177120, 189670, 165315, 118025, 190072, 114060, 175669, 180299, 337606, 31924, 206600, 169104, 215854, 199439, 96459, 45612, 377757, 160131, 349151, 201928, 243484, 116751, 191777, 208003, 192644, 186648, 27332, 177526, 304212, 202662, 111450, 197816, 297884, 368797, 173806, 136314, 232855, 284758, 197462, 172220, 300908, 208869, 234640, 154779, 204172, 264498, 134524, 165695, 115705, 117346, 49020, 71898, 276456, 189956, 250967, 179668, 254293, 373952, 331065, 263081, 212027, 152889, 110239, 174051, 148948, 282631, 99392, 188615, 210142, 209109, 145160, 104613, 126889, 321205, 174150, 505119, 143372, 411587, 206599, 178241, 203182, 378045, 174789, 65324, 404547, 115414, 115057, 326330, 101825, 102423, 345789, 29828, 192572, 152292, 75573, 30289, 130620, 174907, 97306, 203697, 277488, 452640, 147284, 117444, 143868, 346766, 500720, 176185, 292058, 182541, 208785, 157217, 31670, 117681, 124507, 210534, 367237, 310152, 265201, 301654, 202239, 83622, 340557, 202812, 186420, 138611, 235124, 318450, 228124, 256992, 149168, 222884, 311974, 34965, 373469, 263005, 336509, 99894, 126675, 350995, 187830, 195734, 299291, 216129, 172891, 187720, 149204, 384276, 132755, 238397, 189763, 29974, 150025, 191858, 153326, 172047, 232808, 73037, 145651, 167298, 109080, 31438, 182395, 290640, 115498, 110171, 213307, 178946, 355468, 42044, 290609, 250201, 194561, 183616, 174419, 84130, 113151, 48214, 95918, 232841, 236731, 26490, 154297, 194608, 399386, 132986, 202682, 183532, 137522, 165681, 184659, 115549, 134782, 171655, 269654, 317032, 60001, 129674, 195835, 24721, 155659, 234263, 47678, 188236, 334679, 81654, 199713, 303176, 261382, 182828, 35603, 188401, 168598, 39054, 160910, 365908, 126845, 213055, 57924, 186452, 112318, 311124, 732102, 121788, 75763, 272425, 317019, 188108, 34037, 111363, 210313, 201310, 28291, 187346, 207938, 188900, 204098, 103925, 174907, 297676, 125796, 114053, 31740, 189186, 201799, 106698, 251229, 249706, 154165, 152752, 247379, 136137, 32372, 227734, 208321, 188571, 197672, 101128, 168654, 240441, 319280, 204756, 75821, 177408, 151159, 128871, 103064, 123592, 110713, 240236, 140426, 47686, 183639, 145246, 200316, 80282, 163189, 315417, 68748, 130277, 284898, 51985, 183342, 244054, 96268, 100875, 62932, 341835, 205440, 196342, 285335, 52372, 116372, 460408, 88926, 183575, 308945, 269733, 53109, 27305, 141481, 282023, 168845, 235986, 230329, 226327, 287480, 128016, 302406, 240252, 295127, 93930, 214555, 220055, 182313, 321117, 107276, 176756, 367314, 110713, 211184, 33795, 103323, 289886, 61743, 469705, 27653, 295612, 1484705, 110844, 303455, 176711, 191342, 187513, 213692, 183110, 61956, 70668, 175246, 262601, 210959, 227778, 339163, 137444, 173929, 230054, 125279, 317443, 184335, 148294, 163385, 102476, 117779, 112388, 311696, 139734, 214542, 174343, 43272, 127215, 187397, 191807, 216583, 275236, 273308, 212622, 181317, 185039, 212665, 32825, 196690, 299153, 157043, 421871, 165215, 186172, 82560, 117471, 190228, 269733, 167319, 175548, 288840, 175390, 206051, 255386, 229051, 246449, 144002, 102308, 436493, 167140, 220421, 121832, 353994, 290922, 90363, 341762, 183203, 101509, 144322, 147352, 203204, 130724, 162381, 246891, 183168, 143583, 38797, 436770, 197286, 134480, 275110, 163826, 134906, 199326, 174215, 132601, 65704, 159603, 41591, 229646, 348739, 140644, 110003, 165922, 212522, 35890, 242122, 214891, 343242, 194690, 80058, 136651, 393248, 331474, 33975, 338105, 199495, 604506, 154410, 409230, 192626, 336906, 279173, 117816, 108198, 225395, 206139, 46028, 187901, 206487, 111979, 170012, 96129, 85902, 30793, 147397, 58702, 192614, 391114, 226871, 285621, 184942, 203488, 177154, 118551, 156976, 184579, 175689, 152540, 50093, 112131, 63210, 298871, 203392, 197371, 115618, 184823, 163047, 190387, 237065, 114483, 212120, 33308, 94429, 250249, 55718, 171133, 71046, 37088, 133937, 96524, 55377, 104094, 102632, 167613, 188694, 153132, 169469, 75839, 29254, 191858, 236873, 116103, 168539, 116493, 148300, 46401, 28375, 280167, 50442, 183523, 339168, 131699, 158343, 174040, 171780, 309311, 162003, 103179, 81929, 193787, 140863, 117681, 137940, 213887, 82488, 204397, 188136, 197583, 112854, 238401, 187462, 198953, 353352, 136878, 240374, 334991, 234665, 35429, 374262, 395022, 253438, 721161, 170287, 225580, 179481, 66838, 218184, 34572, 85355, 175958, 129460, 203078, 280483, 321943, 273425, 188154, 310774, 311764, 192563, 174995, 24763, 131808, 136986, 199448, 376789, 755858, 239346, 164678, 188377, 341439, 239708, 214117, 116878, 140569, 356250, 143360, 198660, 383402, 129784, 105289, 480861, 93169, 200947, 272182, 153927, 311231, 221650, 211222, 268514, 157747, 334273, 414721, 283499, 31983, 138502, 32291, 154171, 242720, 96854, 37745, 165916, 240166, 91189, 108435, 215572, 136986, 234386, 152375, 286836, 314322, 129573, 215990, 53833, 122066, 152676, 279661, 207367, 109199, 137733, 349910, 282872, 142673, 33331, 177639, 202115, 130779, 281384, 332355, 162187, 435836, 160062, 168191, 89478, 115364, 159322, 143030, 201177, 496526, 24504, 200689, 117683, 119421, 230858, 103642, 315291, 48885, 311671, 286146, 233511, 88967, 187115, 137691, 229272, 70708, 192259, 423052, 175325, 407138, 49249, 185732, 71489, 330901, 216214, 157305, 179673, 113806, 280344, 87205, 287927, 34640, 196193, 192569, 81232, 70943, 178054, 106758, 37438, 193237, 242606, 120691, 235847, 209214, 117476, 106255, 594187, 20333, 313946, 201410, 68985, 403671, 351576, 130620, 221366, 173495, 26781, 114801, 375077, 220362, 247444, 212041, 105189, 75363, 238959, 119153, 171095, 349431, 544686, 170310, 187112, 124692, 132887, 92486, 27242, 544792, 166961, 73292, 204829, 29599, 152742, 154571, 196690, 303954, 374905, 128715, 129934, 451744, 31740, 100451, 308686, 246439, 98361, 123416, 327164, 402361, 121622, 120796, 220783, 749105, 248612, 80004, 182344, 88055, 166371, 140559, 333505, 168539, 284652, 44861, 124924, 183511, 158926, 106014, 35633, 197054, 288551, 141410, 270142, 266070, 336984, 183811, 548256, 373628, 55861, 55360, 351731, 165743, 66360, 250724, 24763, 255635, 85074, 328199, 108435, 28996, 227856, 168782, 141663, 186934, 238648, 252752, 219155, 258276, 194630, 153414, 374790, 32477, 236543, 236242, 108426, 140219, 180799, 72506, 251701, 247794, 263568, 188540, 113364, 132572, 237731, 231197, 216390, 165814, 264244, 123397, 183594, 273929, 60751, 336643, 248990, 311534, 197495, 203482, 198270, 268831, 92682, 88055, 33155, 293440, 316211, 141645, 196643, 598606, 165278, 33310, 223020, 22641, 190747, 182771, 378460, 119721, 295591, 163003, 253801, 117849, 120074, 67217, 129177, 107327, 167658, 108540, 227065, 513660, 92036, 144259, 327533, 187830, 235271, 159897, 57211, 240763, 26543, 399052, 53373, 262511, 204226, 122288, 137421, 135162, 371556, 179059, 189565, 168906, 92717, 148581, 190541, 190333, 235535, 274809, 123011, 414791, 197967, 591711, 226629, 194908, 275522, 184078, 43652, 344157, 114758, 278155, 114079, 175070, 226196, 176240, 164898, 141875, 106103, 177616, 71592, 102976, 163665, 102147, 152148, 71733, 405284, 194342, 268797, 247566, 280362, 210945, 224953, 66194, 344572, 237993, 187563, 339473, 173754, 157614, 396270, 248094, 141029, 182100, 366618, 125457, 102615, 63021, 239321, 195161, 113936, 113756, 147098, 177181, 158555, 211596, 185336, 83580, 37931, 331482, 160173, 212803, 234096, 57898, 163199, 200818, 100375, 372525, 123983, 214738, 357173, 38721, 394484, 375515, 64885, 201822, 190525, 25803, 239450, 127595, 282948, 147372, 103403, 225385, 188246, 218311, 169180, 153551, 297248, 38795, 157901, 180551, 164018, 132304, 158200, 148903, 169397, 143949, 184872, 98389, 37088, 206600, 101198, 152652, 33798, 193459, 215047, 202466, 125321, 172960, 56536, 51662, 141583, 157425, 594187, 182539, 151089, 166039, 71738, 236267, 72338, 33884, 32778, 304779, 343742, 309055, 184335, 151726, 512771, 117022, 188563, 185384, 122066, 144778, 185957, 185821, 139992, 195105, 176185, 87643, 30070, 241360, 159726, 204641, 33105, 99604, 281565, 123218, 551962, 120126, 172407, 102191, 110396, 176998, 220585, 149991, 176118, 105516, 29810, 242559, 61751, 84848, 194472, 193285, 348491, 308874, 233421, 165949, 209770, 200593, 320451, 67187, 187702, 177305, 264503, 126754, 311080, 188069, 254211, 242095, 370160, 27444, 295799, 172826, 120518, 154405, 99185, 146586, 143083, 89625, 339002, 31650, 243631, 177114, 363219, 99212, 349041, 174789, 355287, 213002, 455379, 193089, 169583, 308237, 167106, 229335, 47791, 37379, 444743, 165001, 450246, 345122, 335421, 284395, 112494, 84231, 348416, 103371, 283917, 221167, 156464, 159726, 365739, 175925, 52498, 279272, 67083, 171871, 433705, 185673, 221480, 298225, 664670, 34368, 328301, 241001, 318593, 77009, 329752, 61435, 162301, 182254, 217460, 169646, 123677, 260960, 201122, 232082, 312353, 105886, 359131, 182254, 120131, 287737, 48520, 972354, 23324, 178390, 287008, 377622, 129620, 64671, 110978, 168098, 216734, 45857, 122348, 210082, 454989, 209146, 89040, 83253, 149620, 65372, 44738, 161141, 232475, 220323, 102308, 389713, 107762, 205152, 283635, 185866, 605502, 188972, 349304, 238806, 210526, 287658, 129786, 336880, 29702, 198741, 359259, 68358, 292472, 220993, 138026, 566049, 157541, 33442, 207937, 140729, 132686, 66460, 169785, 134566, 36699, 282979, 192779, 272913, 69311, 192768, 235556, 109053, 167336, 163293, 208725, 362826, 241998, 29662, 179731, 145574, 275181, 367749, 33304, 155781, 47791, 260425, 257250, 211482, 419554, 97789, 343748, 137310, 185063, 37933, 401335, 339897, 232308, 86643, 177974, 150726, 173630, 454941, 90446, 188644, 192201, 122086, 279145, 171335, 216608, 73928, 166330, 181666, 245090, 213842, 72593, 55621, 199698, 103710, 287988, 206297, 101590, 211678, 186087, 174102, 236110, 229110, 303867, 370509, 165106, 179627, 225102, 284078, 404868, 160362, 254809, 199011, 29778, 204621, 231472, 243660, 329005, 192360, 212304, 231263, 233724, 269786, 194895, 206827, 198613, 192258, 37274, 63814, 238257, 152044, 242184, 199816, 231912, 19847, 291665, 191177, 417657, 175390, 265807, 97005, 204389, 158416, 175081, 100681, 256504, 345121, 103164, 95989, 120837, 121287, 213412, 138153, 48347, 82049, 190027, 414994, 279680, 101320, 317360, 295127, 180138, 125000, 231741, 209472, 112650, 34378, 484861, 169841, 310014, 199864, 159016, 171968, 209949, 188246, 103153, 151382, 275653, 89172, 366324, 213385, 204052, 162442, 171924, 159726, 175052, 370183, 160647, 150570, 188571, 202450, 319146, 181091, 289353, 250630, 109928, 200316, 225106, 237920, 173724, 68505, 120268, 175625, 239397, 246965, 70466, 178312, 153546, 183845, 196234, 118909, 117381, 268183, 310774, 191444, 79682, 189759, 168723, 416745, 280167, 413557, 167065, 111891, 56651, 154580, 261497, 219509, 184553, 78090, 145175, 136331, 117779, 170924, 55390, 119704, 124793, 96055, 489085, 34541, 36012, 206459, 48495, 191712, 49398, 116789, 175254, 391679, 39529, 315804, 175625, 33658, 145434, 64307, 282664, 115932, 32801, 208043, 171924, 252668, 62438, 57970, 137290, 29020, 256953, 28419, 214925, 295488, 109015, 456367, 189802, 215479, 123429, 133403, 306515, 387468, 86143, 167482, 95490, 145522, 201686, 326232, 136684, 221558, 173851, 127728, 177727, 222442, 277946, 180284, 156526, 287927, 58582, 203067, 141350, 164386, 122612, 37987, 74949, 146980, 55720, 351161, 104235, 49436, 364310, 187465, 39606, 51461, 119156, 391329, 49298, 29115, 98791, 30575, 103474, 25005, 254285, 131826, 193285, 113094, 178615, 243560, 152246, 35459, 149396, 296066, 176796, 187124, 294295, 179446, 182187, 569761, 218542, 160120, 229946, 149337, 148626, 70720, 193820, 98726, 526164, 198660, 190228, 597843, 274579, 89821, 138184, 227800, 224203, 209770, 247162, 306405, 218184, 504725, 346014, 143459, 202416, 141118, 205152, 28008, 153963, 296152, 278322, 146343, 66917, 236040, 302146, 306790, 64292, 272090, 98776, 172046, 117585, 213290, 185132, 254202, 425528, 162566, 89028, 143030, 352806, 214838, 150480, 357691, 34066, 210781, 283005, 236543, 122215, 166740, 146091, 242984, 121319, 183279, 236990, 36069, 85787, 35576, 95552, 230248, 200117, 82504, 267396, 97723, 191982, 34452, 288983, 297531, 79324, 213799, 23892, 256362, 359155, 66686, 132222, 98695, 216825, 103111, 149018, 175958, 245777, 189656, 246891, 76417, 107302, 118500, 188386, 213668, 54709, 424468, 195532, 379682, 200318, 168539, 165082, 207301, 101233, 173613, 259785, 184693, 95763, 530454, 167749, 207637, 394927, 249351, 257555, 292379, 178255, 212737, 147860, 148884, 129762, 113555, 306908, 142856, 398904, 106938, 177305, 160246, 183092, 192982, 356689, 339358, 134566, 110171, 36877, 345360, 267426, 37353, 212114, 202652, 338270, 158846, 223342, 162312, 179488, 99385, 386877, 243240, 461715, 332379, 132704, 182629, 167725, 211355, 309895, 177937, 217235, 97030, 108945, 168191, 379485, 191479, 83286, 236487, 343231, 102771, 170108, 31935, 182540, 220460, 86872, 242586, 59107, 375574, 171615, 131117, 71860, 58683, 89991, 284916, 165064, 214242, 35824, 36480, 253770, 270056, 233796, 126399, 195881, 399155, 32950, 151518, 187346, 202570, 188409, 116986, 178665, 121471, 161942, 345969, 209057, 349148, 248754, 174373, 200574, 218407, 238305, 106850, 425622, 112507, 329205, 71467, 147653, 585203, 218490, 272669, 113703, 327825, 25265, 103277, 355728, 297188, 248512, 167868, 256263, 473133, 101430, 40083, 92968, 304857, 184207, 284080, 187919, 67153, 202125, 80574, 177147, 145409, 104660, 169527, 228230, 168625, 376979, 115497, 167336, 293690, 116934, 162551, 195994, 59313, 158284, 123429, 161482, 154604, 77266, 160107, 133328, 210867, 190539, 175071, 203488, 391121, 442612, 129573, 198841, 190895, 312771, 174575, 93213, 177675, 114844, 38251, 265083, 128645, 148069, 54317, 459189, 109112, 182467, 129573, 150062, 48301, 46987, 108183, 58522, 30271, 56870, 341471, 199934, 345236, 135803, 346275, 26254, 205839, 26781, 140915, 264210, 189462, 112271, 145576, 195262, 338290, 194698, 107578, 160123, 130807, 39606, 24153, 84979, 199058, 252752, 207685, 109101, 144063, 459463, 336215, 136137, 60135, 192963, 456236, 153451, 108506, 183273, 173411, 436006, 205759, 114045, 37028, 122026, 270721, 447488, 118253, 119913, 242341, 201273, 392668, 184400, 291808, 177437, 165614, 119421, 241259, 200734, 215245, 287647, 76612, 281784, 133876, 218343, 235646, 401118, 253296, 210781, 272800, 238287, 232742, 282023, 120985, 245173, 299635, 246250, 30497, 278329, 114150, 430175, 285004, 218164, 255711, 103596, 172846, 178134, 216453, 174201, 172855, 336188, 191385, 120760, 217200, 56480, 200593, 301568, 148995, 156015, 239038, 306233, 469572, 159123, 92262, 60374, 321031, 123393, 195860, 189759, 124483, 358975, 257940, 96016, 123714, 188044, 410913, 111128, 79627, 189680, 267859, 110134, 103986, 99476, 22641, 282604, 427055, 382242, 174533, 150393, 125106, 302372, 189551, 259300, 340939, 190968, 212888, 119471, 249720, 154210, 144949, 153078, 80933, 162572, 204338, 34218, 33016, 159537, 180211, 127728, 202956, 163595, 133917, 34845, 183608, 226297, 187508, 212433, 244903, 217169, 177119, 205950, 114591, 305673, 137421, 187124, 195892, 334026, 236861, 204160, 192932, 109849, 145160, 234641, 110279, 146178, 29437, 95680, 174395, 157069, 204584, 74949, 208640, 207391, 282951, 164190, 109856, 285457, 34918, 132705, 168211, 322143, 210844, 369648, 186634, 96099, 32185, 365289, 82783, 112974, 214858, 176077, 490332, 116608, 102130, 166386, 323706, 268022, 164569, 90758, 111679, 312446, 112137, 251305, 122195, 441637, 50178, 24108, 33975, 24106, 36012, 188864, 249957, 45604, 84306, 213258, 112263, 182140, 186346, 336598, 185647, 214415, 54257, 413760, 274424, 169628, 423605, 167081, 261278, 71540, 356089, 163003, 38294, 346189, 189013, 248978, 202206, 165468, 157599, 147589, 187203, 98545, 34186, 38848, 128715, 163516, 231357, 96483, 215389, 19395, 207513, 386040, 328466, 207415, 170562, 114228, 176186, 314209, 329426, 188403, 176063, 333664, 333530, 160035, 100587, 225394, 234640, 386337, 126501, 47783, 173730, 227282, 120691, 303851, 347491, 167415, 57698, 230951, 184801, 389143, 162322, 128086, 117674, 67662, 258298, 113597, 116927, 109881, 193042, 368700, 203761, 244589, 216129, 204516, 115323, 196001, 178564, 340567, 123718, 70623, 124818, 306784, 573583, 280422, 149427, 181363, 172709, 164488, 162187, 213975, 150042, 206066, 177810, 162228, 112761, 105479, 219632, 138768, 556902, 203542, 374163, 317396, 226525, 200450, 357283, 572751, 30270, 256211, 147951, 178344, 85625, 250051, 302626, 223669, 208577, 235259, 364657, 114760, 186303, 189922, 330715, 586657, 405309, 118081, 71195, 239074, 135568, 80986, 93056, 138069, 33310, 137547, 119539, 179117, 242482, 190903, 188436, 183355, 564135, 35166, 192793, 148003, 556652, 257609, 191283, 269329, 210562, 201186, 113543, 192939, 167735, 243941, 50065, 202683, 190457, 140583, 76860, 29231, 400630, 84735, 461678, 208463, 165309, 337940, 167967, 127943, 227994, 191754, 93193, 85708, 189775, 109133, 67083, 32185, 130714, 329778, 96452, 147339, 460214, 334308, 468713, 190290, 170772, 267161, 104996, 113806, 123983, 26781, 98586, 171546, 198286, 237819, 207157, 225605, 27886, 377754, 192504, 119266, 332785, 79637, 161063, 249720, 172281, 87556, 143098, 218281, 197418, 187870, 256636, 297261, 105907, 108699, 253759, 287190, 591711, 186565, 222374, 155981, 157595, 185001, 95500, 31166, 26145, 223342, 265807, 334132, 37778, 123992, 104896, 127921, 272531, 83046, 133454, 238913, 107218, 174215, 242464, 167031, 167501, 168276, 155657, 117833, 261418, 114770, 253060, 102828, 313873, 245053, 175069, 248476, 169638, 223580, 156294, 211129, 338816, 201682, 91836, 171067, 285290, 186035, 197565, 378221, 102628, 229394, 109969, 143062, 69056, 185283, 204829, 166634, 115215, 182342, 145214, 150309, 187487, 168223, 174215, 271828, 526968, 176514, 253354, 24790, 48343, 102938, 117700, 153132, 187161, 218215, 176557, 226296, 468713, 80743, 193995, 190122, 69151, 348152, 34173, 132178, 40151, 188616, 208302, 125461, 185551, 335104, 330416, 133861, 339142, 215990, 73025, 106843, 525878, 85399, 225599, 55390, 111483, 270551, 107682, 149218, 195576, 96480, 100960, 78181, 326886, 172822, 244770, 216413, 182211, 182460, 254167, 186096, 192017, 106347, 39234, 405765, 208277, 399387, 323545, 131239, 33308, 206351, 312017, 104334, 40808, 267790, 34973, 369549, 95469, 123174, 163108, 234657, 316589, 136610, 269733, 138192, 183173, 186916, 21698, 105936, 173780, 339547, 181528, 133819, 343742, 301199, 184477, 173542, 152596, 170020, 400004, 271572, 223696, 177927, 250821, 182655, 141657, 145419, 204751, 27444, 113912, 231287, 299050, 219371, 263561, 187581, 138765, 160981, 241431, 176189, 133963, 174626, 180551, 162312, 190290, 28443, 247469, 89508, 303212, 362623, 292583, 219632, 134997, 118267, 240323, 179824, 59202, 112840, 325538, 37210, 149230, 186916, 511361, 128757, 132601, 240869, 520759, 136824, 190469, 178866, 126977, 317847, 337693, 108140, 61178, 271262, 106306, 274222, 19914, 234190, 404416, 72436, 149653, 161092, 228649, 263886, 82488, 152810, 118693, 31935, 104892, 51264, 145081, 178421, 160440, 141590, 162327, 349347, 114396, 54759, 115763, 80333, 193260, 96245, 200235, 216924, 218886, 34803, 31577, 144778, 147069, 248612, 205337, 193884, 89054, 212210, 174752, 161210, 269444, 149726, 305597, 469602, 170038, 129624, 36936, 296253, 164707, 406662, 54159, 183081, 200641, 186943, 100800, 159897, 118261, 179423, 177265, 120471, 187720, 181307, 162108, 54566, 141511, 99897, 194828, 195576, 184710, 55377, 208291, 152140, 72791, 197752, 170230, 357943, 153451, 372483, 132341, 161097, 43953, 171550, 188300, 337587, 302406, 330571, 310525, 308136, 212064, 47425, 334224, 116044, 111476, 121124, 186117, 263982, 116666, 145879, 120302, 160984, 32550, 172538, 223194, 86750, 342164, 99219, 194102, 279721, 53407, 216711, 277034, 102092, 148138, 110380, 292264, 340723, 116632, 25690, 30912, 383365, 187450, 110748, 175778, 379062, 164135, 264095, 50748, 36162, 140576, 220589, 129246, 181508, 168071, 374918, 290321, 87205, 202872, 156736, 225775, 151089, 80467, 455995, 272986, 154120, 107658, 176711, 45564, 74275, 404062, 115176, 85355, 412316, 216931, 149297, 54012, 263498, 116163, 23698, 215419, 176552, 140516, 127215, 168901, 204461, 98995, 466224, 169699, 176185, 84197, 197732, 37741, 120359, 222572, 84648, 186014, 146091, 206291, 76432, 188465, 90277, 72896, 312477, 96586, 248595, 230329, 276221, 122660, 331611, 315640, 220543, 116608, 30664, 210867, 113635, 26248, 65390, 183061, 482732, 53434, 350651, 126132, 236391, 259583, 43712, 206686, 133461, 216907, 150057, 500002, 112362, 161819, 260696, 363405, 162604, 199067, 298601, 267404, 112115, 358682, 192779, 224512, 206521, 223975, 264961, 47619, 160300, 189238, 165517, 158685, 133327, 197836, 243631, 110890, 158704, 157786, 152246, 120066, 99970, 704108, 74680, 592930, 43887, 187728, 50163, 214061, 87372, 259705, 212143, 165039, 37937, 238474, 175837, 115057, 165138, 158077, 109684, 140092, 186314, 34113, 160731, 47151, 176634, 108001, 37754, 328581, 234901, 127451, 199753, 37933, 178843, 116677, 182108, 32950, 248374, 34918, 96128, 141807, 97883, 114912, 256504, 158301, 185846, 178472, 23740, 132917, 250037, 104858, 338376, 111450, 214503, 230329, 194537, 229272, 271767, 175883, 172281, 332243, 203554, 106705, 209844, 183096, 199512, 108317, 111483, 96102, 237478, 117963, 56920, 197530, 246291, 162302, 199688, 50341, 225291, 70604, 36325, 125421, 199674, 127961, 240542, 127016, 142717, 22831, 220944, 111243, 51461, 197069, 213019, 221172, 91996, 230704, 169628, 148121, 133938, 110331, 38001, 197069, 199058, 168538, 24961, 105614, 318886, 294395, 293623, 268222, 193038, 256866, 216129, 196107, 267891, 209205, 226918, 49156, 108540, 199172, 194901, 193530, 110150, 204447, 53481, 440969, 175925, 214413, 107373, 110791, 194951, 233955, 306982, 80145, 137076, 182926, 234780, 219483, 245372, 261259, 203828, 57052, 35373, 126945, 36601, 635913, 359249, 202565, 36327, 168195, 202242, 28061, 94529, 179203, 114691, 184756, 237824, 192010, 383058, 100313, 116531, 125761, 99233, 91251, 119578, 198050, 133449, 147982, 67187, 303431, 188519, 239663, 179423, 34816, 99185, 183850, 442274, 133239, 199058, 37237, 188246, 144833, 265477, 170627, 195124, 225193, 86143, 155972, 163265, 174461, 92649, 64292, 123411, 217418, 334273, 27939, 201490, 202091, 217421, 224238, 181466, 150062, 219611, 119722, 416415, 155066, 214069, 42617, 125417, 79531, 523095, 211154, 172401, 493862, 175674, 203777, 117789, 353219, 342575, 167005, 99199, 230168, 349910, 59145, 107682, 62374, 192793, 150084, 248612, 229465, 326691, 57512, 50223, 137591, 135162, 111275, 209146, 34310, 145964, 87310, 326370, 145290, 342989, 97723, 197558, 204205, 405577, 170230, 127573, 148431, 214385, 94342, 113106, 406826, 182062, 155433, 124971, 179704, 179468, 164518, 286789, 49996, 372130, 293091, 45869, 266043, 85384, 112847, 240628, 208826, 110677, 54261, 307812, 289944, 61343, 179271, 177499, 284616, 107302, 124194, 344415, 123084, 126060, 212806, 181824, 50748, 406051, 413297, 239043, 353927, 198145, 137363, 142061, 47541, 147989, 342865, 275845, 172009, 103634, 218962, 183892, 157272, 229651, 207685, 653574, 221167, 169071, 268234, 121712, 166107, 182655, 134378, 178326, 218903, 141657, 47396, 197332, 388672, 100219, 108713, 143865, 206874, 219266, 129177, 433989, 180407, 152953, 211123, 174386, 79827, 29254, 50178, 125892, 160261, 402812, 410351, 709798, 253593, 77698, 178050, 387430, 190350, 254859, 1125613, 102942, 156516, 58582, 72355, 232766, 222434, 122000, 247019, 140764, 113501, 211345, 38948, 223004, 168826, 253759, 192565, 59460, 157947, 91711, 112627, 193130, 49715, 161027, 69251, 175331, 186350, 216129, 32311, 146660, 315859, 194901, 166527, 234328, 104329, 195897, 222450, 107793, 132222, 538443, 38819, 101345, 157391, 157486, 106347, 174714, 173593, 191367, 132565, 147372, 446654, 387568, 217647, 189017, 261799, 663394, 71009, 46094, 237452, 116892, 211450, 407425, 222205, 127601, 140764, 61778, 177550, 152617, 144169, 159937, 113129, 168387, 103980, 196308, 293968, 150717, 205852, 195985, 24342, 103538, 192225, 34218, 156606, 209433, 82815, 410216, 180339, 100764, 280164, 110998, 204752, 219546, 88278, 191001, 104256, 170230, 189225, 126233, 235894, 160586, 114157, 404616, 257644, 112432, 159378, 236415, 151322, 87284, 149507, 470875, 226355, 39764, 362165, 105717, 212619, 428271, 220789, 121142, 341643, 240922, 248059, 325372, 214865, 107231, 116517, 210464, 303521, 190968, 132633, 216563, 267736, 177578, 202284, 199539, 104501, 202872, 151773, 102345, 209955, 52327, 203301, 183639, 190290, 283945, 211497, 218249, 306215, 388625, 188291, 109015, 196116, 102828, 316185, 232954, 132925, 90934, 224886, 218835, 146391, 209131, 78036, 163985, 31659, 246739, 251854, 258037, 188291, 112497, 102085, 281209, 110586, 154422, 133625, 301614, 248584, 223019, 150570, 192337, 134367, 416829, 99835, 323269, 212888, 362835, 117963, 375134, 237713, 459548, 167816, 103323, 214413, 913447, 211129, 147215, 38795, 163862, 230113, 163110, 97189, 168403, 236907, 132686, 46704, 100168, 146565, 224954, 334522, 247115, 123780, 106964, 398212, 111483, 244115, 130126, 92215, 34028, 92775, 241851, 136873, 231482, 190562, 234213, 224910, 111971, 108779, 64292, 221157, 278322, 138966, 331481, 437825, 176696, 168071, 305147, 192894, 141028, 215384, 61885, 130959, 188823, 117802, 243872, 213307, 55481, 153536, 113530, 442429, 78529, 196621, 291052, 99434, 109015, 358554, 187666, 365986, 217342, 128796, 409230, 355645, 391744, 144351, 378251, 138358, 352542, 27408, 520231, 133050, 506830, 143822, 303296, 82210, 306225, 230959, 161097, 70604, 386036, 273803, 515797, 216647, 347623, 138768, 122493, 213152, 236136, 344804, 200825, 218653, 92262, 108023, 413297, 174789, 179668, 130557, 155621, 51664, 164190, 187052, 223267, 196529, 207202, 192712, 29306, 275632, 172579, 78374, 192337, 168071, 409230, 122026, 190767, 219838, 382802, 197387, 337766, 223811, 150080, 103751, 185732, 190231, 27411, 28119, 259323, 187999, 142555, 377486, 33300, 313146, 149507, 134737, 175912, 164658, 162236, 197666, 218558, 27776, 380462, 304651, 141944, 435503, 23438, 374116, 216864, 89226, 161964, 77884, 195949, 40000, 210797, 198000, 37232, 255476, 352882, 175262, 196707, 203463, 139890, 91999, 178222, 229393, 98283, 445728, 213866, 192983, 143833, 228472, 321770, 106437, 89028, 185407, 105598, 210311, 87510, 112754, 57889, 289653, 97176, 112607, 189589, 163836, 54953, 178841, 234108, 176684, 212668, 105444, 213226, 185556, 265698, 150361, 312653, 176101, 170092, 121441, 329144, 276249, 184581, 246862, 349365, 201393, 382146, 346532, 150553, 203070, 354573, 264600, 548664, 38950, 196827, 182042, 175224, 275818, 211968, 299831, 218445, 206577, 197932, 319831, 261677, 445382, 43909, 357933, 155818, 271767, 314539, 171419, 133654, 125491, 193898, 98656, 388247, 303090, 287878, 49069, 206129, 151053, 126117, 60641, 47570, 97698, 255004, 191277, 230684, 181820, 117210, 279490, 49296, 185057, 168288, 230592, 202117, 409604, 102085, 215990, 43764, 387250, 237141, 299765, 149809, 171114, 173944, 108116, 176732, 77146, 165017, 347814, 157331, 223046, 101656, 205838, 308540, 100270, 26009, 31600, 363087, 123011, 257310, 53135, 174752, 174330, 229803, 497486, 193537, 320305, 55191, 233717, 131379, 225317, 288551, 117798, 175897, 173271, 103214, 189924, 176335, 386705, 208668, 235379, 298161, 89299, 115025, 70645, 166934, 179413, 188008, 218490, 161141, 39477, 162814, 285052, 102533, 174714, 268083, 185027, 29580, 160731, 165054, 144064, 301835, 198493, 202558, 208378, 80058, 52262, 216283, 461678, 105044, 186183, 236021, 200235, 147640, 128272, 165412, 143486, 37250, 185267, 58213, 109912, 163258, 256609, 208447, 336707, 750972, 145333, 33610, 135803, 47310, 163346, 188096, 268952, 54850, 247564, 51016, 37932, 197387, 42069, 199170, 201179, 143582, 408498, 393945, 304955, 136081, 85272, 96337, 38620, 117606, 84136, 163678, 303388, 212895, 147473, 147876, 143791, 197148, 373698, 66356, 176924, 169804, 185336, 34532, 73134, 180239, 118088, 175714, 113929, 206139, 175943, 165799, 250038, 189933, 28419, 33794, 161691, 162282, 263128, 206492, 43285, 135776, 93206, 404616, 181576, 117169, 195322, 402397, 246891, 306225, 198282, 225707, 241998, 172025, 183257, 204990, 195678, 191277, 145162, 95540, 38619, 210781, 44172, 24384, 211751, 248776, 128509, 99829, 140516, 243607, 160703, 97429, 176047, 100999, 112819, 93202, 216042, 29591, 101265, 71367, 244803, 285066, 146454, 116626, 218490, 172364, 150533, 204629, 132572, 172962, 280292, 221666, 191318, 213226, 219318, 126822, 210825, 349910, 410543, 287658, 187411, 50567, 249935, 47314, 32981, 176063, 149823, 65278, 138907, 196584, 373263, 185575, 117779, 112262, 163265, 192506, 228660, 135566, 312956, 250818, 198953, 93021, 94174, 143547, 159028, 183146, 259089, 390781, 255191, 406641, 197093, 127805, 226883, 185399, 123075, 243776, 386378, 176683, 96509, 103021, 186720, 265097, 90758, 106742, 65743, 152189, 210184, 256211, 410114, 527162, 129845, 178322, 227945, 280278, 38606, 211345, 175515, 143129, 285747, 134813, 87158, 54472, 302146, 202188, 189916, 338033, 380560, 101320, 257043, 277488, 49923, 227910, 183965, 126868, 206343, 265148, 116608, 178835, 270075, 262153, 28612, 305160, 197838, 155761, 149531, 210474, 199268, 150999, 157240, 185528, 33355, 353012, 407068, 223020, 164190, 238959, 191502, 200192, 367306, 247445, 125461, 202559, 106889, 90668, 278924, 200199, 192654, 107410, 117789, 421412, 197665, 275369, 165201, 197867, 92863, 295566, 127610, 593246, 49837, 213140, 297884, 334273, 239683, 349910, 112158, 117628, 139452, 193158, 96554, 184882, 480717, 198282, 246829, 374764, 156410, 196771, 123273, 158737, 143266, 136028, 223515, 153805, 185673, 258120, 33717, 91711, 147921, 198824, 149211, 36480, 166210, 224984, 125933, 306790, 179915, 246392, 53306, 32185, 82797, 373553, 114580, 68539, 340917, 181265, 150726, 248313, 172815, 98639, 70261, 260938, 180532, 403468, 136081, 143540, 112383, 125933, 349341, 238049, 195532, 157886, 421561, 19395, 227626, 277700, 84253, 214010, 160808, 229272, 48121, 77975, 247880, 347166, 258648, 97261, 447579, 271550, 204322, 308709, 176647, 318533, 58654, 116358, 143604, 169101, 99131, 126133, 246595, 192161, 309122, 315291, 277760, 53245, 213385, 125000, 160323, 114158, 344351, 182771, 160972, 202286, 236426, 196994, 205644, 164493, 139576, 102597, 369522, 112432, 189762, 184665, 112271, 101283, 143582, 151584, 141409, 306440, 164488, 251795, 114459, 158451, 238092, 117012, 116055, 56150, 22978, 174368, 45363, 158948, 33863, 108247, 147954, 203783, 269045, 186784, 120461, 227610, 54826, 149102, 128378, 154374, 161111, 203710, 125457, 74784, 197752, 269318, 149342, 120277, 186269, 113948, 178341, 109854, 192213, 134737, 256263, 171242, 186303, 89413, 128884, 529216, 284303, 170850, 34616, 184102, 185537, 117760, 28520, 165097, 169604, 279461, 35305, 115066, 241506, 333305, 185848, 384508, 100321, 477106, 91842, 183898, 263444, 42596, 134737, 223212, 249208, 220001, 190023, 254818, 187653, 181091, 105252, 229009, 47902, 341672, 137537, 240063, 214858, 421837, 186324, 117299, 292570, 149875, 100135, 192149, 235371, 29675, 302708, 41419, 239723, 235894, 385242, 387569, 166851, 205839, 170331, 240554, 254516, 299505, 183778, 174395, 140830, 121548, 190532, 119182, 46990, 341672, 158810, 165937, 212120, 274830, 174685, 231037, 45937, 185385, 112512, 194231, 174887, 54229, 103315, 439919, 30457, 216851, 267989, 323229, 386726, 378747, 147654, 122850, 252947, 82393, 434894, 177769, 172032, 186791, 188729, 198096, 262409, 35723, 238381, 120970, 183173, 154210, 31935, 100776, 477505, 117529, 196178, 133014, 137192, 23580, 206351, 254949, 51136, 203488, 187119, 111469, 143604, 59083, 153031, 255927, 209464, 158412, 245378, 106733, 312088, 80651, 382153, 67716, 238481, 218889, 190525, 125010, 179579, 240698, 242922, 60847, 154863, 212894, 149909, 235071, 328570, 183473, 142689, 305714, 155659, 90915, 191429, 233856, 170430, 216824, 209432, 107787, 141838, 107882, 97614, 230624, 186954, 152189, 109273, 224584, 274363, 179813, 137506, 66173, 176751, 135525, 123833, 233786, 117217, 134153, 113598, 39388, 132636, 116442, 50442, 32921, 148509, 38795, 149640, 209894, 56651, 397467, 312232, 392160, 143331, 280167, 304791, 49087, 175669, 173051, 424094, 163998, 160402, 238859, 158688, 193235, 160574, 42596, 49156, 167106, 226296, 189487, 175958, 203761, 223751, 372020, 133770, 79586, 73145, 188119, 84119, 187693, 141483, 176069, 103408, 192283, 27856, 320294, 226668, 355645, 137974, 115922, 170114, 456399, 169785, 115420, 152453, 34378, 184655, 192652, 236520, 55424, 436253, 124242, 263000, 209384, 154076, 214288, 114032, 42907, 166187, 191782, 37380, 141745, 319163, 135785, 238913, 281751, 102346, 38772, 257175, 299399, 193868, 32709, 77634, 214399, 262744, 67794, 82646, 27466, 98675, 23789, 34377, 192812, 98361, 197163, 101510, 34080, 159908, 103684, 229236, 124747, 341051, 124191, 89508, 164607, 218343, 243368, 207489, 141797, 286372, 139086, 39380, 202683, 320818, 205036, 190909, 20728, 270587, 117028, 114062, 57067, 101603, 205939, 118941, 65308, 71676, 113364, 165050, 278900, 203233, 95929, 510072, 193241, 173968, 257302, 321822, 122390, 164733, 123283, 233955, 92792, 176360, 112820, 108569, 383322, 32779, 160192, 202091, 169953, 140365, 400535, 172538, 340543, 198422, 120461, 153918, 74883, 155057, 137192, 150471, 55272, 133917, 253856, 172845, 287306, 202871, 165134, 99309, 83671, 423222, 153405, 497280, 56009, 301408, 75867, 191703, 29616, 199058, 277455, 209286, 117507, 225053, 190020, 122999, 33308, 204145, 607848, 313546, 243960, 89681, 193246, 133061, 380127, 129583, 108909, 231193, 67804, 278073, 129972, 159549, 82576, 144122, 355551, 161007, 316702, 280093, 105586, 103588, 142287, 146325, 199832, 200468, 78530, 517000, 281221, 107827, 102493, 208277, 213722, 154120, 165922, 177307, 152795, 167265, 205195, 118584, 329792, 171373, 358975, 29036, 211385, 293936, 105794, 176756, 98350, 106395, 206487, 48093, 153066, 231672, 146412, 152734, 183390, 189680, 128700, 163434, 154667, 420895, 184306, 214014, 147655, 227545, 205852, 32896, 125933, 165484, 139703, 200808, 176814, 342642, 223648, 158656, 316820, 62165, 190739, 111939, 147707, 30290, 271933, 149640, 381153, 199450, 342709, 84324, 266337, 54102, 32528, 86745, 309122, 163320, 161690, 213745, 175674, 175759, 248059, 139145, 230684, 56026, 185177, 113324, 103925, 202729, 126675, 280464, 280618, 265638, 204042, 435835, 171840, 109633, 177277, 181372, 207022, 108687, 177665, 79870, 99835, 202937, 224644, 183778, 143582, 122473, 160339, 218184, 87282, 34113, 292303, 125437, 221762, 191547, 189240, 117959, 349340, 416577, 43712, 29702, 117915, 293535, 42401, 124265, 59146, 183678, 693066, 122166, 281030, 118474, 275223, 153501, 68006, 366662, 100079, 207568, 75891, 311764, 274111, 401104, 239539, 129338, 463072, 188544, 315065, 29320, 56248, 121821, 275110, 20795, 52156, 227399, 272780, 85319, 178147, 205109, 180271, 194417, 60358, 138054, 75648, 32587, 706180, 73493, 390817, 48915, 176059, 252862, 33678, 194360, 98418, 38876, 277112, 26290, 188069, 165510, 188335, 320984, 141420, 256997, 291251, 210932, 108233, 171393, 42972, 36924, 107411, 148015, 123053, 173321, 89182, 150812, 51264, 340043, 183869, 188303, 291783, 79036, 65382, 255693, 182668, 197365, 331381, 30751, 161153, 256240, 287268, 71898, 121411, 147280, 387215, 229125, 66815, 37792, 172695, 107302, 177989, 168569, 317175, 183151, 30073, 262688, 191277, 273051, 103628, 197288, 91689, 219211, 186888, 237995, 57600, 458549, 369909, 175720, 235485, 103986, 255027, 295163, 280525, 206325, 67728, 191841, 89419, 176831, 294253, 236852, 143058, 154568, 222596, 145114, 124963, 309513, 248990, 120959, 51973, 125499, 193042, 110723, 191978, 220124, 289430, 156430, 182556, 209768, 288419, 278228, 221324, 149281, 161478, 213195, 156566, 206063, 283676, 38238, 152958, 183611, 30916, 91905, 112650, 254146, 146244, 337505, 242984, 109117, 498216, 94041, 96635, 113543, 313181, 201259, 67759, 126675, 173020, 76487, 228253, 86646, 215395, 54932, 132563, 82540, 114691, 155930, 196123, 167787, 194538, 287306, 129853, 91666, 169995, 189528, 118376, 405177, 197344, 174714, 207281, 145160, 105585, 343642, 50990, 149040, 108069, 87556, 244312, 227386, 222011, 439779, 240809, 81030, 134130, 230922, 167990, 81400, 241463, 187392, 105491, 111128, 61885, 265576, 355918, 34248, 191429, 153486, 96219, 155489, 231082, 143392, 183780, 202214, 138714, 261023, 202071, 192409, 251854, 206506, 220563, 101524, 280088, 408473, 210926, 218948, 105817, 22743, 77219, 81859, 198316, 163322, 104509, 286675, 422813, 173495, 71075, 209213, 385077, 210541, 215990, 265554, 27207, 45487, 137367, 201117, 104196, 141113, 166339, 183810, 304651, 34506, 128538, 190060, 182028, 195298, 166459, 110908, 143482, 221955, 235826, 26451, 258298, 298130, 197492, 114263, 228786, 228493, 36311, 313022, 167651, 172327, 206889, 102936, 122032, 177114, 99386, 169719, 195491, 144608, 99307, 253190, 125461, 315877, 204450, 202872, 205896, 153522, 280146, 285787, 309212, 166242, 173851, 203463, 36385, 199739, 177907, 226891, 124068, 192588, 190325, 172052, 76034, 370881, 160300, 304169, 104509, 170983, 148709, 33798, 214627, 557082, 252752, 406641, 175696, 41432, 154374, 130741, 229051, 51331, 427474, 417668, 107793, 123384, 178948, 185057, 185647, 163809, 101345, 234880, 493363, 88265, 150441, 112797, 221436, 261725, 193524, 330535, 163110, 125932, 217802, 186338, 44273, 160784, 119272, 361497, 152909, 250135, 244147, 462832, 56340, 314153, 436107, 252208, 506436, 278107, 210438, 201742, 208117, 329026, 91145, 213041, 207676, 114508, 290403, 199915, 201017, 82393, 268965, 32776, 138597, 417941, 211162, 327589, 200928, 151267, 185127, 51271, 137618, 156310, 189203, 160647, 105021, 216907, 240629, 119665, 187088, 165289, 319149, 174826, 280966, 61343, 408788, 242670, 189878, 437281, 107411, 494223, 57101, 77143, 220786, 220362, 176321, 326283, 187069, 182926, 43937, 203319, 194293, 184659, 91189, 189107, 34918, 181820, 227856, 167501, 170086, 347910, 156926, 187720, 182581, 181762, 182896, 204935, 187563, 81413, 34180, 289257, 238638, 365916, 148392, 250976, 145119, 247321, 209912, 399522, 94235, 208019, 172695, 170861, 97757, 226902, 306383, 87157, 125421, 156890, 292915, 106546, 200863, 283079, 284343, 233624, 141363, 70034, 208711, 202450, 275338, 176178, 57101, 103474, 138285, 188905, 276559, 22907, 254293, 227594, 308889, 106761, 196243, 216856, 171199, 179735, 218085, 212760, 287306, 83311, 128714, 109832, 174533, 106252, 79387, 118161, 187711, 157541, 193231, 224531, 160594, 191389, 217509, 387770, 164526, 398988, 68493, 189269, 147989, 101260, 155489, 161508, 186916, 131060, 203518, 178780, 50103, 111829, 413373, 130780, 28887, 127875, 125190, 405362, 177287, 110884, 554206, 207546, 270043, 73431, 201263, 216932, 214858, 248178, 184883, 46044, 408427, 155066, 155489, 188146, 56424, 207383, 185556, 262116, 85995, 26698, 55568, 254781, 178771, 261059, 340171, 316470, 129150, 35236, 105449, 100029, 391585, 128814, 46247, 133692, 196508, 24961, 187686, 189530, 107231, 159732, 109735, 193882, 219137, 252752, 87329, 155106, 175642, 53373, 387116, 189749, 99254, 140869, 538822, 102460, 106028, 291096, 397317, 129060, 150132, 224716, 287480, 182062, 177596, 189843, 379959, 317539, 157043, 338320, 255675, 88564, 114967, 137367, 172714, 175109, 315643, 146949, 115289, 398931, 111772, 195835, 632593, 57781, 134890, 180985, 186451, 272338, 216552, 205865, 113324, 244495, 160572, 335453, 58597, 206833, 158206, 257277, 93206, 141642, 106648, 200700, 378546, 108435, 154405, 236321, 21306, 159589, 357118, 491862, 146711, 209101, 267284, 133694, 192813, 327435, 227310, 360252, 362999, 33001, 137815, 501671, 312966, 25837, 322013, 44363, 189710, 149949, 244974, 299705, 81973, 207578, 38307, 108960, 380560, 218637, 83783, 109307, 210525, 170070, 90915, 341643, 173987, 33887, 35305, 353824, 105650, 23780, 99146, 160035, 315868, 148549, 361888, 214935, 412149, 212661, 183800, 422275, 198841, 213258, 32214, 195488, 149455, 298130, 160035, 308654, 155106, 239632, 225879, 322391, 168515, 154374, 225330, 302041, 291968, 161744, 101618, 195617, 152940, 95128, 32627, 77009, 20179, 117496, 153890, 206541, 182108, 171015, 193075, 341504, 73679, 319637, 118725, 190072, 188391, 153516, 104196, 172496, 84257, 100345, 164127, 283602, 100147, 159548, 32372, 218039, 191914, 222978, 406811, 98350, 34178, 161478, 81132, 196344, 233533, 42044, 411950, 169995, 66634, 211265, 173047, 356067, 49707, 55191, 206861, 288598, 44392, 77689, 237713, 170099, 195481, 201732, 366198, 182177, 336163, 88055, 165815, 192251, 216116, 155118, 317702, 176178, 209103, 167859, 183171, 188545, 98985, 24473, 369825, 180303, 177331, 202872, 330836, 153356, 259643, 45607, 312017, 281678, 324637, 409902, 342768, 118310, 246652, 27242, 384246, 209900, 241802, 258589, 200973, 169020, 162930, 93125, 287037, 102359, 37618, 120672, 160623, 217718, 287988, 118779, 107793, 135458, 400061, 160472, 194049, 39581, 110028, 182714, 152420, 95336, 80572, 209833, 46706, 112497, 152023, 136450, 222115, 201344, 205894, 132652, 86972, 121124, 154089, 180019, 162494, 190406, 402089, 161141, 138940, 165848, 207066, 85244, 64922, 92008, 198237, 195607, 380544, 150528, 154120, 187577, 225605, 50512, 190762, 102821, 354405, 175972, 404085, 31732, 54260, 208843, 234880, 141490, 176716, 29814, 123959, 32186, 272944, 38251, 323810, 165737, 266189, 210308, 156266, 38353, 174975, 347166, 283921, 142712, 243368, 341610, 117721, 120539, 174655, 153602, 431426, 158555, 296999, 44671, 184183, 284166, 113870, 205499, 124733, 338836, 138022, 201613, 476334, 202498, 174032, 493443, 196456, 255334, 32276, 253899, 66935, 460835, 320305, 180632, 117166, 213750, 303565, 192386, 119098, 309033, 85088, 82649, 86745, 45912, 226422, 338013, 99651, 69345, 316101, 102479, 25249, 200153, 230568, 188961, 204516, 198619, 222504, 202692, 192583, 101977, 174640, 240255, 139907, 223678, 130413, 271933, 213477, 35649, 108859, 157932, 83411, 147253, 257042, 98228, 190040, 117295, 245628, 361497, 195075, 192323, 222978, 236021, 109419, 358056, 201723, 143774, 154342, 185410, 187097, 168262, 387068, 175128, 96129, 214800, 210648, 204057, 39236, 103121, 168337, 104729, 296158, 34616, 352712, 111483, 241350, 129172, 202051, 257250, 151790, 330144, 99357, 138768, 201435, 226949, 109762, 298215, 110028, 372967, 35378, 109067, 220430, 89534, 174938, 199307, 305874, 338611, 238162, 286261, 206051, 267967, 335777, 183445, 190823, 154785, 440138, 207938, 369522, 94235, 248356, 300783, 168782, 140782, 192894, 259109, 103840, 256916, 177937, 35330, 244803, 228613, 203353, 433330, 314649, 101110, 167725, 242994, 177083, 220819, 120126, 128460, 149224, 26973, 216853, 165930, 140459, 31251, 89942, 308205, 83411, 211391, 181382, 167062, 135102, 266275, 110538, 239954, 164197, 642830, 485496, 274158, 144778, 111697, 220647, 168981, 139989, 63509, 119628, 123703, 172571, 183105, 220640, 157562, 201197, 168232, 111963, 101119, 160303, 219300, 33138, 157941, 325493, 174533, 108765, 214541, 231638, 112497, 175777, 159715, 82393, 262241, 238768, 135056, 326232, 206889, 40666, 126850, 257126, 279129, 220821, 107665, 160625, 388849, 68848, 250157, 135339, 261979, 107737, 81648, 295763, 99185, 182521, 194141, 280714, 100931, 124963, 241350, 187356, 40681, 257869, 334221, 246974, 190257, 206232, 179048, 187294, 138892, 61777, 336042, 152744, 183384, 185041, 212894, 117618, 53042, 108116, 348751, 181265, 255503, 36340, 469697, 101709, 124852, 307468, 74784, 113838, 236415, 248254, 151888, 308489, 179436, 57711, 166704, 61299, 308861, 112115, 171091, 298444, 191957, 219130, 184659, 146520, 110798, 65408, 160647, 182977, 108542, 134768, 57233, 116391, 136939, 175034, 318644, 262285, 19302, 133586, 105598, 111676, 364548, 197288, 80324, 34701, 221172, 219902, 387108, 287031, 110257, 174515, 165667, 262402, 116442, 216137, 150057, 47858, 219742, 86150, 132222, 74791, 189462, 176073, 159219, 173807, 137250, 56613, 104501, 131459, 320124, 135839, 472789, 33374, 391585, 60668, 184105, 313022, 399449, 481096, 135439, 343721, 144778, 101562, 245565, 114537, 222011, 270565, 130760, 27821, 191446, 210945, 114401, 241998, 74163, 105273, 188096, 258406, 168262, 375313, 501144, 201293, 268392, 104196, 24153, 274883, 89559, 122112, 271379, 24008, 171114, 237943, 209808, 159442, 328466, 140219, 208406, 23780, 329603, 703067, 69847, 244661, 111939, 163455, 267085, 351711, 216811, 218542, 266134, 279472, 301867, 194772, 216984, 89041, 115418, 101709, 296991, 256636, 294431, 165532, 195248, 177487, 167474, 156877, 176123, 292465, 208591, 430554, 373185, 358753, 279232, 134737, 204235, 192894, 115932, 124052, 29810, 287983, 174242, 479621, 106957, 105788, 25955, 211596, 148874, 143582, 90042, 31267, 219591, 231619, 300915, 196467, 130834, 126011, 32878, 258170, 149865, 487742, 185385, 380162, 278480, 314798, 269318, 126838, 94100, 209629, 185407, 131620, 234807, 86108, 196338, 139268, 238384, 465326, 232782, 150499, 141272, 131230, 112507, 189253, 98044, 48779, 141876, 191628, 201495, 502752, 47396, 114544, 421633, 152307, 184307, 186666, 234731, 71864, 98389, 112906, 234447, 287037, 226296, 23621, 77146, 92079, 58426, 207568, 83879, 388384, 258517, 98350, 210259, 145389, 153416, 459007, 189382, 308027, 228346, 163729, 183542, 127610, 49325, 123083, 111625, 206888, 167939, 80249, 291407, 150324, 41938, 231105, 305647, 49243, 395512, 218309, 186982, 343925, 388811, 195638, 152529, 133495, 81259, 248094, 209768, 137296, 158688, 36032, 184378, 193122, 205175, 302603, 117312, 159187, 111895, 392812, 195212, 111129, 189385, 36467, 121352, 296282, 32451, 98037, 117381, 467108, 159561, 151294, 304570, 32000, 118447, 183784, 192939, 266343, 181557, 100734, 41806, 162404, 199915, 125856, 80933, 215392, 176270, 36270, 495061, 71751, 175643, 326334, 153805, 103063, 167482, 38223, 138816, 187311, 64292, 138626, 116933, 130840, 106900, 95634, 222971, 48343, 350387, 110747, 473748, 164922, 166371, 160574, 178249, 58582, 211035, 128272, 253642, 28729, 88019, 138845, 91048, 385632, 172364, 184901, 83756, 119359, 328669, 93705, 410439, 192712, 166988, 93225, 254413, 357870, 150533, 302422, 213719, 211408, 179016, 401690, 174463, 170482, 29933, 112763, 239405, 187513, 32528, 164530, 334999, 166988, 182866, 304595, 80410, 156612, 112847, 32316, 198769, 334427, 118308, 74539, 146117, 204235, 370548, 33068, 383384, 101272, 351324, 283499, 198668, 162432, 100154, 198668, 297155, 200318, 236684, 120046, 102350, 87205, 402778, 84547, 286634, 131976, 172571, 1455435, 303032, 135056, 151793, 290964, 204235, 41504, 181758, 181761, 421446, 124244, 124747, 213179, 201328, 53893, 45093, 176900, 199908, 193720, 62605, 69306, 257849, 357962, 130513, 169002, 189890, 476558, 111700, 278114, 55237, 86298, 103435, 217460, 282913, 144067, 249771, 363418, 24106, 166149, 216116, 58343, 31432, 32016, 67136, 164799, 117583, 450695, 35032, 118551, 109001, 152182, 136824, 107584, 109667, 199546, 98061, 328518, 37202, 178109, 447555, 150861, 36077, 307392, 205726, 433491, 569930, 84979, 225399, 215833, 264651, 19491, 118551, 199949, 108496, 127273, 178470, 133974, 246891, 172307, 192779, 309055, 120057, 167777, 300275, 454508, 29702, 403112, 177675, 163015, 213015, 179681, 131591, 246207, 553405, 173005, 75995, 110554, 127772, 216972, 195488, 329408, 132026, 225516, 382368, 171216, 51259, 93235, 225612, 112847, 171015, 191681, 36058, 115457, 99220, 193061, 178686, 243636, 213722, 287701, 30219, 269604, 154571, 183513, 169544, 173208, 277488, 175878, 136975, 297551, 32220, 263150, 133963, 122272, 175502, 199472, 258768, 112561, 331433, 277695, 255454, 175428, 86912, 224658, 342175, 475028, 295589, 112660, 246449, 101509, 206351, 194097, 230373, 89922, 267034, 200960, 266707, 183589, 100405, 232653, 174308, 401508, 197114, 133025, 121102, 29927, 346034, 437666, 197113, 38310, 335764, 107231, 51662, 229826, 235722, 353824, 179666, 34339, 112835, 245062, 137951, 290614, 130926, 187188, 32921, 241153, 192684, 133616, 118337, 247676, 447488, 106548, 198660, 157974, 198265, 162249, 194630, 272240, 129150, 102904, 85088, 104068, 291904, 196674, 114059, 113959, 163578, 123151, 215797, 103925, 172498, 133696, 139391, 120238, 139296, 182750, 164156, 187847, 218322, 150999, 155775, 94741, 56072, 160369, 193494, 132320, 106742, 109869, 178686, 376072, 283338, 52634, 309634, 176101, 131588, 112956, 45508, 167770, 409230, 186909, 144056, 25649, 306646, 245193, 122493, 281647, 126945, 470368, 191800, 314822, 107850, 305379, 204021, 503923, 165108, 200042, 253759, 198728, 173002, 273194, 160943, 219718, 186035, 110458, 192022, 113491, 153205, 114678, 276133, 119422, 298037, 261511, 169037, 309620, 79531, 149811, 178449, 121846, 148995, 191581, 243190, 290504, 393264, 191295, 209507, 318255, 178202, 130143, 27776, 286452, 238917, 95855, 332249, 62972, 214985, 123429, 176893, 128002, 111985, 288353, 121023, 34446, 79580, 117310, 88653, 104973, 68678, 161662, 144515, 139647, 55360, 223212, 50397, 139290, 243442, 228406, 193026, 159816, 89347, 234195, 267893, 154641, 224108, 257042, 115634, 148254, 205047, 285750, 205950, 136841, 161415, 201635, 190350, 342709, 241962, 113466, 84790, 225904, 59313, 95917, 114413, 285432, 142707, 165599, 57951, 147500, 236338, 103608, 304949, 301867, 193820, 33117, 117496, 91839, 149833, 109080, 432154, 311376, 48268, 331776, 56328, 437727, 181776, 68781, 306513, 197332, 24395, 175133, 105493, 126402, 482927, 21095, 156464, 323627, 188798, 192258, 97355, 194004, 237525, 217120, 172893, 349691, 114053, 182714, 41490, 279231, 193051, 72119, 193882, 92733, 229223, 98678, 80914, 87497, 229062, 443508, 181139, 196675, 180339, 231569, 175057, 295510, 234298, 142751, 266138, 243580, 407759, 284329, 168191, 154600, 184255, 194360, 144778, 493034, 148995, 101722, 282612, 150309, 173613, 364563, 176711, 119432, 179314, 238969, 238367, 73773, 33673, 317733, 324854, 95450, 89325, 179358, 287244, 179641, 95763, 189888, 202182, 130856, 209182, 191025, 244408, 193372, 168071, 208106, 45814, 87250, 83893, 1033222, 262617, 190728, 293926, 56063, 93076, 279914, 170458, 221172, 195919, 97562, 227232, 74977, 171090, 259226, 256526, 203353, 35309, 156229, 604380, 139190, 100099, 215310, 266324, 368140, 65038, 319733, 46401, 175622, 168334, 66385, 304570, 187581, 513416, 353881, 245029, 113324, 231495, 352207, 85041, 111994, 279029, 242619, 172291, 69586, 200471, 233472, 186126, 242606, 42346, 185582, 176831, 175412, 88564, 100722, 30682, 240358, 122649, 86492, 142219, 207473, 348986, 289669, 296509, 178309, 195584, 148294, 209538, 57322, 193285, 352057, 237879, 170988, 126021, 190290, 124953, 272950, 252993, 151977, 180667, 102343, 353696, 127306, 283092, 137367, 323790, 135500, 320451, 45784, 187601, 233511, 231166, 436798, 163671, 157612, 235124, 118901, 188081, 157287, 171438, 126060, 137314, 107845, 245215, 195453, 285854, 54012, 231689, 277541, 132320, 227154, 270517, 107584, 137707, 168740, 222247, 54744, 265099, 110554, 82552, 147140, 53497, 129102, 174503, 302195, 189346, 251240, 331539, 237943, 96245, 196725, 225165, 239130, 166371, 173248, 281356, 239409, 115963, 291529, 243636, 486332, 175710, 279337, 239415, 206066, 200136, 176138, 117381, 198316, 289944, 347653, 171091, 185177, 172032, 159255, 180247, 175696, 230229, 456618, 604537, 186845, 149734, 124137, 167440, 108196, 106679, 162973, 102723, 188693, 403107, 31221, 105252, 389713, 167728, 107308, 202950, 117767, 213140, 59944, 32185, 35945, 177304, 147258, 656036, 123037, 111232, 197997, 152004, 131310, 109413, 186934, 316359, 128047, 187352, 241885, 129836, 209454, 309098, 174794, 197372, 293485, 197080, 122952, 117767, 52187, 103260, 378546, 344129, 105281, 206253, 210498, 159580, 131608, 188386, 307638, 186303, 72333, 166585, 147251, 249550, 267776, 135339, 177787, 217460, 82393, 108681, 185216, 128617, 136413, 120939, 96330, 209317, 113198, 204219, 60661, 28367, 221947, 174394, 86625, 220460, 333296, 372181, 107125, 81853, 145692, 201865, 60414, 245378, 290521, 190115, 81232, 179413, 74895, 23438, 203138, 407068, 103358, 340899, 75227, 29393, 90159, 159449, 403671, 216134, 256014, 93853, 253770, 47247, 196348, 22966, 218678, 121425, 278502, 76900, 107682, 97688, 111394, 197583, 406662, 36201, 325353, 233882, 215503, 149347, 213081, 212954, 160120, 104981, 520775, 94432, 294270, 191385, 189219, 190078, 120781, 174308, 164065, 254291, 124436, 244605, 252058, 216145, 144032, 198316, 173736, 147258, 72896, 414994, 248851, 150061, 337666, 333651, 409189, 353010, 199266, 161325, 20795, 167771, 99651, 234220, 111700, 142828, 223716, 84119, 238831, 362787, 115005, 202483, 262439, 37931, 114324, 205390, 165804, 212856, 352465, 356238, 38611, 76878, 143699, 177121, 283872, 347292, 199555, 291494, 543162, 102130, 213321, 114158, 340885, 188909, 104501, 166809, 280410, 228057, 166758, 105686, 176711, 172571, 94055, 104834, 201522, 182314, 300829, 199018, 99369, 308028, 81282, 265266, 345705, 90273, 192939, 78859, 81413, 177675, 154398, 84619, 190179, 135786, 109996, 188069, 234743, 356089, 198330, 127921, 191503, 148549, 192866, 155574, 177121, 170070, 150057, 401832, 187643, 200733, 117210, 24872, 347292, 340335, 173476, 198211, 180211, 192936, 116358, 176178, 98287, 159297, 32446, 167725, 162872, 82521, 114420, 69579, 308812, 145762, 61885, 330174, 456572, 227615, 116677, 162494, 242077, 83348, 125892, 73338, 197353, 183639, 146908, 188171, 283635, 35065, 67929, 251905, 200190, 333541, 112271, 116508, 228190, 149220, 336404, 102308, 397831, 247880, 155343, 366232, 116960, 147258, 159755, 179013, 170421, 59924, 284343, 57914, 231491, 100295, 55699, 228686, 202210, 285200, 90614, 703107, 39756, 353213, 202027, 111398, 159567, 204052, 229300, 76855, 75759, 198452, 337768, 165982, 274475, 190786, 236601, 348491, 92472, 300687, 146908, 198216, 200408, 143368, 320744, 126754, 152237, 56331, 131230, 195437, 221780, 191342, 33423, 154410, 456236, 83253, 329924, 271328, 157446, 133821, 138416, 454508, 344425, 115488, 195385, 123606, 159929, 184045, 217663, 120238, 51620, 35211, 132879, 177937, 139906, 78529, 161819, 166327, 209483, 121168, 41865, 71556, 200603, 203488, 129513, 243872, 63062, 174533, 65160, 337195, 166415, 220692, 335704, 116991, 85194, 239397, 195118, 219483, 188950, 167009, 239865, 328923, 305759, 401998, 50341, 197997, 227332, 129640, 152629, 295046, 174592, 173832, 349620, 128553, 249289, 144071, 116666, 317434, 166597, 98427, 309513, 112754, 121124, 130652, 39432, 176178, 222703, 176162, 133655, 172175, 179285, 168553, 141944, 36228, 377680, 40021, 194059, 90021, 252646, 191856, 111218, 185325, 586657, 167005, 167848, 167087, 173316, 340880, 230246, 213140, 245661, 200381, 47310, 200295, 167955, 168656, 76939, 125892, 87518, 341358, 199739, 152163, 119411, 217460, 185203, 197344, 206862, 375680, 178792, 210275, 191529, 577521, 91608, 312232, 132393, 44791, 147845, 159442, 271446, 214068, 270436, 77336, 188738, 282611, 257500, 341410, 248344, 194654, 131686, 255004, 228406, 278322, 184400, 396538, 121313, 97165, 308608, 57413, 341368, 189498, 207375, 280309, 50397, 37933, 235124, 173938, 305259, 237833, 110490, 154863, 89508, 55176, 194772, 116960, 319582, 160120, 171231, 116255, 195124, 227832, 313925, 211585, 96779, 211497, 189956, 117319, 209214, 32950, 157262, 291755, 68898, 136823, 207611, 321959, 30796, 94413, 124137, 198069, 189123, 268252, 1033222, 69867, 121836, 290856, 171327, 207473, 182460, 224377, 226505, 200618, 411068, 226374, 180957, 306114, 200332, 45891, 264738, 80680, 419732, 182975, 151864, 38772, 175931, 221343, 210991, 156926, 344275, 361742, 145155, 198146, 195744, 145441, 212437, 225456, 244315, 329425, 48779, 209213, 173590, 90935, 349190, 175738, 267859, 26892, 216461, 24790, 160467, 132633, 130126, 341638, 21856, 179512, 163594, 237731, 221757, 53063, 33331, 335570, 174754, 200235, 234901, 137088, 23871, 152150, 79481, 105363, 191098, 116358, 155343, 138594, 111567, 145714, 190466, 192022, 161092, 221791, 207540, 202738, 199303, 271521, 166863, 31728, 201344, 440129, 328561, 271243, 102895, 210844, 150296, 298445, 29235, 159737, 65624, 86681, 69333, 282389, 30759, 214502, 34848, 65706, 219762, 104842, 154835, 126779, 127728, 161607, 29732, 267989, 158746, 294913, 126954, 34377, 183789, 27049, 111387, 222978, 151627, 182862, 214891, 208802, 286970, 180342, 70055, 201112, 192900, 306785, 185279, 193895, 129150, 229364, 215441, 394503, 236599, 239753, 216690, 40024, 70767, 405644, 180052, 87584, 33155, 46366, 151089, 419691, 103925, 127651, 143604, 239659, 74163, 148998, 205359, 35340, 31848, 156687, 196898, 160033, 73895, 145220, 143062, 197184, 218215, 407684, 190568, 101709, 509048, 599629, 99554, 353142, 131534, 160279, 83953, 104359, 430828, 71209, 121718, 410439, 184945, 180190, 186539, 136177, 118358, 30673, 169815, 131463, 180522, 89508, 171550, 149507, 158092, 279593, 236592, 145419, 261056, 199947, 171159, 171242, 146908, 196125, 125892, 109004, 164423, 154950, 152109, 162137, 53835, 258490, 416356, 229773, 227890, 374454, 467108, 149396, 159782, 400535, 27433, 27385, 271935, 113838, 106682, 169460, 284317, 54611, 38622, 204838, 378916, 33117, 297906, 140474, 198223, 148690, 36411, 33975, 263871, 95855, 206215, 249585, 123011, 251120, 193374, 298841, 295010, 342730, 194636, 112062, 195532, 212793, 191446, 57534, 211116, 133436, 268620, 234640, 165030, 192390, 334105, 133902, 274200, 196963, 155261, 195744, 248739, 192002, 145139, 102332, 128676, 637080, 326587, 251825, 30673, 175987, 212448, 236992, 306666, 175183, 216639, 103277, 129597, 387430, 157640, 57216, 167527, 119592, 260801, 209942, 422960, 200089, 111567, 151411, 181677, 187934, 249935, 176293, 82242, 215944, 297847, 146679, 118497, 185325, 188278, 210574, 145548, 101061, 118793, 124639, 266400, 323421, 179203, 102583, 190290, 43599, 35969, 227411, 290124, 178537, 163053, 180804, 191230, 285522, 348886, 445824, 34180, 128764, 190968, 220269, 171116, 207568, 131088, 172928, 238966, 83492, 188972, 85690, 152810, 223594, 155118, 194698, 176634, 213451, 270693, 120131, 128848, 163303, 60267, 203761, 127809, 155222, 168906, 353195, 182323, 141483, 114797, 101352, 293114, 403788, 63509, 257780, 117473, 366957, 157932, 102106, 233022, 70754, 126569, 102476, 266624, 101926, 223433, 177465, 243923, 226872, 137076, 39484, 19302, 298696, 66632, 187891, 224854, 211032, 181820, 39815, 189719, 207213, 169758, 204021, 228649, 300290, 239098, 195025, 353263, 51579, 255941, 271521, 190987, 387270, 217826, 413227, 190511, 120067, 154176, 216414, 105813, 123075, 140117, 361817, 301862, 472604, 215895, 464945, 88926, 259505, 190115, 201127, 84774, 141181, 186909, 244341, 95902, 19700, 353396, 119565, 205894, 149531, 161978, 141388, 222654, 291529, 223004, 104423, 73199, 398019, 187560, 29582, 102874, 326232, 146243, 112797, 279878, 385646, 159179, 197484, 95639, 273454, 360743, 244605, 109277, 252813, 43408, 164991, 199763, 77253, 215310, 32607, 245529, 175943, 206951, 344624, 90547, 183425, 74879, 215917, 134746, 60639, 185369, 251239, 248708, 195891, 259299, 247892, 190817, 89326, 226902, 33363, 159770, 145271, 214227, 28334, 260560, 51620, 340428, 347491, 165799, 133355, 186819, 112320, 44706, 113823, 22328, 35295, 136262, 214702, 259865, 258474, 478994, 171234, 265266, 33304, 24243, 201179, 68729, 160962, 357540, 141301, 243768, 34706, 159650, 149787, 39603, 161857, 194905, 357954, 43206, 292592, 226696, 133758, 117444, 181311, 183709, 98092, 53838, 245482, 159938, 295282, 324546, 153976, 113838, 38619, 204662, 89202, 159816, 136480, 37546, 209609, 210731, 195258, 243867, 266083, 44503, 278557, 95432, 72619, 112840, 194636, 28367, 104361, 162919, 587310, 131991, 169104, 148532, 184710, 33142, 107438, 85251, 312588, 183800, 74660, 94064, 146574, 341178, 111746, 233499, 229741, 169662, 97030, 29859, 34446, 155862, 287701, 257337, 178431, 204501, 121124, 448026, 139127, 112137, 222882, 124771, 159724, 123253, 193586, 392100, 181032, 99894, 284317, 34378, 152249, 296538, 260560, 153614, 186213, 123011, 114758, 171355, 220840, 148623, 252518, 142166, 198813, 236543, 185948, 160402, 33725, 241469, 202467, 162678, 196348, 237455, 102114, 95113, 77820, 149218, 320294, 405723, 201785, 144133, 140854, 194031, 108320, 464502, 97632, 34378, 325744, 128132, 150324, 196269, 35910, 25216, 124680, 177675, 100933, 239612, 29302, 169071, 189811, 40767, 113307, 193459, 168936, 188069, 301582, 186787, 168030, 413297, 237720, 50567, 131463, 158647, 93717, 30118, 204862, 103925, 177212, 257978, 283087, 201022, 43003, 61761, 192878, 239708, 185336, 152940, 291566, 113035, 155659, 99131, 119565, 32763, 178383, 190836, 105381, 147989, 107682, 34297, 161155, 214881, 144521, 152951, 189620, 195508, 111567, 172618, 240841, 203263, 258037, 34378, 132326, 109428, 141698, 259087, 164231, 198863, 315974, 135845, 38434, 192670, 109351, 178587, 166744, 185061, 188274, 154950, 199441, 173611, 355756, 101825, 216411, 72443, 67257, 65547, 188246, 236879, 87418, 71067, 125776, 297457, 205939, 261929, 199768, 254211, 244773, 134671, 32694, 129707, 207392, 182979, 215039, 320421, 203408, 129336, 182714, 368005, 153052, 157617, 71650, 170924, 198068, 222434, 174571, 188900, 56026, 126314, 179985, 51150, 357348, 59460, 213140, 173754, 420779, 203027, 143766, 331861, 126771, 89030, 377701, 104089, 80896, 315406, 118793, 88513, 190543, 131826, 54595, 288566, 35626, 245880, 73312, 326083, 98361, 247337, 147654, 43711, 259216, 232132, 121521, 193882, 191271, 163237, 207668, 83375, 247294, 266135, 258973, 342709, 321851, 238184, 116358, 446839, 198554, 252803, 119832, 39615, 306495, 206609, 198183, 148298, 274096, 115076, 133060, 142621, 249857, 214542, 67072, 188330, 208358, 160951, 462832, 224520, 373432, 129707, 176240, 177858, 213081, 72931, 158420, 278115, 83671, 48358, 95806, 50442, 455361, 24185, 184924, 296462, 147548, 143189, 229732, 207665, 186191, 143589, 203836, 294936, 110476, 278130, 245873, 234663, 228686, 174575, 60331, 134195, 44675, 241998, 239865, 190350, 206512, 181087, 166210, 212780, 191243, 66872, 156815, 110510, 290661, 230789, 174216, 120268, 132717, 178628, 161334, 176756, 218188, 376540, 369781, 382859, 150528, 65481, 324922, 143046, 321824, 68729, 296485, 129371, 247455, 202344, 32855, 222635, 301948, 127139, 141327, 196529, 209899, 194723, 196763, 83893, 176992, 162572, 370733, 190511, 167835, 266635, 152102, 185041, 222756, 114758, 200598, 135056, 214542, 176716, 160340, 136866, 75104, 182460, 151484, 179875, 272248, 199934, 104945, 174242, 241885, 138142, 225978, 31778, 197731, 255830, 340755, 367329, 237386, 186410, 173854, 133582, 292370, 341346, 199316, 341187, 109517, 125441, 214542, 147236, 161478, 77820, 184277, 66634, 353012, 61892, 54440, 199143, 118693, 232308, 60229, 64479, 268620, 233780, 305053, 94413, 303973, 181705, 33126, 275094, 265881, 102076, 248344, 90523, 38294, 190333, 171814, 212619, 339905, 190333, 312372, 187098, 83998, 93770, 193026, 274010, 106143, 214702, 105592, 226735, 411797, 148549, 189922, 243493, 126569, 118551, 340917, 181091, 157079, 295791, 215288, 298885, 311194, 333990, 99199, 74275, 175262, 156587, 118376, 188280, 418702, 147256, 224361, 216730, 195576, 195366, 146497, 237305, 201127, 179731, 235894, 160261, 60193, 110402, 31717, 233382, 249046, 54260, 29814, 292933, 175990, 299810, 127610, 105803, 114351, 105938, 65171, 244665, 109567, 82777, 94401, 84848, 219110, 316820, 321817, 56883, 89419, 205844, 267859, 101597, 280639, 118565, 195690, 191196, 173716, 323639, 313749, 108502, 281030, 506329, 235168, 89041, 359828, 356838, 193952, 96287, 185129, 52144, 311914, 61474, 173047, 199947, 438139, 125487, 250679, 126701, 253408, 413363, 300812, 200492, 236879, 51471, 132912, 108574, 289147, 186865, 161438, 279196, 283400, 217961, 198259, 144064, 456956, 180284, 165767, 152246, 160037, 66614, 157778, 346406, 226902, 158924, 229745, 46442, 311376, 138107, 214838, 115023, 163985, 162098, 164877, 396790, 180283, 207824, 29933, 325921, 276153, 344278, 115932, 192978, 412379, 326886, 49092, 283499, 92864, 75695, 223212, 259496, 54318, 269068, 168553, 558490, 183000, 177277, 116539, 43535, 329144, 168322, 329733, 180539, 277256, 72310, 110142, 154949, 322931, 199995, 360799, 222539, 178353, 276345, 138852, 167781, 65716, 191342, 43711, 261062, 122353, 212064, 261207, 28848, 157617, 113301, 230919, 117583, 189257, 349368, 25505, 166419, 250504, 298786, 135102, 219441, 142675, 737315, 260614, 190040, 199303, 375675, 286750, 205359, 198965, 67450, 179186, 185846, 181219, 231866, 123011, 344858, 109209, 278557, 31095, 260578, 290213, 185127, 201699, 217460, 167149, 177907, 36989, 313321, 181220, 50028, 95168, 350387, 149949, 509364, 80924, 109912, 174826, 249078, 121993, 400966, 168038, 188774, 68982, 193898, 128378, 109684, 199378, 29696, 138768, 75333, 35520, 175262, 311020, 273403, 234699, 190776, 76860, 182566, 219288, 202683, 502837, 454063, 109570, 329793, 122412, 213431, 247151, 254746, 291192, 125206, 132551, 172538, 117312, 143368, 184128, 327886, 103700, 180609, 191204, 196791, 100734, 65353, 536725, 104509, 473171, 30813, 120277, 181943, 349689, 151386, 164737, 182556, 379959, 549174, 121055, 250552, 127315, 446358, 302579, 168837, 52486, 222130, 126622, 259351, 320451, 79331, 99151, 172333, 62535, 205100, 232591, 198097, 111169, 183041, 176969, 241832, 259307, 242804, 184007, 258819, 164529, 150533, 89040, 70282, 219266, 187629, 200474, 221955, 137658, 182380, 231491, 138999, 47857, 165360, 149912, 157443, 228357, 366065, 326297, 51944, 196899, 269665, 241126, 69614, 54190, 151107, 196858, 175360, 63910, 233511, 279667, 39477, 107991, 197058, 202872, 185800, 59496, 199336, 137753, 182177, 32732, 168837, 246841, 181705, 195023, 248754, 110213, 335015, 216214, 78870, 211601, 192150, 220066, 125019, 82488, 175964, 59932, 170800, 201901, 128059, 286750, 24763, 274916, 266820, 169104, 34443, 133299, 45054, 74660, 181755, 40142, 83045, 183170, 298225, 444219, 220754, 211226, 283174, 49795, 173938, 319768, 25124, 212041, 158291, 55507, 240951, 183034, 83601, 189404, 40915, 237532, 272856, 323713, 228306, 190997, 53598, 315423, 47577, 92215, 119156, 66006, 176101, 95519, 195467, 217349, 273771, 203451, 195486, 116800, 367037, 202733, 115895, 192384, 194726, 228500, 272950, 322171, 252939, 324609, 197286, 36270, 153751, 218916, 160728, 34037, 242552, 257910, 121510, 193720, 124094, 180837, 31606, 255621, 242361, 123983, 519627, 28738, 109193, 33121, 208406, 359678, 57640, 147340, 166416, 356882, 231962, 278924, 184779, 169589, 203924, 260696, 505980, 154374, 110015, 109390, 141511, 36489, 264166, 169628, 241583, 399022, 286166, 269722, 326310, 312477, 324960, 174325, 216149, 89041, 283122, 232900, 161691, 146378, 389932, 280440, 188711, 164938, 193586, 215095, 162988, 609789, 362482, 151584, 105444, 181280, 163237, 93930, 96062, 112383, 194668, 170108, 243631, 205309, 117849, 409230, 103950, 76625, 189219, 373403, 100029, 305498, 156728, 422149, 335421, 124793, 144784, 117963, 318259, 242859, 218490, 62857, 131180, 96660, 241056, 33429, 143058, 207513, 96483, 175232, 126950, 241444, 201319, 36651, 198841, 344073, 157043, 357949, 245482, 301199, 98809, 106252, 116641, 165152, 268575, 133985, 155489, 58913, 111939, 236012, 147258, 24342, 179671, 194723, 91959, 95078, 216889, 191814, 606111, 164198, 170070, 350759, 110663, 103995, 231781, 159322, 112754, 169605, 202011, 120155, 126849, 385077, 176862, 69847, 142646, 150930, 281860, 229737, 268525, 153254, 115784, 203263, 336061, 30035, 243660, 106972, 124242, 167832, 227551, 308995, 126566, 280282, 201954, 126569, 33221, 23892, 179668, 171722, 266325, 188436, 91299, 153894, 195994, 198790, 155372, 160920, 163392, 109869, 401333, 235646, 104112, 253801, 214378, 28145, 222539, 258102, 204062, 214541, 191807, 182898, 176239, 462966, 162034, 194924, 128730, 251091, 219591, 66278, 203076, 132191, 32837, 126208, 136985, 125933, 69019, 189265, 174981, 209609, 20534, 101967, 38918, 96062, 177858, 163069, 183479, 212512, 342752, 31389, 184005, 101214, 421065, 236110, 22211, 164019, 239409, 444304, 191444, 345073, 286282, 52052, 306982, 304872, 158242, 203492, 227794, 235882, 149943, 267431, 173631, 359131, 189843, 193130, 36539, 240283, 72998, 108140, 33365, 164574, 176871, 24982, 91857, 296478, 76773, 35309, 321990, 317528, 421467, 96062, 177271, 278514, 290409, 276868, 325658, 297485, 325786, 193241, 159032, 426431, 143526, 264627, 176724, 221661, 309463, 373367, 165474, 193219, 182074, 298635, 195897, 188615, 172281, 99452, 170786, 243829, 417668, 53903, 283613, 221166, 343403, 109277, 185749, 38312, 119684, 255004, 332727, 280278, 228057, 124665, 146653, 222646, 200700, 98995, 178649, 119992, 202560, 158333, 127264, 29909, 179951, 351040, 140121, 98012, 58880, 118023, 434467, 170165, 119199, 107218, 193425, 250639, 119986, 138940, 142411, 184839, 200973, 123598, 227128, 176683, 342599, 159869, 141058, 63676, 219141, 46537, 200408, 147265, 36251, 253799, 119079, 55215, 181761, 193494, 73211, 52738, 236396, 194630, 214387, 178976, 64293, 177125, 44246, 99697, 373469, 193026, 169973, 38948, 193815, 71379, 415913, 238959, 209344, 164170, 181363, 176811, 119793, 40077, 212954, 203836, 227597, 177951, 27815, 247298, 230959, 214413, 317378, 73054, 253062, 113398, 57916, 89491, 36177, 271807, 157941, 436163, 228476, 163189, 165017, 136935, 245053, 95280, 180807, 188610, 35211, 298249, 253814, 278576, 110931, 192924, 145636, 138975, 218382, 161018, 191535, 67222, 271521, 102202, 24008, 149734, 320984, 117273, 83812, 240043, 308691, 189850, 112835, 119344, 151580, 155434, 220939, 169549, 37869, 45366, 252024, 270889, 383518, 235894, 117210, 48542, 48093, 352971, 100054, 103257, 128477, 113147, 155664, 578377, 195897, 188246, 203488, 125796, 306967, 261382, 176050, 198087, 115023, 306108, 256737, 175674, 211517, 584790, 204816, 379919, 200418, 195437, 192251, 122066, 206599, 201204, 281852, 57758, 263831, 209320, 248533, 89346, 173736, 438427, 211184, 163110, 170154, 160362, 24694, 520586, 270968, 312766, 151835, 370837, 41624, 190968, 170174, 321709, 173351, 121111, 136836, 50295, 264593, 208395, 308077, 355996, 137554, 194630, 169600, 66473, 257910, 176253, 120914, 129345, 122861, 164775, 284329, 101500, 180010, 174655, 157887, 135044, 165235, 185836, 379778, 352448, 100345, 128796, 214617, 236878, 99156, 177783, 141758, 224870, 201699, 188767, 510072, 36020, 162205, 393715, 83411, 123219, 185480, 207201, 97842, 426467, 55527, 258102, 331126, 397280, 275051, 162623, 95654, 148171, 327435, 81132, 73199, 244945, 166343, 172722, 151888, 272778, 293565, 170174, 180096, 435842, 87653, 181666, 194456, 154493, 195686, 269499, 132125, 173535, 119848, 206553, 123833, 189679, 382368, 210424, 110188, 31573, 51672, 142038, 127779, 313749, 271579, 199419, 196456, 174355, 128608, 162576, 105438, 172855, 222993, 240138, 208302, 372500, 65390, 192321, 56004, 30509, 198316, 174789, 216414, 30916, 177064, 357619, 257416, 111128, 109009, 113434, 203894, 126346, 227397, 78410, 65038, 384651, 297449, 285671, 269042, 209691, 125461, 249860, 177107, 161532, 242718, 204377, 216129, 236731, 151322, 146540, 133833, 314310, 347491, 143281, 136767, 449354, 361280, 348038, 170302, 175710, 164023, 239119, 364657, 155489, 96792, 329980, 41890, 29762, 449432, 135617, 115630, 60668, 412248, 36270, 265509, 159048, 167476, 72338, 287908, 314182, 108386, 115613, 202560, 177907, 183013, 173314, 181580, 327901, 311357, 118712, 31387, 124071, 192884, 74334, 252413, 151780, 153976, 64632, 291355, 117363, 54560, 396745, 111499, 24967, 305597, 312131, 109414, 174391, 52636, 37821, 340001, 159908, 128354, 138358, 124685, 208946, 176965, 109162, 197583, 199278, 205570, 42017, 145290, 279243, 338033, 211115, 307786, 54732, 192337, 116379, 249935, 197558, 289716, 362062, 116901, 310632, 268639, 117634, 217926, 110862, 113597, 32616, 175674, 314592, 245465, 199191, 53197, 183111, 96459, 47415, 409622, 224566, 185097, 207418, 250135, 258735, 351810, 32126, 178215, 118799, 249315, 48087, 205262, 140426, 187046, 122246, 385412, 64667, 182556, 377121, 210525, 67671, 117567, 388741, 408531, 164526, 248841, 258276, 200733, 82393, 173858, 210438, 123681, 76107, 81846, 102583, 168768, 209535, 137142, 163352, 151866, 99872, 458558, 202570, 91811, 214542, 173584, 318416, 182177, 137223, 188569, 276229, 168496, 214242, 188161, 211424, 274797, 96062, 301606, 97778, 237293, 151158, 190577, 212588, 179594, 182237, 43221, 265083, 157913, 259531, 174704, 204935, 67804, 211968, 130813, 193374, 194141, 320192, 143110, 70995, 183765, 97142, 50646, 116104, 133144, 101593, 133963, 193882, 156052, 78529, 22494, 340917, 34590, 183898, 94113, 101593, 208180, 105577, 166056, 347336, 76860, 181031, 281422, 39182, 212163, 57651, 113545, 217161, 28031, 99212, 207564, 31264, 97723, 133963, 340148, 152436, 262208, 216436, 166929, 251915, 308205, 231180, 79619, 81642, 147340, 159442, 299813, 333676, 42563, 190450, 180985, 116825, 24364, 68781, 162572, 200153, 91039, 268022, 242375, 99185, 177945, 459465, 219682, 33397, 35824, 229613, 253814, 131461, 202033, 208068, 88126, 161155, 229895, 177531, 326156, 192939, 348152, 389725, 150309, 176185, 137354, 266070, 163392, 316246, 128092, 242488, 70720, 33323, 282674, 159028, 39092, 230574, 198654, 144860, 99270, 177733, 297152, 117166, 315321, 121370, 248445, 143046, 37289, 50053, 124483, 102058, 254221, 37720, 252187, 20101, 369825, 179666, 154120, 165441, 195516, 190729, 110445, 126569, 181814, 52221, 186909, 121966, 390472, 293691, 194290, 113870, 109133, 433669, 177287, 119199, 88019, 246439, 149388, 216811, 359766, 35557, 38309, 148738, 242861, 141058, 206903, 283913, 98215, 290290, 207668, 357596, 160786, 159726, 183410, 145409, 35969, 188861, 272950, 210940, 207284, 225156, 266150, 147821, 161075, 33975, 160647, 188507, 163665, 155232, 220644, 183739, 53197, 138768, 219546, 23646, 58222, 174788, 96748, 181344, 42003, 270194, 53271, 26987, 125933, 116286, 447346, 210794, 155408, 156192, 77759, 423616, 141824, 204304, 144761, 239781, 70100, 345831, 164607, 243165, 263024, 249956, 133299, 334273, 88506, 74581, 113203, 194901, 231160, 226129, 162256, 107165, 208862, 43711, 205940, 258298, 42703, 150079, 181372, 30602, 89477, 215620, 237651, 149507, 282398, 231826, 202373, 171818, 180899, 83508, 324629, 78170, 190174, 165235, 78765, 203836, 304463, 126730, 204640, 228320, 102308, 44671, 294919, 196396, 421223, 235853, 205706, 192869, 103931, 145649, 276851, 214816, 391122, 383384, 30824, 106753, 225124, 125796, 309580, 173981, 236943, 142766, 189590, 184498, 198346, 23776, 170217, 69333, 466325, 298225, 70240, 232577, 158752, 179877, 247187, 345705, 155603, 188540, 38795, 116580, 101709, 296798, 96678, 82777, 22418, 320376, 180382, 105808, 454915, 75826, 167652, 99476, 195994, 257621, 180446, 260696, 194472, 235624, 161092, 338320, 164427, 200997, 137876, 204742, 156745, 348099, 196232, 139193, 140673, 346909, 36228, 91262, 197702, 123147, 115631, 84231, 290306, 227714, 270151, 809585, 67433, 180418, 273241, 178510, 96452, 257644, 125489, 223277, 228752, 216867, 223613, 189265, 216827, 62396, 141896, 107389, 287079, 698418, 115890, 193701, 198997, 109445, 128736, 132749, 180624, 117618, 139616, 315977, 133569, 245196, 312498, 318763, 199539, 130905, 132879, 143062, 31137, 124076, 52603, 198341, 72887, 27067, 275361, 250038, 57600, 87745, 111067, 138152, 114580, 21626, 380633, 54744, 289116, 108247, 308334, 171228, 224105, 262778, 203570, 211028, 291386, 355686, 195124, 126675, 378707, 254146, 183898, 192973, 196029, 157289, 171150, 256522, 38455, 302945, 30731, 189502, 187873, 108438, 240988, 80933, 48520, 207875, 62546, 121912, 30529, 96262, 182136, 162238, 287008, 219705, 219835, 56269, 139889, 179759, 73190, 28497, 155475, 191149, 548303, 337286, 272359, 183151, 34568, 99502, 111994, 225768, 242552, 215477, 181659, 19914, 232577, 141807, 29430, 40666, 108293, 113035, 31053, 101481, 194901, 275884, 86958, 197292, 93885, 284651, 107231, 206862, 64322, 240389, 148294, 162943, 227832, 198400, 288781, 69132, 74243, 106176, 288825, 210313, 254989, 251508, 102180, 97759, 373895, 175614, 77146, 193188, 397346, 180988, 183168, 464536, 155781, 57071, 274969, 176863, 394612, 136017, 271092, 196945, 105010, 141003, 116391, 412156, 250647, 263608, 330174, 203894, 144594, 230136, 130057, 69727, 121836, 154342, 220426, 325159, 144778, 331894, 48211, 73514, 197481, 219962, 145409, 151408, 101684, 159313, 159755, 166003, 212781, 84564, 196328, 195096, 118567, 146719, 210781, 72619, 31368, 234807, 324960, 159929, 263746, 184831, 70240, 191648, 412379, 358701, 184207, 120629, 114670, 131230, 483822, 221532, 209833, 334346, 197184, 185203, 204516, 390867, 60562, 34832, 404998, 211334, 266281, 154246, 182117, 140478, 110871, 226756, 199452, 126668, 89564, 124685, 95149, 95997, 274111, 242564, 108438, 114605, 208358, 188612, 82623, 115963, 277695, 175715, 114678, 188300, 162613, 283969, 213902, 109413, 162593, 36671, 201145, 165020, 124356, 186269, 226267, 65866, 202729, 244566, 180150, 190895, 127366, 158315, 688355, 310907, 160724, 445382, 175431, 30575, 190273, 33945, 29320, 354591, 212894, 250182, 234663, 173804, 192039, 462440, 173704, 113398, 205246, 204461, 258633, 135520, 104892, 223019, 319697, 164938, 161141, 55674, 190591, 55377, 261059, 35015, 250165, 427382, 149981, 467108, 185744, 115896, 177366, 398067, 185405, 159724, 280344, 192779, 264055, 270194, 103395, 183810, 305846, 98752, 33105, 127185, 456618, 123302, 106179, 184655, 322674, 63526, 202027, 108945, 245199, 167761, 255835, 109766, 137192, 121772, 189251, 238912, 161637, 149726, 226145, 32528, 150533, 68015, 479765, 193882, 210474, 348430, 174533, 105304, 264663, 208470, 81965, 115215, 72143, 456062, 262664, 234143, 311446, 124604, 114835, 209057, 124420, 190391, 37672, 509500, 125010, 255109, 217200, 239663, 178487, 138938, 159604, 246739, 188515, 213008, 252168, 243380, 248886, 25319, 207058, 243190, 158592, 104461, 108293, 254211, 111363, 35683, 191712, 86065, 123397, 105838, 193479, 117605, 180079, 177083, 234663, 134130, 180599, 53147, 548510, 235924, 204596, 252646, 115932, 806552, 137042, 208165, 199856, 197919, 144531, 115178, 67218, 176285, 63509, 243587, 127678, 146110, 172022, 175343, 195922, 172822, 192982, 165235, 133696, 216481, 227594, 117393, 206609, 116138, 283515, 213383, 127772, 105188, 113054, 131552, 172828, 117496, 186191, 162424, 183620, 300104, 182833, 196125, 201318, 175262, 151094, 104196, 91343, 140798, 198813, 177216, 396595, 244473, 46868, 113838, 358682, 126945, 235853, 165815, 54608, 46814, 279980, 154713, 245487, 163083, 203488, 40623, 164593, 98733, 273818, 83444, 176729, 226288, 296326, 224541, 169104, 344172, 219546, 239663, 271466, 376680, 213902, 206051, 288154, 153790, 77760, 347446, 82998, 76142, 236746, 106541, 384236, 106297, 256628, 204325, 311551, 254270, 158948, 130856, 187167, 188815, 325374, 236861, 26842, 107916, 304973, 314819, 272669, 116608, 203435, 191357, 361494, 227858, 53893, 50197, 257588, 158993, 209040, 32212, 229826, 169249, 59287, 175856, 283760, 148409, 211319, 156718, 116613, 183205, 187164, 308118, 84756, 29658, 68021, 347321, 119929, 149217, 95885, 176317, 168324, 211253, 99309, 170800, 114447, 217296, 295949, 65991, 127388, 213821, 210648, 34788, 234286, 247978, 220585, 219835, 132222, 235320, 33939, 158040, 204052, 182809, 125892, 107123, 96080, 53513, 205735, 215443, 269354, 28035, 102147, 108887, 341643, 124975, 312881, 37274, 180052, 101266, 409200, 173050, 353696, 258579, 126003, 207301, 166153, 166744, 109133, 102323, 87310, 133937, 137253, 145434, 173005, 269318, 310085, 327825, 223515, 107814, 206066, 35309, 140854, 185099, 149809, 104146, 62507, 197387, 33124, 152030, 111163, 124111, 149210, 224185, 45834, 190385, 47907, 360131, 138634, 102559, 183801, 196564, 118853, 325538, 84808, 267661, 154950, 142719, 177896, 180752, 197012, 141326, 333108, 348618, 177633, 266668, 236470, 60186, 29819, 32406, 55176, 294991, 271328, 391114, 127894, 297796, 148549, 213140, 218678, 100226, 333530, 189574, 156300, 38950, 172375, 156842, 191776, 208452, 175587, 242984, 259019, 116207, 38771, 182926, 26543, 183885, 38876, 163003, 196788, 94057, 124020, 30447, 115945, 41496, 82531, 126950, 192053, 189632, 189216, 117791, 126327, 287480, 54929, 178709, 122246, 316183, 100313, 320984, 374108, 229756, 110442, 175029, 155972, 290560, 343847, 268234, 172962, 268358, 210563, 309895, 158615, 340940, 188834, 386370, 236769, 297767, 330132, 152744, 156403, 154966, 84610, 98361, 35295, 126242, 180303, 115851, 127772, 142535, 62339, 289572, 242089, 223752, 126511, 304353, 149912, 199046, 198145, 134220, 368561, 205499, 246396, 161683, 67053, 491000, 147110, 374313, 89041, 155963, 251603, 199336, 215395, 227626, 192835, 427781, 118701, 93235, 295520, 284129, 377869, 119471, 440647, 94334, 680390, 222142, 165310, 108097, 172579, 177791, 153976, 134195, 124793, 254304, 298301, 205649, 127833, 117549, 314149, 132130, 46609, 362795, 120985, 212318, 203763, 133853, 139466, 435604, 204235, 239806, 58065, 327902, 142581, 122094, 164395, 67065, 125796, 355259, 28765, 387776, 77392, 363591, 389147, 104089, 113397, 129298, 186035, 140206, 206459, 102069, 283757, 114691, 199326, 363405, 169435, 83517, 139703, 218724, 153870, 170850, 127117, 343957, 306779, 195638, 210464, 103643, 99911, 217994, 259301, 204410, 163894, 68684, 109307, 155489, 260868, 101722, 60288, 231053, 80896, 116613, 208946, 50879, 192133, 29887, 419658, 234901, 285169, 83411, 103111, 125461, 151790, 119422, 193855, 30497, 29928, 105943, 178644, 94962, 312055, 452205, 72338, 55363, 282394, 212894, 124924, 249096, 306868, 300681, 276009, 156950, 148645, 169188, 209472, 118696, 144844, 186035, 248249, 201099, 334314, 191269, 160893, 131826, 225193, 182117, 323069, 196119, 183930, 44767, 70092, 129172, 142573, 344480, 175304, 181572, 161463, 355978, 115323, 108933, 29658, 202322, 303187, 183800, 224849, 156400, 102180, 80771, 43716, 39369, 39827, 216931, 185042, 181667, 97883, 346341, 193586, 223934, 130760, 168981, 152933, 199265, 63734, 183523, 254478, 114967, 103948, 45599, 215943, 187053, 185145, 102041, 195813, 262570, 250038, 116541, 120939, 184466, 423222, 100593, 110199, 202560, 173607, 31577, 98051, 361487, 224059, 166961, 157686, 210525, 192695, 112200, 308945, 187821, 145886, 210562, 179008, 374524, 64506, 33432, 266529, 342709, 223433, 52967, 256335, 245090, 90159, 207923, 48458, 148955, 160724, 218640, 100818, 277347, 159179, 194740, 84888, 195507, 314525, 259496, 204984, 183557, 29526, 37019, 267546, 133060, 187322, 266530, 156843, 116539, 181546, 29235, 154548, 237729, 186272, 171015, 201127, 303446, 633742, 180920, 186824, 39586, 95946, 44728, 38251, 126675, 181232, 104879, 168470, 79531, 82783, 83880, 76317, 191540, 73289, 239130, 195284, 75472, 139903, 218136, 129263, 29174, 33886, 225142, 155141, 74631, 349066, 189975, 61518, 123382, 88368, 296253, 423024, 145333, 51498, 145964, 102359, 290640, 206354, 273792, 214542, 262345, 162404, 90653, 91683, 154227, 123393, 134886, 187487, 100584, 135840, 151985, 440129, 115824, 261232, 235853, 170866, 31339, 178829, 190709, 37869, 199599, 354078, 193920, 293512, 340940, 90803, 428030, 188278, 224640, 223062, 205024, 287681, 355954, 173647, 86872, 187538, 444304, 77146, 111891, 169879, 228535, 186191, 30916, 379798, 189911, 126386, 23494, 187251, 200783, 176690, 324654, 168212, 190541, 200783, 303462, 97883, 99199, 105252, 88432, 167886, 166813, 187046, 236977, 246392, 144460, 59474, 170154, 181291, 107242, 192663, 355856, 217689, 240013, 283676, 199303, 214993, 138992, 193960, 75654, 277408, 353512, 204226, 264052, 246197, 75167, 193720, 57233, 295791, 176069, 293291, 65738, 242460, 122283, 313573, 42703, 120426, 112291, 226013, 279015, 189762, 120277, 340458, 37997, 197552, 145441, 297449, 178615, 109815, 242597, 120130, 221129, 79531, 258633, 87076, 286960, 56322, 324637, 350845, 176931, 112607, 137065, 116554, 165479, 161691, 314627, 209934, 26672, 123983, 265086, 132636, 46987, 174215, 176146, 186845, 193130, 98776, 371305, 334693, 176321, 68393, 252327, 403037, 176014, 227070, 286824, 230020, 236985, 117606, 176467, 269583, 52262, 67386, 146949, 221072, 389254, 261943, 329144, 170092, 162741, 139193, 284834, 182163, 220901, 219426, 274800, 390369, 290286, 172755, 168187, 107164, 345969, 181916, 113546, 113544, 72351, 182211, 33983, 138768, 110164, 174789, 314659, 212838, 167476, 196610, 184440, 164190, 165201, 170850, 308296, 152878, 255582, 348504, 178551, 79923, 301654, 388112, 200496, 53628, 205188, 44064, 218357, 146659, 33304, 498785, 213276, 168187, 140752, 199227, 306467, 48123, 304906, 283217, 179498, 346321, 173224, 230329, 347491, 311177, 189664, 140854, 91262, 51499, 44064, 153535, 194740, 188069, 116666, 147729, 109133, 30457, 137645, 240686, 117683, 191389, 246212, 84399, 279636, 225211, 106890, 189590, 136224, 239439, 310864, 410034, 202956, 131002, 48102, 279968, 70568, 98092, 533147, 117363, 94235, 206777, 216414, 209538, 415287, 300584, 43535, 106257, 156728, 108914, 431245, 64520, 203039, 192793, 159908, 261241, 240160, 215419, 1268339, 278253, 90406, 248990, 80945, 150601, 64289, 451996, 176286, 595000, 293791, 191256, 46514, 191342, 171429, 203357, 136277, 36011, 39803, 346871, 135138, 124827, 114158, 259479, 159179, 917220, 401134, 156623, 320071, 131288, 347720, 121124, 127671, 225507, 306496, 60227, 120451, 36885, 233851, 103064, 246439, 188069, 205424, 125120, 179508, 271603, 151910, 122584, 21698, 349368, 225024, 227796, 206521, 36601, 203334, 34104, 170600, 82566, 328697, 168109, 113838, 189933, 256240, 169990, 174732, 126613, 75012, 205235, 339372, 178341, 176134, 233419, 315984, 193524, 107302, 111095, 668319, 121004, 503012, 226978, 350498, 232985, 187802, 187327, 57916, 290856, 194772, 107125, 113200, 54243, 63921, 193524, 111746, 175942, 216475, 123965, 97688, 173243, 104232, 197054, 197886, 31965, 112074, 185366, 197932, 100653, 178207, 185079, 200734, 227886, 95455, 419722, 107617, 166666, 57233, 224338, 271962, 236246, 107584, 287920, 235271, 226267, 334039, 29145, 188972, 171351, 266126, 174283, 105478, 151476, 228583, 137232, 293828, 223242, 444554, 218215, 165673, 230684, 40444, 121195, 88725, 133420, 113635, 192259, 202053, 243425, 504951, 199067, 481987, 156542, 43348, 323605, 393712, 216937, 169031, 85126, 415037, 225014, 47818, 229983, 509060, 401623, 273929, 31387, 165799, 151810, 177387, 186569, 125417, 347025, 175641, 29054, 216473, 217006, 174592, 173858, 434467, 301614, 186188, 165667, 185621, 259929, 313729, 97842, 99388, 75673, 34173, 224947, 174912, 460046, 115717, 41258, 378322, 260997, 146788, 168625, 181081, 272944, 327120, 117827, 175273, 115066, 63184, 98010, 36327, 183092, 187830, 198766, 395831, 109089, 117158, 97723, 70655, 146378, 44368, 166036, 234537, 227943, 121144, 92430, 172496, 169329, 173628, 105616, 212506, 79443, 26410, 238574, 311569, 209205, 97167, 170091, 211762, 203067, 434292, 208809, 117496, 183824, 107458, 226956, 213008, 273324, 203828, 113211, 147397, 355856, 404023, 216724, 202508, 133969, 189792, 167889, 167159, 290740, 574271, 125000, 34246, 119272, 196857, 163204, 295108, 460835, 105614, 100800, 179048, 211482, 378009, 195612, 166636, 112952, 40915, 230268, 301614, 132606, 178623, 272656, 225823, 181920, 137018, 365020, 94235, 290688, 43403, 171635, 126494, 394927, 169496, 96467, 102442, 129311, 429897, 33983, 307423, 318329, 185413, 199934, 117058, 176683, 77723, 98155, 207982, 266080, 317153, 192984, 206369, 125298, 24008, 123429, 62539, 102178, 154087, 36425, 100882, 192565, 226875, 227491, 48895, 360593, 325089, 445940, 180859, 85918, 133503, 137304, 50178, 399246, 161950, 73394, 100999, 205309, 176486, 191002, 119177, 42900, 250630, 26248, 161400, 334291, 95435, 125892, 191355, 282964, 85572, 225660, 120429, 180695, 210830, 319422, 272090, 154785, 420277, 189924, 26857, 116508, 351161, 295922, 167031, 283918, 181641, 124090, 27678, 336513, 406978, 358461, 196504, 187748, 115023, 196805, 86805, 80167, 163708, 24266, 242150, 201112, 174132, 231043, 100669, 408717, 137795, 78104, 199191, 101950, 190044, 43269, 193047, 198258, 187033, 153489, 356344, 225339, 609789, 162028, 177305, 188809, 253190, 231438, 284329, 241998, 146154, 309348, 254547, 128230, 252506, 249727, 196332, 209370, 578701, 102610, 247025, 370119, 335570, 165822, 157473, 200227, 230478, 220314, 184117, 242108, 143766, 90021, 153078, 45546, 188576, 115040, 250314, 403489, 155664, 67671, 320277, 182163, 244087, 105862, 247547, 197202, 152676, 164309, 205153, 41901, 174319, 197207, 78786, 266467, 346693, 114937, 122048, 162003, 30731, 428499, 227070, 201495, 348854, 76482, 77927, 167334, 366207, 155403, 191841, 216208, 109463, 421633, 120781, 211678, 69182, 105936, 80616, 218596, 106517, 173673, 113364, 246974, 152493, 62932, 72338, 134113, 189462, 312338, 34364, 105266, 194243, 172666, 63299, 106698, 36999, 152328, 498349, 150025, 437890, 215546, 167864, 78875, 143771, 338816, 209057, 134886, 240172, 244172, 215392, 26904, 241998, 132819, 213722, 316509, 223934, 608184, 187502, 163685, 105866, 225890, 300777, 278391, 359808, 40666, 177651, 74056, 104632, 153408, 241306, 141040, 111243, 208431, 144844, 124052, 31717, 247711, 407913, 344060, 201908, 97870, 353263, 81513, 57916, 278557, 391192, 222654, 308334, 245090, 142647, 217961, 348172, 182533, 184846, 104849, 315143, 64520, 314165, 144798, 159049, 29375, 120781, 68037, 128016, 157332, 87006, 177526, 190539, 243858, 120131, 25932, 189511, 240027, 320451, 182944, 93272, 199471, 185832, 406468, 247750, 29591, 201127, 142519, 108658, 289653, 193116, 173945, 345489, 164050, 224559, 35783, 44006, 152452, 221533, 298539, 82566, 295010, 160703, 72630, 90363, 195978, 81578, 211654, 190290, 203653, 50953, 191834, 348022, 186078, 268840, 269080, 220132, 304283, 151210, 265275, 270421, 189759, 172104, 166626, 219591, 335168, 183829, 123598, 34378, 95423, 59380, 560804, 54985, 82552, 93099, 321856, 145166, 233168, 211968, 99076, 115289, 70617, 102130, 193787, 241297, 249935, 99185, 392286, 167990, 389254, 37302, 173888, 194580, 129525, 241885, 173938, 359985, 191565, 462294, 287986, 97855, 275223, 132686, 181896, 313146, 306850, 77332, 99551, 191954, 198223, 113323, 290754, 115989, 130620, 230684, 214678, 90624, 152754, 141742, 137674, 156848, 152240, 215047, 24344, 25955, 44216, 122922, 88579, 113062, 94318, 45316, 291979, 178778, 144928, 106316, 324947, 74024, 169683, 120029, 398827, 219155, 219535, 150361, 105060, 91501, 181091, 167497, 289909, 126550, 109231, 74660, 110417, 375657, 156926, 344200, 131982, 22154, 288437, 251521, 196280, 160785, 228320, 250201, 192413, 150958, 389725, 39665, 98361, 101978, 22245, 174767, 214731, 363963, 163229, 167405, 198316, 213977, 167967, 175083, 150095, 276247, 237321, 175232, 274724, 408229, 317681, 287315, 261241, 124692, 116797, 197387, 182854, 48189, 355320, 106900, 199011, 390348, 112181, 181902, 318452, 143062, 137814, 88528, 108140, 177526, 267471, 94345, 159849, 172898, 58126, 46162, 222434, 220187, 194197, 167787, 205337, 201122, 72208, 96282, 119101, 179137, 302473, 203003, 154571, 336880, 312785, 224232, 26109, 321851, 151087, 20308, 82388, 194304, 312271, 176992, 132683, 192236, 188432, 104440, 235167, 221403, 29250, 115677, 186130, 149044, 231238, 124242, 311020, 221366, 97136, 244172, 43479, 158834, 42279, 148709, 179625, 322385, 157403, 67234, 63105, 127315, 135289, 176751, 49401, 155449, 255004, 32950, 247975, 399022, 310101, 152696, 416165, 154728, 167737, 209826, 173987, 209034, 34102, 168048, 90692, 49657, 165309, 155621, 273362, 331875, 197764, 190772, 160893, 161662, 56645, 89392, 54052, 63996, 388998, 328239, 185554, 42703, 243178, 98155, 160724, 183916, 54317, 156413, 204447, 193366, 288020, 46281, 340217, 192017, 98941, 53285, 184723, 225526, 298215, 170850, 219599, 117299, 224566, 251063, 136819, 215712, 168138, 103649, 113080, 240231, 257416, 59732, 176186, 363707, 70377, 179659, 101452, 292023, 203628, 340475, 180239, 178272, 108402, 143570, 175127, 190423, 175622, 159910, 261584, 149347, 140713, 115331, 276309, 163287, 127601, 130532, 216284, 151053, 95636, 257124, 161631, 167537, 241667, 144911, 216691, 41400, 424494, 447882, 120535, 138192, 167414, 167552, 369463, 155930, 255476, 398918, 37778, 159796, 177368, 205051, 364782, 141841, 109240, 143804, 129573, 208326, 212245, 79649, 404573, 231348, 181828, 306156, 137076, 200967, 338105, 112820, 110556, 30529, 395567, 261023, 195327, 306495, 265706, 244087, 232618, 34626, 213615, 245369, 186696, 165186, 368757, 298860, 388023, 177711, 120539, 248619, 208426, 568490, 313945, 130795, 275190, 200089, 207940, 144259, 206609, 239755, 81528, 323811, 335005, 84119, 112181, 245626, 153869, 208613, 51961, 94193, 370494, 97212, 56648, 185127, 312157, 80771, 329980, 254291, 140849, 125550, 118693, 393728, 193568, 49278, 268451, 156805, 178416, 332249, 256278, 176262, 161676, 161922, 90934, 101265, 53220, 266119, 186325, 106700, 194636, 543028, 123343, 345285, 39411, 660461, 163847, 456110, 101017, 59474, 106334, 373366, 128363, 236627, 27956, 103435, 332355, 209103, 133929, 192453, 266015, 161538, 96359, 282313, 262158, 207253, 292472, 51100, 107658, 174201, 345780, 62793, 118686, 194259, 188923, 258102, 187264, 214816, 426001, 358373, 451996, 20057, 70447, 163862, 135416, 110998, 274528, 260106, 264874, 192323, 206681, 211494, 134768, 196508, 153151, 462869, 286675, 1366120, 316929, 71768, 108699, 60981, 50459, 258862, 198200, 136787, 98010, 366089, 52849, 252714, 250034, 611029, 137126, 175643, 34503, 116632, 189728, 144351, 305446, 197422, 156292, 144723, 113466, 602513, 48063, 130060, 350247, 130200, 153291, 123703, 450695, 257295, 174603, 110457, 175789, 98642, 83704, 184285, 183915, 334787, 267763, 225399, 195545, 114765, 106377, 55294, 299828, 247819, 233777, 140544, 103205, 121245, 355865, 126568, 273604, 147002, 282549, 226267, 265097, 61708, 73809, 285263, 123053, 63000, 354104, 43716, 191779, 168539, 149640, 247328, 239093, 128382, 212800, 188976, 205759, 310380, 191299, 117477, 131224, 306440, 104509, 207505, 102729, 35448, 174924, 167159, 186884, 223548, 44793, 268861, 220943, 204085, 138975, 276568, 187322, 128876, 74141, 101709, 175070, 165278, 37913, 109705, 40955, 50953, 355978, 155469, 302422, 233933, 34748, 148316, 112139, 226733, 112497, 715938, 31826, 329054, 199227, 184655, 218551, 160631, 349986, 139012, 206520, 204682, 115705, 59313, 268145, 115244, 185452, 188048, 228157, 124827, 38537, 53304, 180758, 148995, 137606, 426263, 359249, 193882, 126978, 129956, 190805, 133169, 20296, 201882, 132320, 452283, 81243, 233130, 76460, 229729, 104996, 226608, 59335, 205712, 41013, 379242, 128516, 133144, 86600, 416338, 126129, 383745, 181220, 115806, 175935, 201560, 146409, 322143, 189674, 341762, 187215, 99065, 388156, 107452, 69333, 190385, 276087, 261646, 543922, 258561, 169639, 140644, 86483, 132870, 308279, 328776, 306289, 207449, 147653, 148222, 224799, 179444, 321171, 138621, 111961, 415520, 263925, 217886, 109611, 363192, 407672, 180695, 194698, 147548, 194630, 67903, 94600, 358886, 273402, 148254, 496025, 344414, 87891, 220342, 195755, 188888, 44780, 101345, 373050, 138692, 291407, 173682, 169069, 202950, 198425, 153475, 143953, 205604, 113324, 291755, 52028, 155233, 156117, 34572, 41610, 194325, 248384, 114225, 96073, 54507, 212864, 68577, 167878, 48087, 213349, 125833, 198316, 40925, 66304, 176814, 88050, 259363, 230246, 323627, 285131, 155594, 145041, 424855, 262478, 169699, 342019, 184682, 165799, 344176, 147280, 197583, 255885, 65535, 106748, 335549, 120131, 48014, 176027, 31290, 93415, 158827, 308373, 200574, 99761, 137142, 146042, 357612, 242651, 201080, 118536, 120238, 185041, 21472, 81534, 108276, 55237, 317219, 192515, 134727, 285020, 30599, 28887, 99233, 285294, 226546, 190139, 272618, 183902, 170721, 134152, 427965, 168165, 606752, 242391, 339667, 161198, 152373, 205860, 246439, 192381, 328525, 165138, 27049, 86373, 225065, 193494, 255582, 155408, 47176, 182416, 169925, 96844, 309272, 46097, 276218, 32732, 171540, 313873, 149210, 167350, 182355, 160167, 23037, 288568, 120277, 217775, 50649, 195638, 297296, 59469, 94662, 185769, 42298, 173370, 210013, 238438, 105803, 53481, 29235, 107287, 120238, 190772, 76344, 145441, 144137, 181652, 157951, 167919, 149368, 357720, 150154, 368947, 93206, 102663, 226735, 172232, 276540, 218215, 262872, 82880, 328242, 95150, 40151, 175942, 103538, 182344, 287737, 799281, 136419, 153066, 181776, 56460, 248164, 195372, 101887, 70655, 73471, 141877, 113290, 188246, 229466, 34568, 208358, 161386, 214469, 122220, 175925, 258883, 254905, 171424, 145504, 85995, 240183, 547886, 185407, 174102, 204235, 110238, 130021, 155701, 237341, 257485, 151773, 181054, 194962, 33616, 102828, 123157, 106023, 182186, 223515, 162397, 206343, 122775, 182342, 315877, 325390, 54608, 204556, 97778, 139012, 595088, 303822, 181608, 375655, 409922, 123374, 81654, 35102, 50468, 41183, 141085, 264052, 226443, 150025, 37070, 54782, 117814, 158437, 101468, 228696, 482732, 320196, 119793, 191062, 106670, 112847, 246820, 184678, 43475, 174789, 187711, 96635, 157747, 226735, 154297, 214955, 273287, 211049, 86143, 121889, 249543, 188003, 167065, 204653, 174171, 456661, 204018, 157569, 219902, 234841, 309348, 309504, 35644, 435022, 340982, 112847, 150975, 203580, 149943, 230484, 118352, 39386, 167558, 133336, 407669, 197284, 151801, 609789, 108140, 71417, 211293, 39380, 216999, 27661, 159479, 260761, 223214, 102864, 142766, 209535, 133969, 200679, 158177, 99339, 168956, 182302, 128990, 393673, 112840, 224531, 322873, 104052, 232918, 282579, 124963, 328981, 67240, 95909, 31143, 26669, 168672, 367306, 90881, 240049, 22245, 187089, 125280, 106982, 26683, 182117, 128354, 198103, 296849, 51424, 191858, 153976, 137578, 135607, 220641, 174327, 260960, 370045, 189888, 242670, 124930, 308205, 190762, 29054, 98980, 227359, 27821, 110457, 202872, 65087, 27049, 301229, 57674, 189382, 186188, 126071, 165267, 137898, 80058, 191260, 137296, 162189, 231826, 187563, 139364, 122346, 344060, 202091, 206974, 113440, 34862, 167424, 159732, 69758, 477697, 178322, 207246, 235786, 202560, 203034, 170579, 196342, 102270, 47496, 169496, 19847, 95566, 51835, 124686, 183810, 244473, 28952, 548256, 410489, 46496, 102942, 200835, 340428, 186934, 409189, 218164, 35406, 227489, 280966, 120131, 143266, 106961, 32271, 110713, 294387, 86808, 193380, 67852, 252284, 109133, 309974, 403489, 44489, 168443, 354464, 170099, 276075, 124569, 329059, 159442, 102569, 197552, 109001, 216070, 67090, 98418, 209691, 39222, 25837, 376230, 33404, 198815, 188774, 171986, 239161, 151504, 303051, 288353, 143266, 158416, 216481, 149726, 129856, 348802, 169672, 24106, 126675, 443508, 178134, 127085, 63921, 149624, 74160, 205730, 82938, 192779, 171928, 50814, 207064, 83610, 253262, 53245, 39232, 231562, 206512, 191342, 117480, 103064, 181363, 24395, 198203, 199806, 272944, 139743, 100453, 160968, 44075, 180553, 334618, 263614, 65920, 746432, 147719, 76127, 180060, 159939, 205424, 202699, 125155, 293063, 202729, 65225, 96129, 253841, 97741, 26892, 37440, 174575, 245056, 103277, 184425, 96840, 279881, 416745, 139180, 196678, 286002, 145983, 193583, 205339, 143062, 164585, 118023, 131611, 97883, 86551, 355856, 235079, 361888, 206823, 433669, 35032, 254773, 264526, 232855, 561334, 183479, 149427, 271665, 218550, 127749, 126513, 125831, 256649, 118657, 114971, 29444, 138938, 277022, 172987, 197322, 37918, 306513, 215392, 183802, 91819, 110668, 110243, 283635, 177705, 379118, 175456, 92215, 180284, 181655, 186934, 193416, 164280, 241752, 145711, 152503, 79050, 194740, 431515, 111520, 177398, 109952, 281590, 292472, 54190, 122672, 121012, 309124, 169871, 145439, 188644, 155659, 161638, 110622, 234190, 211022, 205940, 110457, 374253, 278107, 201680, 304530, 137814, 189916, 172907, 209205, 173730, 104737, 145329, 172927, 239880, 110648, 30289, 124971, 190514, 217083, 191117, 292504, 258430, 73585, 315460, 117721, 181863, 375114, 283921, 119986, 298860, 151506, 149220, 106780, 184321, 188925, 206322, 272944, 402367, 341117, 119944, 149670, 185407, 40295, 218249, 85018, 200511, 183224, 207677, 25240, 80058, 57924, 117917, 200426, 148015, 128796, 341709, 177484, 215873, 151990, 281030, 108933, 190836, 332727, 132806, 163212, 160155, 93476, 106627, 273194, 149650, 104223, 127089, 200246, 240081, 149640, 205865, 516337, 33729, 204816, 173090, 401451, 135603, 190290, 227298, 400616, 275395, 29571, 282142, 164441, 280603, 225548, 41721, 216984, 36956, 202872, 261278, 189368, 141858, 120839, 165474, 162947, 238311, 320818, 90752, 222884, 190660, 157942, 164441, 144608, 188081, 164332, 226443, 36302, 150533, 249787, 137952, 112584, 121488, 104333, 248059, 140985, 124137, 114158, 160968, 176683, 217039, 234663, 221324, 225053, 261119, 125000, 67482, 235951, 183800, 34080, 342769, 236687, 347166, 548361, 339863, 112517, 356838, 187329, 67006, 424988, 170324, 90705, 267798, 183580, 117502, 201178, 191335, 209292, 138022, 107801, 20507, 266912, 313243, 374883, 82551, 34996, 194690, 95577, 182812, 30219, 326048, 197905, 94809, 85482, 198277, 267252, 177211, 199590, 115488, 201554, 56964, 404998, 152035, 380543, 130125, 299422, 35854, 310320, 131631, 144593, 65278, 49087, 64520, 211154, 158319, 193689, 162228, 229418, 176026, 59612, 145868, 78529, 187847, 186815, 46561, 113000, 190895, 268051, 207948, 174461, 44434, 362883, 200922, 235853, 232139, 140764, 231972, 202682, 36489, 192732, 181822, 223696, 215243, 178866, 110622, 194534, 337664, 234108, 283969, 178037, 200047, 195739, 119793, 84560, 347653, 227065, 250832, 170020, 297759, 33109, 107801, 147340, 51816, 316261, 80638, 61898, 59969, 213643, 178417, 67218, 279315, 218015, 123011, 143482, 176796, 160300, 78530, 268525, 273230, 301168, 205852, 214604, 151504, 88055, 410034, 34307, 180532, 110977, 253354, 276515, 154205, 173806, 197558, 144593, 259510, 274657, 42696, 160187, 160674, 42706, 103344, 398988, 80410, 543042, 207791, 81286, 243631, 187370, 274398, 68729, 145574, 49884, 355477, 221603, 206046, 305466, 142494, 315065, 410919, 220187, 155256, 182200, 200471, 167149, 155094, 27494, 68624, 91189, 114797, 162687, 167138, 202878, 210945, 172664, 122166, 209448, 63577, 193689, 56651, 286101, 117944, 30008, 213421, 281403, 150768, 195844, 135388, 164043, 76131, 607799, 287988, 189183, 473547, 203628, 98881, 206599, 102766, 273435, 141957, 39890, 283033, 175431, 323798, 388093, 250807, 664821, 191385, 287908, 186993, 176493, 75167, 229394, 162340, 144778, 182771, 192596, 117849, 185465, 332703, 120910, 403911, 102569, 266255, 193524, 201112, 142914, 190429, 176262, 110643, 200576, 173854, 191417, 205407, 161765, 336329, 191782, 169544, 128487, 20057, 395026, 344329, 323044, 201531, 133969, 499249, 129497, 173736, 117392, 34796, 166662, 164647, 143069, 87205, 252662, 236396, 135028, 165754, 170262, 172991, 53878, 222205, 172186, 223237, 235786, 145290, 205424, 192337, 146719, 337599, 70447, 264740, 107682, 207685, 29984, 31095, 270887, 316470, 372525, 295697, 94610, 63910, 132055, 318987, 125762, 268292, 78104, 116338, 288825, 223464, 79712, 34845, 181065, 30973, 149943, 421449, 203003, 173935, 90915, 156951, 205839, 99679, 221550, 87556, 374137, 98776, 119411, 420895, 306114, 30290, 52781, 349154, 89083, 360527, 285295, 104748, 122033, 226947, 284799, 189461, 218676, 54611, 318002, 184242, 176317, 179869, 112115, 256956, 198660, 206659, 94242, 107658, 214521, 283116, 240900, 245487, 200450, 186370, 245372, 23074, 109762, 121618, 231347, 46406, 291965, 40067, 348618, 61778, 254797, 240124, 265086, 103408, 197850, 333505, 179524, 138514, 27856, 130040, 254221, 233624, 185660, 337898, 172538, 189468, 269095, 154891, 216116, 147428, 247355, 251694, 357962, 223515, 158963, 219021, 289430, 86111, 159269, 188661, 151089, 193748, 24090, 114797, 109190, 138358, 113324, 316093, 315287, 114055, 200928, 232421, 121264, 338836, 341797, 153841, 182715, 139703, 329301, 162160, 124987, 107548, 334032, 86492, 105376, 133861, 190784, 189123, 262684, 514716, 207668, 104457, 268700, 59083], \"xaxis\": \"x\", \"yaxis\": \"y\"}],\n",
              "                        {\"barmode\": \"relative\", \"legend\": {\"tracegroupgap\": 0}, \"margin\": {\"t\": 60}, \"template\": {\"data\": {\"bar\": [{\"error_x\": {\"color\": \"#2a3f5f\"}, \"error_y\": {\"color\": \"#2a3f5f\"}, \"marker\": {\"line\": {\"color\": \"#E5ECF6\", \"width\": 0.5}}, \"type\": \"bar\"}], \"barpolar\": [{\"marker\": {\"line\": {\"color\": \"#E5ECF6\", \"width\": 0.5}}, \"type\": \"barpolar\"}], \"carpet\": [{\"aaxis\": {\"endlinecolor\": \"#2a3f5f\", \"gridcolor\": \"white\", \"linecolor\": \"white\", \"minorgridcolor\": \"white\", \"startlinecolor\": \"#2a3f5f\"}, \"baxis\": {\"endlinecolor\": \"#2a3f5f\", \"gridcolor\": \"white\", \"linecolor\": \"white\", \"minorgridcolor\": \"white\", \"startlinecolor\": \"#2a3f5f\"}, \"type\": \"carpet\"}], \"choropleth\": [{\"colorbar\": {\"outlinewidth\": 0, \"ticks\": \"\"}, \"type\": \"choropleth\"}], \"contour\": [{\"colorbar\": {\"outlinewidth\": 0, \"ticks\": \"\"}, \"colorscale\": [[0.0, \"#0d0887\"], [0.1111111111111111, \"#46039f\"], [0.2222222222222222, \"#7201a8\"], [0.3333333333333333, \"#9c179e\"], [0.4444444444444444, \"#bd3786\"], [0.5555555555555556, \"#d8576b\"], [0.6666666666666666, \"#ed7953\"], [0.7777777777777778, \"#fb9f3a\"], [0.8888888888888888, \"#fdca26\"], [1.0, \"#f0f921\"]], \"type\": \"contour\"}], \"contourcarpet\": [{\"colorbar\": {\"outlinewidth\": 0, \"ticks\": \"\"}, \"type\": \"contourcarpet\"}], \"heatmap\": [{\"colorbar\": {\"outlinewidth\": 0, \"ticks\": \"\"}, \"colorscale\": [[0.0, \"#0d0887\"], [0.1111111111111111, \"#46039f\"], [0.2222222222222222, \"#7201a8\"], [0.3333333333333333, \"#9c179e\"], [0.4444444444444444, \"#bd3786\"], [0.5555555555555556, \"#d8576b\"], [0.6666666666666666, \"#ed7953\"], [0.7777777777777778, \"#fb9f3a\"], [0.8888888888888888, \"#fdca26\"], [1.0, \"#f0f921\"]], \"type\": \"heatmap\"}], \"heatmapgl\": [{\"colorbar\": {\"outlinewidth\": 0, \"ticks\": \"\"}, \"colorscale\": [[0.0, \"#0d0887\"], [0.1111111111111111, \"#46039f\"], [0.2222222222222222, \"#7201a8\"], [0.3333333333333333, \"#9c179e\"], [0.4444444444444444, \"#bd3786\"], [0.5555555555555556, \"#d8576b\"], [0.6666666666666666, \"#ed7953\"], [0.7777777777777778, \"#fb9f3a\"], [0.8888888888888888, \"#fdca26\"], [1.0, \"#f0f921\"]], \"type\": \"heatmapgl\"}], \"histogram\": [{\"marker\": {\"colorbar\": {\"outlinewidth\": 0, \"ticks\": \"\"}}, \"type\": \"histogram\"}], \"histogram2d\": [{\"colorbar\": {\"outlinewidth\": 0, \"ticks\": \"\"}, \"colorscale\": [[0.0, \"#0d0887\"], [0.1111111111111111, \"#46039f\"], [0.2222222222222222, \"#7201a8\"], [0.3333333333333333, \"#9c179e\"], [0.4444444444444444, \"#bd3786\"], [0.5555555555555556, \"#d8576b\"], [0.6666666666666666, \"#ed7953\"], [0.7777777777777778, \"#fb9f3a\"], [0.8888888888888888, \"#fdca26\"], [1.0, \"#f0f921\"]], \"type\": \"histogram2d\"}], \"histogram2dcontour\": [{\"colorbar\": {\"outlinewidth\": 0, \"ticks\": \"\"}, \"colorscale\": [[0.0, \"#0d0887\"], [0.1111111111111111, \"#46039f\"], [0.2222222222222222, \"#7201a8\"], [0.3333333333333333, \"#9c179e\"], [0.4444444444444444, \"#bd3786\"], [0.5555555555555556, \"#d8576b\"], [0.6666666666666666, \"#ed7953\"], [0.7777777777777778, \"#fb9f3a\"], [0.8888888888888888, \"#fdca26\"], [1.0, \"#f0f921\"]], \"type\": \"histogram2dcontour\"}], \"mesh3d\": [{\"colorbar\": {\"outlinewidth\": 0, \"ticks\": \"\"}, \"type\": \"mesh3d\"}], \"parcoords\": [{\"line\": {\"colorbar\": {\"outlinewidth\": 0, \"ticks\": \"\"}}, \"type\": \"parcoords\"}], \"pie\": [{\"automargin\": true, \"type\": \"pie\"}], \"scatter\": [{\"marker\": {\"colorbar\": {\"outlinewidth\": 0, \"ticks\": \"\"}}, \"type\": \"scatter\"}], \"scatter3d\": [{\"line\": {\"colorbar\": {\"outlinewidth\": 0, \"ticks\": \"\"}}, \"marker\": {\"colorbar\": {\"outlinewidth\": 0, \"ticks\": \"\"}}, \"type\": \"scatter3d\"}], \"scattercarpet\": [{\"marker\": {\"colorbar\": {\"outlinewidth\": 0, \"ticks\": \"\"}}, \"type\": \"scattercarpet\"}], \"scattergeo\": [{\"marker\": {\"colorbar\": {\"outlinewidth\": 0, \"ticks\": \"\"}}, \"type\": \"scattergeo\"}], \"scattergl\": [{\"marker\": {\"colorbar\": {\"outlinewidth\": 0, \"ticks\": \"\"}}, \"type\": \"scattergl\"}], \"scattermapbox\": [{\"marker\": {\"colorbar\": {\"outlinewidth\": 0, \"ticks\": \"\"}}, \"type\": \"scattermapbox\"}], \"scatterpolar\": [{\"marker\": {\"colorbar\": {\"outlinewidth\": 0, \"ticks\": \"\"}}, \"type\": \"scatterpolar\"}], \"scatterpolargl\": [{\"marker\": {\"colorbar\": {\"outlinewidth\": 0, \"ticks\": \"\"}}, \"type\": \"scatterpolargl\"}], \"scatterternary\": [{\"marker\": {\"colorbar\": {\"outlinewidth\": 0, \"ticks\": \"\"}}, \"type\": \"scatterternary\"}], \"surface\": [{\"colorbar\": {\"outlinewidth\": 0, \"ticks\": \"\"}, \"colorscale\": [[0.0, \"#0d0887\"], [0.1111111111111111, \"#46039f\"], [0.2222222222222222, \"#7201a8\"], [0.3333333333333333, \"#9c179e\"], [0.4444444444444444, \"#bd3786\"], [0.5555555555555556, \"#d8576b\"], [0.6666666666666666, \"#ed7953\"], [0.7777777777777778, \"#fb9f3a\"], [0.8888888888888888, \"#fdca26\"], [1.0, \"#f0f921\"]], \"type\": \"surface\"}], \"table\": [{\"cells\": {\"fill\": {\"color\": \"#EBF0F8\"}, \"line\": {\"color\": \"white\"}}, \"header\": {\"fill\": {\"color\": \"#C8D4E3\"}, \"line\": {\"color\": \"white\"}}, \"type\": \"table\"}]}, \"layout\": {\"annotationdefaults\": {\"arrowcolor\": \"#2a3f5f\", \"arrowhead\": 0, \"arrowwidth\": 1}, \"coloraxis\": {\"colorbar\": {\"outlinewidth\": 0, \"ticks\": \"\"}}, \"colorscale\": {\"diverging\": [[0, \"#8e0152\"], [0.1, \"#c51b7d\"], [0.2, \"#de77ae\"], [0.3, \"#f1b6da\"], [0.4, \"#fde0ef\"], [0.5, \"#f7f7f7\"], [0.6, \"#e6f5d0\"], [0.7, \"#b8e186\"], [0.8, \"#7fbc41\"], [0.9, \"#4d9221\"], [1, \"#276419\"]], \"sequential\": [[0.0, \"#0d0887\"], [0.1111111111111111, \"#46039f\"], [0.2222222222222222, \"#7201a8\"], [0.3333333333333333, \"#9c179e\"], [0.4444444444444444, \"#bd3786\"], [0.5555555555555556, \"#d8576b\"], [0.6666666666666666, \"#ed7953\"], [0.7777777777777778, \"#fb9f3a\"], [0.8888888888888888, \"#fdca26\"], [1.0, \"#f0f921\"]], \"sequentialminus\": [[0.0, \"#0d0887\"], [0.1111111111111111, \"#46039f\"], [0.2222222222222222, \"#7201a8\"], [0.3333333333333333, \"#9c179e\"], [0.4444444444444444, \"#bd3786\"], [0.5555555555555556, \"#d8576b\"], [0.6666666666666666, \"#ed7953\"], [0.7777777777777778, \"#fb9f3a\"], [0.8888888888888888, \"#fdca26\"], [1.0, \"#f0f921\"]]}, \"colorway\": [\"#636efa\", \"#EF553B\", \"#00cc96\", \"#ab63fa\", \"#FFA15A\", \"#19d3f3\", \"#FF6692\", \"#B6E880\", \"#FF97FF\", \"#FECB52\"], \"font\": {\"color\": \"#2a3f5f\"}, \"geo\": {\"bgcolor\": \"white\", \"lakecolor\": \"white\", \"landcolor\": \"#E5ECF6\", \"showlakes\": true, \"showland\": true, \"subunitcolor\": \"white\"}, \"hoverlabel\": {\"align\": \"left\"}, \"hovermode\": \"closest\", \"mapbox\": {\"style\": \"light\"}, \"paper_bgcolor\": \"white\", \"plot_bgcolor\": \"#E5ECF6\", \"polar\": {\"angularaxis\": {\"gridcolor\": \"white\", \"linecolor\": \"white\", \"ticks\": \"\"}, \"bgcolor\": \"#E5ECF6\", \"radialaxis\": {\"gridcolor\": \"white\", \"linecolor\": \"white\", \"ticks\": \"\"}}, \"scene\": {\"xaxis\": {\"backgroundcolor\": \"#E5ECF6\", \"gridcolor\": \"white\", \"gridwidth\": 2, \"linecolor\": \"white\", \"showbackground\": true, \"ticks\": \"\", \"zerolinecolor\": \"white\"}, \"yaxis\": {\"backgroundcolor\": \"#E5ECF6\", \"gridcolor\": \"white\", \"gridwidth\": 2, \"linecolor\": \"white\", \"showbackground\": true, \"ticks\": \"\", \"zerolinecolor\": \"white\"}, \"zaxis\": {\"backgroundcolor\": \"#E5ECF6\", \"gridcolor\": \"white\", \"gridwidth\": 2, \"linecolor\": \"white\", \"showbackground\": true, \"ticks\": \"\", \"zerolinecolor\": \"white\"}}, \"shapedefaults\": {\"line\": {\"color\": \"#2a3f5f\"}}, \"ternary\": {\"aaxis\": {\"gridcolor\": \"white\", \"linecolor\": \"white\", \"ticks\": \"\"}, \"baxis\": {\"gridcolor\": \"white\", \"linecolor\": \"white\", \"ticks\": \"\"}, \"bgcolor\": \"#E5ECF6\", \"caxis\": {\"gridcolor\": \"white\", \"linecolor\": \"white\", \"ticks\": \"\"}}, \"title\": {\"x\": 0.05}, \"xaxis\": {\"automargin\": true, \"gridcolor\": \"white\", \"linecolor\": \"white\", \"ticks\": \"\", \"title\": {\"standoff\": 15}, \"zerolinecolor\": \"white\", \"zerolinewidth\": 2}, \"yaxis\": {\"automargin\": true, \"gridcolor\": \"white\", \"linecolor\": \"white\", \"ticks\": \"\", \"title\": {\"standoff\": 15}, \"zerolinecolor\": \"white\", \"zerolinewidth\": 2}}}, \"title\": {\"text\": \"fnlwgt distribution\", \"x\": 0.5}, \"xaxis\": {\"anchor\": \"y\", \"domain\": [0.0, 1.0], \"title\": {\"text\": \"fnlwgt\"}}, \"yaxis\": {\"anchor\": \"x\", \"domain\": [0.0, 1.0], \"title\": {\"text\": \"count\"}}},\n",
              "                        {\"responsive\": true}\n",
              "                    ).then(function(){\n",
              "                            \n",
              "var gd = document.getElementById('d259c627-01b5-44ca-9930-503119a139fe');\n",
              "var x = new MutationObserver(function (mutations, observer) {{\n",
              "        var display = window.getComputedStyle(gd).display;\n",
              "        if (!display || display === 'none') {{\n",
              "            console.log([gd, 'removed!']);\n",
              "            Plotly.purge(gd);\n",
              "            observer.disconnect();\n",
              "        }}\n",
              "}});\n",
              "\n",
              "// Listen for the removal of the full notebook cells\n",
              "var notebookContainer = gd.closest('#notebook-container');\n",
              "if (notebookContainer) {{\n",
              "    x.observe(notebookContainer, {childList: true});\n",
              "}}\n",
              "\n",
              "// Listen for the clearing of the current output cell\n",
              "var outputEl = gd.closest('.output');\n",
              "if (outputEl) {{\n",
              "    x.observe(outputEl, {childList: true});\n",
              "}}\n",
              "\n",
              "                        })\n",
              "                };\n",
              "                \n",
              "            </script>\n",
              "        </div>\n",
              "</body>\n",
              "</html>"
            ]
          },
          "metadata": {}
        },
        {
          "output_type": "display_data",
          "data": {
            "text/html": [
              "<html>\n",
              "<head><meta charset=\"utf-8\" /></head>\n",
              "<body>\n",
              "    <div>\n",
              "            <script src=\"https://cdnjs.cloudflare.com/ajax/libs/mathjax/2.7.5/MathJax.js?config=TeX-AMS-MML_SVG\"></script><script type=\"text/javascript\">if (window.MathJax) {MathJax.Hub.Config({SVG: {font: \"STIX-Web\"}});}</script>\n",
              "                <script type=\"text/javascript\">window.PlotlyConfig = {MathJaxConfig: 'local'};</script>\n",
              "        <script src=\"https://cdn.plot.ly/plotly-latest.min.js\"></script>    \n",
              "            <div id=\"e477e967-106c-49b0-8411-4ec7f2d004f6\" class=\"plotly-graph-div\" style=\"height:525px; width:100%;\"></div>\n",
              "            <script type=\"text/javascript\">\n",
              "                \n",
              "                    window.PLOTLYENV=window.PLOTLYENV || {};\n",
              "                    \n",
              "                if (document.getElementById(\"e477e967-106c-49b0-8411-4ec7f2d004f6\")) {\n",
              "                    Plotly.newPlot(\n",
              "                        'e477e967-106c-49b0-8411-4ec7f2d004f6',\n",
              "                        [{\"alignmentgroup\": \"True\", \"bingroup\": \"x\", \"hoverlabel\": {\"namelength\": 0}, \"hovertemplate\": \"capital-gain=%{x}<br>count=%{y}\", \"legendgroup\": \"\", \"marker\": {\"color\": \"#9A99D6\", \"opacity\": 0.8}, \"name\": \"\", \"offsetgroup\": \"\", \"orientation\": \"v\", \"showlegend\": false, \"type\": \"histogram\", \"x\": [594, 0, 0, 0, 15024, 0, 0, 0, 0, 0, 0, 0, 0, 0, 0, 0, 0, 7443, 0, 0, 0, 4787, 0, 0, 0, 0, 0, 0, 0, 0, 0, 3103, 0, 0, 0, 0, 0, 7688, 0, 0, 0, 0, 0, 0, 0, 0, 4650, 3103, 0, 0, 0, 0, 0, 0, 0, 0, 0, 0, 0, 0, 0, 0, 0, 0, 0, 0, 0, 3908, 0, 0, 0, 0, 0, 0, 0, 0, 0, 0, 0, 0, 0, 2977, 0, 0, 2829, 0, 0, 0, 0, 0, 0, 0, 2174, 0, 0, 0, 0, 0, 0, 0, 0, 3103, 9386, 0, 0, 0, 0, 0, 0, 0, 0, 0, 0, 0, 0, 0, 0, 0, 0, 0, 0, 3325, 0, 0, 0, 0, 0, 0, 0, 0, 0, 0, 2407, 0, 0, 0, 0, 0, 0, 0, 0, 0, 0, 0, 0, 0, 0, 0, 0, 0, 0, 0, 0, 0, 0, 0, 0, 0, 0, 0, 0, 0, 0, 0, 0, 0, 0, 0, 0, 0, 0, 0, 0, 0, 0, 0, 0, 0, 0, 5178, 0, 0, 0, 0, 0, 0, 0, 0, 0, 0, 0, 0, 0, 0, 0, 0, 0, 0, 0, 7298, 0, 0, 0, 0, 2414, 0, 3103, 0, 0, 0, 0, 0, 0, 0, 0, 0, 0, 2885, 0, 0, 0, 0, 0, 0, 0, 0, 0, 0, 0, 0, 0, 3103, 3103, 0, 0, 0, 0, 0, 0, 0, 0, 0, 0, 0, 0, 0, 0, 0, 0, 0, 0, 7688, 0, 0, 0, 0, 0, 0, 10520, 3325, 0, 0, 0, 15024, 0, 0, 0, 0, 0, 0, 0, 0, 0, 0, 0, 0, 0, 0, 0, 0, 0, 0, 0, 0, 0, 0, 0, 0, 0, 0, 13550, 0, 0, 0, 99999, 0, 0, 0, 0, 0, 0, 0, 5178, 0, 0, 0, 4416, 0, 14344, 0, 0, 0, 0, 0, 0, 0, 0, 0, 0, 0, 7298, 0, 0, 0, 0, 0, 0, 7688, 0, 0, 0, 0, 0, 0, 0, 0, 0, 0, 0, 0, 0, 0, 0, 0, 0, 0, 0, 0, 0, 0, 0, 0, 0, 0, 0, 0, 0, 0, 0, 0, 0, 0, 0, 0, 0, 0, 0, 0, 0, 0, 4386, 0, 0, 0, 0, 0, 0, 0, 0, 0, 0, 0, 0, 0, 0, 0, 0, 0, 0, 0, 0, 3103, 0, 6497, 0, 0, 7298, 0, 0, 0, 0, 0, 0, 0, 0, 2176, 0, 0, 7688, 0, 0, 0, 15024, 0, 0, 0, 0, 0, 0, 0, 99999, 0, 0, 0, 0, 0, 0, 0, 0, 0, 0, 0, 0, 0, 0, 6497, 0, 0, 0, 0, 0, 0, 4386, 7298, 0, 0, 0, 7688, 0, 0, 0, 0, 0, 0, 0, 0, 0, 0, 0, 0, 0, 0, 0, 0, 0, 0, 4064, 0, 0, 99999, 0, 4386, 8614, 0, 0, 0, 0, 0, 2829, 3103, 0, 0, 3908, 0, 0, 0, 0, 0, 0, 0, 2829, 0, 0, 0, 0, 0, 6497, 0, 0, 0, 0, 0, 0, 0, 0, 0, 15024, 14084, 0, 0, 0, 0, 0, 3325, 0, 0, 15024, 8614, 0, 0, 0, 0, 0, 0, 7688, 0, 0, 0, 0, 0, 0, 0, 0, 0, 0, 0, 0, 0, 0, 0, 0, 0, 0, 0, 0, 0, 0, 0, 0, 0, 0, 0, 0, 0, 7896, 3464, 0, 0, 0, 0, 0, 0, 0, 0, 0, 0, 0, 0, 0, 1055, 0, 0, 0, 0, 0, 0, 0, 0, 0, 0, 0, 0, 0, 0, 0, 0, 0, 0, 15024, 0, 0, 0, 0, 4650, 3103, 0, 0, 0, 0, 2580, 0, 7688, 0, 0, 0, 0, 0, 0, 0, 0, 0, 0, 99999, 0, 0, 0, 0, 0, 0, 0, 0, 0, 0, 0, 0, 0, 0, 0, 0, 0, 0, 0, 0, 0, 0, 0, 0, 0, 0, 0, 0, 15024, 0, 0, 0, 0, 0, 0, 0, 0, 7298, 0, 0, 0, 0, 0, 0, 0, 0, 0, 0, 0, 0, 0, 0, 0, 0, 0, 0, 0, 0, 0, 0, 0, 0, 0, 0, 0, 0, 0, 0, 0, 13550, 0, 0, 0, 0, 0, 0, 0, 0, 0, 0, 0, 0, 0, 0, 0, 0, 0, 0, 0, 0, 0, 0, 0, 0, 0, 0, 0, 0, 0, 0, 0, 0, 2407, 0, 0, 0, 0, 0, 0, 0, 0, 0, 0, 0, 0, 0, 0, 0, 0, 0, 0, 0, 0, 0, 0, 0, 0, 0, 0, 0, 0, 0, 0, 0, 0, 7688, 0, 0, 0, 0, 0, 0, 0, 0, 0, 0, 0, 0, 0, 0, 0, 0, 0, 0, 0, 0, 0, 0, 0, 0, 0, 0, 0, 0, 6849, 0, 0, 15024, 0, 0, 0, 0, 0, 0, 0, 0, 0, 0, 0, 0, 0, 0, 0, 27828, 0, 0, 0, 0, 0, 0, 0, 0, 4787, 0, 0, 0, 0, 0, 2885, 0, 0, 15024, 0, 0, 0, 0, 0, 0, 0, 0, 0, 0, 2829, 0, 0, 0, 0, 0, 0, 0, 0, 0, 2174, 0, 0, 0, 0, 0, 0, 0, 0, 0, 14344, 0, 0, 0, 0, 0, 0, 0, 0, 0, 0, 0, 0, 0, 0, 0, 0, 0, 0, 0, 0, 0, 0, 0, 0, 6767, 0, 0, 0, 0, 0, 0, 0, 0, 0, 0, 0, 0, 0, 0, 0, 0, 0, 0, 5013, 0, 0, 0, 0, 0, 0, 2346, 7688, 0, 0, 0, 27828, 0, 0, 0, 0, 0, 0, 0, 0, 0, 0, 7688, 0, 7298, 0, 0, 0, 0, 0, 0, 0, 0, 0, 0, 0, 0, 0, 0, 0, 0, 0, 0, 0, 0, 0, 0, 0, 0, 0, 0, 0, 0, 0, 0, 0, 0, 0, 0, 0, 0, 0, 0, 0, 0, 0, 0, 0, 0, 0, 0, 0, 0, 0, 0, 0, 0, 0, 0, 0, 4865, 0, 0, 0, 0, 7298, 7298, 0, 0, 0, 0, 0, 0, 0, 0, 0, 0, 3325, 0, 0, 0, 4064, 0, 0, 0, 0, 3908, 0, 7298, 0, 0, 0, 0, 0, 0, 0, 0, 0, 0, 0, 0, 0, 0, 0, 0, 0, 0, 0, 0, 0, 0, 0, 0, 0, 0, 0, 0, 0, 0, 0, 0, 0, 0, 0, 0, 0, 0, 4650, 0, 0, 0, 6849, 0, 0, 0, 7688, 0, 0, 0, 0, 0, 0, 0, 0, 0, 0, 0, 0, 0, 2176, 0, 0, 7688, 0, 0, 0, 6418, 0, 0, 0, 0, 0, 0, 2174, 0, 0, 0, 0, 0, 0, 0, 0, 0, 0, 0, 0, 0, 0, 0, 0, 0, 0, 0, 0, 0, 0, 0, 0, 0, 0, 0, 0, 0, 0, 0, 0, 0, 2174, 0, 0, 0, 0, 0, 0, 0, 0, 0, 0, 0, 0, 0, 0, 0, 0, 0, 4650, 0, 0, 7298, 0, 0, 0, 0, 3432, 0, 0, 0, 0, 0, 0, 0, 0, 15024, 0, 0, 0, 0, 0, 0, 0, 0, 0, 0, 0, 7298, 0, 0, 0, 4101, 0, 0, 0, 0, 0, 0, 0, 0, 0, 0, 0, 0, 0, 0, 0, 0, 0, 0, 0, 0, 0, 0, 0, 0, 0, 0, 0, 15024, 0, 0, 14344, 0, 0, 0, 0, 0, 0, 0, 0, 0, 0, 0, 0, 15024, 7688, 0, 0, 0, 0, 0, 0, 0, 0, 0, 0, 0, 0, 0, 0, 0, 0, 0, 0, 0, 0, 0, 0, 0, 0, 0, 0, 0, 0, 0, 0, 0, 0, 0, 0, 0, 0, 0, 0, 0, 0, 0, 0, 0, 0, 0, 0, 5013, 0, 0, 0, 0, 0, 0, 0, 0, 4934, 0, 7688, 0, 0, 0, 0, 0, 3411, 0, 0, 5721, 0, 0, 0, 0, 0, 0, 0, 0, 0, 0, 0, 5178, 0, 0, 0, 0, 0, 0, 2597, 0, 0, 0, 0, 0, 0, 0, 0, 3103, 0, 0, 0, 0, 0, 0, 2885, 0, 0, 0, 1506, 0, 0, 0, 0, 0, 0, 0, 0, 0, 7688, 0, 0, 0, 0, 0, 0, 7688, 0, 114, 0, 0, 0, 0, 0, 0, 0, 0, 15024, 0, 0, 0, 0, 0, 0, 0, 0, 0, 0, 0, 0, 0, 0, 0, 0, 0, 0, 0, 0, 0, 0, 0, 0, 0, 0, 0, 7298, 0, 0, 0, 0, 0, 0, 0, 0, 0, 0, 4386, 0, 0, 0, 0, 0, 0, 0, 0, 0, 0, 0, 0, 0, 1831, 0, 0, 0, 0, 0, 2653, 0, 3103, 0, 0, 0, 0, 0, 0, 0, 0, 4865, 0, 0, 0, 0, 0, 0, 0, 0, 0, 3781, 0, 0, 0, 0, 0, 0, 0, 0, 0, 0, 0, 0, 0, 0, 0, 0, 0, 0, 0, 0, 0, 0, 0, 0, 0, 0, 15024, 0, 0, 0, 0, 0, 0, 0, 20051, 0, 0, 0, 0, 0, 0, 0, 0, 0, 0, 0, 0, 0, 0, 0, 0, 0, 0, 0, 0, 0, 5013, 7298, 0, 0, 0, 0, 0, 0, 0, 0, 0, 0, 0, 0, 0, 0, 0, 0, 0, 0, 2829, 0, 0, 0, 0, 0, 0, 7298, 0, 0, 0, 0, 0, 0, 0, 0, 1506, 0, 0, 15024, 8614, 0, 0, 0, 0, 0, 0, 0, 0, 0, 0, 0, 0, 0, 0, 0, 0, 0, 0, 0, 0, 0, 0, 1797, 0, 0, 0, 0, 0, 2407, 0, 0, 0, 0, 4787, 0, 0, 0, 0, 0, 0, 0, 0, 0, 0, 0, 0, 0, 0, 0, 0, 0, 0, 0, 2463, 0, 0, 2597, 0, 0, 0, 0, 0, 0, 0, 0, 0, 0, 0, 0, 0, 0, 0, 0, 0, 0, 0, 0, 0, 0, 0, 0, 0, 0, 0, 0, 0, 0, 0, 0, 0, 0, 0, 0, 0, 0, 0, 0, 0, 0, 27828, 0, 0, 0, 0, 0, 0, 0, 0, 0, 0, 5013, 0, 2580, 0, 0, 0, 0, 0, 0, 0, 3418, 0, 0, 0, 0, 0, 0, 0, 0, 0, 0, 0, 7688, 0, 0, 0, 0, 0, 0, 0, 0, 0, 0, 0, 0, 0, 0, 0, 0, 0, 0, 0, 0, 0, 0, 0, 0, 3471, 0, 0, 0, 0, 0, 0, 7688, 0, 0, 0, 0, 0, 0, 0, 0, 0, 0, 3103, 0, 0, 0, 0, 0, 0, 0, 0, 0, 0, 0, 0, 0, 0, 0, 1424, 0, 0, 0, 6497, 0, 0, 0, 0, 0, 0, 0, 0, 0, 0, 0, 0, 0, 0, 0, 0, 0, 0, 0, 0, 0, 0, 0, 0, 0, 0, 0, 0, 0, 0, 0, 0, 0, 0, 0, 0, 0, 0, 0, 0, 15024, 0, 0, 0, 0, 4650, 0, 0, 0, 0, 0, 0, 0, 0, 0, 7298, 0, 7688, 0, 0, 0, 0, 0, 0, 7688, 13550, 0, 0, 5013, 13550, 0, 0, 0, 0, 0, 0, 0, 7688, 8614, 0, 0, 0, 0, 0, 0, 0, 7298, 0, 0, 0, 0, 0, 0, 4787, 0, 0, 0, 0, 0, 0, 0, 0, 0, 0, 0, 0, 0, 0, 0, 0, 2829, 7298, 0, 0, 0, 0, 0, 0, 0, 0, 0, 0, 0, 7688, 0, 0, 0, 0, 0, 0, 0, 0, 7298, 0, 0, 0, 0, 0, 0, 0, 0, 0, 0, 3325, 0, 0, 0, 0, 0, 0, 0, 0, 0, 0, 0, 0, 0, 0, 0, 0, 0, 0, 0, 0, 0, 0, 2977, 0, 0, 15024, 0, 0, 0, 0, 0, 0, 0, 0, 0, 0, 0, 0, 0, 0, 0, 0, 0, 0, 0, 0, 7298, 0, 5013, 2635, 0, 0, 0, 0, 0, 0, 0, 0, 0, 0, 0, 0, 0, 0, 0, 0, 0, 0, 0, 0, 0, 0, 0, 0, 0, 0, 0, 0, 0, 0, 0, 0, 0, 0, 0, 0, 0, 0, 0, 0, 0, 0, 0, 0, 0, 0, 0, 15024, 7298, 2829, 0, 0, 0, 0, 0, 0, 0, 0, 0, 0, 0, 0, 0, 0, 0, 0, 0, 0, 0, 0, 0, 7298, 0, 0, 0, 0, 7298, 0, 0, 0, 0, 0, 0, 0, 0, 0, 0, 0, 0, 0, 0, 0, 0, 0, 0, 0, 4064, 0, 8614, 0, 0, 0, 0, 0, 0, 0, 0, 0, 0, 0, 0, 0, 0, 0, 0, 0, 0, 0, 0, 0, 0, 0, 0, 0, 0, 0, 0, 0, 0, 0, 0, 0, 0, 0, 0, 0, 0, 0, 0, 0, 0, 0, 0, 0, 0, 0, 0, 5178, 4865, 0, 2936, 0, 0, 10520, 0, 0, 2354, 0, 0, 0, 0, 0, 0, 0, 0, 0, 0, 0, 0, 0, 0, 0, 0, 0, 0, 0, 0, 0, 0, 0, 0, 0, 0, 0, 0, 99999, 0, 0, 5178, 0, 0, 0, 0, 0, 0, 0, 0, 0, 0, 0, 0, 0, 0, 0, 0, 0, 0, 0, 0, 0, 0, 0, 0, 10605, 4064, 0, 4865, 0, 0, 0, 0, 2964, 0, 0, 0, 0, 0, 0, 0, 0, 0, 0, 0, 0, 3103, 15024, 0, 0, 0, 0, 0, 0, 0, 0, 0, 0, 0, 0, 0, 0, 0, 0, 0, 0, 0, 4101, 0, 0, 0, 0, 0, 0, 0, 0, 0, 0, 0, 0, 0, 1831, 0, 0, 15024, 0, 0, 0, 0, 0, 0, 0, 0, 0, 0, 14344, 0, 0, 0, 0, 0, 0, 0, 0, 10520, 0, 0, 0, 0, 0, 8614, 0, 0, 0, 0, 2597, 0, 0, 0, 7688, 0, 0, 0, 0, 0, 0, 0, 0, 0, 0, 0, 0, 0, 0, 0, 2354, 0, 0, 0, 15024, 0, 0, 0, 0, 0, 0, 0, 0, 0, 0, 0, 0, 0, 0, 0, 0, 11678, 0, 3818, 0, 0, 0, 0, 0, 0, 0, 0, 0, 0, 0, 0, 0, 0, 0, 0, 0, 0, 0, 0, 0, 0, 0, 0, 0, 0, 0, 0, 0, 0, 0, 0, 0, 0, 0, 0, 0, 0, 0, 0, 0, 0, 0, 15024, 0, 0, 0, 3103, 0, 0, 2105, 0, 0, 7688, 0, 0, 0, 0, 0, 0, 0, 0, 4101, 0, 0, 0, 0, 0, 0, 0, 0, 0, 0, 0, 0, 0, 0, 0, 0, 0, 0, 0, 0, 0, 0, 0, 0, 0, 0, 0, 0, 0, 0, 0, 0, 0, 0, 0, 0, 0, 0, 3674, 3887, 0, 0, 0, 0, 0, 0, 0, 3137, 0, 2176, 0, 0, 0, 0, 0, 0, 0, 0, 0, 0, 0, 0, 0, 0, 0, 0, 0, 0, 0, 0, 0, 7688, 0, 0, 0, 0, 0, 0, 0, 0, 0, 0, 0, 0, 0, 0, 7688, 0, 0, 0, 0, 0, 0, 0, 7688, 0, 0, 0, 0, 0, 0, 0, 4787, 0, 0, 0, 0, 0, 0, 0, 0, 0, 0, 0, 0, 0, 0, 0, 0, 0, 0, 0, 0, 0, 0, 0, 0, 15024, 0, 0, 0, 0, 1151, 0, 0, 0, 0, 0, 0, 9386, 0, 0, 0, 0, 0, 0, 0, 7688, 0, 0, 0, 99999, 0, 0, 0, 0, 0, 0, 0, 3325, 0, 0, 0, 5013, 0, 0, 0, 0, 0, 0, 0, 0, 0, 0, 0, 0, 0, 0, 0, 0, 0, 0, 0, 0, 0, 0, 0, 0, 0, 0, 0, 0, 0, 0, 0, 0, 0, 15024, 0, 0, 0, 0, 0, 0, 0, 0, 0, 0, 0, 0, 0, 0, 0, 0, 0, 0, 0, 0, 0, 0, 0, 0, 0, 0, 0, 0, 0, 0, 0, 0, 3103, 0, 0, 0, 0, 0, 0, 15024, 0, 0, 0, 0, 0, 0, 0, 0, 0, 5013, 0, 0, 0, 0, 0, 0, 0, 0, 0, 0, 0, 0, 0, 0, 0, 0, 0, 0, 0, 0, 0, 0, 0, 0, 0, 0, 0, 0, 4934, 0, 13550, 0, 0, 0, 0, 0, 0, 0, 0, 0, 0, 0, 0, 0, 0, 0, 0, 0, 0, 15024, 0, 0, 0, 0, 0, 0, 0, 0, 0, 0, 0, 0, 4934, 0, 0, 0, 0, 0, 0, 0, 0, 4650, 0, 0, 0, 0, 3325, 0, 0, 0, 0, 0, 0, 0, 0, 0, 2290, 7443, 0, 0, 0, 0, 0, 0, 0, 0, 0, 0, 0, 0, 14084, 0, 0, 0, 0, 0, 0, 0, 0, 0, 0, 0, 0, 0, 0, 0, 0, 0, 0, 0, 0, 7298, 2174, 20051, 0, 0, 0, 0, 0, 0, 99999, 0, 0, 0, 0, 0, 0, 0, 0, 0, 0, 0, 0, 0, 0, 0, 0, 0, 0, 0, 0, 0, 0, 0, 0, 0, 0, 0, 0, 0, 0, 0, 0, 0, 0, 0, 0, 0, 0, 0, 0, 0, 0, 0, 0, 0, 0, 0, 0, 0, 0, 0, 0, 0, 2936, 0, 0, 0, 0, 0, 0, 7688, 7688, 0, 0, 15024, 0, 0, 0, 15024, 5178, 0, 0, 0, 0, 4386, 0, 0, 4386, 0, 0, 0, 7688, 0, 0, 0, 0, 0, 0, 5013, 0, 0, 0, 0, 0, 0, 0, 4865, 0, 0, 0, 0, 4386, 2907, 0, 0, 0, 3411, 0, 0, 0, 0, 0, 0, 0, 3325, 0, 0, 0, 0, 10520, 0, 0, 0, 7688, 0, 0, 15024, 1055, 0, 0, 0, 0, 0, 0, 0, 0, 0, 0, 0, 0, 0, 0, 0, 0, 0, 0, 0, 5178, 0, 0, 0, 0, 0, 0, 0, 0, 7688, 0, 0, 0, 0, 0, 6418, 0, 0, 0, 0, 0, 0, 0, 0, 0, 0, 0, 7298, 0, 0, 3137, 0, 0, 0, 0, 0, 0, 0, 0, 0, 0, 0, 0, 0, 0, 0, 0, 0, 0, 2653, 0, 0, 0, 0, 0, 0, 0, 0, 0, 0, 0, 0, 0, 4865, 3781, 0, 0, 0, 0, 0, 0, 0, 0, 0, 0, 0, 0, 10520, 0, 0, 0, 0, 15024, 0, 594, 0, 0, 0, 0, 4650, 0, 0, 4386, 3908, 0, 0, 0, 0, 0, 0, 0, 0, 0, 0, 0, 0, 0, 0, 0, 2174, 0, 0, 0, 0, 0, 0, 0, 0, 0, 0, 0, 0, 0, 0, 0, 0, 0, 0, 0, 0, 0, 0, 0, 0, 0, 0, 0, 0, 0, 2174, 0, 0, 0, 0, 0, 0, 0, 0, 0, 0, 0, 0, 0, 0, 0, 0, 0, 0, 0, 0, 0, 0, 0, 0, 0, 0, 20051, 0, 0, 0, 0, 0, 0, 0, 0, 0, 0, 7688, 0, 0, 0, 0, 0, 0, 0, 0, 0, 0, 0, 0, 0, 0, 0, 0, 0, 0, 0, 3137, 0, 0, 0, 7298, 0, 0, 0, 0, 0, 0, 0, 4064, 0, 0, 0, 0, 3103, 0, 0, 0, 0, 0, 0, 0, 0, 0, 0, 0, 0, 1055, 0, 0, 0, 0, 0, 0, 0, 0, 0, 0, 0, 0, 0, 0, 0, 0, 0, 0, 0, 5178, 0, 0, 0, 0, 0, 0, 0, 0, 0, 0, 0, 0, 0, 0, 15024, 0, 0, 0, 0, 99999, 0, 14084, 0, 0, 0, 3103, 0, 0, 0, 0, 0, 0, 5013, 0, 0, 3411, 0, 0, 0, 0, 0, 0, 0, 0, 0, 0, 0, 0, 20051, 0, 0, 0, 99999, 0, 0, 0, 0, 0, 0, 0, 0, 0, 0, 0, 0, 0, 0, 0, 0, 0, 0, 0, 0, 0, 0, 0, 0, 0, 25236, 0, 0, 0, 0, 0, 0, 0, 0, 0, 0, 0, 0, 0, 0, 0, 0, 1471, 0, 0, 0, 0, 0, 0, 0, 0, 0, 0, 0, 0, 0, 0, 0, 0, 0, 0, 0, 0, 0, 0, 1173, 7298, 0, 0, 0, 0, 0, 0, 0, 15024, 0, 0, 0, 0, 0, 0, 0, 0, 0, 0, 0, 0, 0, 0, 0, 0, 0, 0, 0, 15024, 0, 0, 0, 0, 0, 0, 0, 0, 0, 0, 0, 0, 0, 7688, 0, 0, 0, 0, 0, 0, 0, 0, 0, 0, 0, 0, 0, 0, 0, 4650, 5178, 0, 0, 0, 0, 0, 0, 10520, 0, 0, 0, 0, 0, 0, 0, 0, 0, 0, 4064, 0, 1471, 0, 0, 0, 0, 0, 0, 0, 0, 0, 0, 0, 0, 0, 0, 0, 0, 0, 0, 0, 0, 0, 0, 0, 0, 0, 0, 0, 0, 0, 0, 0, 0, 0, 0, 0, 0, 0, 0, 0, 0, 0, 0, 0, 0, 0, 0, 0, 0, 0, 0, 0, 0, 0, 0, 0, 0, 0, 4650, 0, 0, 7298, 5060, 0, 0, 0, 0, 0, 0, 0, 0, 0, 0, 4508, 0, 0, 0, 0, 0, 0, 0, 0, 2463, 0, 0, 0, 0, 0, 0, 0, 0, 0, 0, 0, 0, 0, 0, 0, 0, 0, 0, 4931, 0, 0, 0, 4064, 0, 0, 0, 0, 0, 0, 0, 0, 0, 2977, 0, 0, 0, 0, 0, 0, 0, 0, 0, 4687, 0, 0, 0, 4386, 0, 0, 0, 0, 0, 0, 0, 0, 0, 0, 0, 0, 0, 0, 0, 0, 0, 0, 0, 0, 0, 0, 0, 0, 0, 0, 0, 15024, 0, 0, 0, 0, 2580, 0, 0, 0, 0, 0, 0, 0, 7298, 0, 0, 0, 0, 0, 0, 0, 0, 0, 0, 0, 0, 0, 0, 0, 0, 0, 0, 0, 0, 0, 0, 0, 7298, 0, 0, 0, 0, 0, 0, 0, 99999, 0, 0, 0, 0, 0, 0, 0, 0, 0, 0, 0, 0, 0, 0, 0, 0, 0, 0, 0, 0, 4064, 0, 0, 0, 0, 0, 0, 0, 0, 0, 0, 0, 0, 0, 0, 0, 0, 0, 0, 0, 0, 0, 0, 0, 0, 0, 0, 0, 0, 15024, 0, 0, 0, 0, 0, 0, 0, 0, 0, 0, 0, 0, 0, 0, 15024, 0, 0, 0, 0, 0, 0, 0, 0, 0, 0, 99999, 0, 0, 0, 0, 0, 0, 0, 0, 0, 0, 0, 0, 0, 0, 0, 0, 0, 0, 0, 594, 0, 0, 0, 0, 0, 0, 0, 0, 0, 0, 0, 0, 0, 0, 0, 0, 0, 0, 0, 0, 0, 0, 0, 0, 0, 0, 0, 0, 0, 0, 3103, 0, 3464, 0, 0, 0, 0, 0, 0, 0, 0, 0, 0, 0, 0, 0, 0, 0, 0, 3908, 0, 0, 0, 0, 0, 0, 0, 0, 0, 0, 0, 0, 0, 0, 15024, 0, 0, 0, 0, 0, 0, 0, 0, 0, 0, 0, 0, 0, 0, 0, 0, 0, 0, 0, 0, 0, 0, 0, 0, 0, 0, 7298, 0, 0, 0, 0, 0, 0, 0, 0, 0, 0, 0, 15024, 0, 0, 0, 0, 0, 0, 0, 0, 0, 0, 7298, 0, 4650, 0, 0, 0, 10520, 0, 0, 0, 0, 0, 0, 0, 0, 0, 0, 0, 0, 0, 0, 0, 0, 0, 0, 0, 0, 0, 4101, 0, 0, 0, 0, 0, 0, 7298, 0, 0, 0, 0, 7298, 0, 7298, 0, 0, 0, 0, 0, 0, 0, 4508, 0, 0, 0, 1055, 0, 0, 0, 0, 0, 0, 0, 0, 0, 0, 0, 0, 0, 0, 7688, 0, 0, 0, 0, 0, 0, 0, 0, 0, 0, 0, 5178, 0, 0, 0, 27828, 0, 0, 0, 0, 0, 0, 0, 0, 4934, 4386, 0, 4101, 0, 0, 0, 0, 0, 0, 0, 0, 0, 0, 0, 0, 0, 0, 0, 0, 0, 15024, 0, 0, 0, 0, 7688, 0, 0, 5178, 0, 0, 0, 0, 0, 0, 0, 0, 0, 0, 0, 0, 0, 0, 0, 0, 0, 0, 0, 0, 0, 0, 0, 0, 0, 0, 0, 0, 0, 0, 0, 0, 0, 0, 0, 2174, 0, 0, 0, 0, 0, 0, 0, 0, 0, 0, 0, 0, 0, 0, 0, 0, 0, 0, 15024, 0, 0, 0, 0, 0, 0, 0, 0, 0, 0, 0, 0, 15024, 0, 0, 15024, 0, 0, 0, 0, 0, 7688, 0, 0, 0, 0, 0, 99999, 0, 0, 0, 0, 0, 15024, 0, 0, 0, 0, 0, 0, 0, 0, 0, 0, 0, 0, 0, 0, 0, 0, 0, 0, 0, 0, 0, 0, 0, 0, 4787, 0, 0, 15024, 8614, 0, 0, 0, 0, 6418, 0, 0, 0, 0, 2829, 0, 0, 0, 0, 0, 0, 0, 0, 0, 7688, 0, 0, 0, 0, 0, 0, 0, 0, 0, 0, 0, 0, 2407, 0, 0, 0, 2829, 0, 0, 0, 0, 0, 7298, 0, 0, 0, 15024, 0, 0, 0, 0, 0, 0, 0, 0, 0, 0, 2174, 0, 0, 0, 0, 0, 0, 0, 0, 0, 0, 0, 0, 0, 0, 0, 0, 0, 0, 0, 0, 0, 0, 0, 0, 0, 15024, 0, 0, 0, 0, 0, 0, 0, 0, 0, 0, 0, 0, 0, 0, 0, 0, 0, 0, 0, 0, 0, 0, 0, 0, 0, 4508, 0, 0, 0, 0, 0, 0, 0, 0, 0, 0, 0, 0, 0, 0, 0, 0, 0, 0, 0, 0, 0, 0, 0, 0, 3103, 0, 0, 0, 0, 2597, 0, 0, 0, 0, 7298, 0, 0, 0, 0, 0, 0, 0, 0, 0, 0, 0, 0, 0, 0, 0, 0, 0, 3325, 0, 0, 0, 0, 0, 0, 0, 0, 0, 0, 0, 0, 0, 0, 0, 0, 0, 0, 0, 0, 0, 0, 0, 0, 0, 0, 0, 0, 0, 0, 0, 0, 15024, 0, 10520, 0, 0, 0, 0, 0, 0, 0, 0, 0, 0, 4386, 0, 0, 0, 0, 0, 0, 0, 0, 0, 0, 0, 0, 0, 0, 0, 0, 0, 0, 0, 0, 0, 0, 0, 5178, 0, 0, 0, 0, 0, 0, 0, 0, 0, 0, 0, 0, 15024, 0, 0, 0, 0, 3103, 0, 0, 0, 0, 0, 0, 0, 0, 0, 10520, 0, 0, 7298, 0, 0, 0, 0, 20051, 0, 0, 0, 8614, 0, 99999, 0, 0, 0, 0, 0, 0, 0, 0, 0, 0, 0, 0, 0, 0, 0, 0, 0, 0, 0, 0, 0, 0, 0, 27828, 0, 0, 0, 0, 0, 0, 0, 0, 0, 0, 0, 0, 0, 7298, 0, 0, 0, 0, 0, 0, 0, 0, 0, 0, 0, 0, 0, 0, 0, 0, 7688, 0, 4064, 0, 0, 0, 0, 0, 0, 0, 0, 0, 0, 0, 0, 10566, 0, 0, 0, 0, 0, 2174, 0, 0, 0, 0, 2653, 0, 0, 0, 0, 0, 0, 4787, 0, 0, 0, 0, 0, 0, 0, 0, 7688, 7688, 0, 0, 0, 0, 0, 6514, 0, 0, 15024, 0, 0, 0, 0, 0, 0, 0, 0, 0, 0, 0, 0, 0, 0, 0, 0, 0, 4650, 0, 0, 0, 0, 0, 0, 0, 0, 0, 0, 0, 0, 15024, 0, 0, 0, 0, 0, 0, 0, 0, 0, 0, 0, 0, 0, 0, 0, 0, 0, 0, 0, 13550, 0, 0, 0, 0, 0, 0, 7298, 0, 0, 0, 0, 0, 3325, 0, 0, 0, 0, 0, 0, 0, 0, 0, 0, 0, 0, 0, 0, 0, 0, 0, 0, 3103, 0, 0, 0, 0, 0, 0, 0, 0, 0, 0, 0, 0, 0, 0, 0, 0, 0, 0, 0, 0, 0, 0, 0, 0, 0, 0, 0, 0, 0, 3137, 0, 0, 0, 0, 15024, 0, 0, 7688, 0, 0, 0, 0, 0, 0, 0, 0, 0, 0, 7298, 0, 0, 0, 0, 0, 0, 0, 0, 0, 0, 0, 0, 0, 0, 0, 0, 0, 0, 0, 0, 0, 0, 0, 0, 7298, 99999, 0, 0, 0, 0, 0, 0, 0, 0, 0, 0, 0, 0, 7688, 0, 0, 0, 0, 0, 7298, 0, 0, 0, 0, 0, 0, 0, 0, 0, 0, 0, 0, 0, 0, 0, 0, 0, 0, 0, 0, 0, 0, 0, 0, 0, 0, 0, 0, 0, 0, 0, 0, 0, 0, 0, 0, 0, 0, 0, 0, 0, 0, 0, 4416, 0, 0, 0, 0, 0, 0, 0, 0, 0, 0, 0, 99999, 0, 0, 0, 0, 0, 0, 0, 0, 0, 0, 0, 0, 0, 0, 0, 0, 0, 0, 0, 0, 0, 0, 0, 0, 0, 0, 0, 0, 9386, 2907, 0, 0, 0, 0, 0, 0, 0, 0, 0, 0, 0, 0, 0, 0, 0, 0, 0, 0, 0, 0, 15024, 0, 0, 0, 0, 0, 0, 0, 0, 0, 0, 0, 0, 9386, 0, 0, 0, 0, 0, 0, 0, 0, 0, 7688, 0, 0, 0, 0, 0, 0, 0, 0, 0, 0, 0, 7298, 0, 0, 0, 0, 0, 0, 0, 0, 0, 0, 0, 0, 0, 0, 0, 0, 0, 0, 0, 0, 0, 0, 0, 0, 0, 0, 0, 99999, 0, 0, 0, 0, 0, 3908, 0, 0, 0, 0, 0, 0, 0, 0, 4865, 0, 0, 0, 0, 0, 0, 0, 0, 0, 15024, 0, 0, 7298, 0, 0, 0, 0, 0, 0, 0, 0, 0, 0, 0, 3781, 0, 0, 0, 0, 0, 0, 0, 0, 0, 0, 0, 0, 0, 0, 0, 0, 0, 0, 0, 0, 0, 0, 0, 0, 0, 0, 0, 0, 0, 20051, 0, 0, 0, 0, 0, 0, 0, 0, 0, 0, 0, 0, 0, 0, 0, 0, 0, 0, 0, 0, 0, 0, 0, 0, 0, 27828, 0, 0, 0, 0, 0, 0, 3103, 0, 0, 0, 0, 0, 0, 0, 0, 0, 0, 0, 0, 0, 0, 0, 0, 0, 0, 0, 0, 0, 0, 0, 0, 0, 0, 0, 0, 0, 0, 0, 0, 0, 0, 0, 3464, 0, 0, 0, 0, 0, 0, 0, 0, 0, 0, 0, 0, 0, 0, 0, 0, 0, 0, 27828, 0, 0, 4650, 7298, 0, 0, 0, 0, 0, 0, 0, 0, 5013, 0, 0, 0, 0, 0, 0, 0, 0, 0, 0, 0, 0, 0, 0, 0, 0, 0, 0, 0, 0, 0, 0, 0, 15024, 0, 0, 3137, 0, 0, 2885, 0, 0, 0, 0, 0, 0, 0, 0, 0, 0, 0, 0, 0, 0, 0, 0, 0, 0, 0, 0, 0, 0, 0, 0, 0, 0, 0, 0, 0, 0, 0, 0, 15024, 0, 0, 0, 0, 0, 0, 0, 0, 0, 0, 0, 0, 0, 4508, 0, 0, 0, 0, 0, 99999, 0, 0, 0, 0, 0, 0, 0, 2174, 0, 0, 0, 0, 0, 0, 0, 0, 0, 0, 7298, 0, 0, 0, 0, 0, 0, 0, 0, 0, 0, 0, 0, 0, 0, 0, 0, 0, 0, 0, 0, 0, 0, 0, 0, 0, 0, 0, 0, 0, 0, 0, 0, 0, 0, 0, 0, 0, 0, 0, 0, 5013, 0, 0, 0, 0, 0, 0, 0, 0, 0, 0, 0, 0, 0, 2354, 0, 0, 0, 0, 0, 0, 0, 0, 0, 0, 0, 0, 0, 0, 0, 0, 1506, 0, 0, 0, 0, 0, 0, 0, 0, 5013, 0, 0, 0, 0, 0, 0, 0, 0, 0, 0, 0, 0, 0, 0, 0, 0, 0, 0, 0, 0, 0, 0, 0, 0, 0, 0, 0, 7688, 0, 4386, 0, 0, 0, 0, 0, 0, 4064, 0, 0, 0, 0, 0, 0, 0, 0, 0, 0, 0, 0, 0, 0, 0, 0, 0, 0, 0, 0, 0, 0, 0, 0, 0, 0, 0, 0, 0, 0, 0, 0, 0, 0, 0, 0, 0, 0, 0, 0, 0, 0, 0, 0, 0, 0, 0, 0, 0, 0, 14344, 0, 3103, 0, 0, 0, 0, 0, 0, 0, 0, 0, 0, 0, 0, 0, 0, 0, 0, 0, 0, 0, 0, 0, 0, 0, 15024, 3818, 0, 0, 0, 0, 0, 0, 0, 0, 0, 0, 0, 0, 0, 0, 0, 0, 0, 0, 0, 0, 0, 0, 0, 0, 0, 0, 0, 0, 0, 0, 0, 0, 0, 0, 0, 0, 0, 0, 0, 0, 0, 3464, 0, 0, 0, 0, 0, 0, 0, 0, 0, 0, 0, 3464, 0, 0, 0, 0, 0, 0, 0, 0, 0, 0, 0, 0, 0, 0, 0, 0, 0, 0, 0, 0, 0, 0, 0, 0, 0, 0, 0, 15024, 7688, 2174, 0, 0, 0, 0, 0, 2407, 0, 7298, 0, 0, 0, 0, 99999, 0, 0, 0, 0, 0, 0, 0, 0, 0, 0, 0, 0, 0, 0, 0, 0, 0, 0, 0, 0, 0, 0, 0, 0, 0, 0, 6497, 0, 0, 0, 0, 5178, 0, 3781, 0, 0, 0, 0, 0, 0, 4865, 0, 0, 0, 0, 0, 5013, 0, 0, 15024, 0, 0, 0, 4386, 0, 0, 0, 14344, 0, 0, 0, 0, 0, 7688, 0, 0, 0, 0, 0, 0, 0, 0, 0, 0, 0, 0, 0, 0, 7443, 0, 14084, 0, 0, 0, 0, 0, 0, 0, 0, 0, 0, 0, 0, 0, 0, 0, 0, 0, 0, 0, 0, 0, 0, 0, 0, 0, 0, 0, 0, 0, 0, 0, 0, 0, 0, 0, 0, 4064, 0, 0, 0, 0, 0, 0, 0, 3411, 0, 0, 0, 0, 0, 0, 0, 0, 0, 0, 0, 0, 0, 0, 0, 0, 7298, 0, 0, 0, 0, 0, 0, 0, 0, 0, 0, 0, 0, 0, 0, 0, 0, 0, 0, 10520, 0, 0, 0, 0, 0, 0, 0, 0, 0, 0, 0, 4386, 0, 0, 0, 0, 0, 0, 0, 0, 4064, 0, 0, 0, 0, 0, 0, 0, 0, 0, 0, 0, 2463, 0, 0, 0, 0, 0, 0, 0, 0, 10520, 0, 0, 0, 0, 0, 0, 0, 0, 0, 0, 0, 0, 0, 0, 0, 0, 0, 0, 0, 0, 0, 0, 0, 0, 0, 0, 0, 0, 3325, 0, 0, 0, 0, 0, 0, 15024, 0, 0, 0, 0, 0, 0, 0, 0, 0, 0, 0, 0, 0, 0, 0, 0, 0, 0, 0, 0, 0, 0, 0, 0, 0, 0, 0, 0, 0, 0, 5178, 0, 0, 0, 0, 0, 15024, 0, 0, 0, 0, 0, 0, 0, 0, 0, 15024, 0, 0, 15024, 0, 0, 0, 0, 0, 0, 0, 0, 2829, 0, 0, 0, 0, 0, 0, 0, 0, 0, 0, 0, 15024, 0, 0, 0, 0, 0, 1471, 0, 0, 0, 0, 0, 0, 0, 0, 0, 0, 0, 0, 0, 0, 0, 0, 0, 0, 0, 4650, 0, 0, 0, 0, 0, 0, 0, 0, 0, 0, 0, 0, 4386, 0, 0, 0, 0, 0, 0, 0, 0, 0, 0, 0, 0, 0, 0, 0, 0, 0, 0, 0, 0, 0, 20051, 15024, 0, 0, 0, 0, 0, 10520, 0, 0, 0, 0, 0, 0, 0, 0, 0, 0, 0, 2176, 0, 0, 0, 0, 0, 0, 0, 0, 0, 0, 0, 0, 0, 0, 0, 0, 15024, 0, 0, 0, 0, 0, 20051, 0, 0, 15024, 7688, 0, 0, 0, 0, 0, 0, 0, 0, 0, 3103, 0, 0, 0, 0, 0, 0, 0, 0, 0, 0, 0, 0, 0, 0, 15024, 0, 0, 0, 0, 0, 0, 0, 0, 1471, 0, 0, 0, 0, 0, 0, 0, 0, 0, 0, 0, 0, 2176, 0, 0, 0, 0, 0, 0, 0, 0, 0, 0, 0, 0, 0, 0, 0, 0, 0, 0, 0, 0, 0, 0, 0, 0, 0, 0, 0, 0, 0, 0, 0, 0, 0, 0, 0, 0, 0, 0, 0, 0, 5178, 0, 0, 0, 2329, 0, 0, 0, 0, 0, 0, 99999, 0, 0, 0, 0, 0, 0, 0, 0, 0, 0, 0, 0, 5178, 0, 0, 0, 4386, 0, 0, 0, 0, 0, 0, 0, 0, 0, 0, 99999, 0, 0, 0, 0, 0, 0, 0, 0, 0, 0, 0, 0, 0, 0, 0, 0, 15024, 0, 0, 0, 0, 0, 0, 0, 0, 0, 0, 0, 0, 0, 0, 0, 0, 0, 0, 0, 0, 7298, 0, 0, 0, 0, 0, 0, 0, 0, 0, 0, 0, 0, 0, 0, 0, 0, 0, 0, 0, 0, 0, 0, 0, 0, 25236, 0, 0, 0, 0, 0, 0, 0, 0, 0, 0, 0, 0, 0, 5178, 0, 15024, 0, 0, 0, 0, 0, 0, 0, 0, 0, 0, 0, 0, 0, 0, 0, 0, 0, 0, 0, 15831, 0, 0, 0, 0, 0, 0, 0, 0, 0, 0, 0, 0, 1409, 0, 0, 0, 0, 0, 0, 0, 0, 0, 0, 0, 0, 0, 0, 0, 0, 0, 0, 0, 0, 0, 0, 0, 0, 0, 8614, 0, 0, 0, 0, 0, 0, 0, 0, 0, 0, 0, 0, 0, 0, 0, 0, 0, 0, 0, 0, 0, 0, 0, 0, 0, 0, 0, 0, 0, 0, 0, 0, 0, 0, 0, 0, 0, 0, 0, 0, 0, 0, 0, 7688, 0, 0, 0, 0, 0, 0, 0, 2977, 0, 0, 0, 0, 3411, 0, 0, 3411, 0, 0, 5013, 0, 0, 0, 0, 0, 0, 0, 0, 0, 0, 0, 0, 0, 0, 0, 0, 4064, 0, 0, 99999, 0, 0, 0, 0, 0, 7430, 7688, 0, 0, 0, 0, 4650, 0, 0, 0, 0, 0, 0, 1506, 0, 99999, 1506, 0, 0, 0, 0, 0, 0, 7688, 0, 0, 0, 0, 0, 0, 7688, 0, 0, 0, 0, 0, 0, 0, 0, 0, 7688, 0, 0, 0, 0, 0, 0, 7688, 0, 1506, 0, 9386, 4386, 0, 0, 0, 0, 0, 0, 0, 15024, 0, 0, 0, 0, 0, 0, 0, 0, 0, 0, 0, 0, 0, 0, 0, 0, 0, 0, 15831, 3411, 15024, 0, 0, 0, 0, 0, 0, 0, 0, 0, 0, 0, 7298, 0, 0, 0, 0, 0, 8614, 0, 0, 0, 0, 0, 0, 0, 0, 0, 0, 0, 5013, 0, 0, 0, 0, 0, 0, 0, 7298, 0, 0, 0, 0, 594, 0, 0, 0, 0, 0, 0, 0, 0, 0, 0, 0, 0, 0, 0, 7688, 0, 0, 0, 0, 0, 0, 0, 0, 0, 0, 0, 0, 0, 0, 0, 0, 0, 0, 0, 0, 0, 0, 0, 0, 0, 0, 0, 0, 0, 0, 0, 0, 0, 0, 0, 2977, 0, 0, 0, 0, 0, 0, 0, 0, 0, 0, 0, 0, 0, 0, 0, 0, 0, 0, 0, 0, 0, 0, 0, 0, 3103, 0, 0, 0, 0, 0, 5013, 0, 0, 0, 0, 0, 0, 0, 0, 0, 0, 0, 0, 0, 0, 0, 0, 0, 0, 0, 0, 0, 0, 0, 0, 0, 0, 0, 0, 0, 0, 0, 0, 0, 0, 0, 0, 0, 0, 0, 0, 0, 0, 0, 0, 0, 0, 0, 0, 0, 0, 0, 0, 0, 0, 0, 0, 0, 0, 0, 0, 0, 0, 0, 0, 0, 7298, 0, 0, 0, 0, 0, 0, 0, 0, 0, 0, 0, 0, 0, 0, 0, 4101, 0, 0, 0, 0, 0, 0, 0, 0, 0, 0, 0, 0, 0, 0, 0, 0, 0, 0, 0, 0, 0, 0, 14344, 0, 0, 2463, 0, 0, 0, 0, 0, 0, 0, 3781, 15024, 0, 0, 0, 0, 0, 0, 0, 0, 0, 0, 0, 0, 0, 0, 0, 0, 0, 7688, 0, 0, 0, 0, 0, 0, 0, 0, 0, 0, 0, 0, 0, 0, 0, 0, 0, 0, 0, 0, 0, 0, 0, 0, 0, 0, 0, 0, 0, 0, 14084, 0, 0, 0, 0, 0, 0, 0, 0, 0, 0, 0, 0, 0, 0, 0, 0, 0, 0, 0, 0, 0, 0, 0, 0, 0, 0, 0, 0, 0, 0, 0, 14084, 0, 0, 0, 0, 0, 0, 0, 0, 0, 0, 0, 0, 0, 0, 0, 0, 99999, 0, 0, 0, 0, 0, 0, 0, 0, 15024, 0, 0, 0, 4064, 0, 0, 0, 0, 0, 0, 0, 0, 0, 0, 0, 0, 0, 0, 0, 0, 0, 0, 0, 0, 7298, 5013, 0, 0, 0, 0, 0, 0, 0, 0, 0, 0, 0, 0, 0, 0, 0, 0, 0, 7688, 0, 0, 2597, 0, 0, 0, 0, 4101, 0, 0, 0, 0, 6849, 0, 0, 0, 0, 0, 4386, 0, 0, 7298, 0, 0, 0, 0, 0, 0, 0, 0, 0, 4064, 9386, 7298, 0, 0, 0, 0, 0, 0, 0, 0, 0, 0, 0, 0, 0, 0, 0, 0, 0, 0, 0, 0, 0, 0, 7688, 0, 0, 0, 0, 0, 0, 0, 0, 0, 0, 0, 0, 0, 0, 0, 0, 0, 0, 0, 0, 0, 0, 0, 0, 0, 0, 0, 0, 0, 7298, 0, 0, 0, 0, 5013, 0, 0, 0, 0, 0, 0, 7688, 0, 0, 0, 0, 0, 0, 0, 0, 0, 0, 0, 0, 0, 0, 0, 0, 0, 0, 0, 0, 0, 0, 0, 0, 0, 7688, 0, 0, 0, 0, 0, 0, 0, 0, 0, 0, 0, 0, 0, 0, 0, 0, 0, 0, 5013, 0, 0, 0, 0, 0, 0, 0, 15024, 0, 0, 0, 0, 0, 0, 7688, 0, 0, 0, 0, 0, 0, 0, 0, 0, 0, 0, 0, 0, 0, 4386, 0, 0, 0, 0, 0, 0, 0, 0, 0, 0, 0, 0, 0, 0, 0, 0, 0, 0, 0, 0, 0, 0, 0, 0, 0, 0, 0, 0, 0, 0, 7688, 0, 0, 0, 15024, 0, 0, 0, 0, 0, 0, 0, 0, 0, 0, 0, 0, 0, 0, 0, 7688, 0, 0, 0, 0, 0, 0, 0, 0, 0, 0, 0, 0, 99999, 0, 0, 0, 0, 0, 15024, 0, 0, 0, 0, 0, 0, 0, 0, 0, 0, 0, 0, 0, 0, 0, 0, 0, 0, 0, 0, 15024, 0, 0, 15024, 0, 0, 0, 0, 0, 0, 0, 0, 0, 0, 0, 0, 0, 0, 0, 0, 2580, 0, 0, 0, 0, 0, 0, 0, 0, 0, 0, 0, 0, 5013, 0, 0, 0, 0, 0, 0, 0, 20051, 4386, 0, 0, 0, 0, 0, 0, 0, 3103, 0, 0, 5013, 0, 0, 0, 0, 0, 0, 0, 0, 0, 0, 0, 0, 0, 0, 0, 0, 0, 0, 0, 0, 0, 0, 0, 0, 0, 0, 0, 0, 0, 0, 0, 0, 0, 0, 0, 0, 0, 0, 0, 0, 0, 0, 0, 0, 3325, 0, 0, 0, 0, 0, 0, 0, 0, 0, 0, 0, 3325, 0, 0, 0, 0, 0, 0, 0, 0, 7688, 0, 0, 0, 0, 0, 0, 0, 0, 0, 0, 0, 0, 0, 0, 0, 0, 0, 0, 0, 0, 0, 0, 0, 0, 0, 0, 0, 0, 15024, 0, 4386, 0, 2414, 0, 0, 0, 0, 0, 0, 0, 0, 0, 0, 0, 0, 0, 0, 0, 0, 0, 0, 0, 0, 0, 0, 0, 0, 0, 0, 0, 0, 2463, 0, 0, 0, 0, 0, 0, 20051, 0, 0, 0, 0, 20051, 15024, 0, 0, 0, 0, 0, 0, 0, 0, 0, 0, 0, 0, 0, 0, 0, 0, 0, 0, 0, 15024, 0, 0, 0, 0, 0, 2174, 0, 0, 0, 0, 0, 0, 7688, 0, 1151, 0, 0, 0, 0, 0, 7688, 0, 0, 0, 0, 0, 0, 0, 0, 0, 0, 0, 99999, 0, 0, 0, 7298, 0, 0, 0, 0, 0, 0, 7298, 0, 0, 0, 0, 10520, 0, 0, 0, 0, 0, 0, 0, 0, 0, 0, 0, 0, 0, 0, 0, 0, 0, 0, 0, 0, 0, 0, 0, 0, 0, 15024, 0, 0, 0, 0, 0, 0, 0, 7688, 5013, 0, 0, 0, 0, 0, 0, 0, 0, 0, 0, 0, 0, 0, 0, 0, 0, 15024, 0, 0, 0, 0, 0, 0, 0, 99999, 0, 0, 0, 0, 0, 0, 0, 99999, 0, 0, 0, 0, 0, 0, 0, 0, 7298, 0, 0, 0, 0, 0, 0, 0, 0, 0, 0, 0, 0, 0, 7688, 0, 0, 0, 0, 0, 0, 0, 0, 0, 0, 0, 0, 0, 0, 0, 0, 0, 0, 0, 0, 3137, 0, 0, 0, 0, 0, 0, 0, 0, 0, 0, 2829, 0, 0, 0, 0, 0, 0, 0, 5178, 0, 0, 0, 0, 0, 0, 0, 0, 4101, 0, 0, 0, 0, 0, 0, 0, 0, 0, 0, 0, 0, 0, 0, 0, 0, 0, 0, 0, 0, 0, 0, 0, 0, 0, 0, 0, 0, 0, 0, 27828, 10520, 0, 0, 0, 0, 0, 0, 0, 0, 0, 0, 0, 3908, 0, 0, 0, 0, 0, 0, 7688, 0, 0, 0, 0, 0, 0, 0, 0, 0, 0, 0, 0, 2009, 0, 0, 0, 0, 0, 0, 0, 20051, 0, 7298, 0, 0, 0, 0, 13550, 0, 13550, 0, 0, 0, 0, 0, 0, 0, 0, 0, 0, 7298, 0, 0, 0, 0, 0, 0, 0, 0, 0, 0, 0, 0, 0, 0, 7688, 0, 0, 0, 0, 0, 0, 0, 0, 0, 0, 0, 0, 0, 0, 3464, 0, 1055, 0, 0, 0, 4101, 0, 4386, 0, 0, 2597, 4650, 0, 0, 0, 0, 0, 0, 0, 0, 0, 0, 0, 0, 0, 0, 0, 0, 1424, 0, 0, 0, 0, 0, 0, 0, 0, 0, 0, 0, 0, 0, 0, 0, 0, 0, 0, 0, 0, 0, 0, 0, 0, 99999, 0, 0, 0, 0, 15024, 0, 0, 0, 25236, 0, 0, 0, 0, 10520, 0, 0, 0, 15024, 0, 0, 0, 0, 0, 0, 2202, 0, 0, 0, 0, 0, 0, 0, 0, 0, 0, 0, 0, 0, 0, 0, 0, 0, 0, 0, 0, 0, 0, 0, 0, 0, 0, 0, 0, 0, 0, 0, 6767, 0, 0, 0, 0, 4650, 0, 0, 0, 0, 0, 0, 0, 0, 0, 0, 0, 0, 0, 0, 0, 0, 0, 0, 0, 0, 0, 0, 5013, 7298, 15024, 0, 5013, 0, 0, 0, 0, 0, 0, 0, 0, 0, 0, 0, 0, 0, 0, 0, 0, 0, 0, 0, 0, 0, 0, 2346, 0, 0, 0, 0, 0, 0, 0, 0, 0, 0, 0, 0, 0, 0, 0, 0, 0, 0, 0, 0, 0, 0, 0, 0, 0, 0, 0, 0, 0, 0, 0, 0, 0, 0, 0, 0, 0, 0, 0, 0, 0, 0, 7298, 0, 0, 0, 0, 0, 0, 0, 0, 0, 0, 0, 0, 0, 0, 0, 0, 0, 0, 0, 0, 0, 0, 0, 0, 0, 0, 0, 0, 0, 0, 0, 0, 0, 0, 0, 0, 0, 0, 0, 0, 0, 0, 0, 0, 0, 0, 15024, 0, 0, 0, 0, 0, 0, 0, 0, 0, 0, 0, 3674, 0, 0, 0, 0, 0, 0, 0, 0, 0, 0, 0, 0, 0, 0, 0, 0, 0, 0, 0, 0, 4386, 0, 0, 0, 0, 0, 0, 0, 0, 0, 0, 0, 0, 0, 0, 0, 0, 0, 25236, 0, 0, 0, 0, 0, 0, 0, 0, 0, 0, 0, 0, 7688, 0, 5013, 0, 0, 0, 7688, 0, 0, 0, 0, 0, 0, 0, 0, 0, 0, 0, 0, 3674, 0, 0, 0, 0, 0, 0, 0, 0, 0, 0, 0, 0, 0, 0, 0, 0, 0, 0, 0, 0, 0, 0, 0, 0, 0, 0, 3137, 0, 7298, 0, 0, 15024, 0, 0, 0, 0, 0, 0, 0, 0, 0, 0, 0, 0, 0, 0, 2964, 0, 7688, 0, 0, 0, 0, 0, 0, 2202, 0, 0, 0, 8614, 0, 0, 0, 0, 0, 0, 0, 0, 0, 0, 0, 0, 0, 0, 0, 0, 0, 0, 0, 2176, 0, 0, 0, 0, 0, 0, 0, 15024, 0, 0, 0, 0, 0, 0, 0, 0, 0, 0, 0, 0, 0, 0, 0, 0, 0, 0, 2829, 99999, 0, 0, 7688, 0, 6497, 0, 0, 0, 0, 0, 0, 0, 0, 0, 0, 0, 0, 0, 0, 0, 0, 0, 0, 0, 8614, 0, 0, 0, 0, 0, 0, 0, 0, 0, 0, 0, 0, 0, 7298, 0, 0, 0, 15024, 2174, 0, 15024, 0, 0, 0, 0, 0, 0, 0, 0, 0, 0, 0, 0, 7688, 0, 0, 0, 0, 99999, 0, 0, 0, 15024, 0, 14344, 0, 0, 0, 0, 0, 0, 0, 0, 0, 0, 0, 0, 0, 0, 0, 0, 0, 0, 0, 0, 0, 5178, 0, 0, 0, 0, 0, 7430, 0, 0, 0, 0, 0, 0, 0, 0, 0, 0, 0, 0, 0, 0, 2174, 0, 0, 0, 0, 0, 0, 0, 0, 0, 0, 0, 0, 0, 0, 0, 0, 0, 0, 0, 0, 0, 0, 0, 0, 0, 0, 0, 0, 0, 0, 0, 2597, 0, 0, 0, 0, 0, 0, 0, 0, 0, 0, 0, 0, 0, 0, 0, 0, 0, 0, 0, 0, 0, 0, 0, 0, 0, 0, 0, 0, 0, 0, 0, 0, 0, 0, 0, 0, 0, 0, 0, 0, 0, 0, 0, 0, 0, 0, 0, 0, 7688, 0, 0, 0, 0, 0, 0, 0, 0, 0, 0, 0, 0, 0, 99999, 0, 99999, 0, 0, 0, 0, 0, 0, 0, 0, 0, 0, 0, 0, 0, 0, 0, 0, 0, 0, 0, 0, 0, 0, 0, 0, 0, 0, 0, 0, 0, 0, 0, 0, 0, 0, 0, 0, 15024, 0, 0, 0, 0, 0, 0, 0, 0, 0, 0, 0, 0, 0, 0, 0, 0, 0, 7430, 0, 0, 0, 0, 0, 0, 0, 0, 0, 0, 0, 0, 0, 0, 0, 0, 0, 0, 0, 0, 0, 0, 0, 0, 0, 0, 0, 0, 0, 0, 0, 0, 0, 0, 0, 0, 0, 0, 0, 0, 0, 0, 0, 0, 0, 0, 0, 0, 0, 0, 3103, 0, 0, 0, 0, 0, 0, 0, 0, 0, 0, 0, 0, 0, 0, 0, 0, 0, 0, 0, 0, 0, 0, 0, 0, 0, 0, 0, 0, 3103, 3103, 0, 0, 0, 0, 0, 0, 0, 0, 0, 0, 3908, 0, 0, 0, 0, 0, 0, 0, 0, 0, 0, 0, 0, 0, 20051, 7298, 0, 0, 0, 0, 0, 2907, 0, 0, 0, 0, 0, 0, 0, 4386, 0, 0, 0, 0, 0, 0, 0, 2176, 0, 0, 0, 99999, 0, 0, 4386, 0, 0, 0, 0, 7688, 10520, 0, 0, 0, 0, 0, 0, 0, 0, 0, 0, 0, 0, 0, 0, 0, 0, 7688, 0, 0, 0, 0, 0, 3103, 0, 0, 0, 0, 0, 0, 0, 0, 0, 2174, 0, 0, 0, 0, 0, 0, 0, 2009, 0, 0, 0, 0, 0, 0, 0, 594, 15024, 0, 0, 0, 0, 0, 0, 0, 0, 0, 0, 0, 0, 0, 2885, 0, 0, 0, 0, 0, 0, 0, 0, 0, 0, 0, 0, 0, 0, 3674, 0, 0, 0, 0, 0, 0, 5455, 0, 0, 99999, 0, 0, 0, 0, 0, 0, 0, 0, 0, 0, 0, 0, 0, 0, 0, 0, 7688, 0, 0, 0, 5178, 0, 0, 0, 0, 0, 0, 0, 0, 0, 0, 0, 0, 0, 0, 0, 0, 7298, 0, 0, 0, 0, 0, 0, 0, 0, 0, 3818, 7298, 3103, 0, 0, 0, 0, 0, 6360, 0, 6514, 0, 0, 4386, 0, 15024, 0, 0, 0, 3325, 0, 15024, 5178, 0, 0, 0, 0, 5455, 0, 0, 0, 0, 0, 0, 0, 0, 0, 0, 0, 3273, 0, 0, 0, 0, 0, 0, 0, 0, 0, 3418, 0, 0, 0, 0, 0, 0, 8614, 0, 0, 0, 0, 0, 0, 6497, 0, 0, 0, 0, 0, 0, 0, 0, 0, 0, 0, 0, 0, 0, 0, 0, 7298, 0, 0, 1506, 0, 0, 0, 0, 0, 99999, 0, 0, 0, 0, 0, 0, 0, 0, 0, 0, 0, 0, 0, 0, 0, 0, 0, 0, 0, 0, 0, 0, 0, 7688, 0, 0, 0, 0, 0, 0, 0, 0, 0, 0, 0, 0, 0, 0, 0, 0, 0, 0, 0, 0, 0, 0, 0, 0, 7688, 0, 0, 0, 0, 0, 0, 0, 0, 0, 0, 0, 0, 0, 0, 0, 0, 0, 0, 0, 0, 0, 0, 0, 6849, 0, 0, 0, 0, 0, 0, 0, 0, 0, 0, 0, 0, 3908, 0, 0, 0, 0, 0, 0, 0, 0, 0, 0, 0, 7688, 0, 5178, 0, 0, 0, 0, 0, 0, 0, 0, 0, 4650, 0, 0, 0, 0, 0, 0, 0, 0, 2597, 0, 0, 0, 0, 0, 0, 0, 0, 0, 0, 0, 0, 0, 4865, 0, 0, 7688, 0, 0, 0, 0, 0, 0, 0, 0, 0, 0, 0, 5013, 0, 0, 0, 0, 0, 0, 7688, 0, 0, 0, 0, 0, 0, 0, 0, 0, 0, 0, 0, 0, 0, 114, 0, 0, 0, 0, 0, 0, 0, 0, 0, 0, 0, 0, 0, 0, 0, 0, 0, 0, 0, 0, 0, 0, 0, 0, 0, 0, 0, 0, 0, 0, 0, 0, 0, 0, 0, 0, 0, 0, 0, 0, 0, 0, 0, 0, 0, 0, 0, 0, 0, 0, 0, 0, 0, 0, 0, 0, 0, 0, 0, 0, 0, 0, 0, 0, 0, 0, 594, 0, 0, 0, 0, 0, 0, 0, 0, 0, 0, 0, 0, 0, 0, 0, 0, 0, 0, 4386, 0, 0, 0, 0, 0, 0, 0, 0, 0, 0, 0, 0, 0, 0, 0, 0, 0, 0, 0, 0, 0, 0, 0, 0, 0, 0, 27828, 0, 0, 0, 0, 0, 7978, 0, 0, 0, 0, 0, 0, 0, 0, 7298, 0, 0, 0, 0, 0, 0, 0, 0, 0, 0, 0, 0, 0, 0, 0, 0, 0, 0, 0, 3103, 9386, 0, 0, 0, 0, 0, 0, 0, 0, 0, 0, 0, 0, 0, 0, 0, 0, 0, 0, 0, 0, 0, 0, 0, 0, 0, 0, 0, 0, 0, 0, 0, 0, 0, 0, 0, 0, 0, 0, 0, 0, 0, 0, 0, 0, 0, 0, 0, 0, 0, 0, 0, 0, 0, 0, 0, 0, 14084, 0, 0, 5178, 0, 0, 0, 0, 0, 0, 0, 0, 0, 0, 0, 0, 0, 0, 0, 0, 0, 0, 7688, 0, 0, 0, 0, 0, 0, 0, 0, 0, 0, 0, 0, 0, 0, 0, 0, 7298, 0, 0, 0, 0, 0, 0, 0, 0, 0, 0, 0, 15020, 0, 0, 0, 0, 0, 0, 7688, 0, 5178, 0, 0, 0, 0, 0, 0, 0, 0, 0, 0, 0, 0, 0, 0, 0, 15024, 0, 0, 5178, 0, 0, 0, 0, 0, 0, 0, 0, 0, 0, 0, 0, 0, 0, 0, 0, 0, 0, 0, 0, 0, 0, 0, 0, 0, 0, 0, 5013, 0, 0, 0, 0, 0, 0, 0, 0, 0, 0, 99999, 0, 0, 0, 0, 7688, 0, 2050, 0, 0, 0, 0, 0, 0, 0, 0, 0, 0, 0, 0, 0, 0, 7688, 0, 0, 0, 0, 0, 0, 0, 0, 0, 0, 15024, 0, 0, 0, 0, 0, 0, 0, 0, 0, 0, 0, 0, 0, 0, 0, 0, 0, 0, 0, 0, 0, 0, 0, 0, 0, 0, 0, 0, 0, 0, 0, 0, 5013, 0, 0, 0, 0, 0, 0, 0, 0, 0, 0, 0, 3908, 0, 0, 0, 0, 0, 0, 0, 7688, 7688, 0, 0, 0, 0, 0, 0, 0, 0, 0, 0, 0, 0, 3273, 0, 0, 0, 0, 0, 3325, 15024, 0, 0, 0, 0, 0, 0, 0, 0, 0, 0, 0, 0, 0, 0, 0, 0, 0, 0, 0, 0, 0, 0, 0, 0, 0, 0, 7298, 0, 0, 0, 0, 0, 0, 0, 0, 0, 0, 0, 0, 0, 0, 0, 0, 0, 0, 0, 0, 0, 0, 0, 0, 5013, 0, 0, 0, 0, 0, 0, 0, 0, 0, 0, 0, 0, 0, 0, 0, 0, 0, 2580, 0, 0, 0, 0, 0, 0, 0, 0, 0, 0, 0, 0, 0, 0, 3432, 0, 0, 4386, 0, 0, 0, 0, 0, 0, 0, 0, 7298, 7688, 0, 0, 0, 0, 0, 0, 0, 0, 0, 0, 0, 0, 0, 0, 0, 0, 7298, 0, 0, 0, 0, 0, 0, 0, 0, 4687, 0, 0, 0, 0, 0, 0, 0, 13550, 0, 0, 0, 0, 0, 0, 0, 0, 0, 0, 0, 0, 0, 0, 0, 0, 0, 0, 0, 0, 0, 0, 0, 5178, 0, 2174, 0, 0, 0, 0, 0, 0, 0, 0, 0, 0, 0, 0, 0, 0, 7430, 0, 0, 0, 0, 0, 0, 0, 0, 0, 0, 0, 0, 0, 0, 0, 0, 0, 0, 0, 5013, 0, 8614, 0, 0, 0, 0, 0, 0, 0, 0, 0, 0, 0, 0, 0, 0, 0, 0, 1151, 0, 0, 0, 0, 0, 0, 0, 0, 0, 0, 0, 0, 0, 0, 0, 0, 0, 0, 0, 0, 0, 0, 0, 0, 0, 7298, 0, 0, 1506, 0, 0, 0, 0, 0, 0, 2829, 3325, 0, 0, 0, 0, 0, 0, 0, 0, 0, 0, 0, 0, 0, 3103, 0, 0, 0, 2174, 0, 0, 0, 0, 0, 0, 0, 0, 0, 0, 0, 0, 0, 0, 0, 0, 0, 0, 0, 0, 0, 4386, 0, 0, 0, 4064, 0, 0, 0, 0, 0, 15024, 0, 0, 0, 0, 99999, 0, 0, 0, 0, 0, 0, 0, 15831, 0, 25236, 0, 0, 0, 0, 0, 0, 0, 0, 0, 0, 0, 0, 0, 0, 0, 0, 0, 0, 0, 0, 0, 0, 0, 7298, 2036, 0, 0, 0, 0, 0, 0, 0, 2829, 0, 0, 0, 0, 0, 0, 0, 0, 0, 0, 0, 0, 0, 0, 0, 0, 0, 0, 0, 0, 0, 0, 0, 0, 0, 0, 0, 0, 0, 0, 0, 0, 3908, 0, 0, 0, 0, 0, 0, 2174, 0, 0, 0, 0, 0, 0, 0, 0, 0, 0, 0, 0, 0, 0, 0, 0, 0, 0, 0, 0, 0, 0, 0, 0, 0, 0, 0, 0, 0, 0, 0, 0, 0, 0, 0, 0, 18481, 0, 0, 0, 0, 0, 0, 0, 7688, 0, 0, 0, 0, 0, 0, 8614, 0, 0, 0, 0, 0, 0, 0, 0, 0, 0, 0, 7298, 0, 0, 0, 0, 0, 0, 0, 0, 0, 0, 0, 0, 0, 0, 0, 0, 0, 0, 0, 0, 0, 0, 0, 0, 0, 0, 0, 0, 0, 0, 0, 0, 0, 0, 0, 27828, 0, 0, 0, 0, 0, 0, 0, 0, 0, 0, 0, 0, 0, 0, 0, 0, 0, 0, 0, 0, 0, 0, 0, 0, 0, 0, 0, 0, 0, 0, 0, 0, 0, 0, 0, 0, 0, 0, 0, 0, 7688, 99999, 0, 0, 0, 3674, 0, 3471, 0, 0, 0, 0, 0, 0, 0, 0, 0, 0, 0, 1409, 0, 0, 0, 4386, 99999, 0, 0, 0, 0, 7298, 0, 6418, 0, 0, 0, 0, 0, 15024, 7298, 0, 0, 0, 0, 0, 0, 0, 0, 0, 0, 0, 0, 0, 0, 0, 0, 0, 0, 10520, 0, 7298, 0, 0, 0, 0, 0, 0, 0, 0, 0, 0, 0, 0, 0, 0, 0, 5178, 0, 0, 0, 0, 1797, 1055, 0, 0, 0, 0, 0, 0, 0, 0, 0, 0, 0, 0, 4386, 3137, 0, 2174, 0, 0, 0, 0, 0, 0, 0, 0, 0, 0, 0, 0, 0, 0, 0, 0, 0, 0, 0, 0, 0, 0, 7298, 0, 0, 0, 0, 0, 0, 0, 0, 0, 0, 0, 0, 3103, 0, 0, 0, 0, 0, 0, 0, 0, 0, 0, 0, 0, 0, 0, 0, 0, 0, 0, 0, 0, 0, 0, 0, 0, 0, 0, 0, 0, 0, 0, 0, 0, 0, 0, 0, 0, 0, 0, 0, 0, 0, 0, 0, 0, 0, 0, 0, 0, 0, 0, 0, 0, 0, 2635, 0, 0, 0, 0, 0, 0, 0, 99999, 0, 0, 0, 0, 0, 0, 0, 0, 0, 0, 0, 0, 99999, 0, 0, 0, 0, 0, 0, 0, 0, 0, 0, 0, 0, 0, 0, 0, 0, 0, 0, 0, 0, 0, 0, 7688, 0, 0, 0, 0, 0, 0, 0, 0, 0, 0, 0, 0, 0, 0, 0, 0, 0, 0, 0, 2580, 0, 0, 0, 0, 0, 0, 4416, 0, 0, 0, 15024, 0, 0, 0, 0, 0, 0, 2635, 0, 0, 0, 0, 0, 0, 0, 0, 0, 0, 0, 0, 0, 0, 4101, 0, 0, 0, 0, 0, 0, 0, 0, 0, 6849, 0, 0, 0, 0, 0, 0, 0, 0, 0, 0, 0, 0, 0, 0, 0, 0, 0, 0, 0, 7298, 3137, 0, 0, 0, 0, 0, 0, 0, 0, 0, 0, 0, 0, 0, 0, 0, 0, 0, 0, 0, 0, 0, 0, 0, 0, 0, 0, 0, 0, 6849, 0, 0, 0, 0, 0, 0, 0, 0, 0, 0, 0, 0, 0, 0, 0, 0, 0, 0, 0, 0, 0, 0, 0, 0, 0, 0, 0, 0, 0, 0, 0, 0, 0, 0, 0, 0, 0, 2202, 25236, 0, 15024, 0, 0, 0, 0, 0, 0, 0, 0, 0, 0, 0, 0, 0, 0, 0, 0, 0, 0, 0, 3325, 0, 0, 0, 0, 0, 0, 0, 15024, 0, 0, 0, 0, 0, 0, 0, 0, 0, 0, 0, 0, 0, 0, 0, 0, 0, 0, 0, 0, 0, 0, 0, 7688, 0, 0, 15024, 0, 0, 0, 0, 0, 0, 0, 0, 0, 0, 0, 0, 0, 0, 0, 7298, 0, 0, 0, 0, 0, 0, 0, 0, 4101, 0, 0, 0, 0, 0, 2597, 0, 0, 0, 99999, 7688, 0, 0, 0, 0, 0, 0, 0, 3325, 0, 0, 0, 0, 0, 0, 0, 0, 0, 0, 0, 0, 0, 0, 0, 0, 0, 0, 0, 0, 0, 0, 0, 0, 0, 0, 0, 0, 0, 0, 0, 0, 0, 0, 0, 0, 0, 0, 0, 0, 0, 0, 0, 0, 0, 0, 0, 0, 0, 0, 0, 0, 0, 5178, 0, 0, 0, 34095, 0, 0, 2354, 8614, 0, 0, 0, 0, 0, 0, 0, 0, 0, 0, 7298, 0, 15024, 0, 0, 0, 0, 0, 0, 0, 15024, 0, 0, 0, 7298, 0, 0, 0, 0, 0, 0, 0, 0, 0, 0, 0, 0, 0, 0, 0, 0, 0, 0, 0, 1055, 0, 0, 0, 0, 0, 0, 0, 0, 0, 0, 0, 0, 0, 0, 0, 2202, 0, 0, 0, 3103, 0, 7688, 0, 0, 0, 0, 0, 99999, 0, 0, 0, 0, 15024, 0, 0, 0, 0, 0, 20051, 0, 0, 0, 0, 0, 0, 0, 0, 0, 0, 0, 0, 0, 0, 0, 0, 0, 0, 0, 0, 0, 0, 914, 0, 0, 0, 0, 4386, 0, 0, 0, 0, 0, 0, 0, 0, 0, 0, 0, 0, 2885, 0, 0, 0, 0, 0, 0, 0, 0, 0, 5178, 0, 0, 0, 0, 0, 0, 0, 0, 0, 0, 0, 0, 2329, 0, 0, 0, 0, 0, 0, 0, 0, 15024, 0, 0, 0, 0, 0, 0, 0, 0, 0, 7688, 0, 0, 0, 0, 0, 0, 0, 0, 0, 0, 0, 0, 0, 0, 0, 0, 0, 0, 0, 0, 0, 0, 0, 0, 0, 0, 0, 0, 0, 0, 0, 0, 0, 0, 0, 0, 0, 0, 0, 0, 0, 0, 0, 0, 5178, 0, 4650, 0, 0, 0, 0, 0, 0, 0, 0, 0, 0, 0, 0, 99999, 0, 0, 0, 0, 0, 0, 0, 0, 0, 0, 0, 0, 0, 0, 0, 0, 7298, 0, 0, 0, 7298, 0, 0, 0, 0, 0, 0, 0, 0, 0, 0, 0, 0, 8614, 0, 0, 0, 3674, 0, 0, 0, 0, 0, 0, 0, 0, 0, 0, 0, 0, 0, 0, 0, 0, 0, 0, 0, 0, 0, 0, 0, 0, 0, 0, 5178, 0, 0, 0, 0, 0, 0, 0, 0, 0, 0, 0, 0, 0, 0, 0, 0, 0, 0, 0, 0, 0, 0, 0, 0, 0, 0, 0, 0, 0, 0, 0, 0, 0, 0, 0, 0, 0, 0, 7298, 0, 0, 0, 0, 0, 0, 0, 0, 0, 0, 15024, 0, 0, 0, 0, 0, 0, 0, 0, 3325, 0, 0, 0, 0, 0, 0, 0, 0, 0, 0, 0, 0, 0, 0, 0, 0, 0, 0, 0, 0, 0, 0, 0, 15024, 0, 7688, 0, 0, 0, 0, 0, 0, 0, 0, 0, 0, 0, 0, 0, 0, 0, 0, 0, 0, 0, 0, 0, 0, 0, 0, 0, 0, 0, 0, 0, 0, 0, 4386, 0, 0, 0, 0, 0, 0, 0, 13550, 0, 0, 0, 0, 0, 0, 0, 7430, 0, 0, 0, 0, 0, 0, 0, 0, 0, 0, 0, 0, 0, 8614, 0, 0, 0, 8614, 0, 0, 0, 0, 0, 0, 0, 6849, 0, 0, 0, 0, 0, 0, 0, 0, 0, 0, 0, 0, 0, 0, 0, 0, 0, 0, 0, 0, 0, 0, 0, 0, 0, 0, 0, 0, 0, 0, 0, 0, 0, 0, 0, 0, 0, 0, 0, 2174, 0, 0, 14344, 99999, 0, 0, 0, 0, 7688, 0, 0, 15024, 0, 0, 0, 5455, 0, 0, 0, 0, 0, 0, 0, 0, 0, 0, 0, 5013, 0, 0, 0, 0, 0, 0, 0, 0, 0, 0, 0, 0, 0, 0, 5013, 0, 0, 0, 0, 0, 0, 0, 0, 0, 0, 0, 0, 0, 0, 0, 0, 0, 0, 0, 0, 0, 7688, 0, 0, 0, 0, 0, 0, 0, 0, 0, 0, 0, 0, 0, 0, 0, 0, 0, 0, 0, 0, 0, 0, 0, 0, 0, 0, 0, 0, 0, 0, 0, 0, 15024, 0, 0, 20051, 0, 0, 0, 0, 0, 0, 0, 0, 0, 15024, 0, 0, 0, 7298, 0, 0, 0, 0, 0, 0, 0, 0, 2202, 0, 0, 0, 5013, 0, 0, 0, 0, 0, 0, 0, 0, 0, 0, 0, 0, 0, 0, 0, 0, 0, 0, 15024, 0, 0, 0, 0, 0, 0, 0, 0, 0, 0, 0, 2907, 0, 0, 0, 0, 0, 99999, 0, 0, 0, 0, 0, 0, 0, 0, 0, 0, 0, 0, 0, 0, 0, 0, 0, 0, 0, 0, 0, 0, 0, 0, 0, 0, 0, 0, 0, 0, 0, 0, 0, 0, 0, 0, 2597, 0, 0, 0, 15024, 0, 0, 0, 0, 0, 10520, 0, 0, 3908, 0, 0, 0, 0, 0, 0, 0, 0, 0, 0, 0, 0, 0, 0, 0, 0, 0, 3464, 0, 0, 3325, 0, 0, 0, 7688, 0, 0, 0, 0, 0, 0, 25124, 0, 0, 0, 0, 0, 0, 0, 0, 0, 0, 0, 0, 0, 0, 14084, 0, 0, 0, 0, 0, 0, 7298, 0, 0, 7298, 0, 0, 0, 0, 0, 0, 0, 0, 0, 0, 0, 0, 0, 0, 0, 0, 0, 0, 0, 0, 0, 0, 0, 0, 0, 0, 0, 0, 0, 0, 0, 0, 0, 0, 0, 0, 15024, 15024, 0, 0, 0, 0, 0, 0, 0, 0, 0, 0, 0, 0, 0, 0, 0, 0, 0, 0, 0, 7688, 0, 0, 0, 0, 0, 4386, 0, 0, 0, 0, 0, 0, 0, 0, 0, 0, 0, 0, 0, 7688, 0, 2174, 0, 0, 0, 0, 0, 0, 0, 0, 0, 0, 0, 0, 0, 0, 0, 0, 0, 0, 0, 0, 0, 0, 0, 0, 0, 0, 0, 0, 0, 0, 0, 15024, 0, 0, 0, 0, 0, 0, 0, 10520, 0, 0, 0, 0, 0, 0, 0, 0, 0, 0, 0, 2538, 0, 0, 99999, 0, 0, 0, 10605, 0, 0, 0, 0, 0, 7688, 0, 0, 0, 0, 0, 0, 0, 0, 99999, 0, 0, 0, 0, 0, 0, 0, 0, 0, 7298, 0, 0, 0, 0, 0, 99999, 0, 0, 0, 0, 0, 0, 0, 0, 0, 0, 0, 0, 0, 0, 0, 0, 0, 0, 0, 0, 0, 0, 0, 0, 0, 0, 0, 0, 0, 0, 0, 0, 0, 0, 0, 0, 0, 0, 0, 0, 0, 0, 0, 0, 0, 0, 0, 0, 0, 0, 0, 0, 0, 0, 0, 0, 0, 0, 0, 0, 0, 0, 0, 0, 0, 2176, 0, 0, 0, 2961, 0, 0, 0, 15024, 0, 0, 0, 0, 0, 0, 0, 0, 0, 0, 0, 0, 0, 0, 0, 0, 0, 0, 0, 0, 0, 5178, 15024, 0, 0, 0, 0, 0, 3674, 0, 0, 0, 0, 0, 0, 0, 15024, 0, 0, 0, 0, 0, 0, 0, 0, 0, 0, 0, 0, 0, 0, 0, 0, 0, 0, 0, 0, 0, 0, 0, 0, 0, 914, 0, 0, 0, 0, 0, 0, 0, 0, 0, 0, 0, 0, 0, 0, 0, 0, 0, 0, 0, 0, 0, 0, 0, 0, 0, 0, 0, 0, 0, 0, 0, 0, 0, 0, 0, 0, 0, 0, 0, 0, 0, 0, 0, 0, 0, 0, 0, 0, 0, 0, 0, 0, 0, 0, 0, 0, 0, 4386, 0, 0, 0, 0, 0, 0, 0, 0, 0, 15024, 0, 0, 0, 0, 0, 0, 0, 0, 0, 0, 0, 0, 0, 0, 0, 0, 0, 0, 0, 0, 0, 0, 0, 0, 2885, 0, 0, 0, 0, 0, 0, 0, 0, 0, 0, 0, 0, 0, 0, 0, 0, 0, 0, 0, 0, 0, 0, 0, 0, 0, 0, 0, 0, 0, 0, 0, 0, 0, 0, 0, 0, 0, 0, 0, 0, 0, 0, 99999, 0, 0, 0, 0, 0, 0, 0, 0, 0, 0, 0, 0, 0, 0, 0, 0, 0, 0, 0, 0, 0, 0, 0, 0, 0, 0, 0, 0, 0, 0, 0, 0, 0, 0, 0, 0, 0, 0, 0, 0, 0, 0, 15024, 0, 0, 0, 0, 0, 0, 0, 0, 0, 0, 0, 0, 0, 0, 0, 0, 0, 0, 0, 0, 0, 0, 0, 0, 0, 0, 0, 0, 0, 0, 0, 0, 0, 15024, 0, 0, 0, 0, 0, 0, 0, 0, 0, 0, 0, 0, 0, 0, 0, 0, 0, 0, 15024, 0, 0, 0, 0, 0, 15024, 0, 7688, 594, 0, 0, 15024, 0, 7298, 0, 0, 0, 0, 0, 0, 0, 0, 0, 0, 0, 0, 0, 0, 0, 3103, 0, 5178, 0, 0, 0, 0, 0, 0, 0, 0, 0, 0, 0, 0, 0, 0, 0, 0, 0, 0, 0, 0, 0, 0, 0, 0, 15024, 0, 0, 0, 0, 0, 0, 0, 0, 0, 0, 0, 0, 0, 0, 0, 0, 0, 0, 0, 0, 0, 0, 0, 0, 0, 0, 0, 0, 5013, 27828, 0, 0, 0, 4064, 0, 0, 0, 0, 0, 0, 2635, 0, 0, 0, 0, 0, 0, 0, 0, 0, 0, 0, 0, 0, 0, 0, 0, 0, 0, 0, 0, 0, 0, 0, 0, 0, 0, 0, 0, 0, 0, 0, 0, 0, 0, 0, 0, 0, 7298, 2407, 0, 0, 0, 0, 0, 0, 0, 0, 7298, 0, 0, 0, 15024, 0, 0, 0, 0, 0, 0, 0, 0, 0, 0, 0, 0, 0, 0, 0, 0, 0, 0, 4386, 0, 0, 0, 0, 0, 0, 0, 0, 0, 27828, 0, 0, 0, 0, 0, 0, 0, 0, 0, 0, 0, 0, 0, 0, 0, 0, 0, 0, 0, 0, 0, 0, 0, 0, 0, 6849, 0, 0, 0, 0, 0, 0, 0, 0, 0, 0, 15024, 0, 0, 0, 0, 0, 0, 0, 2354, 0, 0, 0, 0, 3103, 3464, 0, 0, 0, 0, 15024, 0, 0, 0, 0, 0, 0, 0, 0, 0, 0, 0, 0, 0, 2354, 0, 0, 0, 0, 0, 0, 1055, 0, 0, 0, 0, 0, 0, 0, 0, 0, 0, 0, 0, 0, 0, 0, 0, 0, 0, 2885, 0, 0, 0, 0, 0, 3411, 0, 0, 0, 0, 0, 0, 0, 0, 0, 0, 0, 0, 0, 0, 0, 0, 0, 0, 0, 7688, 0, 0, 0, 0, 0, 0, 4865, 4101, 0, 0, 0, 0, 0, 0, 0, 0, 0, 0, 0, 0, 0, 0, 0, 0, 0, 0, 0, 0, 0, 0, 0, 0, 0, 0, 0, 0, 0, 0, 0, 0, 0, 0, 0, 0, 0, 0, 0, 0, 0, 0, 0, 0, 0, 0, 0, 0, 0, 0, 0, 0, 0, 0, 2202, 0, 0, 0, 0, 0, 3411, 7298, 6849, 0, 0, 0, 0, 0, 0, 0, 0, 7688, 0, 0, 0, 99999, 0, 0, 0, 0, 0, 0, 0, 0, 0, 0, 0, 0, 0, 0, 0, 0, 0, 0, 5013, 0, 0, 0, 0, 0, 0, 0, 0, 0, 0, 7298, 7688, 3781, 0, 0, 0, 0, 0, 0, 0, 0, 0, 0, 0, 0, 0, 0, 0, 0, 0, 0, 0, 0, 0, 0, 0, 0, 0, 0, 0, 0, 0, 0, 0, 0, 7298, 0, 0, 0, 0, 0, 0, 0, 0, 0, 0, 3325, 0, 0, 0, 0, 3137, 0, 0, 0, 0, 0, 0, 0, 0, 0, 0, 0, 0, 7688, 0, 0, 0, 0, 0, 7688, 7688, 0, 0, 0, 0, 0, 0, 0, 0, 15024, 0, 0, 0, 0, 0, 0, 0, 0, 4064, 0, 0, 0, 0, 0, 0, 0, 0, 0, 0, 0, 0, 0, 0, 0, 27828, 2062, 0, 0, 0, 0, 0, 0, 0, 0, 0, 0, 15024, 0, 2407, 6849, 4865, 0, 0, 0, 0, 0, 5178, 0, 0, 0, 0, 0, 0, 0, 0, 0, 0, 0, 0, 0, 0, 0, 0, 0, 0, 0, 0, 0, 0, 0, 0, 0, 0, 0, 0, 0, 0, 0, 7298, 0, 0, 0, 0, 0, 0, 0, 0, 0, 6849, 0, 114, 0, 0, 0, 0, 0, 0, 0, 0, 0, 0, 0, 0, 0, 0, 0, 0, 0, 2907, 0, 0, 0, 0, 0, 0, 2414, 0, 0, 0, 0, 0, 0, 7298, 0, 0, 0, 0, 0, 0, 0, 0, 0, 0, 0, 0, 0, 0, 0, 0, 15024, 14344, 0, 0, 0, 15024, 0, 0, 0, 0, 0, 0, 0, 0, 0, 0, 0, 0, 0, 0, 0, 0, 0, 0, 0, 0, 0, 0, 0, 0, 5178, 0, 0, 0, 0, 0, 0, 4787, 0, 0, 0, 2597, 0, 0, 0, 0, 0, 0, 0, 0, 0, 0, 0, 7688, 0, 8614, 0, 0, 0, 0, 0, 0, 0, 0, 0, 0, 4064, 0, 0, 0, 15024, 0, 0, 0, 0, 7298, 0, 0, 0, 0, 0, 0, 0, 0, 0, 0, 0, 0, 0, 0, 0, 0, 0, 0, 0, 0, 0, 0, 0, 0, 0, 27828, 0, 0, 0, 0, 0, 0, 0, 0, 0, 0, 0, 0, 0, 0, 3411, 0, 0, 0, 0, 0, 0, 0, 0, 7688, 0, 0, 0, 0, 0, 0, 0, 0, 10605, 0, 0, 0, 0, 0, 4787, 0, 0, 0, 0, 0, 0, 0, 0, 0, 0, 0, 0, 0, 0, 0, 0, 0, 0, 0, 0, 0, 10520, 0, 0, 0, 0, 0, 7688, 0, 0, 0, 0, 34095, 0, 0, 0, 0, 0, 0, 0, 0, 0, 0, 0, 0, 0, 0, 0, 0, 0, 0, 0, 0, 0, 0, 0, 1055, 0, 0, 0, 0, 0, 0, 0, 0, 0, 0, 0, 0, 13550, 0, 0, 0, 0, 0, 0, 0, 0, 7298, 0, 0, 0, 0, 15024, 0, 0, 0, 4386, 0, 0, 0, 0, 7298, 0, 0, 0, 0, 0, 0, 0, 0, 0, 0, 0, 27828, 0, 0, 0, 0, 0, 7688, 0, 3103, 0, 0, 0, 0, 0, 0, 0, 0, 0, 0, 0, 7298, 0, 0, 0, 2329, 0, 0, 0, 0, 0, 0, 0, 0, 0, 0, 0, 0, 7298, 0, 0, 0, 0, 0, 0, 0, 0, 0, 4386, 0, 0, 0, 0, 0, 0, 0, 8614, 0, 0, 0, 0, 0, 0, 0, 0, 0, 0, 0, 4650, 0, 0, 0, 0, 2829, 0, 0, 0, 0, 0, 0, 0, 0, 0, 0, 0, 0, 0, 0, 0, 0, 0, 0, 0, 0, 0, 0, 0, 0, 0, 0, 0, 0, 0, 0, 0, 0, 0, 0, 0, 0, 8614, 0, 0, 5178, 0, 0, 0, 0, 0, 0, 0, 0, 0, 0, 15024, 0, 0, 0, 0, 0, 0, 0, 0, 0, 0, 0, 0, 15024, 0, 0, 0, 0, 0, 0, 0, 7688, 0, 7688, 0, 0, 0, 0, 7298, 0, 0, 0, 0, 0, 0, 0, 0, 0, 15024, 0, 0, 0, 0, 0, 0, 0, 0, 0, 0, 0, 4064, 0, 0, 0, 0, 0, 0, 10566, 0, 0, 0, 0, 0, 0, 0, 0, 0, 0, 0, 0, 0, 99999, 4386, 0, 0, 0, 0, 0, 0, 0, 0, 0, 0, 0, 0, 0, 0, 0, 0, 0, 0, 0, 0, 0, 0, 0, 0, 0, 0, 0, 0, 0, 0, 0, 0, 0, 0, 0, 0, 0, 0, 0, 0, 0, 0, 0, 0, 0, 0, 0, 0, 0, 0, 0, 0, 0, 0, 0, 0, 0, 0, 0, 2290, 0, 0, 0, 0, 0, 0, 0, 0, 0, 0, 15024, 0, 3908, 0, 0, 0, 0, 0, 3411, 0, 15024, 0, 0, 0, 0, 0, 0, 0, 0, 0, 0, 0, 0, 0, 0, 0, 0, 0, 0, 0, 0, 0, 0, 0, 0, 0, 0, 0, 4064, 0, 0, 0, 99999, 3103, 2885, 0, 0, 0, 0, 0, 0, 0, 0, 0, 0, 0, 4386, 0, 5013, 0, 0, 0, 0, 0, 14084, 0, 0, 0, 0, 7298, 0, 0, 0, 0, 0, 0, 0, 5178, 0, 0, 0, 0, 0, 0, 0, 0, 0, 0, 0, 0, 0, 0, 0, 0, 0, 0, 10520, 0, 2885, 0, 0, 0, 0, 0, 0, 0, 0, 0, 0, 0, 0, 0, 0, 0, 0, 7298, 0, 0, 0, 0, 0, 0, 0, 0, 0, 0, 0, 0, 0, 0, 0, 0, 0, 0, 0, 0, 0, 0, 0, 0, 0, 0, 0, 0, 0, 15024, 0, 0, 0, 0, 0, 0, 0, 0, 0, 0, 0, 0, 0, 0, 0, 0, 4386, 0, 0, 0, 0, 0, 0, 0, 0, 0, 0, 0, 0, 914, 8614, 0, 0, 0, 0, 0, 0, 0, 0, 0, 0, 2174, 0, 0, 0, 0, 0, 0, 0, 0, 0, 0, 0, 0, 0, 0, 0, 0, 0, 0, 0, 0, 0, 0, 7298, 0, 0, 0, 0, 0, 0, 0, 0, 0, 0, 0, 0, 0, 0, 3103, 7298, 0, 0, 0, 0, 0, 0, 0, 0, 0, 0, 0, 0, 0, 0, 0, 0, 0, 0, 0, 0, 0, 0, 0, 0, 0, 25236, 0, 0, 0, 0, 0, 0, 0, 0, 0, 7298, 0, 0, 0, 0, 0, 0, 0, 0, 0, 0, 0, 0, 0, 0, 7688, 99999, 0, 0, 0, 0, 0, 0, 0, 0, 0, 0, 0, 0, 14084, 0, 0, 0, 0, 0, 0, 0, 0, 0, 0, 0, 0, 0, 0, 0, 0, 0, 0, 0, 0, 0, 0, 0, 0, 2174, 0, 0, 0, 0, 0, 0, 0, 0, 0, 0, 0, 0, 0, 0, 0, 0, 0, 0, 2580, 0, 0, 0, 0, 0, 0, 0, 0, 15024, 0, 2885, 0, 0, 0, 0, 0, 0, 0, 4416, 0, 0, 0, 0, 0, 0, 0, 15024, 0, 0, 0, 0, 0, 0, 6097, 3464, 0, 0, 0, 0, 0, 0, 0, 0, 0, 0, 0, 0, 0, 0, 0, 0, 0, 0, 0, 0, 0, 0, 0, 0, 0, 0, 0, 0, 0, 0, 0, 0, 0, 0, 0, 0, 0, 0, 0, 0, 13550, 4650, 0, 0, 0, 0, 0, 0, 0, 0, 0, 0, 0, 0, 0, 0, 0, 0, 0, 0, 0, 0, 0, 0, 0, 0, 0, 0, 0, 0, 0, 0, 0, 0, 0, 0, 0, 0, 0, 0, 0, 0, 0, 0, 0, 0, 0, 0, 0, 0, 0, 0, 0, 0, 0, 0, 0, 0, 0, 0, 0, 0, 0, 0, 4787, 0, 0, 0, 0, 0, 0, 0, 7688, 0, 5178, 0, 15024, 0, 0, 0, 0, 0, 0, 0, 0, 0, 0, 0, 0, 0, 0, 0, 0, 0, 0, 0, 20051, 0, 0, 0, 7688, 0, 0, 0, 15024, 0, 0, 0, 0, 0, 0, 0, 0, 0, 0, 0, 0, 0, 0, 0, 0, 0, 0, 0, 0, 10605, 0, 0, 0, 0, 0, 0, 0, 0, 0, 0, 0, 0, 0, 0, 0, 5178, 0, 0, 0, 0, 0, 0, 0, 0, 0, 0, 0, 0, 0, 0, 3674, 0, 0, 0, 0, 0, 0, 0, 0, 0, 0, 0, 0, 0, 0, 0, 0, 0, 0, 0, 0, 0, 0, 0, 0, 0, 7688, 0, 0, 0, 5013, 0, 0, 0, 0, 0, 0, 0, 0, 15024, 0, 0, 0, 0, 0, 0, 0, 0, 3103, 0, 0, 0, 0, 0, 0, 0, 0, 0, 0, 0, 0, 0, 0, 0, 0, 0, 0, 0, 7688, 0, 0, 0, 0, 0, 0, 0, 0, 0, 0, 0, 0, 0, 0, 0, 0, 0, 0, 0, 0, 0, 0, 0, 0, 0, 0, 0, 20051, 0, 0, 15024, 0, 0, 0, 0, 0, 0, 0, 0, 0, 0, 0, 0, 0, 0, 0, 0, 0, 0, 7298, 0, 0, 0, 0, 0, 0, 7298, 0, 0, 0, 0, 0, 0, 0, 0, 0, 10520, 0, 0, 0, 0, 0, 0, 0, 0, 0, 0, 0, 0, 0, 0, 0, 0, 0, 0, 0, 0, 7298, 0, 0, 0, 0, 0, 0, 14084, 0, 0, 0, 0, 0, 0, 0, 0, 0, 0, 0, 0, 0, 0, 0, 0, 0, 0, 0, 0, 0, 0, 0, 0, 0, 0, 0, 0, 0, 5178, 0, 0, 0, 0, 0, 0, 0, 0, 0, 4064, 0, 0, 0, 0, 0, 0, 0, 7688, 0, 0, 0, 0, 0, 0, 0, 0, 0, 0, 0, 0, 0, 0, 0, 0, 0, 0, 0, 0, 0, 15024, 0, 0, 0, 0, 0, 0, 0, 0, 0, 0, 0, 0, 0, 0, 0, 0, 0, 0, 0, 0, 0, 0, 0, 7298, 0, 0, 7688, 0, 0, 0, 5178, 0, 3674, 0, 0, 0, 0, 15024, 0, 0, 0, 0, 3137, 0, 0, 0, 0, 0, 0, 0, 0, 0, 99999, 0, 0, 0, 0, 0, 0, 0, 0, 0, 0, 0, 15024, 0, 0, 0, 0, 0, 0, 7688, 2346, 0, 0, 0, 0, 0, 0, 0, 0, 99999, 0, 0, 0, 15024, 0, 0, 0, 0, 0, 0, 0, 0, 0, 0, 0, 0, 0, 0, 0, 7298, 0, 0, 0, 0, 0, 0, 0, 0, 0, 8614, 0, 0, 0, 0, 0, 0, 13550, 0, 0, 0, 0, 0, 0, 0, 0, 0, 0, 7688, 0, 0, 0, 0, 0, 0, 0, 0, 0, 0, 0, 0, 0, 0, 2290, 0, 0, 0, 99999, 0, 0, 0, 0, 0, 0, 0, 0, 0, 0, 0, 0, 0, 0, 0, 0, 0, 0, 0, 0, 0, 0, 0, 0, 0, 0, 0, 0, 0, 0, 0, 0, 99999, 0, 0, 0, 0, 0, 0, 0, 0, 3137, 0, 0, 7298, 0, 0, 0, 0, 0, 0, 0, 0, 0, 99999, 0, 0, 0, 0, 0, 6849, 0, 0, 0, 0, 0, 0, 0, 0, 0, 0, 0, 0, 0, 0, 0, 0, 0, 0, 0, 0, 0, 0, 0, 0, 0, 0, 0, 0, 0, 0, 14084, 15024, 0, 0, 0, 0, 7298, 0, 0, 0, 0, 0, 0, 7298, 0, 0, 0, 0, 0, 0, 0, 0, 0, 0, 0, 3908, 0, 0, 0, 0, 0, 0, 0, 0, 0, 0, 2597, 0, 0, 0, 0, 6849, 0, 0, 0, 0, 0, 0, 0, 0, 0, 0, 0, 0, 0, 0, 0, 0, 7688, 0, 0, 0, 0, 0, 0, 0, 0, 0, 0, 0, 0, 5013, 0, 0, 0, 9386, 0, 0, 0, 0, 0, 0, 0, 0, 0, 0, 0, 0, 0, 0, 0, 0, 0, 0, 0, 0, 0, 0, 0, 0, 0, 0, 0, 7688, 0, 0, 0, 0, 99999, 0, 0, 0, 0, 0, 4064, 0, 0, 0, 0, 0, 0, 0, 0, 0, 0, 0, 0, 0, 0, 0, 0, 0, 0, 0, 0, 0, 0, 0, 0, 0, 0, 0, 0, 0, 0, 0, 7298, 0, 0, 0, 15024, 7298, 0, 0, 0, 0, 0, 0, 0, 0, 0, 0, 0, 0, 0, 5178, 0, 0, 0, 0, 0, 0, 0, 0, 0, 0, 5178, 0, 0, 0, 0, 0, 0, 0, 0, 0, 0, 0, 0, 0, 0, 0, 0, 0, 0, 0, 0, 0, 0, 0, 0, 0, 0, 0, 0, 3103, 0, 0, 0, 0, 0, 0, 0, 2407, 0, 0, 0, 15024, 0, 0, 0, 0, 0, 4101, 0, 0, 0, 0, 0, 7688, 0, 0, 0, 0, 0, 0, 0, 7298, 0, 0, 0, 0, 0, 0, 0, 7688, 0, 0, 0, 0, 13550, 0, 0, 0, 0, 0, 0, 0, 0, 0, 0, 0, 0, 0, 0, 0, 0, 0, 0, 0, 0, 4064, 0, 0, 0, 0, 0, 0, 0, 0, 0, 0, 0, 0, 0, 0, 0, 3103, 15024, 0, 0, 0, 0, 0, 0, 0, 0, 0, 0, 10520, 0, 0, 0, 0, 0, 7688, 0, 0, 0, 0, 0, 0, 0, 0, 0, 0, 10520, 0, 0, 0, 0, 0, 0, 0, 0, 0, 0, 0, 0, 0, 0, 0, 0, 5178, 0, 0, 0, 3942, 0, 0, 0, 0, 0, 15024, 0, 0, 0, 0, 0, 0, 0, 0, 0, 0, 0, 0, 0, 0, 0, 0, 0, 0, 0, 0, 0, 0, 3103, 0, 0, 0, 0, 0, 0, 0, 0, 0, 0, 0, 0, 0, 3137, 0, 0, 0, 0, 0, 0, 0, 0, 0, 0, 0, 0, 0, 0, 0, 0, 0, 0, 0, 0, 0, 0, 0, 0, 0, 0, 0, 0, 0, 0, 0, 0, 0, 0, 0, 0, 0, 0, 0, 0, 0, 0, 0, 0, 0, 0, 3781, 0, 0, 0, 0, 15024, 0, 0, 0, 0, 0, 0, 0, 0, 0, 0, 0, 0, 0, 0, 0, 0, 4386, 0, 0, 0, 0, 0, 0, 0, 0, 0, 0, 0, 0, 0, 0, 0, 0, 0, 0, 0, 0, 4416, 0, 0, 0, 0, 0, 0, 2176, 0, 0, 0, 0, 0, 15024, 0, 0, 0, 0, 0, 0, 0, 0, 0, 0, 0, 7688, 0, 7298, 0, 0, 0, 2387, 0, 0, 0, 0, 0, 0, 0, 0, 0, 14084, 0, 0, 0, 0, 0, 8614, 0, 0, 0, 0, 0, 0, 0, 0, 0, 0, 0, 0, 0, 0, 3137, 0, 0, 6418, 0, 0, 0, 0, 0, 0, 0, 0, 0, 0, 3137, 0, 0, 0, 0, 0, 0, 0, 0, 0, 0, 0, 0, 0, 0, 4650, 0, 0, 0, 0, 0, 0, 0, 0, 0, 0, 0, 0, 5178, 0, 0, 0, 0, 0, 0, 0, 0, 0, 0, 0, 0, 0, 0, 0, 0, 0, 0, 0, 0, 0, 0, 2174, 0, 2174, 0, 0, 0, 0, 0, 0, 0, 0, 0, 0, 0, 15024, 5013, 0, 0, 0, 0, 0, 0, 0, 0, 0, 0, 0, 0, 0, 0, 0, 0, 0, 0, 0, 0, 0, 0, 0, 0, 0, 0, 0, 0, 0, 14084, 0, 0, 15024, 0, 7688, 15024, 0, 0, 0, 0, 0, 5013, 0, 0, 0, 0, 0, 0, 0, 0, 0, 0, 0, 0, 0, 0, 0, 0, 0, 0, 0, 0, 0, 0, 0, 0, 0, 0, 0, 4787, 0, 5178, 0, 0, 0, 0, 0, 0, 0, 0, 0, 0, 0, 0, 0, 0, 0, 0, 0, 0, 0, 0, 0, 0, 0, 0, 0, 0, 0, 0, 0, 0, 0, 0, 0, 3908, 0, 0, 0, 0, 0, 0, 0, 0, 0, 0, 0, 0, 0, 0, 0, 0, 3908, 0, 0, 0, 0, 0, 0, 0, 0, 0, 0, 0, 0, 8614, 0, 0, 0, 0, 0, 0, 0, 0, 0, 0, 0, 0, 0, 0, 0, 7298, 0, 0, 0, 0, 0, 0, 0, 0, 0, 0, 0, 15024, 0, 0, 0, 0, 0, 0, 0, 0, 0, 0, 0, 0, 0, 0, 7298, 0, 2414, 0, 0, 0, 0, 0, 0, 0, 0, 0, 0, 0, 0, 0, 0, 0, 0, 0, 0, 3103, 0, 0, 0, 0, 0, 7298, 0, 0, 0, 0, 0, 0, 15024, 0, 0, 0, 0, 0, 0, 0, 0, 0, 0, 0, 0, 0, 0, 0, 0, 0, 0, 0, 0, 0, 0, 0, 0, 0, 0, 0, 0, 0, 0, 0, 0, 0, 0, 0, 0, 0, 0, 0, 4386, 0, 0, 0, 0, 0, 0, 0, 0, 0, 99999, 0, 0, 0, 0, 5178, 0, 0, 0, 0, 0, 0, 0, 0, 0, 0, 0, 0, 0, 0, 0, 0, 0, 0, 0, 0, 0, 0, 0, 0, 2174, 0, 0, 0, 0, 0, 0, 0, 0, 0, 0, 0, 0, 7298, 0, 0, 0, 0, 0, 0, 15024, 0, 0, 0, 0, 0, 0, 3103, 0, 0, 0, 0, 0, 0, 0, 7298, 0, 0, 0, 0, 0, 0, 0, 0, 0, 0, 0, 0, 0, 0, 0, 0, 0, 0, 0, 0, 0, 0, 0, 594, 0, 0, 0, 3103, 0, 0, 0, 0, 0, 0, 0, 0, 15024, 0, 0, 0, 0, 0, 3103, 0, 27828, 0, 0, 0, 0, 0, 0, 0, 0, 2885, 0, 0, 0, 0, 0, 0, 0, 0, 0, 0, 0, 0, 0, 0, 0, 0, 0, 0, 0, 0, 0, 8614, 0, 0, 0, 3137, 0, 0, 0, 0, 0, 0, 0, 0, 0, 0, 0, 0, 0, 0, 0, 3325, 0, 0, 0, 0, 0, 7298, 0, 0, 0, 0, 15024, 0, 0, 0, 0, 0, 0, 0, 0, 0, 1055, 0, 1831, 0, 0, 0, 0, 0, 0, 0, 0, 0, 0, 0, 0, 0, 0, 0, 7298, 0, 0, 0, 0, 0, 0, 0, 0, 0, 0, 0, 0, 0, 0, 0, 0, 0, 0, 0, 0, 0, 0, 0, 0, 0, 0, 0, 0, 0, 0, 0, 0, 0, 0, 0, 0, 0, 0, 0, 0, 0, 0, 0, 0, 0, 0, 0, 15024, 0, 0, 0, 0, 0, 0, 0, 0, 99999, 0, 0, 0, 0, 0, 7688, 15024, 0, 0, 0, 0, 0, 0, 0, 0, 3103, 0, 0, 0, 0, 0, 0, 0, 0, 0, 15024, 0, 0, 0, 7688, 0, 0, 0, 0, 0, 0, 0, 0, 0, 0, 0, 0, 0, 0, 0, 0, 0, 0, 99999, 0, 0, 0, 0, 0, 0, 0, 0, 0, 0, 0, 0, 0, 0, 0, 0, 0, 0, 0, 0, 0, 0, 0, 0, 0, 15020, 0, 0, 0, 5455, 0, 0, 0, 0, 0, 25236, 0, 0, 0, 0, 0, 0, 0, 0, 0, 0, 0, 0, 0, 0, 14084, 0, 0, 0, 0, 0, 0, 0, 0, 0, 0, 0, 0, 0, 0, 0, 0, 0, 0, 0, 0, 0, 0, 0, 0, 0, 0, 0, 0, 0, 0, 0, 0, 0, 0, 0, 0, 0, 15024, 0, 0, 0, 7298, 0, 0, 4064, 0, 0, 0, 0, 0, 0, 1055, 0, 0, 0, 0, 0, 0, 0, 0, 0, 0, 0, 401, 0, 0, 0, 0, 0, 0, 0, 0, 0, 0, 0, 0, 0, 0, 0, 0, 0, 0, 0, 0, 0, 0, 0, 0, 0, 7688, 0, 0, 4064, 7688, 0, 0, 0, 0, 0, 0, 0, 0, 0, 0, 0, 0, 0, 0, 0, 0, 0, 0, 0, 3411, 0, 0, 99999, 0, 0, 0, 3137, 0, 0, 0, 0, 0, 0, 0, 0, 0, 0, 0, 0, 0, 0, 0, 0, 0, 0, 0, 0, 0, 0, 0, 0, 20051, 0, 0, 0, 0, 0, 0, 0, 0, 0, 0, 0, 0, 0, 0, 0, 0, 0, 0, 0, 7298, 0, 0, 0, 0, 0, 0, 0, 0, 3325, 0, 0, 0, 0, 0, 0, 0, 0, 0, 0, 0, 0, 0, 0, 0, 0, 8614, 0, 2829, 0, 0, 0, 0, 0, 0, 0, 0, 0, 0, 0, 0, 0, 7688, 0, 0, 0, 0, 0, 0, 0, 0, 0, 0, 0, 0, 0, 0, 0, 0, 0, 0, 0, 0, 0, 0, 0, 1055, 0, 0, 0, 0, 0, 0, 0, 0, 0, 0, 0, 0, 0, 0, 0, 0, 0, 0, 0, 0, 0, 0, 0, 0, 0, 0, 0, 0, 0, 0, 0, 0, 0, 0, 0, 0, 0, 0, 0, 0, 99999, 0, 0, 0, 0, 0, 0, 10520, 0, 0, 0, 0, 0, 0, 0, 0, 0, 0, 99999, 0, 0, 0, 3908, 0, 0, 0, 0, 0, 0, 0, 0, 15024, 0, 0, 0, 0, 0, 0, 0, 0, 0, 0, 0, 0, 0, 0, 0, 0, 0, 5013, 0, 0, 0, 0, 0, 15024, 0, 0, 5178, 0, 0, 0, 7430, 0, 0, 0, 0, 0, 0, 0, 0, 0, 0, 0, 0, 0, 0, 5178, 0, 0, 0, 0, 0, 0, 0, 0, 0, 0, 0, 0, 2105, 0, 0, 7688, 0, 0, 0, 0, 0, 0, 0, 5178, 0, 0, 0, 10520, 0, 0, 0, 0, 0, 0, 0, 0, 0, 0, 0, 0, 0, 0, 0, 2174, 0, 0, 0, 0, 0, 0, 0, 0, 0, 0, 0, 0, 0, 0, 0, 0, 0, 0, 0, 0, 0, 0, 0, 0, 0, 0, 0, 0, 0, 0, 0, 0, 0, 0, 0, 0, 0, 0, 0, 0, 0, 0, 0, 0, 0, 0, 0, 0, 0, 0, 15024, 0, 0, 0, 0, 0, 0, 0, 0, 7688, 0, 0, 4650, 0, 0, 3908, 0, 4101, 0, 0, 0, 0, 0, 0, 0, 0, 0, 0, 7298, 0, 0, 0, 0, 0, 0, 0, 0, 0, 0, 0, 0, 3103, 0, 0, 0, 0, 0, 0, 0, 0, 0, 0, 7688, 0, 0, 0, 0, 0, 0, 0, 0, 0, 0, 0, 0, 0, 0, 0, 0, 0, 0, 0, 0, 0, 0, 1506, 0, 0, 0, 0, 7688, 0, 0, 0, 0, 0, 0, 0, 0, 0, 0, 0, 0, 0, 0, 0, 0, 0, 0, 0, 0, 0, 0, 0, 0, 0, 0, 0, 0, 0, 0, 0, 0, 0, 0, 0, 0, 0, 0, 0, 0, 0, 0, 0, 15024, 0, 0, 0, 0, 0, 0, 0, 0, 0, 0, 0, 0, 0, 0, 0, 7298, 0, 0, 0, 0, 0, 0, 0, 0, 0, 15024, 0, 0, 0], \"xaxis\": \"x\", \"yaxis\": \"y\"}],\n",
              "                        {\"barmode\": \"relative\", \"legend\": {\"tracegroupgap\": 0}, \"margin\": {\"t\": 60}, \"template\": {\"data\": {\"bar\": [{\"error_x\": {\"color\": \"#2a3f5f\"}, \"error_y\": {\"color\": \"#2a3f5f\"}, \"marker\": {\"line\": {\"color\": \"#E5ECF6\", \"width\": 0.5}}, \"type\": \"bar\"}], \"barpolar\": [{\"marker\": {\"line\": {\"color\": \"#E5ECF6\", \"width\": 0.5}}, \"type\": \"barpolar\"}], \"carpet\": [{\"aaxis\": {\"endlinecolor\": \"#2a3f5f\", \"gridcolor\": \"white\", \"linecolor\": \"white\", \"minorgridcolor\": \"white\", \"startlinecolor\": \"#2a3f5f\"}, \"baxis\": {\"endlinecolor\": \"#2a3f5f\", \"gridcolor\": \"white\", \"linecolor\": \"white\", \"minorgridcolor\": \"white\", \"startlinecolor\": \"#2a3f5f\"}, \"type\": \"carpet\"}], \"choropleth\": [{\"colorbar\": {\"outlinewidth\": 0, \"ticks\": \"\"}, \"type\": \"choropleth\"}], \"contour\": [{\"colorbar\": {\"outlinewidth\": 0, \"ticks\": \"\"}, \"colorscale\": [[0.0, \"#0d0887\"], [0.1111111111111111, \"#46039f\"], [0.2222222222222222, \"#7201a8\"], [0.3333333333333333, \"#9c179e\"], [0.4444444444444444, \"#bd3786\"], [0.5555555555555556, \"#d8576b\"], [0.6666666666666666, \"#ed7953\"], [0.7777777777777778, \"#fb9f3a\"], [0.8888888888888888, \"#fdca26\"], [1.0, \"#f0f921\"]], \"type\": \"contour\"}], \"contourcarpet\": [{\"colorbar\": {\"outlinewidth\": 0, \"ticks\": \"\"}, \"type\": \"contourcarpet\"}], \"heatmap\": [{\"colorbar\": {\"outlinewidth\": 0, \"ticks\": \"\"}, \"colorscale\": [[0.0, \"#0d0887\"], [0.1111111111111111, \"#46039f\"], [0.2222222222222222, \"#7201a8\"], [0.3333333333333333, \"#9c179e\"], [0.4444444444444444, \"#bd3786\"], [0.5555555555555556, \"#d8576b\"], [0.6666666666666666, \"#ed7953\"], [0.7777777777777778, \"#fb9f3a\"], [0.8888888888888888, \"#fdca26\"], [1.0, \"#f0f921\"]], \"type\": \"heatmap\"}], \"heatmapgl\": [{\"colorbar\": {\"outlinewidth\": 0, \"ticks\": \"\"}, \"colorscale\": [[0.0, \"#0d0887\"], [0.1111111111111111, \"#46039f\"], [0.2222222222222222, \"#7201a8\"], [0.3333333333333333, \"#9c179e\"], [0.4444444444444444, \"#bd3786\"], [0.5555555555555556, \"#d8576b\"], [0.6666666666666666, \"#ed7953\"], [0.7777777777777778, \"#fb9f3a\"], [0.8888888888888888, \"#fdca26\"], [1.0, \"#f0f921\"]], \"type\": \"heatmapgl\"}], \"histogram\": [{\"marker\": {\"colorbar\": {\"outlinewidth\": 0, \"ticks\": \"\"}}, \"type\": \"histogram\"}], \"histogram2d\": [{\"colorbar\": {\"outlinewidth\": 0, \"ticks\": \"\"}, \"colorscale\": [[0.0, \"#0d0887\"], [0.1111111111111111, \"#46039f\"], [0.2222222222222222, \"#7201a8\"], [0.3333333333333333, \"#9c179e\"], [0.4444444444444444, \"#bd3786\"], [0.5555555555555556, \"#d8576b\"], [0.6666666666666666, \"#ed7953\"], [0.7777777777777778, \"#fb9f3a\"], [0.8888888888888888, \"#fdca26\"], [1.0, \"#f0f921\"]], \"type\": \"histogram2d\"}], \"histogram2dcontour\": [{\"colorbar\": {\"outlinewidth\": 0, \"ticks\": \"\"}, \"colorscale\": [[0.0, \"#0d0887\"], [0.1111111111111111, \"#46039f\"], [0.2222222222222222, \"#7201a8\"], [0.3333333333333333, \"#9c179e\"], [0.4444444444444444, \"#bd3786\"], [0.5555555555555556, \"#d8576b\"], [0.6666666666666666, \"#ed7953\"], [0.7777777777777778, \"#fb9f3a\"], [0.8888888888888888, \"#fdca26\"], [1.0, \"#f0f921\"]], \"type\": \"histogram2dcontour\"}], \"mesh3d\": [{\"colorbar\": {\"outlinewidth\": 0, \"ticks\": \"\"}, \"type\": \"mesh3d\"}], \"parcoords\": [{\"line\": {\"colorbar\": {\"outlinewidth\": 0, \"ticks\": \"\"}}, \"type\": \"parcoords\"}], \"pie\": [{\"automargin\": true, \"type\": \"pie\"}], \"scatter\": [{\"marker\": {\"colorbar\": {\"outlinewidth\": 0, \"ticks\": \"\"}}, \"type\": \"scatter\"}], \"scatter3d\": [{\"line\": {\"colorbar\": {\"outlinewidth\": 0, \"ticks\": \"\"}}, \"marker\": {\"colorbar\": {\"outlinewidth\": 0, \"ticks\": \"\"}}, \"type\": \"scatter3d\"}], \"scattercarpet\": [{\"marker\": {\"colorbar\": {\"outlinewidth\": 0, \"ticks\": \"\"}}, \"type\": \"scattercarpet\"}], \"scattergeo\": [{\"marker\": {\"colorbar\": {\"outlinewidth\": 0, \"ticks\": \"\"}}, \"type\": \"scattergeo\"}], \"scattergl\": [{\"marker\": {\"colorbar\": {\"outlinewidth\": 0, \"ticks\": \"\"}}, \"type\": \"scattergl\"}], \"scattermapbox\": [{\"marker\": {\"colorbar\": {\"outlinewidth\": 0, \"ticks\": \"\"}}, \"type\": \"scattermapbox\"}], \"scatterpolar\": [{\"marker\": {\"colorbar\": {\"outlinewidth\": 0, \"ticks\": \"\"}}, \"type\": \"scatterpolar\"}], \"scatterpolargl\": [{\"marker\": {\"colorbar\": {\"outlinewidth\": 0, \"ticks\": \"\"}}, \"type\": \"scatterpolargl\"}], \"scatterternary\": [{\"marker\": {\"colorbar\": {\"outlinewidth\": 0, \"ticks\": \"\"}}, \"type\": \"scatterternary\"}], \"surface\": [{\"colorbar\": {\"outlinewidth\": 0, \"ticks\": \"\"}, \"colorscale\": [[0.0, \"#0d0887\"], [0.1111111111111111, \"#46039f\"], [0.2222222222222222, \"#7201a8\"], [0.3333333333333333, \"#9c179e\"], [0.4444444444444444, \"#bd3786\"], [0.5555555555555556, \"#d8576b\"], [0.6666666666666666, \"#ed7953\"], [0.7777777777777778, \"#fb9f3a\"], [0.8888888888888888, \"#fdca26\"], [1.0, \"#f0f921\"]], \"type\": \"surface\"}], \"table\": [{\"cells\": {\"fill\": {\"color\": \"#EBF0F8\"}, \"line\": {\"color\": \"white\"}}, \"header\": {\"fill\": {\"color\": \"#C8D4E3\"}, \"line\": {\"color\": \"white\"}}, \"type\": \"table\"}]}, \"layout\": {\"annotationdefaults\": {\"arrowcolor\": \"#2a3f5f\", \"arrowhead\": 0, \"arrowwidth\": 1}, \"coloraxis\": {\"colorbar\": {\"outlinewidth\": 0, \"ticks\": \"\"}}, \"colorscale\": {\"diverging\": [[0, \"#8e0152\"], [0.1, \"#c51b7d\"], [0.2, \"#de77ae\"], [0.3, \"#f1b6da\"], [0.4, \"#fde0ef\"], [0.5, \"#f7f7f7\"], [0.6, \"#e6f5d0\"], [0.7, \"#b8e186\"], [0.8, \"#7fbc41\"], [0.9, \"#4d9221\"], [1, \"#276419\"]], \"sequential\": [[0.0, \"#0d0887\"], [0.1111111111111111, \"#46039f\"], [0.2222222222222222, \"#7201a8\"], [0.3333333333333333, \"#9c179e\"], [0.4444444444444444, \"#bd3786\"], [0.5555555555555556, \"#d8576b\"], [0.6666666666666666, \"#ed7953\"], [0.7777777777777778, \"#fb9f3a\"], [0.8888888888888888, \"#fdca26\"], [1.0, \"#f0f921\"]], \"sequentialminus\": [[0.0, \"#0d0887\"], [0.1111111111111111, \"#46039f\"], [0.2222222222222222, \"#7201a8\"], [0.3333333333333333, \"#9c179e\"], [0.4444444444444444, \"#bd3786\"], [0.5555555555555556, \"#d8576b\"], [0.6666666666666666, \"#ed7953\"], [0.7777777777777778, \"#fb9f3a\"], [0.8888888888888888, \"#fdca26\"], [1.0, \"#f0f921\"]]}, \"colorway\": [\"#636efa\", \"#EF553B\", \"#00cc96\", \"#ab63fa\", \"#FFA15A\", \"#19d3f3\", \"#FF6692\", \"#B6E880\", \"#FF97FF\", \"#FECB52\"], \"font\": {\"color\": \"#2a3f5f\"}, \"geo\": {\"bgcolor\": \"white\", \"lakecolor\": \"white\", \"landcolor\": \"#E5ECF6\", \"showlakes\": true, \"showland\": true, \"subunitcolor\": \"white\"}, \"hoverlabel\": {\"align\": \"left\"}, \"hovermode\": \"closest\", \"mapbox\": {\"style\": \"light\"}, \"paper_bgcolor\": \"white\", \"plot_bgcolor\": \"#E5ECF6\", \"polar\": {\"angularaxis\": {\"gridcolor\": \"white\", \"linecolor\": \"white\", \"ticks\": \"\"}, \"bgcolor\": \"#E5ECF6\", \"radialaxis\": {\"gridcolor\": \"white\", \"linecolor\": \"white\", \"ticks\": \"\"}}, \"scene\": {\"xaxis\": {\"backgroundcolor\": \"#E5ECF6\", \"gridcolor\": \"white\", \"gridwidth\": 2, \"linecolor\": \"white\", \"showbackground\": true, \"ticks\": \"\", \"zerolinecolor\": \"white\"}, \"yaxis\": {\"backgroundcolor\": \"#E5ECF6\", \"gridcolor\": \"white\", \"gridwidth\": 2, \"linecolor\": \"white\", \"showbackground\": true, \"ticks\": \"\", \"zerolinecolor\": \"white\"}, \"zaxis\": {\"backgroundcolor\": \"#E5ECF6\", \"gridcolor\": \"white\", \"gridwidth\": 2, \"linecolor\": \"white\", \"showbackground\": true, \"ticks\": \"\", \"zerolinecolor\": \"white\"}}, \"shapedefaults\": {\"line\": {\"color\": \"#2a3f5f\"}}, \"ternary\": {\"aaxis\": {\"gridcolor\": \"white\", \"linecolor\": \"white\", \"ticks\": \"\"}, \"baxis\": {\"gridcolor\": \"white\", \"linecolor\": \"white\", \"ticks\": \"\"}, \"bgcolor\": \"#E5ECF6\", \"caxis\": {\"gridcolor\": \"white\", \"linecolor\": \"white\", \"ticks\": \"\"}}, \"title\": {\"x\": 0.05}, \"xaxis\": {\"automargin\": true, \"gridcolor\": \"white\", \"linecolor\": \"white\", \"ticks\": \"\", \"title\": {\"standoff\": 15}, \"zerolinecolor\": \"white\", \"zerolinewidth\": 2}, \"yaxis\": {\"automargin\": true, \"gridcolor\": \"white\", \"linecolor\": \"white\", \"ticks\": \"\", \"title\": {\"standoff\": 15}, \"zerolinecolor\": \"white\", \"zerolinewidth\": 2}}}, \"title\": {\"text\": \"capital-gain distribution\", \"x\": 0.5}, \"xaxis\": {\"anchor\": \"y\", \"domain\": [0.0, 1.0], \"title\": {\"text\": \"capital-gain\"}}, \"yaxis\": {\"anchor\": \"x\", \"domain\": [0.0, 1.0], \"title\": {\"text\": \"count\"}}},\n",
              "                        {\"responsive\": true}\n",
              "                    ).then(function(){\n",
              "                            \n",
              "var gd = document.getElementById('e477e967-106c-49b0-8411-4ec7f2d004f6');\n",
              "var x = new MutationObserver(function (mutations, observer) {{\n",
              "        var display = window.getComputedStyle(gd).display;\n",
              "        if (!display || display === 'none') {{\n",
              "            console.log([gd, 'removed!']);\n",
              "            Plotly.purge(gd);\n",
              "            observer.disconnect();\n",
              "        }}\n",
              "}});\n",
              "\n",
              "// Listen for the removal of the full notebook cells\n",
              "var notebookContainer = gd.closest('#notebook-container');\n",
              "if (notebookContainer) {{\n",
              "    x.observe(notebookContainer, {childList: true});\n",
              "}}\n",
              "\n",
              "// Listen for the clearing of the current output cell\n",
              "var outputEl = gd.closest('.output');\n",
              "if (outputEl) {{\n",
              "    x.observe(outputEl, {childList: true});\n",
              "}}\n",
              "\n",
              "                        })\n",
              "                };\n",
              "                \n",
              "            </script>\n",
              "        </div>\n",
              "</body>\n",
              "</html>"
            ]
          },
          "metadata": {}
        }
      ]
    },
    {
      "cell_type": "markdown",
      "metadata": {
        "id": "Yzsmwu0ecH7h"
      },
      "source": [
        "Масштабирование признаков можно выполнить, например, одним из следующих способов способами:\n",
        " - $x_{new} = \\dfrac{x - \\mu}{\\sigma}$, где $\\mu, \\sigma$ — среднее и стандартное отклонение значения признака по всей выборке (см. функцию [scale](http://scikit-learn.org/stable/modules/generated/sklearn.preprocessing.scale.html))\n",
        " - $x_{new} = \\dfrac{x - x_{min}}{x_{max} - x_{min}}$, где $[x_{min}, x_{max}]$ — минимальный интервал значений признака\n",
        "\n",
        "Похожие схемы масштабирования приведены в классах [StandardScaler](http://scikit-learn.org/stable/modules/generated/sklearn.preprocessing.StandardScaler.html#sklearn.preprocessing.StandardScaler) и [MinMaxScaler](http://scikit-learn.org/stable/modules/generated/sklearn.preprocessing.MinMaxScaler.html#sklearn.preprocessing.MinMaxScaler).\n",
        " \n",
        "**Задание 6 (1 балл)** Масштабируйте все вещественные признаки одним из указанных способов и подберите оптимальные значения гиперпараметров аналогично пункту выше."
      ]
    },
    {
      "cell_type": "code",
      "metadata": {
        "collapsed": true,
        "id": "i3hC2l70cH7h"
      },
      "source": [
        "from sklearn.preprocessing import StandardScaler\n",
        "\n",
        "ss = StandardScaler()\n",
        "X_num = ss.fit_transform(X_num)"
      ],
      "execution_count": null,
      "outputs": []
    },
    {
      "cell_type": "code",
      "metadata": {
        "id": "OaKAt7zQU36c"
      },
      "source": [
        "from sklearn.model_selection import train_test_split\n",
        "X_train, X_test, y_train, y_test = train_test_split(X_num, y, random_state=42, test_size=0.2)"
      ],
      "execution_count": null,
      "outputs": []
    },
    {
      "cell_type": "code",
      "metadata": {
        "colab": {
          "base_uri": "https://localhost:8080/"
        },
        "id": "4Thq9UyNJc2J",
        "outputId": "bcc47b63-9ae0-444f-942c-5a7f0377dadb"
      },
      "source": [
        "grid = GridSearchCV(clf0, params0, cv=kf, scoring='roc_auc')\n",
        "grid.fit(X_num, y)\n",
        "print(f'best n_neighbors: {grid.best_params_}')\n",
        "print(f'best score: {grid.best_score_} \\n')\n",
        "\n",
        "grid = GridSearchCV(clf1, params1, cv=kf, scoring='roc_auc')\n",
        "grid.fit(X_num, y)\n",
        "print(f'best max_depth: {grid.best_params_}')\n",
        "print(f'best score: {grid.best_score_} \\n')\n",
        "\n",
        "grid = GridSearchCV(clf2, params2, cv=kf, scoring='roc_auc')\n",
        "grid.fit(X_num, y)\n",
        "print(f'best loss: {grid.best_params_}')\n",
        "print(f'best score: {grid.best_score_}')"
      ],
      "execution_count": null,
      "outputs": [
        {
          "output_type": "stream",
          "name": "stdout",
          "text": [
            "best n_neighbors: {'n_neighbors': 19}\n",
            "best score: 0.8157879069001124 \n",
            "\n",
            "best n_neighbors: {'max_depth': 8}\n",
            "best score: 0.8376233738564988 \n",
            "\n",
            "best n_neighbors: {'loss': 'log'}\n",
            "best score: 0.8170256232474543\n"
          ]
        }
      ]
    },
    {
      "cell_type": "code",
      "metadata": {
        "collapsed": true,
        "colab": {
          "base_uri": "https://localhost:8080/",
          "height": 264
        },
        "id": "5gc1DpqiZVsX",
        "outputId": "17c8ac1d-1ea0-40a4-ba69-9158d2b9a715"
      },
      "source": [
        "np.random.seed(42)\n",
        "\n",
        "n_trees = 150\n",
        "best_est = 0\n",
        "i = 0\n",
        "cv_scores = np.empty((5, n_trees - 1))\n",
        "\n",
        "for train_index, test_index in kf.split(X_num):\n",
        "    X_train, X_test = X_num[train_index], X_num[test_index]\n",
        "    y_train, y_test = y[train_index], y[test_index]\n",
        "    clf3 = RandomForestClassifier(n_estimators=n_trees, random_state=42)\n",
        "    clf3.fit(X_num, y)\n",
        "    estimators = clf3.estimators_\n",
        "    test_roc_auc = np.array([])\n",
        "    mean_scores = np.array([])\n",
        "    for n in range(1, n_trees):\n",
        "      clf3.estimators_ = np.random.choice(estimators, n)\n",
        "      test_roc_auc = np.append(test_roc_auc, roc_auc_score(y_test, clf3.predict(X_test)))\n",
        "      mean_scores = np.append(mean_scores, test_roc_auc.mean())\n",
        "    cv_scores[i] = mean_scores\n",
        "    i += 1\n",
        "\n",
        "\n",
        "plt.plot(np.arange(1, n_trees, 1), cv_scores.mean(axis=0))\n",
        "plt.show()"
      ],
      "execution_count": null,
      "outputs": [
        {
          "output_type": "display_data",
          "data": {
            "image/png": "[encoded data removed]",
            "text/plain": [
              "<Figure size 432x288 with 1 Axes>"
            ]
          },
          "metadata": {
            "needs_background": "light"
          }
        }
      ]
    },
    {
      "cell_type": "code",
      "metadata": {
        "colab": {
          "base_uri": "https://localhost:8080/"
        },
        "id": "98m2JZScq1az",
        "outputId": "77a72704-9789-4335-8f1d-4441a83d4d6e"
      },
      "source": [
        "best_est = np.argmax(abs(np.diff(cv_scores.mean(axis=0))) < 0.001)\n",
        "clf3 = RandomForestClassifier(n_estimators=best_est, random_state=42)\n",
        "best_score = cross_val_score(clf3, X_num, y, cv=kf).mean()\n",
        "best_est, best_score"
      ],
      "execution_count": null,
      "outputs": [
        {
          "output_type": "execute_result",
          "data": {
            "text/plain": [
              "(26, 0.8117551049000035)"
            ]
          },
          "metadata": {},
          "execution_count": 199
        }
      ]
    },
    {
      "cell_type": "code",
      "metadata": {
        "colab": {
          "base_uri": "https://localhost:8080/",
          "height": 367,
          "referenced_widgets": [
            "76a32145b8a04db0ac47c276740d118a",
            "335cb96e49c94db09a55a31d05319305",
            "898fcf9409184311878e66da3ec5159f",
            "9d777c04c7a341e793272abe12dde366",
            "80b6c6acd8544a948cb1c47404561ea9",
            "e23d1a1fcb304064b7074bc8954906e8",
            "bc94d7f81244419987787a2b218fd595",
            "f6260fbbba0248d7b8e55f3329525275",
            "9dd650aac9784187bed1345df0a83b87",
            "0263a6a37c5f45bd9fc213b4bcb32396",
            "0f3f468c99934a29a94cb242f7fe587c"
          ]
        },
        "id": "m8nDwdcFbvJg",
        "outputId": "288b0d5c-56c3-49de-a75f-861efc58ab7d"
      },
      "source": [
        "acc_train, acc_test, time_list, best_grid_est1 = get_model_scores(GradientBoostingClassifier)\n",
        "params = {1: [acc_train, 'Gradient boosting', 'Train'], \n",
        "          2: [acc_test, 'Gradient boosting', 'Test'], \n",
        "          3: [time_list, \"GB training time\", 'Time']}\n",
        "\n",
        "plot_graphs(params)"
      ],
      "execution_count": null,
      "outputs": [
        {
          "output_type": "display_data",
          "data": {
            "application/vnd.jupyter.widget-view+json": {
              "model_id": "76a32145b8a04db0ac47c276740d118a",
              "version_minor": 0,
              "version_major": 2
            },
            "text/plain": [
              "  0%|          | 0/35 [00:00<?, ?it/s]"
            ]
          },
          "metadata": {}
        },
        {
          "output_type": "display_data",
          "data": {
            "image/png": "[encoded data removed]",
            "text/plain": [
              "<Figure size 1080x360 with 3 Axes>"
            ]
          },
          "metadata": {
            "needs_background": "light"
          }
        }
      ]
    },
    {
      "cell_type": "code",
      "metadata": {
        "colab": {
          "base_uri": "https://localhost:8080/"
        },
        "id": "_ltu3K59q1a0",
        "outputId": "ed7d7a2a-eb09-415c-82f0-3bedeeea9e3a"
      },
      "source": [
        "clf4 = GradientBoostingClassifier(n_estimators=best_grid_est, random_state=42)\n",
        "best_grid_score = cross_val_score(clf4, X_num, y, cv=kf).mean()\n",
        "best_grid_est, best_grid_score"
      ],
      "execution_count": null,
      "outputs": [
        {
          "output_type": "execute_result",
          "data": {
            "text/plain": [
              "(120, 0.8320847011673953)"
            ]
          },
          "metadata": {},
          "execution_count": 200
        }
      ]
    },
    {
      "cell_type": "markdown",
      "metadata": {
        "id": "yrqUdBf8cH7h"
      },
      "source": [
        "Изменилось ли качество у некоторых алгоритмов?"
      ]
    },
    {
      "cell_type": "markdown",
      "metadata": {
        "id": "VXQO845msRsK"
      },
      "source": [
        "Как и предполагалось, качество sgd и knn классификаторов выросло"
      ]
    },
    {
      "cell_type": "markdown",
      "metadata": {
        "id": "lM_Zyv2TcH7h"
      },
      "source": [
        "**Задание 7 (1.25 балла)** Теперь сделайте перебор нескольких гиперпараметров по сетке и найдите оптимальные комбинации (лучшее среднее значение качества) для каждого алгоритма в данном случае: \n",
        " - KNN — число соседей (*n_neighbors*) и метрика (*metric*)\n",
        " - DecisonTree — глубина дерева (*max_depth*) и критерий разбиения (*criterion*)\n",
        " - RandomForest — критерий разбиения в деревьях (*criterion*) и *max_features* (при фиксированном количестве деревьев, найденном ранее)\n",
        " - GradientBoosting — критерий разбиения в деревьях (*criterion*) и *max_features* (при фиксированном количестве деревьев, найденном ранее)\n",
        " - SGDClassifier — оптимизируемая функция (*loss*) и *penalty*\n",
        " \n",
        "Обратите внимание, что эта операция может быть ресурсо- и трудоемкой. Как оптимизировать подбор параметров по сетке сказано в разделе \"Подбор гиперпараметров модели\""
      ]
    },
    {
      "cell_type": "code",
      "metadata": {
        "collapsed": true,
        "colab": {
          "base_uri": "https://localhost:8080/"
        },
        "id": "YN8hwKh5RThO",
        "outputId": "2c2a4a44-110f-49c6-b7f5-eebcc4682052"
      },
      "source": [
        "clf0 = KNeighborsClassifier()\n",
        "params0 = {'n_neighbors': np.arange(1, 16, 1),\n",
        "           'metric': ('euclidean', 'manhattan', 'chebyshev', 'minkowski', \n",
        "                      'wminkowski', 'seuclidean', 'mahalanobis')}\n",
        "grid = GridSearchCV(clf0, params0, cv=kf, scoring='roc_auc')\n",
        "grid.fit(X_num, y)\n",
        "print(f'best params: {grid.best_params_}')\n",
        "print(f'best score: {grid.best_score_} \\n')"
      ],
      "execution_count": null,
      "outputs": [
        {
          "output_type": "stream",
          "name": "stdout",
          "text": [
            "best params: {'metric': 'euclidean', 'n_neighbors': 15}\n",
            "best score: 0.8119456832240648 \n",
            "\n"
          ]
        }
      ]
    },
    {
      "cell_type": "code",
      "metadata": {
        "colab": {
          "base_uri": "https://localhost:8080/"
        },
        "id": "tpsRMuyQRThU",
        "outputId": "fbee1b55-b9ac-4042-d89d-6c1397d5bcb7"
      },
      "source": [
        "clf1 = DecisionTreeClassifier(random_state=42)\n",
        "params1 = {'max_depth': np.arange(1, 11, 1),\n",
        "           'criterion': (\"gini\", \"entropy\")}\n",
        "grid = GridSearchCV(clf1, params1, cv=kf, scoring='roc_auc')\n",
        "grid.fit(X_num, y)\n",
        "print(f'best params: {grid.best_params_}')\n",
        "print(f'best score: {grid.best_score_} \\n')"
      ],
      "execution_count": null,
      "outputs": [
        {
          "output_type": "stream",
          "name": "stdout",
          "text": [
            "best params: {'criterion': 'gini', 'max_depth': 8}\n",
            "best score: 0.8376233738564988 \n",
            "\n"
          ]
        }
      ]
    },
    {
      "cell_type": "code",
      "metadata": {
        "colab": {
          "base_uri": "https://localhost:8080/"
        },
        "id": "ELzzhFzTRThU",
        "outputId": "3c16aa6d-d0ca-427d-a7da-68194eb6e334"
      },
      "source": [
        "clf2 = SGDClassifier(random_state=42)\n",
        "params2 = {'loss': ('hinge', 'log', 'modified_huber', 'squared_hinge',\n",
        "                    'perceptron', 'squared_error', 'huber', \n",
        "                    'epsilon_insensitive', 'squared_epsilon_insensitive'), \n",
        "           'penalty': ('l2', 'l1', 'elasticnet')}\n",
        "grid = GridSearchCV(clf2, params2, cv=kf, scoring='roc_auc')\n",
        "grid.fit(X_num, y)\n",
        "print(f'best params: {grid.best_params_}')\n",
        "print(f'best score: {grid.best_score_}')"
      ],
      "execution_count": null,
      "outputs": [
        {
          "output_type": "stream",
          "name": "stdout",
          "text": [
            "best params: {'loss': 'log', 'penalty': 'elasticnet'}\n",
            "best score: 0.8175900323161649\n"
          ]
        }
      ]
    },
    {
      "cell_type": "code",
      "metadata": {
        "collapsed": true,
        "colab": {
          "base_uri": "https://localhost:8080/"
        },
        "id": "wfzOT50bRThU",
        "outputId": "a41264b7-b1fc-40f4-e849-36be8d4f9344"
      },
      "source": [
        "from sklearn.model_selection import cross_val_score\n",
        "from sklearn.ensemble import RandomForestClassifier\n",
        "from tqdm import tqdm_notebook\n",
        "\n",
        "clf3 = RandomForestClassifier(n_estimators=best_est, random_state=42)\n",
        "params3 = {'criterion': (\"gini\", \"entropy\"), \n",
        "           'max_features': (None, \"sqrt\", \"log2\")}\n",
        "grid = GridSearchCV(clf3, params3, cv=kf, scoring='roc_auc')\n",
        "grid.fit(X_num, y)\n",
        "print(f'best params: {grid.best_params_}')\n",
        "print(f'best score: {grid.best_score_}')"
      ],
      "execution_count": null,
      "outputs": [
        {
          "output_type": "stream",
          "name": "stdout",
          "text": [
            "best params: {'criterion': 'entropy', 'max_features': 'sqrt'}\n",
            "best score: 0.8234780630769697\n"
          ]
        }
      ]
    },
    {
      "cell_type": "code",
      "metadata": {
        "colab": {
          "base_uri": "https://localhost:8080/"
        },
        "id": "F_47YWCpRThV",
        "outputId": "d200cf4d-d6ca-4b58-b8cc-961e83c9f9e7"
      },
      "source": [
        "from sklearn.ensemble import GradientBoostingClassifier\n",
        "\n",
        "clf4 = GradientBoostingClassifier(n_estimators=best_grid_est, random_state=42)\n",
        "params4 = {'criterion': ('friedman_mse', 'squared_error', 'mse', 'mae'), \n",
        "           'max_features': (None, 'sqrt', 'log2')}\n",
        "grid = GridSearchCV(clf4, params4, cv=kf, scoring='roc_auc')\n",
        "grid.fit(X_num, y)\n",
        "print(f'best params: {grid.best_params_}')\n",
        "print(f'best score: {grid.best_score_} \\n')"
      ],
      "execution_count": null,
      "outputs": [
        {
          "output_type": "stream",
          "name": "stdout",
          "text": [
            "best params: {'criterion': 'friedman_mse', 'max_features': None}\n",
            "best score: 0.8615548615443636 \n",
            "\n"
          ]
        }
      ]
    },
    {
      "cell_type": "markdown",
      "metadata": {
        "id": "AT7WqGzp5afX"
      },
      "source": [
        "Наилучшее качество -- модель градиентного бустинга \n",
        "\n",
        "best params: {'criterion': 'friedman_mse', 'max_features': 'sqrt'}\n",
        "\n",
        "best score: 0.8545126184663548 "
      ]
    },
    {
      "cell_type": "markdown",
      "metadata": {
        "id": "H8ndP_N9cH7i"
      },
      "source": [
        "Какой из алгоритмов имеет наилучшее качество? \n",
        "\n",
        "**Задание 8 (0.5 балла)** Сравните алгоритмы с точки зрения времени обучения. Обучение какого из алгоритмов работает дольше всего и, как вы думаете, почему?"
      ]
    },
    {
      "cell_type": "markdown",
      "metadata": {
        "id": "kGwPZyAWsf76"
      },
      "source": [
        "knn, sgd и decision tree обучаются достаточно быстро.\n",
        "\n",
        "Random forest обучается заметно медленее, т.к. это набор из n решающих деревьев\n",
        "\n",
        "Дольше всего обучается Gradient Boosting т.к. каждое следующее дерево уменьшает ошибку предыдущего, из-за чего они строятся последовательно"
      ]
    },
    {
      "cell_type": "markdown",
      "metadata": {
        "id": "n6WCK7vycH7i"
      },
      "source": [
        "## Добавление категориальных признаков в модели\n",
        "\n",
        "Пока мы не использовали нечисловые признаки, которые есть в датасете. Давайте посмотрим, правильно ли мы сделали и увеличится ли качество моделей после добавлениях этих признаков. \n",
        "\n",
        "**Задание 9 (0.5 балла)** Преобразуйте все категориальные признаки с помощью метода one-hot-encoding (например, это можно сделать с помощью функции [OneHotEncoder](https://scikit-learn.org/stable/modules/generated/sklearn.preprocessing.OneHotEncoder.html), [pandas.get_dummies](http://pandas.pydata.org/pandas-docs/stable/generated/pandas.get_dummies.html) или [DictVectorizer](http://scikit-learn.org/stable/modules/generated/sklearn.feature_extraction.DictVectorizer.html) из sklearn)."
      ]
    },
    {
      "cell_type": "code",
      "metadata": {
        "collapsed": true,
        "id": "5iuCXDHOcH7i"
      },
      "source": [
        "from sklearn.preprocessing import OneHotEncoder\n",
        "\n",
        "enc = OneHotEncoder()\n",
        "X_cat_enc = enc.fit_transform(X_cat).toarray()"
      ],
      "execution_count": null,
      "outputs": []
    },
    {
      "cell_type": "markdown",
      "metadata": {
        "id": "L0p6T7JfcH7i"
      },
      "source": [
        "**Задание 10 (0.5 балла)** Добавьте к масштабированным вещественным признакам закодированные категориальные и обучите алгоритмы с наилучшими гиперпараметрами из предыдущего пункта. Дало ли добавление новых признаков прирост качества? Измеряйте качество как и раньше используя 5-Fold CV. Для этого удобно воспользоваться функцией [cross_val_score](https://scikit-learn.org/stable/modules/generated/sklearn.model_selection.cross_val_score.html)."
      ]
    },
    {
      "cell_type": "code",
      "metadata": {
        "colab": {
          "base_uri": "https://localhost:8080/"
        },
        "id": "4imx9i2RrwRp",
        "outputId": "f833e921-bbc2-4b66-ef4a-627349c85391"
      },
      "source": [
        "X = np.append(X_num, X_cat_enc, axis=1)\n",
        "X.shape"
      ],
      "execution_count": null,
      "outputs": [
        {
          "output_type": "execute_result",
          "data": {
            "text/plain": [
              "(15347, 64)"
            ]
          },
          "metadata": {},
          "execution_count": 236
        }
      ]
    },
    {
      "cell_type": "code",
      "metadata": {
        "colab": {
          "base_uri": "https://localhost:8080/"
        },
        "id": "uDY5zFEffWCV",
        "outputId": "2d01bddc-333f-468b-b012-ea7a5eadb16e"
      },
      "source": [
        "clf0 = KNeighborsClassifier(metric='euclidean', n_neighbors=15)\n",
        "print('Cross-validation KNeighbors score:', cross_val_score(clf0, X, y, cv=kf, scoring='roc_auc').mean())\n",
        "\n",
        "clf1 = DecisionTreeClassifier(criterion='gini', max_depth=8, random_state=42)\n",
        "print('Cross-validation DecisionTree score:', cross_val_score(clf1, X, y, cv=kf, scoring='roc_auc').mean())\n",
        "\n",
        "clf2 = SGDClassifier(loss='log', penalty='elasticnet', random_state=42)\n",
        "print('Cross-validation SGD score:', cross_val_score(clf2, X, y, cv=kf, scoring='roc_auc').mean())\n",
        "\n",
        "clf3 = RandomForestClassifier(n_estimators=best_est, criterion='entropy', max_features='sqrt', random_state=42)\n",
        "print('Cross-validation RandomForest score:', cross_val_score(clf3, X, y, cv=kf, scoring='roc_auc').mean())\n",
        "\n",
        "clf4 = GradientBoostingClassifier(n_estimators=best_grid_est, criterion='friedman_mse', max_features=None, random_state=42)\n",
        "print('Cross-validation GradientBoosting score:', cross_val_score(clf4, X, y, cv=kf, scoring='roc_auc').mean())"
      ],
      "execution_count": null,
      "outputs": [
        {
          "output_type": "stream",
          "name": "stdout",
          "text": [
            "Cross-validation KNeighbors score: 0.8819859346149942\n",
            "Cross-validation DecisionTree score: 0.8883425630512102\n",
            "Cross-validation SGD score: 0.8994184110286673\n",
            "Cross-validation RandomForest score: 0.8968901847892561\n",
            "Cross-validation GradientBoosting score: 0.9155435629838256\n"
          ]
        }
      ]
    },
    {
      "cell_type": "markdown",
      "metadata": {
        "id": "ppmfWZSTcH7i"
      },
      "source": [
        "Отличается ли теперь наилучший классификатор от наилучшего в предыдущем пункте?"
      ]
    },
    {
      "cell_type": "markdown",
      "metadata": {
        "id": "-tmrUuVW6OfC"
      },
      "source": [
        "Нет, качество всех моделей выросло, но лучшая модель осталась та же -- Градиентный бустинг\n",
        "\n",
        "Cross-validation GradientBoosting score: 0.9155435629838256"
      ]
    },
    {
      "cell_type": "markdown",
      "metadata": {
        "id": "a9h7l0x1cH7i"
      },
      "source": [
        "## Поиск новых полезных признаков\n",
        "\n",
        "**Задание 11 (1.25 балла).** Попробуем улучшить качество модели, добавив в неё новые информативные признаки. Поступим так же, как действовали на [семинаре](https://github.com/Murcha1990/ML_Econom_2021-2022/blob/main/Семинары/Семинар%207/Seminar7.ipynb):\n",
        "* добавьте к модели полиномиальных признаков степени 2 (для создания полиномиальных признаков используйте только исходные числовые признаки)\n",
        "* затем снизьте размерность с помощью:\n",
        "a) фильтрационных методов\n",
        "b) жадного отбора признаков (RFE)\n",
        "с) встроенного в модель метода отбора признаков.\n",
        "\n",
        "Для каждого пункта выше выберите один метод и подберите для него оптимальные гиперпараметры, а также количество финальных признаков (по кросс-валидации).\n",
        "\n",
        "* Затем можно добавить к модели закодированные в предыдущем пункте категориальные признаки.\n",
        "\n",
        "Позволил ли этот подход улучшить качество моделей? "
      ]
    },
    {
      "cell_type": "markdown",
      "metadata": {
        "id": "BNKPNz2W95hP"
      },
      "source": [
        "Выросло качество у всех моделей кроме random forest при использовании полиномов вместе с категориальными признаками.\n",
        "\n",
        "Лучшая модель осталась та же"
      ]
    },
    {
      "cell_type": "code",
      "metadata": {
        "id": "F4LPdFJTcH7j"
      },
      "source": [
        "from sklearn.preprocessing import PolynomialFeatures\n",
        "from sklearn.feature_selection import f_classif, chi2, mutual_info_classif\n",
        "from sklearn.feature_selection import SelectKBest, RFE, SelectFromModel\n",
        "from sklearn.linear_model import LogisticRegression\n",
        "from sklearn.pipeline import Pipeline\n",
        "\n",
        "poly_features = PolynomialFeatures(degree = 2)\n",
        "X_poly = poly_features.fit_transform(X_num)"
      ],
      "execution_count": null,
      "outputs": []
    },
    {
      "cell_type": "code",
      "metadata": {
        "colab": {
          "base_uri": "https://localhost:8080/"
        },
        "id": "Aw0HaykMvJ8g",
        "outputId": "5afcbdd3-55ac-44d6-9f85-2bf941b160cf"
      },
      "source": [
        "pipe0 = Pipeline([\n",
        "    ('selector', SelectKBest(score_func=mutual_info_classif, k=10)), \n",
        "    ('model', KNeighborsClassifier(metric='euclidean', n_neighbors=15))]\n",
        ")\n",
        "\n",
        "params00 = {'selector__k': np.arange(10, 20, 2),\n",
        "            'selector__score_func': (f_classif, chi2, mutual_info_classif)}\n",
        "grid = GridSearchCV(pipe0, params00, cv=kf, scoring='roc_auc')\n",
        "grid.fit(X_poly, y)\n",
        "print(f'best params: {grid.best_params_}')\n",
        "print(f'best score: {grid.best_score_} \\n')\n",
        "\n",
        "\n",
        "pipe02 = Pipeline([\n",
        "    ('selector', RFE(LogisticRegression(max_iter=1000), n_features_to_select=10, step=3)), \n",
        "    ('model', KNeighborsClassifier(metric='euclidean', n_neighbors=15))]\n",
        ")\n",
        "\n",
        "params02 = {'selector__n_features_to_select': np.arange(10, 20, 2),\n",
        "            'selector__step': [3, 5, 10]}\n",
        "grid = GridSearchCV(pipe02, params02, cv=kf, scoring='roc_auc')\n",
        "grid.fit(X_poly, y)\n",
        "print(f'best params: {grid.best_params_}')\n",
        "print(f'best score: {grid.best_score_} \\n')\n",
        "\n",
        "\n",
        "pipe03 = Pipeline([\n",
        "    ('selector', SelectFromModel(LogisticRegression(penalty='l1', max_iter=1000, solver='liblinear'), threshold=1e-5)), \n",
        "    ('model', KNeighborsClassifier(metric='euclidean', n_neighbors=15))]\n",
        ")\n",
        "\n",
        "params03 = {'selector__estimator': (LogisticRegression(penalty='l1', max_iter=1000, solver='liblinear'),\n",
        "                                    LogisticRegression(penalty='l2', max_iter=1000, solver='liblinear'),\n",
        "                                    LogisticRegression(penalty='elasticnet', max_iter=1000, solver='liblinear'),),\n",
        "            'selector__threshold': (1e-5, 1e-4)}\n",
        "grid = GridSearchCV(pipe03, params03, cv=kf, scoring='roc_auc')\n",
        "grid.fit(X_poly, y)\n",
        "print(f'best params: {grid.best_params_}')\n",
        "print(f'best score: {grid.best_score_} \\n')"
      ],
      "execution_count": null,
      "outputs": [
        {
          "output_type": "stream",
          "name": "stdout",
          "text": [
            "best params: {'selector__k': 14, 'selector__score_func': <function f_classif at 0x7fece824f200>}\n",
            "best score: 0.830359024309467 \n",
            "\n",
            "best params: {'selector__n_features_to_select': 18, 'selector__step': 10}\n",
            "best score: 0.823756921678273 \n",
            "\n",
            "best params: {'selector__estimator': LogisticRegression(max_iter=1000, solver='liblinear'), 'selector__threshold': 1e-05}\n",
            "best score: 0.8112138686171301 \n",
            "\n"
          ]
        }
      ]
    },
    {
      "cell_type": "code",
      "metadata": {
        "colab": {
          "base_uri": "https://localhost:8080/"
        },
        "id": "bsNKFC7VhWpI",
        "outputId": "bdce1234-3d7c-4ded-f815-01173eef8e09"
      },
      "source": [
        "clf0 = KNeighborsClassifier(metric='euclidean', n_neighbors=15)\n",
        "selector = SelectKBest(score_func=f_classif, k=14)\n",
        "X_big = np.append(selector.fit_transform(X_poly, y), X_cat_enc, axis=1)\n",
        "print('Cross-validation KNeighbors score:', cross_val_score(clf0, X_big, y, cv=kf, scoring='roc_auc').mean())"
      ],
      "execution_count": null,
      "outputs": [
        {
          "output_type": "stream",
          "name": "stdout",
          "text": [
            "Cross-validation KNeighbors score: 0.8964700111005192\n"
          ]
        }
      ]
    },
    {
      "cell_type": "code",
      "metadata": {
        "colab": {
          "base_uri": "https://localhost:8080/"
        },
        "id": "IHd82T6r1beC",
        "outputId": "81c32ec1-bdb1-46fe-a77d-4d3c5e224f95"
      },
      "source": [
        "pipe11 = Pipeline([\n",
        "    ('selector', SelectKBest(score_func=mutual_info_classif, k=10)), \n",
        "    ('model', DecisionTreeClassifier(criterion='gini', max_depth=8, random_state=42))]\n",
        ")\n",
        "\n",
        "params11 = {'selector__k': np.arange(10, 20, 2),\n",
        "            'selector__score_func': (f_classif, chi2, mutual_info_classif)}\n",
        "grid = GridSearchCV(pipe11, params11, cv=kf, scoring='roc_auc')\n",
        "grid.fit(X_poly, y)\n",
        "print(f'best params: {grid.best_params_}')\n",
        "print(f'best score: {grid.best_score_} \\n')\n",
        "\n",
        "\n",
        "\n",
        "pipe12 = Pipeline([\n",
        "    ('selector', RFE(LogisticRegression(max_iter=1000), n_features_to_select=10, step=3)), \n",
        "    ('model', DecisionTreeClassifier(criterion='gini', max_depth=8, random_state=42))]\n",
        ")\n",
        "\n",
        "params12 = {'selector__n_features_to_select': np.arange(10, 20, 2),\n",
        "            'selector__step': [3, 5, 10]}\n",
        "grid = GridSearchCV(pipe12, params12, cv=kf, scoring='roc_auc')\n",
        "grid.fit(X_poly, y)\n",
        "print(f'best params: {grid.best_params_}')\n",
        "print(f'best score: {grid.best_score_} \\n')\n",
        "\n",
        "\n",
        "pipe13 = Pipeline([\n",
        "    ('selector', SelectFromModel(LogisticRegression(penalty='l1', max_iter=1000, solver='liblinear'), threshold=1e-5)), \n",
        "    ('model', DecisionTreeClassifier(criterion='gini', max_depth=8, random_state=42))]\n",
        ")\n",
        "\n",
        "params13 = {'selector__estimator': (LogisticRegression(penalty='l1', max_iter=1000, solver='liblinear'),\n",
        "                                    LogisticRegression(penalty='l2', max_iter=1000, solver='liblinear'),\n",
        "                                    LogisticRegression(penalty='elasticnet', max_iter=1000, solver='liblinear'),),\n",
        "            'selector__threshold': (1e-5, 1e-4)}\n",
        "grid = GridSearchCV(pipe13, params13, cv=kf, scoring='roc_auc')\n",
        "grid.fit(X_poly, y)\n",
        "print(f'best params: {grid.best_params_}')\n",
        "print(f'best score: {grid.best_score_} \\n')"
      ],
      "execution_count": null,
      "outputs": [
        {
          "output_type": "stream",
          "name": "stdout",
          "text": [
            "best params: {'selector__k': 10, 'selector__score_func': <function f_classif at 0x7fece824f200>}\n",
            "best score: 0.8465970447096458 \n",
            "\n",
            "best params: {'selector__n_features_to_select': 12, 'selector__step': 3}\n",
            "best score: 0.8475709088079488 \n",
            "\n",
            "best params: {'selector__estimator': LogisticRegression(max_iter=1000, solver='liblinear'), 'selector__threshold': 1e-05}\n",
            "best score: 0.8348916338781741 \n",
            "\n"
          ]
        }
      ]
    },
    {
      "cell_type": "code",
      "metadata": {
        "colab": {
          "base_uri": "https://localhost:8080/"
        },
        "id": "M2E6M8Adhad4",
        "outputId": "7c8e1d8a-ad90-4720-b0a5-7fa53f4a181a"
      },
      "source": [
        "clf1 = DecisionTreeClassifier(criterion='gini', max_depth=8, random_state=42)\n",
        "selector = RFE(LogisticRegression(max_iter=1000), n_features_to_select=12, step=3)\n",
        "X_big = np.append(selector.fit_transform(X_poly, y), X_cat_enc, axis=1)\n",
        "print('Cross-validation DecisionTree score:', cross_val_score(clf1, X_big, y, cv=kf, scoring='roc_auc').mean())"
      ],
      "execution_count": null,
      "outputs": [
        {
          "output_type": "stream",
          "name": "stdout",
          "text": [
            "Cross-validation DecisionTree score: 0.8893889366292125\n"
          ]
        }
      ]
    },
    {
      "cell_type": "code",
      "metadata": {
        "colab": {
          "base_uri": "https://localhost:8080/"
        },
        "id": "zpani7ZTKrDh",
        "outputId": "63db4242-a16c-4064-8b10-57c373038e48"
      },
      "source": [
        "pipe21 = Pipeline([\n",
        "    ('selector', SelectKBest(score_func=mutual_info_classif, k=10)), \n",
        "    ('model', SGDClassifier(loss='log', penalty='elasticnet', random_state=42))]\n",
        ")\n",
        "\n",
        "params21 = {'selector__k': np.arange(10, 20, 2),\n",
        "            'selector__score_func': (f_classif, chi2, mutual_info_classif)}\n",
        "grid = GridSearchCV(pipe21, params21, cv=kf, scoring='roc_auc')\n",
        "grid.fit(X_poly, y)\n",
        "print(f'best params: {grid.best_params_}')\n",
        "print(f'best score: {grid.best_score_} \\n')\n",
        "\n",
        "\n",
        "\n",
        "pipe22 = Pipeline([\n",
        "    ('selector', RFE(LogisticRegression(max_iter=1000), n_features_to_select=10, step=3)), \n",
        "    ('model', SGDClassifier(loss='log', penalty='elasticnet', random_state=42))]\n",
        ")\n",
        "\n",
        "params22 = {'selector__n_features_to_select': np.arange(10, 20, 2),\n",
        "            'selector__step': [3, 5, 10]}\n",
        "grid = GridSearchCV(pipe22, params22, cv=kf, scoring='roc_auc')\n",
        "grid.fit(X_poly, y)\n",
        "print(f'best params: {grid.best_params_}')\n",
        "print(f'best score: {grid.best_score_} \\n')\n",
        "\n",
        "\n",
        "pipe23 = Pipeline([\n",
        "    ('selector', SelectFromModel(LogisticRegression(penalty='l1', max_iter=1000, solver='liblinear'), threshold=1e-5)), \n",
        "    ('model', SGDClassifier(loss='log', penalty='elasticnet', random_state=42))]\n",
        ")\n",
        "\n",
        "params23 = {'selector__estimator': (LogisticRegression(penalty='l1', max_iter=1000, solver='liblinear'),\n",
        "                                    LogisticRegression(penalty='l2', max_iter=1000, solver='liblinear'),\n",
        "                                    LogisticRegression(penalty='elasticnet', max_iter=1000, solver='liblinear'),),\n",
        "            'selector__threshold': (1e-5, 1e-4)}\n",
        "grid = GridSearchCV(pipe23, params23, cv=kf, scoring='roc_auc')\n",
        "grid.fit(X_poly, y)\n",
        "print(f'best params: {grid.best_params_}')\n",
        "print(f'best score: {grid.best_score_} \\n')"
      ],
      "execution_count": null,
      "outputs": [
        {
          "output_type": "stream",
          "name": "stdout",
          "text": [
            "best params: {'selector__k': 18, 'selector__score_func': <function f_classif at 0x7fece824f200>}\n",
            "best score: 0.836541610203392 \n",
            "\n",
            "best params: {'selector__n_features_to_select': 18, 'selector__step': 10}\n",
            "best score: 0.8387775975923288 \n",
            "\n",
            "best params: {'selector__estimator': LogisticRegression(max_iter=1000, solver='liblinear'), 'selector__threshold': 1e-05}\n",
            "best score: 0.8220092994254429 \n",
            "\n"
          ]
        }
      ]
    },
    {
      "cell_type": "code",
      "metadata": {
        "colab": {
          "base_uri": "https://localhost:8080/"
        },
        "id": "cnuZa7VDhcsU",
        "outputId": "61dbf2f3-2eec-4b99-beca-c9191d6f8f28"
      },
      "source": [
        "clf2 = SGDClassifier(loss='log', penalty='elasticnet', random_state=42)\n",
        "selector = RFE(LogisticRegression(max_iter=1000), n_features_to_select=18, step=10)\n",
        "X_big = np.append(selector.fit_transform(X_poly, y), X_cat_enc, axis=1)\n",
        "print('Cross-validation SGD score:', cross_val_score(clf2, X_big, y, cv=kf, scoring='roc_auc').mean())"
      ],
      "execution_count": null,
      "outputs": [
        {
          "output_type": "stream",
          "name": "stdout",
          "text": [
            "Cross-validation SGD score: 0.900742076158149\n"
          ]
        }
      ]
    },
    {
      "cell_type": "code",
      "metadata": {
        "colab": {
          "base_uri": "https://localhost:8080/"
        },
        "id": "UBjDQRkGKvYB",
        "outputId": "79428994-3741-4b03-85f4-d3e9bd05f879"
      },
      "source": [
        "pipe31 = Pipeline([\n",
        "    ('selector', SelectKBest(score_func=mutual_info_classif, k=10)), \n",
        "    ('model', RandomForestClassifier(n_estimators=best_est, criterion='entropy', max_features='sqrt', random_state=42))]\n",
        ")\n",
        "\n",
        "params31 = {'selector__k': np.arange(10, 20, 2),\n",
        "            'selector__score_func': (f_classif, chi2, mutual_info_classif)}\n",
        "grid = GridSearchCV(pipe31, params31, cv=kf, scoring='roc_auc')\n",
        "grid.fit(X_poly, y)\n",
        "print(f'best params: {grid.best_params_}')\n",
        "print(f'best score: {grid.best_score_} \\n')\n",
        "\n",
        "\n",
        "\n",
        "pipe32 = Pipeline([\n",
        "    ('selector', RFE(LogisticRegression(max_iter=1000), n_features_to_select=10, step=3)), \n",
        "    ('model', RandomForestClassifier(n_estimators=best_est, criterion='entropy', max_features='sqrt', random_state=42))]\n",
        ")\n",
        "\n",
        "params32 = {'selector__n_features_to_select': np.arange(10, 20, 2),\n",
        "            'selector__step': [3, 5, 10]}\n",
        "grid = GridSearchCV(pipe32, params32, cv=kf, scoring='roc_auc')\n",
        "grid.fit(X_poly, y)\n",
        "print(f'best params: {grid.best_params_}')\n",
        "print(f'best score: {grid.best_score_} \\n')\n",
        "\n",
        "\n",
        "pipe33 = Pipeline([\n",
        "    ('selector', SelectFromModel(LogisticRegression(penalty='l1', max_iter=1000, solver='liblinear'), threshold=1e-5)), \n",
        "    ('model', RandomForestClassifier(n_estimators=best_est, criterion='entropy', max_features='sqrt', random_state=42))]\n",
        ")\n",
        "\n",
        "params33 = {'selector__estimator': (LogisticRegression(penalty='l1', max_iter=1000, solver='liblinear'),\n",
        "                                    LogisticRegression(penalty='l2', max_iter=1000, solver='liblinear'),\n",
        "                                    LogisticRegression(penalty='elasticnet', max_iter=1000, solver='liblinear'),),\n",
        "            'selector__threshold': (1e-5, 1e-4)}\n",
        "grid = GridSearchCV(pipe33, params33, cv=kf, scoring='roc_auc')\n",
        "grid.fit(X_poly, y)\n",
        "print(f'best params: {grid.best_params_}')\n",
        "print(f'best score: {grid.best_score_} \\n')"
      ],
      "execution_count": null,
      "outputs": [
        {
          "output_type": "stream",
          "name": "stdout",
          "text": [
            "best params: {'selector__k': 10, 'selector__score_func': <function f_classif at 0x7fece824f200>}\n",
            "best score: 0.8220182605977028 \n",
            "\n",
            "best params: {'selector__n_features_to_select': 10, 'selector__step': 3}\n",
            "best score: 0.817457555548349 \n",
            "\n",
            "best params: {'selector__estimator': LogisticRegression(max_iter=1000, solver='liblinear'), 'selector__threshold': 1e-05}\n",
            "best score: 0.8222466358852139 \n",
            "\n"
          ]
        }
      ]
    },
    {
      "cell_type": "code",
      "metadata": {
        "colab": {
          "base_uri": "https://localhost:8080/"
        },
        "id": "BJUK6GVDhfAa",
        "outputId": "6e4a9dcb-e4b6-488f-9178-f9f2e70aa62b"
      },
      "source": [
        "clf3 = RandomForestClassifier(n_estimators=best_est, criterion='entropy', max_features='sqrt', random_state=42)\n",
        "selector = SelectKBest(score_func=f_classif, k=10)\n",
        "X_big = np.append(selector.fit_transform(X_poly, y), X_cat_enc, axis=1)\n",
        "print('Cross-validation RandomForest score:', cross_val_score(clf3, X_big, y, cv=kf, scoring='roc_auc').mean())"
      ],
      "execution_count": null,
      "outputs": [
        {
          "output_type": "stream",
          "name": "stdout",
          "text": [
            "Cross-validation RandomForest score: 0.8911586951804751\n"
          ]
        }
      ]
    },
    {
      "cell_type": "code",
      "metadata": {
        "colab": {
          "base_uri": "https://localhost:8080/"
        },
        "id": "hbgFq22TKwFY",
        "outputId": "29fb5668-6c28-490c-cedf-eedf1417125c"
      },
      "source": [
        "pipe41 = Pipeline([\n",
        "    ('selector', SelectKBest(score_func=mutual_info_classif, k=10)), \n",
        "    ('model', GradientBoostingClassifier(n_estimators=best_grid_est, criterion='friedman_mse', max_features='sqrt', random_state=42))]\n",
        ")\n",
        "\n",
        "params41 = {'selector__k': np.arange(10, 20, 2),\n",
        "            'selector__score_func': (f_classif, chi2, mutual_info_classif)}\n",
        "grid = GridSearchCV(pipe41, params41, cv=kf, scoring='roc_auc')\n",
        "grid.fit(X_poly, y)\n",
        "print(f'best params: {grid.best_params_}')\n",
        "print(f'best score: {grid.best_score_} \\n')\n",
        "\n",
        "\n",
        "\n",
        "pipe42 = Pipeline([\n",
        "    ('selector', RFE(LogisticRegression(max_iter=1000), n_features_to_select=10, step=3)), \n",
        "    ('model', GradientBoostingClassifier(n_estimators=best_grid_est, criterion='friedman_mse', max_features='sqrt', random_state=42))]\n",
        ")\n",
        "\n",
        "params42 = {'selector__n_features_to_select': np.arange(10, 20, 2),\n",
        "            'selector__step': [3, 5, 10]}\n",
        "grid = GridSearchCV(pipe42, params42, cv=kf, scoring='roc_auc')\n",
        "grid.fit(X_poly, y)\n",
        "print(f'best params: {grid.best_params_}')\n",
        "print(f'best score: {grid.best_score_} \\n')\n",
        "\n",
        "\n",
        "pipe43 = Pipeline([\n",
        "    ('selector', SelectFromModel(LogisticRegression(penalty='l1', max_iter=1000, solver='liblinear'), threshold=1e-5)), \n",
        "    ('model', GradientBoostingClassifier(n_estimators=best_grid_est, criterion='friedman_mse', max_features='sqrt', random_state=42))]\n",
        ")\n",
        "\n",
        "params43 = {'selector__estimator': (LogisticRegression(penalty='l1', max_iter=1000, solver='liblinear'),\n",
        "                                    LogisticRegression(penalty='l2', max_iter=1000, solver='liblinear'),\n",
        "                                    LogisticRegression(penalty='elasticnet', max_iter=1000, solver='liblinear'),),\n",
        "            'selector__threshold': (1e-5, 1e-4)}\n",
        "grid = GridSearchCV(pipe33, params33, cv=kf, scoring='roc_auc')\n",
        "grid.fit(X_poly, y)\n",
        "print(f'best params: {grid.best_params_}')\n",
        "print(f'best score: {grid.best_score_} \\n')"
      ],
      "execution_count": null,
      "outputs": [
        {
          "output_type": "stream",
          "name": "stdout",
          "text": [
            "best params: {'selector__k': 10, 'selector__score_func': <function f_classif at 0x7fece824f200>}\n",
            "best score: 0.8644807752188199 \n",
            "\n",
            "best params: {'selector__n_features_to_select': 10, 'selector__step': 3}\n",
            "best score: 0.8617376207530916 \n",
            "\n",
            "best params: {'selector__estimator': LogisticRegression(max_iter=1000, solver='liblinear'), 'selector__threshold': 1e-05}\n",
            "best score: 0.8222466358852139 \n",
            "\n"
          ]
        }
      ]
    },
    {
      "cell_type": "code",
      "metadata": {
        "colab": {
          "base_uri": "https://localhost:8080/"
        },
        "id": "tsuvMDa7hhEj",
        "outputId": "ced02799-d569-4c1e-fe19-b29715664bc1"
      },
      "source": [
        "clf4 = GradientBoostingClassifier(n_estimators=best_grid_est, criterion='friedman_mse', max_features=None, random_state=42)\n",
        "selector = SelectKBest(score_func=f_classif, k=10)\n",
        "X_big = np.append(selector.fit_transform(X_poly, y), X_cat_enc, axis=1)\n",
        "print('Cross-validation GradientBoosting score:', cross_val_score(clf4, X_big, y, cv=kf, scoring='roc_auc').mean())"
      ],
      "execution_count": null,
      "outputs": [
        {
          "output_type": "stream",
          "name": "stdout",
          "text": [
            "Cross-validation GradientBoosting score: 0.9210674582151205\n"
          ]
        }
      ]
    },
    {
      "cell_type": "markdown",
      "metadata": {
        "id": "mrfhXVwncH7j"
      },
      "source": [
        "## Смешивание моделей\n",
        "\n",
        "Во всех предыдущих пунктах мы получили много сильных моделей, которые могут быть достаточно разными по своей природе (например, метод ближайших соседей и случайный лес). Часто на практике оказывается возможным увеличить качество предсказания путем смешивания подобных разных моделей. Давайте посмотрим, действительно ли это дает прирост в качестве.\n",
        "\n",
        "Выберите из построенных моделей двух предыдущих пунктов две, которые дали наибольшее начество на кросс-валидации (обозначим их $clf_1$ и $clf_2$). Далее постройте новый классификатор, ответ которого на некотором объекте $x$ будет выглядеть следующим образом:\n",
        "\n",
        "$$result(x) = clf_1(x) \\cdot \\alpha + clf_2(x) \\cdot (1 - \\alpha)$$\n",
        "\n",
        "где $\\alpha$ — гиперпараметр нового классификатора.\n",
        "\n",
        "**Задание 12 (1 балл)** Подберите по сетке от 0 до 1 $\\alpha$ для этого классификатора с помощью 5-Fold CV и постройте график качества в зависимости от $\\alpha$ (аналогичный графику в разделе \"Обучение классификаторов и оценка качества\"). Дал ли этот подход прирост к качеству по сравнению с моделями ранее?"
      ]
    },
    {
      "cell_type": "markdown",
      "metadata": {
        "id": "ZEAexy8n-dZo"
      },
      "source": [
        "Лучшие модели:\n",
        "\n",
        "SGDClassifier(loss='log', penalty='elasticnet') \n",
        "\n",
        "и\n",
        "\n",
        "GradientBoostingClassifier(n_estimators=best_grid_est, criterion='friedman_mse', max_features='sqrt')\n",
        "\n",
        "Обученные на данных из пункта 11 (с категориальными)"
      ]
    },
    {
      "cell_type": "code",
      "metadata": {
        "collapsed": true,
        "id": "QJshUhK3cH7j"
      },
      "source": [
        "from sklearn.base import BaseEstimator, ClassifierMixin\n",
        "\n",
        "\n",
        "def final_x(X, clf=4):\n",
        "  if clf == 0:\n",
        "    selector = SelectKBest(score_func=f_classif, k=14)\n",
        "    X_ = np.append(selector.fit_transform(X_poly, y), X_cat_enc, axis=1)\n",
        "    return X_\n",
        "  elif clf == 1:\n",
        "    selector = RFE(LogisticRegression(max_iter=1000), n_features_to_select=12, step=3)\n",
        "    X_ = np.append(selector.fit_transform(X_poly, y), X_cat_enc, axis=1)\n",
        "    return X_\n",
        "  elif clf == 2:\n",
        "    selector = RFE(LogisticRegression(max_iter=1000), n_features_to_select=18, step=10)\n",
        "    X_ = np.append(selector.fit_transform(X_poly, y), X_cat_enc, axis=1)\n",
        "    return X_\n",
        "  elif clf == 4:\n",
        "    selector = SelectKBest(score_func=f_classif, k=10)\n",
        "    X_ = np.append(selector.fit_transform(X, y), X_cat_enc, axis=1)\n",
        "    return X_\n",
        "\n",
        "\n",
        "class SGD_GradientBoostingBlender(BaseEstimator, ClassifierMixin):\n",
        "  def __init__(self, alpha=0):\n",
        "    self.alpha = alpha\n",
        "    self.bound = 0.5\n",
        "  def fit(self, X, y):\n",
        "    self.clf2 = SGDClassifier(loss='log', penalty='elasticnet', random_state=42)\n",
        "    self.clf2.fit(X, y)\n",
        "    self.clf4 = GradientBoostingClassifier(n_estimators=best_grid_est, criterion='friedman_mse', max_features=None, random_state=42)\n",
        "    self.clf4.fit(X, y)\n",
        "    self.classes_ = y.unique()\n",
        "    return self\n",
        "  def predict(self, X):\n",
        "    self.sgd = self.clf2.predict_proba(X)\n",
        "    self.gb = self.clf4.predict_proba(X)\n",
        "    self.pred_proba = self.sgd * self.alpha + self.gb * (1 - self.alpha)\n",
        "    self.pred = np.multiply(self.pred_proba[:, 1] > self.bound, 1)\n",
        "    return self.pred\n",
        "  def predict_proba(self, X):\n",
        "    self.sgd = self.clf2.predict_proba(X)\n",
        "    self.gb = self.clf4.predict_proba(X)\n",
        "    self.pred_proba = self.sgd * self.alpha + self.gb * (1 - self.alpha)\n",
        "    return self.pred_proba"
      ],
      "execution_count": null,
      "outputs": []
    },
    {
      "cell_type": "code",
      "metadata": {
        "colab": {
          "base_uri": "https://localhost:8080/"
        },
        "id": "-pC9Duq-kUfL",
        "outputId": "0fb05b39-1d7b-4a27-9107-c92cb66c5e3e"
      },
      "source": [
        "blend = SGD_GradientBoostingBlender()\n",
        "cross_val_score(blend, final_x(X_poly), y, cv=kf, scoring='roc_auc', error_score='raise')"
      ],
      "execution_count": null,
      "outputs": [
        {
          "output_type": "execute_result",
          "data": {
            "text/plain": [
              "array([0.92072856, 0.92103043, 0.92220058, 0.92081011, 0.92056762])"
            ]
          },
          "metadata": {},
          "execution_count": 307
        }
      ]
    },
    {
      "cell_type": "code",
      "metadata": {
        "colab": {
          "base_uri": "https://localhost:8080/",
          "height": 768
        },
        "id": "d3Dkq3UhTD5n",
        "outputId": "fc0a8aa0-d906-48f3-9575-af6f2c06ff8d"
      },
      "source": [
        "blend = SGD_GradientBoostingBlender()\n",
        "my_params = {'alpha': np.arange(0, 1.05, 0.05)}\n",
        "grid = GridSearchCV(blend, my_params, cv=kf, scoring='roc_auc')\n",
        "grid.fit(final_x(X_poly), y)\n",
        "print(f'best params: {grid.best_params_}')\n",
        "print(f'best score: {grid.best_score_} \\n')\n",
        "\n",
        "scores = grid.cv_results_['mean_test_score']\n",
        "stds = []\n",
        "for i in range(4, -1, -1):\n",
        "  stds.append(grid.cv_results_[f'split{i}_test_score'])\n",
        "stds = np.array(stds).std(0)\n",
        "upper = scores + stds\n",
        "lower = scores - stds\n",
        "plt.plot(np.arange(0, 1.05, 0.05), scores)\n",
        "plt.plot(np.arange(0, 1.05, 0.05), upper, color='orange')\n",
        "plt.plot(np.arange(0, 1.05, 0.05), lower, color='orange')"
      ],
      "execution_count": null,
      "outputs": [
        {
          "output_type": "stream",
          "name": "stdout",
          "text": [
            "best params: {'alpha': 0.0}\n",
            "best score: 0.9210674582151205 \n",
            "\n"
          ]
        },
        {
          "output_type": "execute_result",
          "data": {
            "text/plain": [
              "[<matplotlib.lines.Line2D at 0x7fece769e410>]"
            ]
          },
          "metadata": {},
          "execution_count": 308
        },
        {
          "output_type": "display_data",
          "data": {
            "image/png": "[encoded data removed]",
            "text/plain": [
              "<Figure size 1440x864 with 1 Axes>"
            ]
          },
          "metadata": {
            "needs_background": "light"
          }
        }
      ]
    },
    {
      "cell_type": "markdown",
      "metadata": {
        "id": "-3JiOLW5_247"
      },
      "source": [
        "Оптимальное значение alpha -- 0\n",
        "\n",
        "Не получилось увеличить качество за счет смешивания моделей\n",
        "\n"
      ]
    },
    {
      "cell_type": "markdown",
      "metadata": {
        "id": "BzIJH3ITcH7j"
      },
      "source": [
        "## Сравнение построенных моделей\n",
        "\n",
        "![](http://cdn.shopify.com/s/files/1/0870/1066/files/compare_e8b89647-3cb6-4871-a976-2e36e5987773.png?1750043340268621065)\n",
        "\n",
        "После того как было построено много моделей хотелось бы сравнить их между собой. Для этого можно построить \"ящик с усами\" (диаграму размаха). Для этого можно воспользоваться библиотекой [matplotlib](https://matplotlib.org/3.1.0/api/_as_gen/matplotlib.pyplot.boxplot.html) или [seaborn](https://seaborn.pydata.org/generated/seaborn.boxplot.html).\n",
        "\n",
        "**Задание 13 (1 балл)** Для каждого типа классификатора (kNN, DecisionTree, RandomForest, SGD classifier), а так же смешанной модели выберите тот, которых давал наилучшее качество на кросс-валидации (с учетом подобранных гиперпараметров) и постройте диаграмму размаха (все классификаторы должны быть изображены на одном графике).\n",
        " \n",
        "Сделайте общие итоговые выводы о классификаторах с точки зрения их работы с признаками и сложности самой модели (какие гиперпараметры есть у модели, сильно ли изменение значения гиперпараметра влияет на качество модели)."
      ]
    },
    {
      "cell_type": "code",
      "metadata": {
        "collapsed": true,
        "colab": {
          "base_uri": "https://localhost:8080/",
          "height": 738
        },
        "id": "CQhlWvfWcH7j",
        "outputId": "4810f96d-09c3-4800-98fb-8976eb954a48"
      },
      "source": [
        "plt.rcParams[\"figure.figsize\"] = (20, 12)\n",
        "\n",
        "preds = pd.DataFrame()\n",
        "\n",
        "clf0 = KNeighborsClassifier(metric='euclidean', n_neighbors=15)\n",
        "clf1 = DecisionTreeClassifier(criterion='gini', max_depth=8, random_state=42)\n",
        "clf2 = SGDClassifier(loss='log', penalty='elasticnet', random_state=42)\n",
        "clf3 = RandomForestClassifier(n_estimators=best_est, criterion='entropy', max_features='sqrt', random_state=42)\n",
        "clf4 = GradientBoostingClassifier(n_estimators=best_grid_est, criterion='friedman_mse', max_features=None, random_state=42)\n",
        "blend = SGD_GradientBoostingBlender()\n",
        "\n",
        "\n",
        "preds['KNN'] = clf0.fit(final_x(X_poly, 0), y).predict_proba(final_x(X_poly, 0))[:, 1]\n",
        "preds['DecisionTree'] = clf1.fit(final_x(X_poly, 1), y).predict_proba(final_x(X_poly, 1))[:, 1]\n",
        "preds['SGD'] = clf2.fit(final_x(X_poly, 2), y).predict_proba(final_x(X_poly, 2))[:, 1]\n",
        "preds['RandomForest'] = clf3.fit(X, y).predict_proba(X)[:, 1]\n",
        "preds['GradientBoosting'] = clf4.fit(final_x(X_poly, 4), y).predict_proba(final_x(X_poly, 4))[:, 1]\n",
        "preds['Blender'] = blend.fit(final_x(X_poly), y).predict_proba(final_x(X_poly))[:, 1]\n",
        "\n",
        "preds.boxplot()\n",
        "plt.xlabel('Models', fontsize=18)\n",
        "plt.ylabel('Probability', fontsize=18)"
      ],
      "execution_count": null,
      "outputs": [
        {
          "output_type": "execute_result",
          "data": {
            "text/plain": [
              "Text(0, 0.5, 'Probability')"
            ]
          },
          "metadata": {},
          "execution_count": 313
        },
        {
          "output_type": "display_data",
          "data": {
            "image/png": "[encoded data removed]",
            "text/plain": [
              "<Figure size 1440x864 with 1 Axes>"
            ]
          },
          "metadata": {
            "needs_background": "light"
          }
        }
      ]
    },
    {
      "cell_type": "markdown",
      "metadata": {
        "id": "R2EjZVnh3zdF"
      },
      "source": [
        "В целом наилучший результат дала модель, с наибольшим сроком обучения (что логично).\n",
        "\n",
        "Изменение гиперпараметров существенно повлияло на качество моделей, увеличив их\n",
        "\n"
      ]
    },
    {
      "cell_type": "code",
      "metadata": {
        "id": "2se6pqKT4ZLO"
      },
      "source": [
        ""
      ],
      "execution_count": null,
      "outputs": []
    }
  ]
}