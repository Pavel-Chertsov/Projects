{
  "nbformat": 4,
  "nbformat_minor": 0,
  "metadata": {
    "colab": {
      "name": "кегля МО.ipynb",
      "provenance": [],
      "collapsed_sections": [],
      "toc_visible": true
    },
    "kernelspec": {
      "name": "python3",
      "display_name": "Python 3"
    }
  },
  "cells": [
    {
      "cell_type": "code",
      "source": [
        "from google.colab import drive\n",
        "drive.mount('/content/drive')"
      ],
      "metadata": {
        "id": "UliYt4U0WCvB"
      },
      "execution_count": null,
      "outputs": []
    },
    {
      "cell_type": "code",
      "source": [
        "!pip install catboost\n",
        "!pip install lightgbm\n",
        "!pip install cmake\n",
        "!pip install seaborn\n",
        "!pip install bayesian-optimization\n",
        "!pip install imblearn"
      ],
      "metadata": {
        "id": "x320IQzGR-qo"
      },
      "execution_count": null,
      "outputs": []
    },
    {
      "cell_type": "code",
      "metadata": {
        "id": "4lHm_u8pTgAW"
      },
      "source": [
        "# from catboost import CatBoostClassifier \n",
        "import lightgbm as lgb\n",
        "import matplotlib.pyplot as plt\n",
        "import numpy as np\n",
        "import os\n",
        "import pandas as pd\n",
        "import seaborn as sns\n",
        "from sklearn.metrics import roc_auc_score\n",
        "from sklearn.preprocessing import LabelEncoder\n",
        "from tqdm import tqdm\n",
        "\n",
        "sns.set()\n",
        "\n",
        "%matplotlib inline"
      ],
      "execution_count": null,
      "outputs": []
    },
    {
      "cell_type": "code",
      "metadata": {
        "id": "Iz376nU4RqnN"
      },
      "source": [
        "def reduce_mem_usage(df):\n",
        "    NAlist = [] # Keeps track of columns that have missing values filled in. \n",
        "    for col in tqdm(df.columns):\n",
        "        if df[col].dtype != object:  # Exclude strings\n",
        "\n",
        "            # make variables for Int, max and min\n",
        "            IsInt = False\n",
        "            col_max_value = df[col].max()\n",
        "            col_min_value = df[col].min()\n",
        "\n",
        "            # Integer does not support NA, therefore, NA needs to be filled\n",
        "            if not np.isfinite(df[col]).all(): \n",
        "                NAlist.append(col)\n",
        "                df[col].fillna(col_min_value - 1, inplace=True)\n",
        "\n",
        "            # test if column can be converted to an integer\n",
        "            col_as_int = df[col].fillna(0).astype(np.int64)\n",
        "            diff = (df[col] - col_as_int)\n",
        "            diff = diff.sum()\n",
        "            if np.abs(diff) < 0.01:\n",
        "                IsInt = True\n",
        "\n",
        "            # Make Integer/unsigned Integer datatypes\n",
        "            if IsInt:\n",
        "                if col_min_value >= 0:\n",
        "                    if col_max_value < 255:\n",
        "                        df[col] = df[col].astype(np.uint8)\n",
        "                    elif col_max_value < 65535:\n",
        "                        df[col] = df[col].astype(np.uint16)\n",
        "                    elif col_max_value < 4294967295:\n",
        "                        df[col] = df[col].astype(np.uint32)\n",
        "                    else:\n",
        "                        df[col] = df[col].astype(np.uint64)\n",
        "                else:\n",
        "                    if col_min_value > np.iinfo(np.int8).min and col_max_value < np.iinfo(np.int8).max:\n",
        "                        df[col] = df[col].astype(np.int8)\n",
        "                    elif col_min_value > np.iinfo(np.int16).min and col_max_value < np.iinfo(np.int16).max:\n",
        "                        df[col] = df[col].astype(np.int16)\n",
        "                    elif col_min_value > np.iinfo(np.int32).min and col_max_value < np.iinfo(np.int32).max:\n",
        "                        df[col] = df[col].astype(np.int32)\n",
        "                    elif col_min_value > np.iinfo(np.int64).min and col_max_value < np.iinfo(np.int64).max:\n",
        "                        df[col] = df[col].astype(np.int64)    \n",
        "\n",
        "            # Make float datatypes 32 bit\n",
        "            else:\n",
        "                df[col] = df[col].astype(np.float32)\n",
        "\n",
        "    return df, NAlist"
      ],
      "execution_count": null,
      "outputs": []
    },
    {
      "cell_type": "code",
      "metadata": {
        "outputId": "93d41245-9159-43f5-e1b3-727b88a0d596",
        "colab": {
          "base_uri": "https://localhost:8080/"
        },
        "id": "zFesp-TuGFux"
      },
      "source": [
        "train_transaction = pd.read_csv('/content/drive/MyDrive/kaggle data/train_transaction.csv')\n",
        "train_identity = pd.read_csv('/content/drive/MyDrive/kaggle data/train_identity.csv')\n",
        "test_transaction = pd.read_csv('/content/drive/MyDrive/kaggle data/test_transaction.csv')\n",
        "test_identity = pd.read_csv('/content/drive/MyDrive/kaggle data/test_identity.csv')\n",
        "sample_submission = pd.read_csv('/content/drive/MyDrive/kaggle data/sample_submission.csv')\n",
        "\n",
        "df_train = train_transaction.merge(train_identity, how='left', on='TransactionID')\n",
        "del train_transaction, train_identity\n",
        "df_train, df_train_NAlist = reduce_mem_usage(df_train)\n",
        "\n",
        "df_test = test_transaction.merge(test_identity, how='left', on='TransactionID')\n",
        "del test_transaction, test_identity\n",
        "df_test, df_test_NAlist = reduce_mem_usage(df_test)"
      ],
      "execution_count": null,
      "outputs": [
        {
          "output_type": "stream",
          "name": "stderr",
          "text": [
            "100%|████████████████████████████████████████████████████████████████████████████████| 434/434 [00:54<00:00,  7.95it/s]\n",
            "100%|████████████████████████████████████████████████████████████████████████████████| 433/433 [00:25<00:00, 16.99it/s]\n"
          ]
        }
      ]
    },
    {
      "cell_type": "markdown",
      "metadata": {
        "id": "9erMcVENSZQ8"
      },
      "source": [
        "В данных есть пропуски:"
      ]
    },
    {
      "cell_type": "code",
      "metadata": {
        "id": "U07plDYGSVGy",
        "colab": {
          "base_uri": "https://localhost:8080/"
        },
        "outputId": "4ad89140-69b5-40f8-da08-e6f44fd98612"
      },
      "source": [
        "print('Missing data in train: {:.5f}%'.format(df_train.isnull().sum().sum() / (df_train.shape[0] * df_train.shape[1]) * 100))\n",
        "print('Missing data in test: {:.5f}%'.format(df_test.isnull().sum().sum() / (df_test.shape[0] * df_test.shape[1]) * 100))"
      ],
      "execution_count": null,
      "outputs": [
        {
          "output_type": "stream",
          "name": "stdout",
          "text": [
            "Missing data in train: 4.47002%\n",
            "Missing data in test: 4.33051%\n"
          ]
        }
      ]
    },
    {
      "cell_type": "markdown",
      "metadata": {
        "id": "UZkF-2XcScua"
      },
      "source": [
        "Заполним пропуски в столбцах, где значения выражаются числами - `-1`, а где строками - `'unseen_category'`."
      ]
    },
    {
      "cell_type": "code",
      "metadata": {
        "id": "xlZJZWIfSbFl",
        "colab": {
          "base_uri": "https://localhost:8080/"
        },
        "outputId": "8ef5fc45-2278-4745-dd9e-0b2b143874c4"
      },
      "source": [
        "for col in df_train.columns.drop('isFraud'):\n",
        "    if df_train[col].dtype == 'O':\n",
        "        df_train[col] = df_train[col].fillna('unseen_category')\n",
        "        df_test[col] = df_test[col].fillna('unseen_category')\n",
        "    else:\n",
        "        df_train[col] = df_train[col].fillna(-1)\n",
        "        df_test[col] = df_test[col].fillna(-1)\n",
        "\n",
        "print('Missing data in train: {:.5f}%'.format(df_train.isnull().sum().sum() / (df_train.shape[0] * df_train.shape[1]) * 100))\n",
        "print('Missing data in test: {:.5f}%'.format(df_test.isnull().sum().sum() / (df_test.shape[0] * df_test.shape[1]) * 100))"
      ],
      "execution_count": null,
      "outputs": [
        {
          "output_type": "stream",
          "name": "stdout",
          "text": [
            "Missing data in train: 0.00000%\n",
            "Missing data in test: 0.00000%\n"
          ]
        }
      ]
    },
    {
      "cell_type": "code",
      "metadata": {
        "id": "lmNtdwZYSlFM",
        "colab": {
          "base_uri": "https://localhost:8080/"
        },
        "outputId": "d819cb88-8946-4d17-e5c4-509700bfd38d"
      },
      "source": [
        "df_train.info(), df_test.info()"
      ],
      "execution_count": null,
      "outputs": [
        {
          "output_type": "stream",
          "name": "stdout",
          "text": [
            "<class 'pandas.core.frame.DataFrame'>\n",
            "Int64Index: 417559 entries, 0 to 417558\n",
            "Columns: 434 entries, TransactionID to DeviceInfo\n",
            "dtypes: float32(80), int16(7), int8(9), object(31), uint16(40), uint32(3), uint8(264)\n",
            "memory usage: 380.3+ MB\n",
            "<class 'pandas.core.frame.DataFrame'>\n",
            "Int64Index: 172981 entries, 0 to 172980\n",
            "Columns: 433 entries, TransactionID to DeviceInfo\n",
            "dtypes: float32(78), int16(6), int8(9), object(31), uint16(57), uint32(3), uint8(249)\n",
            "memory usage: 159.0+ MB\n"
          ]
        },
        {
          "output_type": "execute_result",
          "data": {
            "text/plain": [
              "(None, None)"
            ]
          },
          "metadata": {},
          "execution_count": 81
        }
      ]
    },
    {
      "cell_type": "markdown",
      "metadata": {
        "id": "DzgpNQeGSnT0"
      },
      "source": [
        "Закодируем категориальные признаки с помощью [`LabelEncoder`](https://scikit-learn.org/stable/modules/generated/sklearn.preprocessing.LabelEncoder.html) и сконвертируем их в [`category`](https://pandas.pydata.org/pandas-docs/version/0.23.4/categorical.html)."
      ]
    },
    {
      "cell_type": "code",
      "metadata": {
        "id": "VzqHjIi-S4yu",
        "colab": {
          "base_uri": "https://localhost:8080/"
        },
        "outputId": "b893eb3e-adc1-410a-929b-54eaeeb48775"
      },
      "source": [
        "for col in tqdm(df_train.columns.drop('isFraud')):\n",
        "    if df_train[col].dtype == 'O':\n",
        "        le = LabelEncoder()\n",
        "        le.fit(list(df_train[col]) + list(df_test[col]))\n",
        "        df_train[col] = le.transform(df_train[col])\n",
        "        df_test[col] = le.transform(df_test[col])\n",
        "        \n",
        "        df_train[col] = df_train[col].astype('category')\n",
        "        df_test[col] = df_test[col].astype('category')\n",
        "\n",
        "df_train.info(), df_test.info()"
      ],
      "execution_count": null,
      "outputs": [
        {
          "output_type": "stream",
          "name": "stderr",
          "text": [
            "100%|████████████████████████████████████████████████████████████████████████████████| 433/433 [00:14<00:00, 29.46it/s]"
          ]
        },
        {
          "output_type": "stream",
          "name": "stdout",
          "text": [
            "<class 'pandas.core.frame.DataFrame'>\n",
            "Int64Index: 417559 entries, 0 to 417558\n",
            "Columns: 434 entries, TransactionID to DeviceInfo\n",
            "dtypes: category(31), float32(80), int16(7), int8(9), uint16(40), uint32(3), uint8(264)\n",
            "memory usage: 294.7 MB\n",
            "<class 'pandas.core.frame.DataFrame'>\n",
            "Int64Index: 172981 entries, 0 to 172980\n",
            "Columns: 433 entries, TransactionID to DeviceInfo\n",
            "dtypes: category(31), float32(78), int16(6), int8(9), uint16(57), uint32(3), uint8(249)\n",
            "memory usage: 123.6 MB\n"
          ]
        },
        {
          "output_type": "stream",
          "name": "stderr",
          "text": [
            "\n"
          ]
        },
        {
          "output_type": "execute_result",
          "data": {
            "text/plain": [
              "(None, None)"
            ]
          },
          "metadata": {},
          "execution_count": 82
        }
      ]
    },
    {
      "cell_type": "code",
      "metadata": {
        "id": "rqh9jT1zTAv8",
        "colab": {
          "base_uri": "https://localhost:8080/",
          "height": 236
        },
        "outputId": "0e780ca3-f633-4766-9ae8-5738b9f93712"
      },
      "source": [
        "df_train.head()"
      ],
      "execution_count": null,
      "outputs": [
        {
          "output_type": "execute_result",
          "data": {
            "text/plain": [
              "   TransactionID  isFraud  TransactionDT  TransactionAmt ProductCD  card1  \\\n",
              "0        2987000        0          86400            68.5         4  13926   \n",
              "1        2987001        0          86401            29.0         4   2755   \n",
              "2        2987002        0          86469            59.0         4   4663   \n",
              "3        2987003        0          86499            50.0         4  18132   \n",
              "4        2987004        0          86506            50.0         1   4497   \n",
              "\n",
              "   card2  card3 card4  card5  ... id_31  id_32  id_33  id_34  id_35 id_36  \\\n",
              "0     99    150     1    142  ...   129    255    260      4      2     2   \n",
              "1    404    150     2    102  ...   129    255    260      4      2     2   \n",
              "2    490    150     4    166  ...   129    255    260      4      2     2   \n",
              "3    567    150     2    117  ...   129    255    260      4      2     2   \n",
              "4    514    150     2    102  ...   123     32    164      3      1     0   \n",
              "\n",
              "  id_37  id_38  DeviceType  DeviceInfo  \n",
              "0     2      2           2        1774  \n",
              "1     2      2           2        1774  \n",
              "2     2      2           2        1774  \n",
              "3     2      2           2        1774  \n",
              "4     1      1           1         954  \n",
              "\n",
              "[5 rows x 434 columns]"
            ],
            "text/html": [
              "<div>\n",
              "<style scoped>\n",
              "    .dataframe tbody tr th:only-of-type {\n",
              "        vertical-align: middle;\n",
              "    }\n",
              "\n",
              "    .dataframe tbody tr th {\n",
              "        vertical-align: top;\n",
              "    }\n",
              "\n",
              "    .dataframe thead th {\n",
              "        text-align: right;\n",
              "    }\n",
              "</style>\n",
              "<table border=\"1\" class=\"dataframe\">\n",
              "  <thead>\n",
              "    <tr style=\"text-align: right;\">\n",
              "      <th></th>\n",
              "      <th>TransactionID</th>\n",
              "      <th>isFraud</th>\n",
              "      <th>TransactionDT</th>\n",
              "      <th>TransactionAmt</th>\n",
              "      <th>ProductCD</th>\n",
              "      <th>card1</th>\n",
              "      <th>card2</th>\n",
              "      <th>card3</th>\n",
              "      <th>card4</th>\n",
              "      <th>card5</th>\n",
              "      <th>...</th>\n",
              "      <th>id_31</th>\n",
              "      <th>id_32</th>\n",
              "      <th>id_33</th>\n",
              "      <th>id_34</th>\n",
              "      <th>id_35</th>\n",
              "      <th>id_36</th>\n",
              "      <th>id_37</th>\n",
              "      <th>id_38</th>\n",
              "      <th>DeviceType</th>\n",
              "      <th>DeviceInfo</th>\n",
              "    </tr>\n",
              "  </thead>\n",
              "  <tbody>\n",
              "    <tr>\n",
              "      <th>0</th>\n",
              "      <td>2987000</td>\n",
              "      <td>0</td>\n",
              "      <td>86400</td>\n",
              "      <td>68.5</td>\n",
              "      <td>4</td>\n",
              "      <td>13926</td>\n",
              "      <td>99</td>\n",
              "      <td>150</td>\n",
              "      <td>1</td>\n",
              "      <td>142</td>\n",
              "      <td>...</td>\n",
              "      <td>129</td>\n",
              "      <td>255</td>\n",
              "      <td>260</td>\n",
              "      <td>4</td>\n",
              "      <td>2</td>\n",
              "      <td>2</td>\n",
              "      <td>2</td>\n",
              "      <td>2</td>\n",
              "      <td>2</td>\n",
              "      <td>1774</td>\n",
              "    </tr>\n",
              "    <tr>\n",
              "      <th>1</th>\n",
              "      <td>2987001</td>\n",
              "      <td>0</td>\n",
              "      <td>86401</td>\n",
              "      <td>29.0</td>\n",
              "      <td>4</td>\n",
              "      <td>2755</td>\n",
              "      <td>404</td>\n",
              "      <td>150</td>\n",
              "      <td>2</td>\n",
              "      <td>102</td>\n",
              "      <td>...</td>\n",
              "      <td>129</td>\n",
              "      <td>255</td>\n",
              "      <td>260</td>\n",
              "      <td>4</td>\n",
              "      <td>2</td>\n",
              "      <td>2</td>\n",
              "      <td>2</td>\n",
              "      <td>2</td>\n",
              "      <td>2</td>\n",
              "      <td>1774</td>\n",
              "    </tr>\n",
              "    <tr>\n",
              "      <th>2</th>\n",
              "      <td>2987002</td>\n",
              "      <td>0</td>\n",
              "      <td>86469</td>\n",
              "      <td>59.0</td>\n",
              "      <td>4</td>\n",
              "      <td>4663</td>\n",
              "      <td>490</td>\n",
              "      <td>150</td>\n",
              "      <td>4</td>\n",
              "      <td>166</td>\n",
              "      <td>...</td>\n",
              "      <td>129</td>\n",
              "      <td>255</td>\n",
              "      <td>260</td>\n",
              "      <td>4</td>\n",
              "      <td>2</td>\n",
              "      <td>2</td>\n",
              "      <td>2</td>\n",
              "      <td>2</td>\n",
              "      <td>2</td>\n",
              "      <td>1774</td>\n",
              "    </tr>\n",
              "    <tr>\n",
              "      <th>3</th>\n",
              "      <td>2987003</td>\n",
              "      <td>0</td>\n",
              "      <td>86499</td>\n",
              "      <td>50.0</td>\n",
              "      <td>4</td>\n",
              "      <td>18132</td>\n",
              "      <td>567</td>\n",
              "      <td>150</td>\n",
              "      <td>2</td>\n",
              "      <td>117</td>\n",
              "      <td>...</td>\n",
              "      <td>129</td>\n",
              "      <td>255</td>\n",
              "      <td>260</td>\n",
              "      <td>4</td>\n",
              "      <td>2</td>\n",
              "      <td>2</td>\n",
              "      <td>2</td>\n",
              "      <td>2</td>\n",
              "      <td>2</td>\n",
              "      <td>1774</td>\n",
              "    </tr>\n",
              "    <tr>\n",
              "      <th>4</th>\n",
              "      <td>2987004</td>\n",
              "      <td>0</td>\n",
              "      <td>86506</td>\n",
              "      <td>50.0</td>\n",
              "      <td>1</td>\n",
              "      <td>4497</td>\n",
              "      <td>514</td>\n",
              "      <td>150</td>\n",
              "      <td>2</td>\n",
              "      <td>102</td>\n",
              "      <td>...</td>\n",
              "      <td>123</td>\n",
              "      <td>32</td>\n",
              "      <td>164</td>\n",
              "      <td>3</td>\n",
              "      <td>1</td>\n",
              "      <td>0</td>\n",
              "      <td>1</td>\n",
              "      <td>1</td>\n",
              "      <td>1</td>\n",
              "      <td>954</td>\n",
              "    </tr>\n",
              "  </tbody>\n",
              "</table>\n",
              "<p>5 rows × 434 columns</p>\n",
              "</div>"
            ]
          },
          "metadata": {},
          "execution_count": 87
        }
      ]
    },
    {
      "cell_type": "markdown",
      "metadata": {
        "id": "qs_WuPygTDa8"
      },
      "source": [
        "В данных есть признак-идентификатор объекта - `'TransactionID'`. Заметим, что его значения в обучающей и тестовых выборках не пересекаются:"
      ]
    },
    {
      "cell_type": "code",
      "metadata": {
        "id": "6H9SAbaJTBqs",
        "colab": {
          "base_uri": "https://localhost:8080/"
        },
        "outputId": "d889ba99-372c-45e1-f506-a4e5c8260c75"
      },
      "source": [
        "set(df_train['TransactionID']).intersection(set(df_test['TransactionID']))"
      ],
      "execution_count": null,
      "outputs": [
        {
          "output_type": "execute_result",
          "data": {
            "text/plain": [
              "set()"
            ]
          },
          "metadata": {},
          "execution_count": 88
        }
      ]
    },
    {
      "cell_type": "markdown",
      "metadata": {
        "id": "UeIe6SnmTF1F"
      },
      "source": [
        "Также не пересекаются значения признака, отвечающего за момент времени - `'TransactionDT'`:"
      ]
    },
    {
      "cell_type": "code",
      "metadata": {
        "id": "LrUbzPCATEhM",
        "colab": {
          "base_uri": "https://localhost:8080/"
        },
        "outputId": "9dd8d28b-afb3-447e-e70a-c7ea7718f6f5"
      },
      "source": [
        "set(df_train['TransactionDT']).intersection(set(df_test['TransactionDT']))"
      ],
      "execution_count": null,
      "outputs": [
        {
          "output_type": "execute_result",
          "data": {
            "text/plain": [
              "set()"
            ]
          },
          "metadata": {},
          "execution_count": 89
        }
      ]
    },
    {
      "cell_type": "markdown",
      "metadata": {
        "id": "FZimwAzATLL8"
      },
      "source": [
        "В связи с этим удалим эти признаки, чтобы модель их не учитывала."
      ]
    },
    {
      "cell_type": "code",
      "metadata": {
        "id": "9g5gHNv4THFV",
        "colab": {
          "base_uri": "https://localhost:8080/"
        },
        "outputId": "2af92c00-7239-4864-e229-502a147bf47e"
      },
      "source": [
        "df_train.drop(['TransactionID', 'TransactionDT'], axis=1, inplace=True)\n",
        "df_test.drop(['TransactionID', 'TransactionDT'], axis=1, inplace=True)\n",
        "df_train.shape, df_test.shape"
      ],
      "execution_count": null,
      "outputs": [
        {
          "output_type": "execute_result",
          "data": {
            "text/plain": [
              "((417559, 432), (172981, 431))"
            ]
          },
          "metadata": {},
          "execution_count": 90
        }
      ]
    },
    {
      "cell_type": "code",
      "source": [
        "from sklearn.neighbors import LocalOutlierFactor\n",
        "\n",
        "X = df_train.drop('isFraud', axis=1)\n",
        "\n",
        "lof = LocalOutlierFactor(novelty=True)\n",
        "lof.fit(X)\n",
        "lof_prediction = lof.predict(X)"
      ],
      "metadata": {
        "id": "1yBNP6mlVgl0"
      },
      "execution_count": null,
      "outputs": []
    },
    {
      "cell_type": "code",
      "source": [
        "print(\"% of outliers:\", (lof_prediction == -1).sum() / len(lof_prediction) * 100)"
      ],
      "metadata": {
        "colab": {
          "base_uri": "https://localhost:8080/"
        },
        "id": "mlLbXe_PVjmz",
        "outputId": "523e9ae8-50d1-42df-8afc-0811eb2ad5cf"
      },
      "execution_count": null,
      "outputs": [
        {
          "output_type": "stream",
          "name": "stdout",
          "text": [
            "% of outliers: 7.574258966996281\n"
          ]
        }
      ]
    },
    {
      "cell_type": "code",
      "source": [
        "outlier_index = np.where(lof_prediction == -1)\n",
        "outlier_index[0]"
      ],
      "metadata": {
        "colab": {
          "base_uri": "https://localhost:8080/"
        },
        "id": "ogJ093_KVlqK",
        "outputId": "e8a6fd82-2ec4-4324-a14b-5d1235c9dc25"
      },
      "execution_count": null,
      "outputs": [
        {
          "output_type": "execute_result",
          "data": {
            "text/plain": [
              "array([     9,     15,     18, ..., 417535, 417544, 417545], dtype=int64)"
            ]
          },
          "metadata": {},
          "execution_count": 125
        }
      ]
    },
    {
      "cell_type": "code",
      "source": [
        "data_processed = df_train.drop(outlier_index[0])"
      ],
      "metadata": {
        "id": "vkcjt4geXXoo"
      },
      "execution_count": null,
      "outputs": []
    },
    {
      "cell_type": "code",
      "source": [
        "from imblearn.over_sampling import SMOTE\n",
        "\n",
        "X_tr, y_tr = data_processed.drop('isFraud', axis=1), data_processed['isFraud'].values\n",
        "\n",
        "sm = SMOTE()\n",
        "X_train_sm, y_train_sm = sm.fit_resample(X_tr, y_tr) "
      ],
      "metadata": {
        "id": "tiawKxgKIkhx"
      },
      "execution_count": null,
      "outputs": []
    },
    {
      "cell_type": "code",
      "source": [
        "df_tr_sm = X_train_sm\n",
        "df_tr_sm['isFraud'] = y_train_sm"
      ],
      "metadata": {
        "id": "5LnIoRSuJ11n"
      },
      "execution_count": null,
      "outputs": []
    },
    {
      "cell_type": "code",
      "metadata": {
        "id": "Byy3yGvbMnXv",
        "outputId": "c9bbcc9c-67ce-48a4-db15-fbae73e0bd6f",
        "colab": {
          "base_uri": "https://localhost:8080/",
          "height": 499
        }
      },
      "source": [
        "plt.figure(figsize=(11, 8))\n",
        "plt.title('train target distribution')\n",
        "plt.hist(y_train_sm)\n",
        "plt.show()"
      ],
      "execution_count": null,
      "outputs": [
        {
          "output_type": "display_data",
          "data": {
            "text/plain": [
              "<Figure size 792x576 with 1 Axes>"
            ],
            "image/png": "[encoded data removed]"
          },
          "metadata": {
            "needs_background": "light"
          }
        }
      ]
    },
    {
      "cell_type": "markdown",
      "metadata": {
        "id": "DL6xLvQMTPbl"
      },
      "source": [
        "Обучимся с помощью [`lightgbm`](https://lightgbm.readthedocs.io/en/latest/) с байесовской оптимизацией гиперпараметров, и для каждой модели сделаем предсказание на тестовой выборке. Также будем сохранять важности признаков на каждом фолде.\n"
      ]
    },
    {
      "cell_type": "code",
      "source": [
        "%%time\n",
        "\n",
        "\n",
        "import warnings\n",
        "warnings.filterwarnings(\"ignore\")\n",
        "from bayes_opt import BayesianOptimization\n",
        "\n",
        "def bayes_parameter_opt_lgb(X, y, init_round=15, opt_round=25, n_folds=4, random_seed=6, output_process=False):\n",
        "    # prepare data\n",
        "    train_data = lgb.Dataset(data=X, label=y, free_raw_data=False)\n",
        "    # parameters\n",
        "    def lgb_eval(learning_rate,num_leaves, feature_fraction, bagging_fraction, max_depth, max_bin, lambda_l1,lambda_l2,early_stopping_round):\n",
        "        params = {'application':'binary', 'metric':'auc'}\n",
        "        params['learning_rate'] = max(min(learning_rate, 1), 0)\n",
        "        params[\"num_leaves\"] = int(round(num_leaves))\n",
        "        params['feature_fraction'] = max(min(feature_fraction, 1), 0)\n",
        "        params['bagging_fraction'] = max(min(bagging_fraction, 1), 0)\n",
        "        params['max_depth'] = int(round(max_depth))\n",
        "        params['max_bin'] = int(round(max_depth))\n",
        "        params['lambda_l1'] = int(round(lambda_l1))\n",
        "        params['lambda_l2'] = int(round(lambda_l2))\n",
        "        params['early_stopping_round'] = int(round(early_stopping_round))\n",
        "        \n",
        "        cv_result = lgb.cv(params, train_data, nfold=n_folds, seed=random_seed, stratified=True, verbose_eval =250,num_boost_round=1500, metrics=['auc'])\n",
        "        return max(cv_result['auc-mean'])\n",
        "     \n",
        "    lgbBO = BayesianOptimization(lgb_eval, {'learning_rate': (0.04, 0.65),\n",
        "                                            'num_leaves': (8, 240),\n",
        "                                            'feature_fraction': (0.21, 0.9),\n",
        "                                            'bagging_fraction': (0.2, 0.9),\n",
        "                                            'max_depth': (4, 25),\n",
        "                                            'max_bin':(5,65),\n",
        "                                            'early_stopping_round' : (10,300),\n",
        "                                            'lambda_l1': (0, 10),\n",
        "                                            'lambda_l2':  (0, 10)}, random_state=200)                                   \n",
        "                                      \n",
        "\n",
        "\n",
        "    \n",
        "    #n_iter: How many steps of bayesian optimization you want to perform. The more steps the more likely to find a good maximum you are.\n",
        "    #init_points: How many steps of random exploration you want to perform. Random exploration can help by diversifying the exploration space.\n",
        "    \n",
        "    lgbBO.maximize(init_points=init_round, n_iter=opt_round)\n",
        "    \n",
        "    model_auc=[]\n",
        "    for model in range(len( lgbBO.res)):\n",
        "        model_auc.append(lgbBO.res[model]['target'])\n",
        "    \n",
        "    # return best parameters\n",
        "    return lgbBO.res[pd.Series(model_auc).idxmax()]['target'],lgbBO.res[pd.Series(model_auc).idxmax()]['params']\n",
        "\n",
        "opt_params = bayes_parameter_opt_lgb(df_train.drop('isFraud', axis=1), df_train['isFraud'].values, init_round=5, opt_round=10, n_folds=4, random_seed=6)"
      ],
      "metadata": {
        "id": "pNt3j6mVzeqk"
      },
      "execution_count": null,
      "outputs": []
    },
    {
      "cell_type": "code",
      "source": [
        "opt_params[1][\"num_leaves\"] = int(round(opt_params[1][\"num_leaves\"]))\n",
        "opt_params[1]['max_depth'] = int(round(opt_params[1]['max_depth']))\n",
        "opt_params[1]['max_bin'] = int(round(opt_params[1]['max_bin']))\n",
        "opt_params[1]['objective']='binary'\n",
        "opt_params[1]['metric']='auc'\n",
        "# opt_params[1]['is_unbalance']=True\n",
        "#opt_params[1]['boost_from_average']=False\n",
        "opt_params=opt_params[1]\n",
        "opt_params"
      ],
      "metadata": {
        "id": "mlCVNgaklM8B"
      },
      "execution_count": null,
      "outputs": []
    },
    {
      "cell_type": "code",
      "metadata": {
        "colab": {
          "base_uri": "https://localhost:8080/"
        },
        "outputId": "9e52ed82-a947-4ae7-a824-7ae88361e755",
        "id": "V_xON2u4HC9S"
      },
      "source": [
        "%%time\n",
        "\n",
        "import warnings\n",
        "warnings.filterwarnings(\"ignore\")\n",
        "from tqdm import tqdm_notebook\n",
        "from sklearn.model_selection import KFold\n",
        "kf = KFold(n_splits=5, shuffle=True, random_state=18)\n",
        "\n",
        "params = {'bagging_fraction': 0.96,\n",
        " 'early_stopping_round': 63,\n",
        " 'feature_fraction': 0.57,\n",
        "#  'lambda_l1': 0.0,\n",
        "#  'lambda_l2': 10.0,\n",
        " 'learning_rate': 0.011,\n",
        " 'max_bin': 46,\n",
        " 'max_depth': 25,\n",
        " 'metric': 'auc',\n",
        " 'num_leaves': 200,\n",
        " 'objective': 'binary',\n",
        " 'n_jobs': -1}\n",
        "\n",
        "scores = []\n",
        "\n",
        "# feature_importances = pd.DataFrame()\n",
        "# feature_importances['feature'] = df_train.columns.drop('isFraud')\n",
        "\n",
        "test_preds = []\n",
        "\n",
        "for train_index, test_index in kf.split(df_tr_sm):\n",
        "    X_train = df_tr_sm.drop('isFraud', axis=1).iloc[train_index]\n",
        "    y_train = df_tr_sm['isFraud'].iloc[train_index].values\n",
        "    X_val = df_tr_sm.drop('isFraud', axis=1).iloc[test_index]\n",
        "    y_val = df_tr_sm['isFraud'].iloc[test_index].values\n",
        "\n",
        "\n",
        "    # model = CatBoostClassifier(learning_rate=0.01, \n",
        "    #                            max_depth=10, \n",
        "    #                            n_estimators=2500, \n",
        "    #                            early_stopping_rounds=300, \n",
        "    #                            eval_metric=\"AUC\", \n",
        "    #                            task_type='GPU', \n",
        "    #                            random_seed=13, \n",
        "    #                            logging_level='Silent'\n",
        "    # )\n",
        "    # model.fit(X_train, y_train)\n",
        "\n",
        "    lgb_train = lgb.Dataset(X_train, y_train)\n",
        "    lgb_eval = lgb.Dataset(X_val, y_val, reference=lgb_train)\n",
        "    lgb_model = lgb.train(params, lgb_train, valid_sets=lgb_eval, verbose_eval=250, num_boost_round=4000)\n",
        "    \n",
        "    # feature_importances['fold_{}'.format(i)] = lgb_model.feature_importance()\n",
        "\n",
        "    y_pred = lgb_model.predict(X_val)\n",
        "    score_fold = roc_auc_score(y_val, y_pred)\n",
        "    scores.append(score_fold)\n",
        "    y_test_pred = lgb_model.predict(df_test)\n",
        "    test_preds.append(y_test_pred)\n",
        "\n",
        "for i in range(len(scores)):\n",
        "    print('Fold {}, AUC-ROC: {:.5f}'.format(i, scores[i]))\n",
        "print('CV AUC-ROC: {:.5f}'.format(np.mean(scores)))"
      ],
      "execution_count": null,
      "outputs": [
        {
          "output_type": "stream",
          "name": "stdout",
          "text": [
            "[LightGBM] [Info] Number of positive: 298530, number of negative: 297961\n",
            "[LightGBM] [Warning] Auto-choosing row-wise multi-threading, the overhead of testing was 0.360182 seconds.\n",
            "You can set `force_row_wise=true` to remove the overhead.\n",
            "And if memory is not enough, you can set `force_col_wise=true`.\n",
            "[LightGBM] [Info] Total Bins 16611\n",
            "[LightGBM] [Info] Number of data points in the train set: 596491, number of used features: 429\n",
            "[LightGBM] [Info] [binary:BoostFromScore]: pavg=0.500477 -> initscore=0.001908\n",
            "[LightGBM] [Info] Start training from score 0.001908\n",
            "Training until validation scores don't improve for 63 rounds\n",
            "[250]\tvalid_0's auc: 0.995812\n",
            "[500]\tvalid_0's auc: 0.9977\n",
            "[750]\tvalid_0's auc: 0.998315\n",
            "[1000]\tvalid_0's auc: 0.998588\n",
            "[1250]\tvalid_0's auc: 0.998734\n",
            "[1500]\tvalid_0's auc: 0.998839\n",
            "[1750]\tvalid_0's auc: 0.998894\n",
            "[2000]\tvalid_0's auc: 0.998933\n",
            "[2250]\tvalid_0's auc: 0.998964\n",
            "[2500]\tvalid_0's auc: 0.998995\n",
            "[2750]\tvalid_0's auc: 0.999018\n",
            "[3000]\tvalid_0's auc: 0.999038\n",
            "[3250]\tvalid_0's auc: 0.999055\n",
            "[3500]\tvalid_0's auc: 0.999069\n",
            "[3750]\tvalid_0's auc: 0.999079\n",
            "[4000]\tvalid_0's auc: 0.999088\n",
            "Did not meet early stopping. Best iteration is:\n",
            "[4000]\tvalid_0's auc: 0.999088\n",
            "[LightGBM] [Info] Number of positive: 297969, number of negative: 298522\n",
            "[LightGBM] [Warning] Auto-choosing row-wise multi-threading, the overhead of testing was 0.347071 seconds.\n",
            "You can set `force_row_wise=true` to remove the overhead.\n",
            "And if memory is not enough, you can set `force_col_wise=true`.\n",
            "[LightGBM] [Info] Total Bins 16603\n",
            "[LightGBM] [Info] Number of data points in the train set: 596491, number of used features: 429\n",
            "[LightGBM] [Info] [binary:BoostFromScore]: pavg=0.499536 -> initscore=-0.001854\n",
            "[LightGBM] [Info] Start training from score -0.001854\n",
            "Training until validation scores don't improve for 63 rounds\n",
            "[250]\tvalid_0's auc: 0.99583\n",
            "[500]\tvalid_0's auc: 0.9977\n",
            "[750]\tvalid_0's auc: 0.998329\n",
            "[1000]\tvalid_0's auc: 0.998609\n",
            "[1250]\tvalid_0's auc: 0.998764\n",
            "[1500]\tvalid_0's auc: 0.998854\n",
            "[1750]\tvalid_0's auc: 0.998922\n",
            "[2000]\tvalid_0's auc: 0.998973\n",
            "[2250]\tvalid_0's auc: 0.999017\n",
            "[2500]\tvalid_0's auc: 0.999049\n",
            "[2750]\tvalid_0's auc: 0.999075\n",
            "[3000]\tvalid_0's auc: 0.999099\n",
            "[3250]\tvalid_0's auc: 0.999118\n",
            "[3500]\tvalid_0's auc: 0.999126\n",
            "[3750]\tvalid_0's auc: 0.999135\n",
            "[4000]\tvalid_0's auc: 0.999146\n",
            "Did not meet early stopping. Best iteration is:\n",
            "[3999]\tvalid_0's auc: 0.999146\n",
            "[LightGBM] [Info] Number of positive: 298109, number of negative: 298382\n",
            "[LightGBM] [Warning] Auto-choosing row-wise multi-threading, the overhead of testing was 0.380638 seconds.\n",
            "You can set `force_row_wise=true` to remove the overhead.\n",
            "And if memory is not enough, you can set `force_col_wise=true`.\n",
            "[LightGBM] [Info] Total Bins 16629\n",
            "[LightGBM] [Info] Number of data points in the train set: 596491, number of used features: 429\n",
            "[LightGBM] [Info] [binary:BoostFromScore]: pavg=0.499771 -> initscore=-0.000915\n",
            "[LightGBM] [Info] Start training from score -0.000915\n",
            "Training until validation scores don't improve for 63 rounds\n",
            "[250]\tvalid_0's auc: 0.995509\n",
            "[500]\tvalid_0's auc: 0.997448\n",
            "[750]\tvalid_0's auc: 0.998107\n",
            "[1000]\tvalid_0's auc: 0.998423\n",
            "[1250]\tvalid_0's auc: 0.998604\n",
            "[1500]\tvalid_0's auc: 0.998718\n",
            "[1750]\tvalid_0's auc: 0.998801\n",
            "[2000]\tvalid_0's auc: 0.998856\n",
            "[2250]\tvalid_0's auc: 0.998894\n",
            "[2500]\tvalid_0's auc: 0.998929\n",
            "[2750]\tvalid_0's auc: 0.998949\n",
            "[3000]\tvalid_0's auc: 0.998968\n",
            "[3250]\tvalid_0's auc: 0.998982\n",
            "Early stopping, best iteration is:\n",
            "[3259]\tvalid_0's auc: 0.998983\n",
            "[LightGBM] [Info] Number of positive: 298286, number of negative: 298205\n",
            "[LightGBM] [Warning] Auto-choosing row-wise multi-threading, the overhead of testing was 0.411918 seconds.\n",
            "You can set `force_row_wise=true` to remove the overhead.\n",
            "And if memory is not enough, you can set `force_col_wise=true`.\n",
            "[LightGBM] [Info] Total Bins 16641\n",
            "[LightGBM] [Info] Number of data points in the train set: 596491, number of used features: 429\n",
            "[LightGBM] [Info] [binary:BoostFromScore]: pavg=0.500068 -> initscore=0.000272\n",
            "[LightGBM] [Info] Start training from score 0.000272\n",
            "Training until validation scores don't improve for 63 rounds\n",
            "[250]\tvalid_0's auc: 0.995793\n",
            "[500]\tvalid_0's auc: 0.997602\n",
            "[750]\tvalid_0's auc: 0.998216\n",
            "[1000]\tvalid_0's auc: 0.998472\n",
            "[1250]\tvalid_0's auc: 0.998614\n",
            "[1500]\tvalid_0's auc: 0.998709\n",
            "[1750]\tvalid_0's auc: 0.998779\n",
            "[2000]\tvalid_0's auc: 0.998819\n",
            "[2250]\tvalid_0's auc: 0.998856\n",
            "[2500]\tvalid_0's auc: 0.998887\n",
            "[2750]\tvalid_0's auc: 0.998908\n",
            "[3000]\tvalid_0's auc: 0.998926\n",
            "[3250]\tvalid_0's auc: 0.998942\n",
            "[3500]\tvalid_0's auc: 0.998956\n",
            "[3750]\tvalid_0's auc: 0.998969\n",
            "Early stopping, best iteration is:\n",
            "[3844]\tvalid_0's auc: 0.998972\n",
            "[LightGBM] [Info] Number of positive: 298334, number of negative: 298158\n",
            "[LightGBM] [Warning] Auto-choosing row-wise multi-threading, the overhead of testing was 0.349213 seconds.\n",
            "You can set `force_row_wise=true` to remove the overhead.\n",
            "And if memory is not enough, you can set `force_col_wise=true`.\n",
            "[LightGBM] [Info] Total Bins 16618\n",
            "[LightGBM] [Info] Number of data points in the train set: 596492, number of used features: 429\n",
            "[LightGBM] [Info] [binary:BoostFromScore]: pavg=0.500148 -> initscore=0.000590\n",
            "[LightGBM] [Info] Start training from score 0.000590\n",
            "Training until validation scores don't improve for 63 rounds\n",
            "[250]\tvalid_0's auc: 0.995972\n",
            "[500]\tvalid_0's auc: 0.99774\n",
            "[750]\tvalid_0's auc: 0.99832\n",
            "[1000]\tvalid_0's auc: 0.9986\n",
            "[1250]\tvalid_0's auc: 0.998746\n",
            "[1500]\tvalid_0's auc: 0.998839\n",
            "[1750]\tvalid_0's auc: 0.998902\n",
            "[2000]\tvalid_0's auc: 0.998953\n",
            "[2250]\tvalid_0's auc: 0.998991\n",
            "[2500]\tvalid_0's auc: 0.99902\n",
            "[2750]\tvalid_0's auc: 0.999042\n",
            "[3000]\tvalid_0's auc: 0.999057\n",
            "[3250]\tvalid_0's auc: 0.999066\n",
            "[3500]\tvalid_0's auc: 0.999078\n",
            "[3750]\tvalid_0's auc: 0.999084\n",
            "Early stopping, best iteration is:\n",
            "[3912]\tvalid_0's auc: 0.999088\n",
            "Fold 0, AUC-ROC: 0.99909\n",
            "Fold 1, AUC-ROC: 0.99915\n",
            "Fold 2, AUC-ROC: 0.99898\n",
            "Fold 3, AUC-ROC: 0.99897\n",
            "Fold 4, AUC-ROC: 0.99909\n",
            "CV AUC-ROC: 0.99906\n",
            "Wall time: 1h 37min 59s\n"
          ]
        }
      ]
    },
    {
      "cell_type": "markdown",
      "metadata": {
        "id": "mjuaHlVwY0uq"
      },
      "source": [
        "Для получения итогового предсказания на тестовой выборке усредним предсказания моделей с разных фолдов."
      ]
    },
    {
      "cell_type": "code",
      "metadata": {
        "id": "s_zK4A1sYwza",
        "colab": {
          "base_uri": "https://localhost:8080/"
        },
        "outputId": "b7a56e2e-3e19-49c6-d233-e5c2e9df73ca"
      },
      "source": [
        "np.array(test_preds).shape"
      ],
      "execution_count": null,
      "outputs": [
        {
          "output_type": "execute_result",
          "data": {
            "text/plain": [
              "(4, 172981)"
            ]
          },
          "metadata": {},
          "execution_count": 20
        }
      ]
    },
    {
      "cell_type": "code",
      "metadata": {
        "id": "anvL7VKgY1qB",
        "colab": {
          "base_uri": "https://localhost:8080/"
        },
        "outputId": "08355348-bb2d-4262-ff50-67bbdf0a4cf3"
      },
      "source": [
        "final_pred = np.average(test_preds, axis=0)\n",
        "final_pred"
      ],
      "execution_count": null,
      "outputs": [
        {
          "output_type": "execute_result",
          "data": {
            "text/plain": [
              "array([9.75266016e-05, 7.18107928e-03, 4.55382428e-03, ...,\n",
              "       1.41414135e-03, 4.06154792e-03, 2.01037406e-03])"
            ]
          },
          "metadata": {},
          "execution_count": 149
        }
      ]
    },
    {
      "cell_type": "code",
      "metadata": {
        "id": "Z-LPStWaY2bK",
        "colab": {
          "base_uri": "https://localhost:8080/",
          "height": 206
        },
        "outputId": "e903aa2d-9f69-4060-af0e-ca8f1a9c31fe"
      },
      "source": [
        "sub = pd.DataFrame({'TransactionID': sample_submission['TransactionID'], 'isFraud': final_pred})\n",
        "sub.head()"
      ],
      "execution_count": null,
      "outputs": [
        {
          "output_type": "execute_result",
          "data": {
            "text/plain": [
              "   TransactionID   isFraud\n",
              "0        3404559  0.000098\n",
              "1        3404560  0.007181\n",
              "2        3404561  0.004554\n",
              "3        3404562  0.000779\n",
              "4        3404563  0.186548"
            ],
            "text/html": [
              "<div>\n",
              "<style scoped>\n",
              "    .dataframe tbody tr th:only-of-type {\n",
              "        vertical-align: middle;\n",
              "    }\n",
              "\n",
              "    .dataframe tbody tr th {\n",
              "        vertical-align: top;\n",
              "    }\n",
              "\n",
              "    .dataframe thead th {\n",
              "        text-align: right;\n",
              "    }\n",
              "</style>\n",
              "<table border=\"1\" class=\"dataframe\">\n",
              "  <thead>\n",
              "    <tr style=\"text-align: right;\">\n",
              "      <th></th>\n",
              "      <th>TransactionID</th>\n",
              "      <th>isFraud</th>\n",
              "    </tr>\n",
              "  </thead>\n",
              "  <tbody>\n",
              "    <tr>\n",
              "      <th>0</th>\n",
              "      <td>3404559</td>\n",
              "      <td>0.000098</td>\n",
              "    </tr>\n",
              "    <tr>\n",
              "      <th>1</th>\n",
              "      <td>3404560</td>\n",
              "      <td>0.007181</td>\n",
              "    </tr>\n",
              "    <tr>\n",
              "      <th>2</th>\n",
              "      <td>3404561</td>\n",
              "      <td>0.004554</td>\n",
              "    </tr>\n",
              "    <tr>\n",
              "      <th>3</th>\n",
              "      <td>3404562</td>\n",
              "      <td>0.000779</td>\n",
              "    </tr>\n",
              "    <tr>\n",
              "      <th>4</th>\n",
              "      <td>3404563</td>\n",
              "      <td>0.186548</td>\n",
              "    </tr>\n",
              "  </tbody>\n",
              "</table>\n",
              "</div>"
            ]
          },
          "metadata": {},
          "execution_count": 150
        }
      ]
    },
    {
      "cell_type": "code",
      "metadata": {
        "id": "7gy2H_XkY4JZ",
        "colab": {
          "base_uri": "https://localhost:8080/",
          "height": 206
        },
        "outputId": "7c329415-a088-49dd-fff3-590c2e5219e6"
      },
      "source": [
        "sub.tail()"
      ],
      "execution_count": null,
      "outputs": [
        {
          "output_type": "execute_result",
          "data": {
            "text/plain": [
              "        TransactionID   isFraud\n",
              "172976        3577535  0.000537\n",
              "172977        3577536  0.006469\n",
              "172978        3577537  0.004114\n",
              "172979        3577538  0.006107\n",
              "172980        3577539  0.003173"
            ],
            "text/html": [
              "<div>\n",
              "<style scoped>\n",
              "    .dataframe tbody tr th:only-of-type {\n",
              "        vertical-align: middle;\n",
              "    }\n",
              "\n",
              "    .dataframe tbody tr th {\n",
              "        vertical-align: top;\n",
              "    }\n",
              "\n",
              "    .dataframe thead th {\n",
              "        text-align: right;\n",
              "    }\n",
              "</style>\n",
              "<table border=\"1\" class=\"dataframe\">\n",
              "  <thead>\n",
              "    <tr style=\"text-align: right;\">\n",
              "      <th></th>\n",
              "      <th>TransactionID</th>\n",
              "      <th>isFraud</th>\n",
              "    </tr>\n",
              "  </thead>\n",
              "  <tbody>\n",
              "    <tr>\n",
              "      <th>172976</th>\n",
              "      <td>3577535</td>\n",
              "      <td>0.000537</td>\n",
              "    </tr>\n",
              "    <tr>\n",
              "      <th>172977</th>\n",
              "      <td>3577536</td>\n",
              "      <td>0.006469</td>\n",
              "    </tr>\n",
              "    <tr>\n",
              "      <th>172978</th>\n",
              "      <td>3577537</td>\n",
              "      <td>0.004114</td>\n",
              "    </tr>\n",
              "    <tr>\n",
              "      <th>172979</th>\n",
              "      <td>3577538</td>\n",
              "      <td>0.006107</td>\n",
              "    </tr>\n",
              "    <tr>\n",
              "      <th>172980</th>\n",
              "      <td>3577539</td>\n",
              "      <td>0.003173</td>\n",
              "    </tr>\n",
              "  </tbody>\n",
              "</table>\n",
              "</div>"
            ]
          },
          "metadata": {},
          "execution_count": 143
        }
      ]
    },
    {
      "cell_type": "markdown",
      "metadata": {
        "id": "hpK7-FSkgQ4Y"
      },
      "source": [
        "Сохраняем файл с предсказаниями - теперь его можно отправить в соревнование и посмотреть результат на публичной части."
      ]
    },
    {
      "cell_type": "code",
      "metadata": {
        "id": "VZaOYJR5ZDY1"
      },
      "source": [
        "sub.to_csv('C:/Users/pavvv/Downloads/submission_baseline.csv', index=False)"
      ],
      "execution_count": null,
      "outputs": []
    },
    {
      "cell_type": "code",
      "source": [
        ""
      ],
      "metadata": {
        "id": "o4qamrXnTZo8"
      },
      "execution_count": null,
      "outputs": []
    },
    {
      "cell_type": "code",
      "source": [
        ""
      ],
      "metadata": {
        "id": "MGfGZCrrVgFu"
      },
      "execution_count": null,
      "outputs": []
    }
  ]
}